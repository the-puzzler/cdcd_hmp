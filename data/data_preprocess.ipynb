{
 "cells": [
  {
   "cell_type": "code",
   "execution_count": 1,
   "metadata": {},
   "outputs": [],
   "source": [
    "import pandas as pd"
   ]
  },
  {
   "cell_type": "code",
   "execution_count": 11,
   "metadata": {},
   "outputs": [],
   "source": [
    "count_data = pd.read_csv('/Users/matteo/Documents/MATLAS/data/count_data.tsv', sep='\\t', index_col=0)\n",
    "count_data.set_index(count_data.columns[0],inplace=True)"
   ]
  },
  {
   "cell_type": "code",
   "execution_count": 14,
   "metadata": {},
   "outputs": [],
   "source": [
    "# Create OTU to integer mapping with PAD token\n",
    "otu_to_int = {'PAD': 0}  # Start with PAD token\n",
    "otu_to_int.update({otu: idx + 1 for idx, otu in enumerate(count_data.columns)})\n",
    "\n",
    "# Save the dictionary\n",
    "import json\n",
    "with open('otu_mapping.json', 'w') as f:\n",
    "    json.dump(otu_to_int, f)\n",
    "\n",
    "# Create new dataframe with arrays of integers\n",
    "result_df = pd.DataFrame(index=count_data.index)\n",
    "result_df['otu_arrays'] = count_data.apply(\n",
    "    lambda row: [otu_to_int[col] for col, val in row.items() if val > 0], \n",
    "    axis=1\n",
    ")"
   ]
  },
  {
   "cell_type": "code",
   "execution_count": 17,
   "metadata": {},
   "outputs": [
    {
     "name": "stdout",
     "output_type": "stream",
     "text": [
      "                                                            otu_arrays\n",
      "Unnamed: 0                                                            \n",
      "SRR044623.SRS018995  [5, 19, 22, 24, 27, 30, 43, 45, 52, 56, 58, 65...\n",
      "SRR046457.SRS044477  [8, 84, 111, 125, 168, 177, 184, 220, 225, 235...\n",
      "SRR043598.SRS014279  [19, 22, 23, 24, 30, 36, 45, 52, 58, 65, 70, 7...\n",
      "SRR041301.SRS024633  [19, 22, 30, 46, 52, 58, 65, 70, 71, 74, 80, 8...\n",
      "SRR328613.SRS062975  [8, 29, 53, 84, 121, 125, 134, 135, 139, 176, ...\n"
     ]
    },
    {
     "name": "stderr",
     "output_type": "stream",
     "text": [
      "/var/folders/qv/tmkvgf2d7_nf0dhpd5vrynnr0000gp/T/ipykernel_85952/3216403585.py:2: PerformanceWarning: \n",
      "your performance may suffer as PyTables will pickle object types that it cannot\n",
      "map directly to c-types [inferred_type->mixed,key->block0_values] [items->Index(['otu_arrays'], dtype='object')]\n",
      "\n",
      "  result_df.to_hdf('sample_otu_arrays.h5', key='df', mode='w')\n"
     ]
    }
   ],
   "source": [
    "# Save to h5 file\n",
    "result_df.to_hdf('sample_otu_arrays.h5', key='df', mode='w')\n",
    "\n",
    "# To verify we can load it back:\n",
    "loaded_df = pd.read_hdf('sample_otu_arrays.h5', key='df')\n",
    "print(loaded_df.head())"
   ]
  },
  {
   "cell_type": "code",
   "execution_count": 18,
   "metadata": {},
   "outputs": [
    {
     "name": "stdout",
     "output_type": "stream",
     "text": [
      "Original array for SRR044623.SRS018995: [5, 19, 22, 24, 27, 30, 43, 45, 52, 56, 58, 65, 66, 68, 71, 74, 76, 80, 82, 83, 85, 90, 92, 93, 98, 99, 104, 105, 116, 117, 121, 125, 126, 129, 131, 132, 136, 140, 142, 147, 150, 155, 158, 162, 167, 174, 175, 177, 182, 185, 186, 192, 193, 194, 198, 199, 201, 203, 204, 205, 206, 207, 209, 210, 213, 216, 218, 223, 226, 230, 234, 235, 243, 244, 246, 248, 258, 259, 263, 267, 268, 269, 270, 271, 273, 278, 285, 286, 290, 291, 292, 300, 303, 308, 309, 314, 317, 320, 321, 331, 332, 333, 336, 344, 346, 350, 352, 357, 364, 369, 372, 379, 382, 385, 389, 392, 393, 396, 400, 403, 408, 411, 417, 435, 438, 444, 456, 457, 459, 488, 495, 504, 507]\n",
      "Loaded array for SRR044623.SRS018995: [5, 19, 22, 24, 27, 30, 43, 45, 52, 56, 58, 65, 66, 68, 71, 74, 76, 80, 82, 83, 85, 90, 92, 93, 98, 99, 104, 105, 116, 117, 121, 125, 126, 129, 131, 132, 136, 140, 142, 147, 150, 155, 158, 162, 167, 174, 175, 177, 182, 185, 186, 192, 193, 194, 198, 199, 201, 203, 204, 205, 206, 207, 209, 210, 213, 216, 218, 223, 226, 230, 234, 235, 243, 244, 246, 248, 258, 259, 263, 267, 268, 269, 270, 271, 273, 278, 285, 286, 290, 291, 292, 300, 303, 308, 309, 314, 317, 320, 321, 331, 332, 333, 336, 344, 346, 350, 352, 357, 364, 369, 372, 379, 382, 385, 389, 392, 393, 396, 400, 403, 408, 411, 417, 435, 438, 444, 456, 457, 459, 488, 495, 504, 507]\n"
     ]
    }
   ],
   "source": [
    "# Verify a sample\n",
    "sample_name = result_df.index[0]\n",
    "print(f\"Original array for {sample_name}:\", result_df.loc[sample_name, 'otu_arrays'])\n",
    "print(f\"Loaded array for {sample_name}:\", loaded_df.loc[sample_name, 'otu_arrays'])"
   ]
  }
 ],
 "metadata": {
  "kernelspec": {
   "display_name": "matlas",
   "language": "python",
   "name": "python3"
  },
  "language_info": {
   "codemirror_mode": {
    "name": "ipython",
    "version": 3
   },
   "file_extension": ".py",
   "mimetype": "text/x-python",
   "name": "python",
   "nbconvert_exporter": "python",
   "pygments_lexer": "ipython3",
   "version": "3.11.11"
  }
 },
 "nbformat": 4,
 "nbformat_minor": 2
}
