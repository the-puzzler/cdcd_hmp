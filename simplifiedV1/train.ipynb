{
 "cells": [
  {
   "cell_type": "code",
   "execution_count": 6,
   "metadata": {},
   "outputs": [],
   "source": [
    "import pandas as pd\n",
    "from sklearn.model_selection import train_test_split\n",
    "import numpy as np\n",
    "from scipy.optimize import linear_sum_assignment\n",
    "import torch\n",
    "import torch.nn as nn\n",
    "import torch.nn.functional as F\n",
    "from tqdm import tqdm\n",
    "from collections import Counter\n",
    "\n",
    "#from helper_funcs import generate_sequences\n"
   ]
  },
  {
   "cell_type": "code",
   "execution_count": 2,
   "metadata": {},
   "outputs": [
    {
     "name": "stderr",
     "output_type": "stream",
     "text": [
      "\u001b[34m\u001b[1mwandb\u001b[0m: Using wandb-core as the SDK backend.  Please refer to https://wandb.me/wandb-core for more information.\n",
      "\u001b[34m\u001b[1mwandb\u001b[0m: Currently logged in as: \u001b[33mmatteopeluso1922\u001b[0m. Use \u001b[1m`wandb login --relogin`\u001b[0m to force relogin\n"
     ]
    },
    {
     "data": {
      "text/html": [
       "Tracking run with wandb version 0.18.7"
      ],
      "text/plain": [
       "<IPython.core.display.HTML object>"
      ]
     },
     "metadata": {},
     "output_type": "display_data"
    },
    {
     "data": {
      "text/html": [
       "Run data is saved locally in <code>/mnt/mnemo9/mpelus/matlas/cdcd_multi_train/cdcd_hmp/wandb/run-20250203_084930-psjbe1cd</code>"
      ],
      "text/plain": [
       "<IPython.core.display.HTML object>"
      ]
     },
     "metadata": {},
     "output_type": "display_data"
    },
    {
     "data": {
      "text/html": [
       "Syncing run <strong><a href='https://wandb.ai/matteopeluso1922/cdcd_hmp/runs/psjbe1cd' target=\"_blank\">true-breeze-4</a></strong> to <a href='https://wandb.ai/matteopeluso1922/cdcd_hmp' target=\"_blank\">Weights & Biases</a> (<a href='https://wandb.me/developer-guide' target=\"_blank\">docs</a>)<br/>"
      ],
      "text/plain": [
       "<IPython.core.display.HTML object>"
      ]
     },
     "metadata": {},
     "output_type": "display_data"
    },
    {
     "data": {
      "text/html": [
       " View project at <a href='https://wandb.ai/matteopeluso1922/cdcd_hmp' target=\"_blank\">https://wandb.ai/matteopeluso1922/cdcd_hmp</a>"
      ],
      "text/plain": [
       "<IPython.core.display.HTML object>"
      ]
     },
     "metadata": {},
     "output_type": "display_data"
    },
    {
     "data": {
      "text/html": [
       " View run at <a href='https://wandb.ai/matteopeluso1922/cdcd_hmp/runs/psjbe1cd' target=\"_blank\">https://wandb.ai/matteopeluso1922/cdcd_hmp/runs/psjbe1cd</a>"
      ],
      "text/plain": [
       "<IPython.core.display.HTML object>"
      ]
     },
     "metadata": {},
     "output_type": "display_data"
    },
    {
     "name": "stderr",
     "output_type": "stream",
     "text": [
      "\u001b[34m\u001b[1mwandb\u001b[0m:   1 of 1 files downloaded.  \n"
     ]
    }
   ],
   "source": [
    "import wandb\n",
    "run = wandb.init()\n",
    "artifact = run.use_artifact('matteopeluso1922/cdcd-hmp-param-search-orion_truewarp/best_model_aiicxkad:v0', type='model')\n",
    "artifact_dir = artifact.download()"
   ]
  },
  {
   "cell_type": "code",
   "execution_count": 8,
   "metadata": {},
   "outputs": [
    {
     "name": "stdout",
     "output_type": "stream",
     "text": [
      "Train size: 6486\n",
      "Test size: 1622\n",
      "\n",
      "First few training samples:\n",
      "                                                            otu_arrays\n",
      "Unnamed: 0                                                            \n",
      "SRR044975.SRS011167  [30, 58, 82, 89, 93, 98, 99, 104, 117, 120, 12...\n",
      "SRR049604.SRS049164  [9, 10, 11, 14, 15, 16, 17, 20, 28, 30, 31, 32...\n",
      "SRR331714.SRS076947  [19, 30, 43, 58, 65, 70, 71, 74, 80, 90, 92, 9...\n",
      "SRR089999.SRS077685  [12, 14, 18, 20, 22, 38, 45, 67, 68, 76, 88, 1...\n",
      "SRR048091.SRS021563  [19, 30, 45, 52, 58, 60, 65, 70, 74, 80, 90, 9...\n",
      "\n",
      "Min array length: 3\n",
      "Max array length: 277\n",
      "Mean array length: 69.10\n"
     ]
    }
   ],
   "source": [
    "# Load data\n",
    "loaded_df = pd.read_hdf('../data/sample_otu_arrays.h5', key='df')\n",
    "\n",
    "# Set random seed\n",
    "np.random.seed(42)\n",
    "\n",
    "# Split indices into train/test\n",
    "train_idx, test_idx = train_test_split(loaded_df.index, test_size=0.2, random_state=42)\n",
    "\n",
    "# Create train and test dataframes\n",
    "train_df = loaded_df.loc[train_idx]\n",
    "test_df = loaded_df.loc[test_idx]\n",
    "\n",
    "print(f\"Train size: {len(train_df)}\")\n",
    "print(f\"Test size: {len(test_df)}\")\n",
    "print(\"\\nFirst few training samples:\")\n",
    "print(train_df.head())\n",
    "\n",
    "# Let's also look at array lengths\n",
    "array_lengths = [len(x) for x in loaded_df['otu_arrays']]\n",
    "print(f\"\\nMin array length: {min(array_lengths)}\")\n",
    "print(f\"Max array length: {max(array_lengths)}\")\n",
    "print(f\"Mean array length: {np.mean(array_lengths):.2f}\")"
   ]
  },
  {
   "cell_type": "code",
   "execution_count": 9,
   "metadata": {},
   "outputs": [
    {
     "name": "stdout",
     "output_type": "stream",
     "text": [
      "Batch tokens shape: torch.Size([8, 277])\n",
      "Batch mask shape: torch.Size([8, 277])\n",
      "\n",
      "Vocabulary size: 519\n"
     ]
    }
   ],
   "source": [
    "import torch\n",
    "from torch.utils.data import Dataset, DataLoader\n",
    "\n",
    "class OTUDataset(Dataset):\n",
    "   def __init__(self, df):\n",
    "       self.df = df\n",
    "       \n",
    "       # Find max sequence length for padding\n",
    "       self.max_len = max(len(x) for x in df['otu_arrays'])\n",
    "       \n",
    "   def __len__(self):\n",
    "       return len(self.df)\n",
    "   \n",
    "   def __getitem__(self, idx):\n",
    "       # Get array for this sample\n",
    "       array = self.df.iloc[idx]['otu_arrays']\n",
    "       \n",
    "       # Create padded tensor\n",
    "       padded = torch.zeros(self.max_len, dtype=torch.long)\n",
    "       padded[:len(array)] = torch.tensor(array)\n",
    "       \n",
    "       # Create mask (False where we have real tokens, True for padding)\n",
    "       mask = torch.zeros(self.max_len, dtype=torch.bool)\n",
    "       mask[len(array):] = True\n",
    "       \n",
    "       return padded, mask\n",
    "\n",
    "# Create datasets\n",
    "train_dataset = OTUDataset(train_df)\n",
    "test_dataset = OTUDataset(test_df)\n",
    "\n",
    "# Create dataloaders\n",
    "batch_size = 8\n",
    "train_loader = DataLoader(train_dataset, batch_size=batch_size, shuffle=True)\n",
    "test_loader = DataLoader(test_dataset, batch_size=batch_size, shuffle=False)\n",
    "\n",
    "# Verify shapes\n",
    "for tokens, mask in train_loader:\n",
    "   print(f\"Batch tokens shape: {tokens.shape}\")\n",
    "   print(f\"Batch mask shape: {mask.shape}\")\n",
    "\n",
    "   break\n",
    "\n",
    "# Get vocab size (maximum token ID + 1 for padding)\n",
    "vocab_size = max(max(x) for x in loaded_df['otu_arrays']) + 1\n",
    "print(f\"\\nVocabulary size: {vocab_size}\")"
   ]
  },
  {
   "cell_type": "code",
   "execution_count": 13,
   "metadata": {},
   "outputs": [
    {
     "data": {
      "text/plain": [
       "<module 'model_arch' from '/mnt/mnemo9/mpelus/matlas/cdcd_multi_train/cdcd_hmp/simplifiedV1/model_arch.py'>"
      ]
     },
     "execution_count": 13,
     "metadata": {},
     "output_type": "execute_result"
    }
   ],
   "source": [
    "import model_arch\n",
    "#import helper_funcs\n",
    "import importlib\n",
    "from model_arch import CategoricalScoreDiffusion\n",
    "#from helper_funcs import generate_sequences\n",
    "importlib.reload(model_arch)\n",
    "#importlib.reload(helper_funcs)"
   ]
  },
  {
   "cell_type": "code",
   "execution_count": 14,
   "metadata": {},
   "outputs": [],
   "source": [
    "\n",
    "class TrainingMetrics:\n",
    "    def __init__(self):\n",
    "        self.best_val_loss = float('inf')\n",
    "\n",
    "        \n",
    "    def update_best_metrics(self, val_loss):\n",
    "        improved = False\n",
    "        if val_loss < self.best_val_loss:\n",
    "            self.best_val_loss = val_loss\n",
    "            improved = True\n",
    "        return improved\n",
    "\n",
    "def train_step(model, tokens, mask, optimizer, device):\n",
    "    optimizer.zero_grad()\n",
    "    \n",
    "    # Sample time using warping\n",
    "    t = model.sample_time(tokens.shape[0], tokens.device)\n",
    "\n",
    "    # Get clean embeddings\n",
    "    x0 = model.embedding(tokens)\n",
    "  \n",
    "    \n",
    "    # Add noise\n",
    "    noise = model.get_noise(x0, t)\n",
    "\n",
    "    xt = x0 + noise\n",
    "\n",
    "    \n",
    "    # Get model predictions\n",
    "    logits = model(xt, mask, t)\n",
    "\n",
    "    \n",
    "    # Compute loss\n",
    "    loss = F.cross_entropy(\n",
    "        logits.view(-1, logits.size(-1)),\n",
    "        tokens.view(-1),\n",
    "        ignore_index=0\n",
    "    )\n",
    "\n",
    "    if not torch.isnan(loss):\n",
    "        model.update_time_warping(t, loss.detach())\n",
    "        loss.backward()\n",
    "        optimizer.step()\n",
    "    \n",
    "    return loss.item()\n",
    "\n",
    "def validation_step(model, tokens, mask, device):\n",
    "    # Sample time using warping\n",
    "    t = model.sample_time(tokens.shape[0], tokens.device)\n",
    "    \n",
    "    # Get clean embeddings\n",
    "    x0 = model.embedding(tokens)\n",
    "    \n",
    "    # Add noise according to N(0, σt²)\n",
    "    noise = model.get_noise(x0, t)\n",
    "    xt = x0 + noise\n",
    "    \n",
    "    # Get model predictions\n",
    "    logits = model(xt, mask, t)\n",
    "    \n",
    "    # Compute cross-entropy loss with padding handling\n",
    "    loss = F.cross_entropy(\n",
    "        logits.view(-1, logits.size(-1)),\n",
    "        tokens.view(-1),\n",
    "        ignore_index=0  # Assuming 0 is padding token\n",
    "    )\n",
    "    \n",
    "    return loss.item()\n",
    "\n",
    "def save_checkpoint(model, optimizer, scheduler, epoch, train_loss, val_loss):\n",
    "    checkpoint = {\n",
    "        'epoch': epoch,\n",
    "        'model_state_dict': model.state_dict(),\n",
    "        'optimizer_state_dict': optimizer.state_dict(),\n",
    "        'scheduler_state_dict': scheduler.state_dict() if scheduler else None,\n",
    "        'train_loss': train_loss,\n",
    "        'val_loss': val_loss,\n",
    "        \n",
    "    }\n",
    "    torch.save(checkpoint, 'best_model.pt')\n",
    "\n",
    "def log_metrics(metrics_dict, step_type='batch'):\n",
    "    wandb.log(metrics_dict)\n",
    "\n",
    "def train_epoch(model, train_loader, optimizer, device, epoch):\n",
    "    model.train()\n",
    "    train_loss = 0\n",
    "    train_bar = tqdm(train_loader, desc=f'Training Epoch {epoch}')\n",
    "    \n",
    "    for batch_idx, (tokens, mask) in enumerate(train_bar):\n",
    "        tokens = tokens.to(device)\n",
    "        mask = mask.to(device)\n",
    "        \n",
    "        loss = train_step(model, tokens, mask, optimizer, device)\n",
    "        train_loss += loss\n",
    "        \n",
    "        train_bar.set_postfix({'loss': f'{loss:.4f}'})\n",
    "        log_metrics({\n",
    "            'train/batch_loss': loss,\n",
    "            'train/learning_rate': optimizer.param_groups[0]['lr'],\n",
    "            'epoch': epoch,\n",
    "            'batch': batch_idx\n",
    "        })\n",
    "    \n",
    "    return train_loss / len(train_loader)\n",
    "\n",
    "def validate_epoch(model, test_loader, device, epoch):\n",
    "    model.eval()\n",
    "    val_loss = 0\n",
    "    val_bar = tqdm(test_loader, desc=f'Validation Epoch {epoch}')\n",
    "    \n",
    "    # Collect real sequences\n",
    "    real_sequences = []\n",
    "    with torch.no_grad():\n",
    "        for tokens, mask in val_bar:\n",
    "            tokens = tokens.to(device)\n",
    "            mask = mask.to(device)\n",
    "            \n",
    "            loss = validation_step(model, tokens, mask, device)\n",
    "            val_loss += loss\n",
    "            val_bar.set_postfix({'loss': f'{loss:.4f}'})\n",
    "            \n",
    "            real_sequences.extend([seq[seq != 0].cpu().numpy() for seq in tokens])\n",
    "\n",
    "    \n",
    "    return val_loss / len(test_loader)\n",
    "\n",
    "\n",
    "\n",
    "def train_and_validate(model, train_loader, test_loader, optimizer, num_epochs, device, use_lr_scheduling=True):\n",
    "    metrics = TrainingMetrics()\n",
    "    \n",
    "    scheduler = None\n",
    "    if use_lr_scheduling:\n",
    "        scheduler = torch.optim.lr_scheduler.ReduceLROnPlateau(\n",
    "            optimizer, mode='min', patience=3, factor=0.5, verbose=True\n",
    "        )\n",
    "    \n",
    "    for epoch in range(num_epochs):\n",
    "        # Training phase\n",
    "        avg_train_loss = train_epoch(model, train_loader, optimizer, device, epoch)\n",
    "        log_metrics({'train/epoch_loss': avg_train_loss, 'epoch': epoch})\n",
    "         \n",
    "        # Validation phase (every 5 epochs)\n",
    "        if epoch % 1 == 0:\n",
    "            avg_val_loss = validate_epoch(model, test_loader, device, epoch)\n",
    "            \n",
    "            log_metrics({\n",
    "                'val/epoch_loss': avg_val_loss,\n",
    "                'epoch': epoch\n",
    "            })\n",
    "            \n",
    "            print(f'\\nEpoch {epoch}:')\n",
    "            print(f'Average Train Loss: {avg_train_loss:.4f}')\n",
    "            print(f'Average Val Loss: {avg_val_loss:.4f}')\n",
    "         \n",
    "            \n",
    "            if scheduler:\n",
    "                scheduler.step(avg_val_loss)\n",
    "            \n",
    "            if metrics.update_best_metrics(avg_val_loss):\n",
    "                save_checkpoint(model, optimizer, scheduler, epoch, avg_train_loss, avg_val_loss)\n",
    "                log_metrics({\n",
    "                    'best_model/val_loss': avg_val_loss,\n",
    "                    'best_model/train_loss': avg_train_loss,\n",
    "                    'best_model/epoch': epoch\n",
    "                })\n",
    "        else:\n",
    "            print(f'\\nEpoch {epoch}: Average Train Loss: {avg_train_loss:.4f}\\n')\n",
    "\n",
    "\n",
    "def train_step(model, tokens, mask, optimizer, device):\n",
    "    optimizer.zero_grad()\n",
    "    \n",
    "    t = model.sample_time(tokens.shape[0], tokens.device)\n",
    "    \n",
    "    # Get bin assignments and importance weights\n",
    "    bin_idx = model.time_warping.get_bin_assignment(t)\n",
    "    importance_weights = model.time_warping.get_importance_weights(bin_idx)\n",
    "    \n",
    "    x0 = model.embedding(tokens)\n",
    "    noise = model.get_noise(x0, t)\n",
    "    xt = x0 + noise\n",
    "    logits = model(xt, mask, t)\n",
    "    \n",
    "    loss = F.cross_entropy(\n",
    "        logits.view(-1, logits.size(-1)),\n",
    "        tokens.view(-1),\n",
    "        ignore_index=0\n",
    "    )\n",
    "\n",
    "    if not torch.isnan(loss):\n",
    "        # Collect statistics for time warping\n",
    "        model.time_warping.collect_statistics(t, loss.detach().expand(tokens.shape[0]))\n",
    "        \n",
    "        # Apply importance weights to loss\n",
    "        weighted_loss = loss * importance_weights.mean()\n",
    "        weighted_loss.backward()\n",
    "        optimizer.step()\n",
    "    \n",
    "    return loss.item()\n",
    "\n",
    "def train_epoch(model, train_loader, optimizer, device, epoch):\n",
    "    model.train()\n",
    "    train_loss = 0\n",
    "    train_bar = tqdm(train_loader, desc=f'Training Epoch {epoch}')\n",
    "    \n",
    "    for batch_idx, (tokens, mask) in enumerate(train_bar):\n",
    "        tokens = tokens.to(device)\n",
    "        mask = mask.to(device)\n",
    "        \n",
    "        loss = train_step(model, tokens, mask, optimizer, device)\n",
    "        train_loss += loss\n",
    "        train_bar.set_postfix({'loss': f'{loss:.4f}'})\n",
    "        \n",
    "        log_metrics({\n",
    "            'train/batch_loss': loss,\n",
    "            'train/learning_rate': optimizer.param_groups[0]['lr'],\n",
    "            'epoch': epoch,\n",
    "            'batch': batch_idx\n",
    "        })\n",
    "    \n",
    "    # Update time warping at end of epoch using accumulated statistics\n",
    "    model.time_warping.update_warping()\n",
    "    \n",
    "    return train_loss / len(train_loader)\n"
   ]
  },
  {
   "cell_type": "code",
   "execution_count": 7,
   "metadata": {},
   "outputs": [
    {
     "name": "stderr",
     "output_type": "stream",
     "text": [
      "/tmp/ipykernel_2708849/1484746324.py:1: FutureWarning: You are using `torch.load` with `weights_only=False` (the current default value), which uses the default pickle module implicitly. It is possible to construct malicious pickle data which will execute arbitrary code during unpickling (See https://github.com/pytorch/pytorch/blob/main/SECURITY.md#untrusted-models for more details). In a future release, the default value for `weights_only` will be flipped to `True`. This limits the functions that could be executed during unpickling. Arbitrary objects will no longer be allowed to be loaded via this mode unless they are explicitly allowlisted by the user via `torch.serialization.add_safe_globals`. We recommend you start setting `weights_only=True` for any use case where you don't have full control of the loaded file. Please open an issue on GitHub for any issues related to this experimental feature.\n",
      "  checkpoint = torch.load(f\"/mnt/mnemo9/mpelus/matlas/cdcd_multi_train/cdcd_hmp/artifacts/best_model_aiicxkad:v0/tmp21qdlph1.pt\")\n"
     ]
    },
    {
     "ename": "RuntimeError",
     "evalue": "Error(s) in loading state_dict for CategoricalScoreDiffusion:\n\tUnexpected key(s) in state_dict: \"transformer.layers.1.self_attn.in_proj_weight\", \"transformer.layers.1.self_attn.in_proj_bias\", \"transformer.layers.1.self_attn.out_proj.weight\", \"transformer.layers.1.self_attn.out_proj.bias\", \"transformer.layers.1.linear1.weight\", \"transformer.layers.1.linear1.bias\", \"transformer.layers.1.linear2.weight\", \"transformer.layers.1.linear2.bias\", \"transformer.layers.1.norm1.weight\", \"transformer.layers.1.norm1.bias\", \"transformer.layers.1.norm2.weight\", \"transformer.layers.1.norm2.bias\", \"transformer.layers.2.self_attn.in_proj_weight\", \"transformer.layers.2.self_attn.in_proj_bias\", \"transformer.layers.2.self_attn.out_proj.weight\", \"transformer.layers.2.self_attn.out_proj.bias\", \"transformer.layers.2.linear1.weight\", \"transformer.layers.2.linear1.bias\", \"transformer.layers.2.linear2.weight\", \"transformer.layers.2.linear2.bias\", \"transformer.layers.2.norm1.weight\", \"transformer.layers.2.norm1.bias\", \"transformer.layers.2.norm2.weight\", \"transformer.layers.2.norm2.bias\", \"transformer.layers.3.self_attn.in_proj_weight\", \"transformer.layers.3.self_attn.in_proj_bias\", \"transformer.layers.3.self_attn.out_proj.weight\", \"transformer.layers.3.self_attn.out_proj.bias\", \"transformer.layers.3.linear1.weight\", \"transformer.layers.3.linear1.bias\", \"transformer.layers.3.linear2.weight\", \"transformer.layers.3.linear2.bias\", \"transformer.layers.3.norm1.weight\", \"transformer.layers.3.norm1.bias\", \"transformer.layers.3.norm2.weight\", \"transformer.layers.3.norm2.bias\". \n\tsize mismatch for random_matrix: copying a param with shape torch.Size([1, 4]) from checkpoint, the shape in current model is torch.Size([1, 16]).\n\tsize mismatch for embedding.embedding.weight: copying a param with shape torch.Size([519, 96]) from checkpoint, the shape in current model is torch.Size([519, 160]).\n\tsize mismatch for transformer.layers.0.self_attn.in_proj_weight: copying a param with shape torch.Size([288, 96]) from checkpoint, the shape in current model is torch.Size([480, 160]).\n\tsize mismatch for transformer.layers.0.self_attn.in_proj_bias: copying a param with shape torch.Size([288]) from checkpoint, the shape in current model is torch.Size([480]).\n\tsize mismatch for transformer.layers.0.self_attn.out_proj.weight: copying a param with shape torch.Size([96, 96]) from checkpoint, the shape in current model is torch.Size([160, 160]).\n\tsize mismatch for transformer.layers.0.self_attn.out_proj.bias: copying a param with shape torch.Size([96]) from checkpoint, the shape in current model is torch.Size([160]).\n\tsize mismatch for transformer.layers.0.linear1.weight: copying a param with shape torch.Size([28, 96]) from checkpoint, the shape in current model is torch.Size([32, 160]).\n\tsize mismatch for transformer.layers.0.linear1.bias: copying a param with shape torch.Size([28]) from checkpoint, the shape in current model is torch.Size([32]).\n\tsize mismatch for transformer.layers.0.linear2.weight: copying a param with shape torch.Size([96, 28]) from checkpoint, the shape in current model is torch.Size([160, 32]).\n\tsize mismatch for transformer.layers.0.linear2.bias: copying a param with shape torch.Size([96]) from checkpoint, the shape in current model is torch.Size([160]).\n\tsize mismatch for transformer.layers.0.norm1.weight: copying a param with shape torch.Size([96]) from checkpoint, the shape in current model is torch.Size([160]).\n\tsize mismatch for transformer.layers.0.norm1.bias: copying a param with shape torch.Size([96]) from checkpoint, the shape in current model is torch.Size([160]).\n\tsize mismatch for transformer.layers.0.norm2.weight: copying a param with shape torch.Size([96]) from checkpoint, the shape in current model is torch.Size([160]).\n\tsize mismatch for transformer.layers.0.norm2.bias: copying a param with shape torch.Size([96]) from checkpoint, the shape in current model is torch.Size([160]).\n\tsize mismatch for to_logits.weight: copying a param with shape torch.Size([519, 96]) from checkpoint, the shape in current model is torch.Size([519, 160]).\n\tsize mismatch for time_mlp.0.weight: copying a param with shape torch.Size([96, 8]) from checkpoint, the shape in current model is torch.Size([160, 32]).\n\tsize mismatch for time_mlp.0.bias: copying a param with shape torch.Size([96]) from checkpoint, the shape in current model is torch.Size([160]).\n\tsize mismatch for time_mlp.2.weight: copying a param with shape torch.Size([96, 96]) from checkpoint, the shape in current model is torch.Size([160, 160]).\n\tsize mismatch for time_mlp.2.bias: copying a param with shape torch.Size([96]) from checkpoint, the shape in current model is torch.Size([160]).",
     "output_type": "error",
     "traceback": [
      "\u001b[0;31m---------------------------------------------------------------------------\u001b[0m",
      "\u001b[0;31mRuntimeError\u001b[0m                              Traceback (most recent call last)",
      "Cell \u001b[0;32mIn[7], line 19\u001b[0m\n\u001b[1;32m      7\u001b[0m num_fourier_features \u001b[38;5;241m=\u001b[39m \u001b[38;5;241m16\u001b[39m\n\u001b[1;32m      9\u001b[0m model \u001b[38;5;241m=\u001b[39m CategoricalScoreDiffusion(\n\u001b[1;32m     10\u001b[0m     vocab_size\u001b[38;5;241m=\u001b[39mvocab_size,\n\u001b[1;32m     11\u001b[0m     embed_dim\u001b[38;5;241m=\u001b[39membed_dim,\n\u001b[0;32m   (...)\u001b[0m\n\u001b[1;32m     15\u001b[0m     num_fourier_features\u001b[38;5;241m=\u001b[39mnum_fourier_features\n\u001b[1;32m     16\u001b[0m )\n\u001b[0;32m---> 19\u001b[0m \u001b[43mmodel\u001b[49m\u001b[38;5;241;43m.\u001b[39;49m\u001b[43mload_state_dict\u001b[49m\u001b[43m(\u001b[49m\u001b[43mcheckpoint\u001b[49m\u001b[43m)\u001b[49m\n\u001b[1;32m     21\u001b[0m device \u001b[38;5;241m=\u001b[39m \u001b[38;5;124m'\u001b[39m\u001b[38;5;124mcuda\u001b[39m\u001b[38;5;124m'\u001b[39m \u001b[38;5;28;01mif\u001b[39;00m torch\u001b[38;5;241m.\u001b[39mcuda\u001b[38;5;241m.\u001b[39mis_available() \u001b[38;5;28;01melse\u001b[39;00m \u001b[38;5;124m'\u001b[39m\u001b[38;5;124mcpu\u001b[39m\u001b[38;5;124m'\u001b[39m\n\u001b[1;32m     22\u001b[0m \u001b[38;5;66;03m# Move model to device\u001b[39;00m\n",
      "File \u001b[0;32m~/miniconda3/envs/matlas/lib/python3.12/site-packages/torch/nn/modules/module.py:2584\u001b[0m, in \u001b[0;36mModule.load_state_dict\u001b[0;34m(self, state_dict, strict, assign)\u001b[0m\n\u001b[1;32m   2576\u001b[0m         error_msgs\u001b[38;5;241m.\u001b[39minsert(\n\u001b[1;32m   2577\u001b[0m             \u001b[38;5;241m0\u001b[39m,\n\u001b[1;32m   2578\u001b[0m             \u001b[38;5;124m\"\u001b[39m\u001b[38;5;124mMissing key(s) in state_dict: \u001b[39m\u001b[38;5;132;01m{}\u001b[39;00m\u001b[38;5;124m. \u001b[39m\u001b[38;5;124m\"\u001b[39m\u001b[38;5;241m.\u001b[39mformat(\n\u001b[1;32m   2579\u001b[0m                 \u001b[38;5;124m\"\u001b[39m\u001b[38;5;124m, \u001b[39m\u001b[38;5;124m\"\u001b[39m\u001b[38;5;241m.\u001b[39mjoin(\u001b[38;5;124mf\u001b[39m\u001b[38;5;124m'\u001b[39m\u001b[38;5;124m\"\u001b[39m\u001b[38;5;132;01m{\u001b[39;00mk\u001b[38;5;132;01m}\u001b[39;00m\u001b[38;5;124m\"\u001b[39m\u001b[38;5;124m'\u001b[39m \u001b[38;5;28;01mfor\u001b[39;00m k \u001b[38;5;129;01min\u001b[39;00m missing_keys)\n\u001b[1;32m   2580\u001b[0m             ),\n\u001b[1;32m   2581\u001b[0m         )\n\u001b[1;32m   2583\u001b[0m \u001b[38;5;28;01mif\u001b[39;00m \u001b[38;5;28mlen\u001b[39m(error_msgs) \u001b[38;5;241m>\u001b[39m \u001b[38;5;241m0\u001b[39m:\n\u001b[0;32m-> 2584\u001b[0m     \u001b[38;5;28;01mraise\u001b[39;00m \u001b[38;5;167;01mRuntimeError\u001b[39;00m(\n\u001b[1;32m   2585\u001b[0m         \u001b[38;5;124m\"\u001b[39m\u001b[38;5;124mError(s) in loading state_dict for \u001b[39m\u001b[38;5;132;01m{}\u001b[39;00m\u001b[38;5;124m:\u001b[39m\u001b[38;5;130;01m\\n\u001b[39;00m\u001b[38;5;130;01m\\t\u001b[39;00m\u001b[38;5;132;01m{}\u001b[39;00m\u001b[38;5;124m\"\u001b[39m\u001b[38;5;241m.\u001b[39mformat(\n\u001b[1;32m   2586\u001b[0m             \u001b[38;5;28mself\u001b[39m\u001b[38;5;241m.\u001b[39m\u001b[38;5;18m__class__\u001b[39m\u001b[38;5;241m.\u001b[39m\u001b[38;5;18m__name__\u001b[39m, \u001b[38;5;124m\"\u001b[39m\u001b[38;5;130;01m\\n\u001b[39;00m\u001b[38;5;130;01m\\t\u001b[39;00m\u001b[38;5;124m\"\u001b[39m\u001b[38;5;241m.\u001b[39mjoin(error_msgs)\n\u001b[1;32m   2587\u001b[0m         )\n\u001b[1;32m   2588\u001b[0m     )\n\u001b[1;32m   2589\u001b[0m \u001b[38;5;28;01mreturn\u001b[39;00m _IncompatibleKeys(missing_keys, unexpected_keys)\n",
      "\u001b[0;31mRuntimeError\u001b[0m: Error(s) in loading state_dict for CategoricalScoreDiffusion:\n\tUnexpected key(s) in state_dict: \"transformer.layers.1.self_attn.in_proj_weight\", \"transformer.layers.1.self_attn.in_proj_bias\", \"transformer.layers.1.self_attn.out_proj.weight\", \"transformer.layers.1.self_attn.out_proj.bias\", \"transformer.layers.1.linear1.weight\", \"transformer.layers.1.linear1.bias\", \"transformer.layers.1.linear2.weight\", \"transformer.layers.1.linear2.bias\", \"transformer.layers.1.norm1.weight\", \"transformer.layers.1.norm1.bias\", \"transformer.layers.1.norm2.weight\", \"transformer.layers.1.norm2.bias\", \"transformer.layers.2.self_attn.in_proj_weight\", \"transformer.layers.2.self_attn.in_proj_bias\", \"transformer.layers.2.self_attn.out_proj.weight\", \"transformer.layers.2.self_attn.out_proj.bias\", \"transformer.layers.2.linear1.weight\", \"transformer.layers.2.linear1.bias\", \"transformer.layers.2.linear2.weight\", \"transformer.layers.2.linear2.bias\", \"transformer.layers.2.norm1.weight\", \"transformer.layers.2.norm1.bias\", \"transformer.layers.2.norm2.weight\", \"transformer.layers.2.norm2.bias\", \"transformer.layers.3.self_attn.in_proj_weight\", \"transformer.layers.3.self_attn.in_proj_bias\", \"transformer.layers.3.self_attn.out_proj.weight\", \"transformer.layers.3.self_attn.out_proj.bias\", \"transformer.layers.3.linear1.weight\", \"transformer.layers.3.linear1.bias\", \"transformer.layers.3.linear2.weight\", \"transformer.layers.3.linear2.bias\", \"transformer.layers.3.norm1.weight\", \"transformer.layers.3.norm1.bias\", \"transformer.layers.3.norm2.weight\", \"transformer.layers.3.norm2.bias\". \n\tsize mismatch for random_matrix: copying a param with shape torch.Size([1, 4]) from checkpoint, the shape in current model is torch.Size([1, 16]).\n\tsize mismatch for embedding.embedding.weight: copying a param with shape torch.Size([519, 96]) from checkpoint, the shape in current model is torch.Size([519, 160]).\n\tsize mismatch for transformer.layers.0.self_attn.in_proj_weight: copying a param with shape torch.Size([288, 96]) from checkpoint, the shape in current model is torch.Size([480, 160]).\n\tsize mismatch for transformer.layers.0.self_attn.in_proj_bias: copying a param with shape torch.Size([288]) from checkpoint, the shape in current model is torch.Size([480]).\n\tsize mismatch for transformer.layers.0.self_attn.out_proj.weight: copying a param with shape torch.Size([96, 96]) from checkpoint, the shape in current model is torch.Size([160, 160]).\n\tsize mismatch for transformer.layers.0.self_attn.out_proj.bias: copying a param with shape torch.Size([96]) from checkpoint, the shape in current model is torch.Size([160]).\n\tsize mismatch for transformer.layers.0.linear1.weight: copying a param with shape torch.Size([28, 96]) from checkpoint, the shape in current model is torch.Size([32, 160]).\n\tsize mismatch for transformer.layers.0.linear1.bias: copying a param with shape torch.Size([28]) from checkpoint, the shape in current model is torch.Size([32]).\n\tsize mismatch for transformer.layers.0.linear2.weight: copying a param with shape torch.Size([96, 28]) from checkpoint, the shape in current model is torch.Size([160, 32]).\n\tsize mismatch for transformer.layers.0.linear2.bias: copying a param with shape torch.Size([96]) from checkpoint, the shape in current model is torch.Size([160]).\n\tsize mismatch for transformer.layers.0.norm1.weight: copying a param with shape torch.Size([96]) from checkpoint, the shape in current model is torch.Size([160]).\n\tsize mismatch for transformer.layers.0.norm1.bias: copying a param with shape torch.Size([96]) from checkpoint, the shape in current model is torch.Size([160]).\n\tsize mismatch for transformer.layers.0.norm2.weight: copying a param with shape torch.Size([96]) from checkpoint, the shape in current model is torch.Size([160]).\n\tsize mismatch for transformer.layers.0.norm2.bias: copying a param with shape torch.Size([96]) from checkpoint, the shape in current model is torch.Size([160]).\n\tsize mismatch for to_logits.weight: copying a param with shape torch.Size([519, 96]) from checkpoint, the shape in current model is torch.Size([519, 160]).\n\tsize mismatch for time_mlp.0.weight: copying a param with shape torch.Size([96, 8]) from checkpoint, the shape in current model is torch.Size([160, 32]).\n\tsize mismatch for time_mlp.0.bias: copying a param with shape torch.Size([96]) from checkpoint, the shape in current model is torch.Size([160]).\n\tsize mismatch for time_mlp.2.weight: copying a param with shape torch.Size([96, 96]) from checkpoint, the shape in current model is torch.Size([160, 160]).\n\tsize mismatch for time_mlp.2.bias: copying a param with shape torch.Size([96]) from checkpoint, the shape in current model is torch.Size([160])."
     ]
    }
   ],
   "source": [
    "checkpoint = torch.load(f\"/mnt/mnemo9/mpelus/matlas/cdcd_multi_train/cdcd_hmp/artifacts/best_model_aiicxkad:v0/tmp21qdlph1.pt\")\n",
    "# Initialize model with the same parameters you showed\n",
    "embed_dim = 32\n",
    "num_layers = 3\n",
    "num_heads = 8\n",
    "dim_feedforward = 32\n",
    "num_fourier_features = 16\n",
    "\n",
    "model = CategoricalScoreDiffusion(\n",
    "    vocab_size=vocab_size,\n",
    "    embed_dim=embed_dim,\n",
    "    num_layers=num_layers,\n",
    "    num_heads=num_heads,\n",
    "    dim_feedforward=dim_feedforward,\n",
    "    num_fourier_features=num_fourier_features\n",
    ")\n",
    "\n",
    "\n",
    "model.load_state_dict(checkpoint)\n",
    "\n",
    "device = 'cuda' if torch.cuda.is_available() else 'cpu'\n",
    "# Move model to device\n",
    "model = model.to(device)"
   ]
  },
  {
   "cell_type": "code",
   "execution_count": 15,
   "metadata": {},
   "outputs": [],
   "source": [
    "# Initialize model\n",
    "embed_dim = 32\n",
    "num_layers = 3\n",
    "num_heads = 8\n",
    "dim_feedforward = 32\n",
    "num_fourier_features = 8# going from 4 to 8 destabilised the batch loss but seems o have resulted in a faster convergence and lower\n",
    "model = CategoricalScoreDiffusion(\n",
    "    vocab_size=vocab_size,\n",
    "    embed_dim=embed_dim,\n",
    "    num_layers=num_layers,\n",
    "    num_heads=num_heads,\n",
    "    dim_feedforward=dim_feedforward,\n",
    "    num_fourier_features=num_fourier_features\n",
    "    \n",
    ")\n",
    "\n",
    "device = 'cuda' if torch.cuda.is_available() else 'cpu'\n",
    "# Move model to device\n",
    "model = model.to(device)\n"
   ]
  },
  {
   "cell_type": "code",
   "execution_count": 18,
   "metadata": {},
   "outputs": [
    {
     "name": "stderr",
     "output_type": "stream",
     "text": [
      "\u001b[34m\u001b[1mwandb\u001b[0m: Using wandb-core as the SDK backend.  Please refer to https://wandb.me/wandb-core for more information.\n",
      "\u001b[34m\u001b[1mwandb\u001b[0m: Currently logged in as: \u001b[33mmatteopeluso1922\u001b[0m. Use \u001b[1m`wandb login --relogin`\u001b[0m to force relogin\n"
     ]
    },
    {
     "data": {
      "text/html": [
       "Tracking run with wandb version 0.18.7"
      ],
      "text/plain": [
       "<IPython.core.display.HTML object>"
      ]
     },
     "metadata": {},
     "output_type": "display_data"
    },
    {
     "data": {
      "text/html": [
       "Run data is saved locally in <code>/mnt/mnemo9/mpelus/matlas/cdcd_multi_train/cdcd_hmp/simplifiedV1/wandb/run-20250225_145628-1olzu0co</code>"
      ],
      "text/plain": [
       "<IPython.core.display.HTML object>"
      ]
     },
     "metadata": {},
     "output_type": "display_data"
    },
    {
     "data": {
      "text/html": [
       "Syncing run <strong><a href='https://wandb.ai/matteopeluso1922/diffusion-hmp/runs/1olzu0co' target=\"_blank\">stellar-shadow-109</a></strong> to <a href='https://wandb.ai/matteopeluso1922/diffusion-hmp' target=\"_blank\">Weights & Biases</a> (<a href='https://wandb.me/developer-guide' target=\"_blank\">docs</a>)<br/>"
      ],
      "text/plain": [
       "<IPython.core.display.HTML object>"
      ]
     },
     "metadata": {},
     "output_type": "display_data"
    },
    {
     "data": {
      "text/html": [
       " View project at <a href='https://wandb.ai/matteopeluso1922/diffusion-hmp' target=\"_blank\">https://wandb.ai/matteopeluso1922/diffusion-hmp</a>"
      ],
      "text/plain": [
       "<IPython.core.display.HTML object>"
      ]
     },
     "metadata": {},
     "output_type": "display_data"
    },
    {
     "data": {
      "text/html": [
       " View run at <a href='https://wandb.ai/matteopeluso1922/diffusion-hmp/runs/1olzu0co' target=\"_blank\">https://wandb.ai/matteopeluso1922/diffusion-hmp/runs/1olzu0co</a>"
      ],
      "text/plain": [
       "<IPython.core.display.HTML object>"
      ]
     },
     "metadata": {},
     "output_type": "display_data"
    },
    {
     "data": {
      "text/html": [
       "<button onClick=\"this.nextSibling.style.display='block';this.style.display='none';\">Display W&B run</button><iframe src='https://wandb.ai/matteopeluso1922/diffusion-hmp/runs/1olzu0co?jupyter=true' style='border:none;width:100%;height:420px;display:none;'></iframe>"
      ],
      "text/plain": [
       "<wandb.sdk.wandb_run.Run at 0x7fc9f46611c0>"
      ]
     },
     "execution_count": 18,
     "metadata": {},
     "output_type": "execute_result"
    }
   ],
   "source": [
    "import wandb\n",
    "num_epochs = 30\n",
    "learning_rate = 1e-3\n",
    "\n",
    "wandb.finish()\n",
    "wandb.init(\n",
    "    project=\"diffusion-hmp\",\n",
    "    config={\n",
    "        \"learning_rate\": learning_rate,\n",
    "        \"architecture\": \"restart\",\n",
    "        \"dataset\": \"hmp\",\n",
    "        \"epochs\": num_epochs,\n",
    "        \"embed_dim\": embed_dim,\n",
    "        \"num_layers\": num_layers,\n",
    "        \"num_heads\": num_heads,\n",
    "        \"dim_feedforward\": dim_feedforward,\n",
    "        \"vocab_size\": vocab_size,\n",
    "        \"num_fourier_features\":num_fourier_features\n",
    "    }\n",
    ")"
   ]
  },
  {
   "cell_type": "code",
   "execution_count": 19,
   "metadata": {},
   "outputs": [
    {
     "name": "stderr",
     "output_type": "stream",
     "text": [
      "/mnt/mnemo7/mpelus/miniconda3/envs/matlas/lib/python3.12/site-packages/torch/optim/lr_scheduler.py:62: UserWarning: The verbose parameter is deprecated. Please use get_last_lr() to access the learning rate.\n",
      "  warnings.warn(\n",
      "Training Epoch 0: 100%|██████████| 811/811 [00:09<00:00, 88.05it/s, loss=4.1705]\n",
      "Validation Epoch 0:   0%|          | 0/203 [00:00<?, ?it/s]/mnt/mnemo7/mpelus/miniconda3/envs/matlas/lib/python3.12/site-packages/torch/nn/modules/transformer.py:502: UserWarning: The PyTorch API of nested tensors is in prototype stage and will change in the near future. (Triggered internally at /opt/conda/conda-bld/pytorch_1729647378361/work/aten/src/ATen/NestedTensorImpl.cpp:178.)\n",
      "  output = torch._nested_tensor_from_mask(\n",
      "Validation Epoch 0: 100%|██████████| 203/203 [00:01<00:00, 185.51it/s, loss=4.7967]\n"
     ]
    },
    {
     "name": "stdout",
     "output_type": "stream",
     "text": [
      "\n",
      "Epoch 0:\n",
      "Average Train Loss: 4.6073\n",
      "Average Val Loss: 4.3017\n"
     ]
    },
    {
     "name": "stderr",
     "output_type": "stream",
     "text": [
      "Training Epoch 1: 100%|██████████| 811/811 [00:09<00:00, 87.57it/s, loss=4.7687]\n",
      "Validation Epoch 1: 100%|██████████| 203/203 [00:01<00:00, 194.91it/s, loss=3.8095]\n"
     ]
    },
    {
     "name": "stdout",
     "output_type": "stream",
     "text": [
      "\n",
      "Epoch 1:\n",
      "Average Train Loss: 4.2825\n",
      "Average Val Loss: 4.2097\n"
     ]
    },
    {
     "name": "stderr",
     "output_type": "stream",
     "text": [
      "Training Epoch 2: 100%|██████████| 811/811 [00:09<00:00, 87.64it/s, loss=3.9237]\n",
      "Validation Epoch 2: 100%|██████████| 203/203 [00:01<00:00, 180.83it/s, loss=4.5829]\n"
     ]
    },
    {
     "name": "stdout",
     "output_type": "stream",
     "text": [
      "\n",
      "Epoch 2:\n",
      "Average Train Loss: 4.2167\n",
      "Average Val Loss: 4.1721\n"
     ]
    },
    {
     "name": "stderr",
     "output_type": "stream",
     "text": [
      "Training Epoch 3: 100%|██████████| 811/811 [00:09<00:00, 87.15it/s, loss=2.6374]\n",
      "Validation Epoch 3: 100%|██████████| 203/203 [00:01<00:00, 196.11it/s, loss=2.5846]\n"
     ]
    },
    {
     "name": "stdout",
     "output_type": "stream",
     "text": [
      "\n",
      "Epoch 3:\n",
      "Average Train Loss: 4.1111\n",
      "Average Val Loss: 4.0186\n"
     ]
    },
    {
     "name": "stderr",
     "output_type": "stream",
     "text": [
      "Training Epoch 4: 100%|██████████| 811/811 [00:09<00:00, 88.21it/s, loss=4.3385]\n",
      "Validation Epoch 4: 100%|██████████| 203/203 [00:01<00:00, 199.00it/s, loss=3.7467]\n"
     ]
    },
    {
     "name": "stdout",
     "output_type": "stream",
     "text": [
      "\n",
      "Epoch 4:\n",
      "Average Train Loss: 4.0465\n",
      "Average Val Loss: 4.1151\n"
     ]
    },
    {
     "name": "stderr",
     "output_type": "stream",
     "text": [
      "Training Epoch 5: 100%|██████████| 811/811 [00:08<00:00, 95.18it/s, loss=3.3159]\n",
      "Validation Epoch 5: 100%|██████████| 203/203 [00:01<00:00, 199.49it/s, loss=4.5987]\n"
     ]
    },
    {
     "name": "stdout",
     "output_type": "stream",
     "text": [
      "\n",
      "Epoch 5:\n",
      "Average Train Loss: 4.0286\n",
      "Average Val Loss: 3.9960\n"
     ]
    },
    {
     "name": "stderr",
     "output_type": "stream",
     "text": [
      "Training Epoch 6: 100%|██████████| 811/811 [00:09<00:00, 88.62it/s, loss=5.0100]\n",
      "Validation Epoch 6: 100%|██████████| 203/203 [00:01<00:00, 196.51it/s, loss=4.8181]\n"
     ]
    },
    {
     "name": "stdout",
     "output_type": "stream",
     "text": [
      "\n",
      "Epoch 6:\n",
      "Average Train Loss: 4.0229\n",
      "Average Val Loss: 3.9813\n"
     ]
    },
    {
     "name": "stderr",
     "output_type": "stream",
     "text": [
      "Training Epoch 7: 100%|██████████| 811/811 [00:09<00:00, 88.26it/s, loss=4.3627]\n",
      "Validation Epoch 7: 100%|██████████| 203/203 [00:01<00:00, 198.60it/s, loss=3.6841]\n"
     ]
    },
    {
     "name": "stdout",
     "output_type": "stream",
     "text": [
      "\n",
      "Epoch 7:\n",
      "Average Train Loss: 4.0320\n",
      "Average Val Loss: 3.9816\n"
     ]
    },
    {
     "name": "stderr",
     "output_type": "stream",
     "text": [
      "Training Epoch 8: 100%|██████████| 811/811 [00:09<00:00, 87.62it/s, loss=4.3788]\n",
      "Validation Epoch 8: 100%|██████████| 203/203 [00:01<00:00, 197.89it/s, loss=4.7033]\n"
     ]
    },
    {
     "name": "stdout",
     "output_type": "stream",
     "text": [
      "\n",
      "Epoch 8:\n",
      "Average Train Loss: 3.9766\n",
      "Average Val Loss: 3.9510\n"
     ]
    },
    {
     "name": "stderr",
     "output_type": "stream",
     "text": [
      "Training Epoch 9: 100%|██████████| 811/811 [00:08<00:00, 91.87it/s, loss=3.4580]\n",
      "Validation Epoch 9: 100%|██████████| 203/203 [00:01<00:00, 197.62it/s, loss=4.4698]\n"
     ]
    },
    {
     "name": "stdout",
     "output_type": "stream",
     "text": [
      "\n",
      "Epoch 9:\n",
      "Average Train Loss: 3.9958\n",
      "Average Val Loss: 4.0197\n"
     ]
    },
    {
     "name": "stderr",
     "output_type": "stream",
     "text": [
      "Training Epoch 10: 100%|██████████| 811/811 [00:11<00:00, 70.75it/s, loss=4.4632]\n",
      "Validation Epoch 10: 100%|██████████| 203/203 [00:01<00:00, 195.16it/s, loss=4.5070]\n"
     ]
    },
    {
     "name": "stdout",
     "output_type": "stream",
     "text": [
      "\n",
      "Epoch 10:\n",
      "Average Train Loss: 3.9715\n",
      "Average Val Loss: 4.0329\n"
     ]
    },
    {
     "name": "stderr",
     "output_type": "stream",
     "text": [
      "Training Epoch 11: 100%|██████████| 811/811 [00:09<00:00, 85.69it/s, loss=3.2277]\n",
      "Validation Epoch 11: 100%|██████████| 203/203 [00:01<00:00, 193.86it/s, loss=4.5556]\n"
     ]
    },
    {
     "name": "stdout",
     "output_type": "stream",
     "text": [
      "\n",
      "Epoch 11:\n",
      "Average Train Loss: 3.9787\n",
      "Average Val Loss: 4.0616\n"
     ]
    },
    {
     "name": "stderr",
     "output_type": "stream",
     "text": [
      "Training Epoch 12: 100%|██████████| 811/811 [00:09<00:00, 87.07it/s, loss=3.1893]\n",
      "Validation Epoch 12: 100%|██████████| 203/203 [00:01<00:00, 198.22it/s, loss=4.6473]\n"
     ]
    },
    {
     "name": "stdout",
     "output_type": "stream",
     "text": [
      "\n",
      "Epoch 12:\n",
      "Average Train Loss: 3.9602\n",
      "Average Val Loss: 3.9182\n"
     ]
    },
    {
     "name": "stderr",
     "output_type": "stream",
     "text": [
      "Training Epoch 13: 100%|██████████| 811/811 [00:09<00:00, 86.60it/s, loss=4.4600]\n",
      "Validation Epoch 13: 100%|██████████| 203/203 [00:01<00:00, 199.66it/s, loss=3.5674]\n"
     ]
    },
    {
     "name": "stdout",
     "output_type": "stream",
     "text": [
      "\n",
      "Epoch 13:\n",
      "Average Train Loss: 3.9895\n",
      "Average Val Loss: 4.0094\n"
     ]
    },
    {
     "name": "stderr",
     "output_type": "stream",
     "text": [
      "Training Epoch 14: 100%|██████████| 811/811 [00:09<00:00, 86.50it/s, loss=4.6182]\n",
      "Validation Epoch 14: 100%|██████████| 203/203 [00:01<00:00, 199.65it/s, loss=3.8143]\n"
     ]
    },
    {
     "name": "stdout",
     "output_type": "stream",
     "text": [
      "\n",
      "Epoch 14:\n",
      "Average Train Loss: 3.9360\n",
      "Average Val Loss: 3.9989\n"
     ]
    },
    {
     "name": "stderr",
     "output_type": "stream",
     "text": [
      "Training Epoch 15: 100%|██████████| 811/811 [00:09<00:00, 87.02it/s, loss=4.1996]\n",
      "Validation Epoch 15: 100%|██████████| 203/203 [00:01<00:00, 196.93it/s, loss=4.0350]\n"
     ]
    },
    {
     "name": "stdout",
     "output_type": "stream",
     "text": [
      "\n",
      "Epoch 15:\n",
      "Average Train Loss: 3.9571\n",
      "Average Val Loss: 3.9026\n"
     ]
    },
    {
     "name": "stderr",
     "output_type": "stream",
     "text": [
      "Training Epoch 16: 100%|██████████| 811/811 [00:09<00:00, 88.05it/s, loss=4.3092]\n",
      "Validation Epoch 16: 100%|██████████| 203/203 [00:01<00:00, 199.53it/s, loss=2.1407]\n"
     ]
    },
    {
     "name": "stdout",
     "output_type": "stream",
     "text": [
      "\n",
      "Epoch 16:\n",
      "Average Train Loss: 3.9521\n",
      "Average Val Loss: 3.9565\n"
     ]
    },
    {
     "name": "stderr",
     "output_type": "stream",
     "text": [
      "Training Epoch 17: 100%|██████████| 811/811 [00:09<00:00, 87.35it/s, loss=4.2984]\n",
      "Validation Epoch 17: 100%|██████████| 203/203 [00:01<00:00, 199.60it/s, loss=4.1038]\n"
     ]
    },
    {
     "name": "stdout",
     "output_type": "stream",
     "text": [
      "\n",
      "Epoch 17:\n",
      "Average Train Loss: 3.9493\n",
      "Average Val Loss: 3.9223\n"
     ]
    },
    {
     "name": "stderr",
     "output_type": "stream",
     "text": [
      "Training Epoch 18: 100%|██████████| 811/811 [00:09<00:00, 87.37it/s, loss=2.9275]\n",
      "Validation Epoch 18: 100%|██████████| 203/203 [00:01<00:00, 197.89it/s, loss=3.0798]\n"
     ]
    },
    {
     "name": "stdout",
     "output_type": "stream",
     "text": [
      "\n",
      "Epoch 18:\n",
      "Average Train Loss: 3.9172\n",
      "Average Val Loss: 3.9295\n"
     ]
    },
    {
     "name": "stderr",
     "output_type": "stream",
     "text": [
      "Training Epoch 19: 100%|██████████| 811/811 [00:09<00:00, 85.70it/s, loss=4.3674]\n",
      "Validation Epoch 19: 100%|██████████| 203/203 [00:01<00:00, 199.62it/s, loss=4.2238]\n"
     ]
    },
    {
     "name": "stdout",
     "output_type": "stream",
     "text": [
      "\n",
      "Epoch 19:\n",
      "Average Train Loss: 3.9313\n",
      "Average Val Loss: 3.8920\n"
     ]
    },
    {
     "name": "stderr",
     "output_type": "stream",
     "text": [
      "Training Epoch 20: 100%|██████████| 811/811 [00:11<00:00, 69.97it/s, loss=4.4422]\n",
      "Validation Epoch 20: 100%|██████████| 203/203 [00:01<00:00, 198.46it/s, loss=4.0653]\n"
     ]
    },
    {
     "name": "stdout",
     "output_type": "stream",
     "text": [
      "\n",
      "Epoch 20:\n",
      "Average Train Loss: 3.9243\n",
      "Average Val Loss: 3.8496\n"
     ]
    },
    {
     "name": "stderr",
     "output_type": "stream",
     "text": [
      "Training Epoch 21: 100%|██████████| 811/811 [00:09<00:00, 85.03it/s, loss=2.6731]\n",
      "Validation Epoch 21: 100%|██████████| 203/203 [00:01<00:00, 197.35it/s, loss=4.2050]\n"
     ]
    },
    {
     "name": "stdout",
     "output_type": "stream",
     "text": [
      "\n",
      "Epoch 21:\n",
      "Average Train Loss: 3.9648\n",
      "Average Val Loss: 3.9731\n"
     ]
    },
    {
     "name": "stderr",
     "output_type": "stream",
     "text": [
      "Training Epoch 22: 100%|██████████| 811/811 [00:08<00:00, 95.13it/s, loss=3.9071]\n",
      "Validation Epoch 22: 100%|██████████| 203/203 [00:01<00:00, 198.19it/s, loss=2.9628]\n"
     ]
    },
    {
     "name": "stdout",
     "output_type": "stream",
     "text": [
      "\n",
      "Epoch 22:\n",
      "Average Train Loss: 3.9296\n",
      "Average Val Loss: 3.9945\n"
     ]
    },
    {
     "name": "stderr",
     "output_type": "stream",
     "text": [
      "Training Epoch 23: 100%|██████████| 811/811 [00:08<00:00, 93.82it/s, loss=4.2795]\n",
      "Validation Epoch 23: 100%|██████████| 203/203 [00:01<00:00, 198.17it/s, loss=4.5445]\n"
     ]
    },
    {
     "name": "stdout",
     "output_type": "stream",
     "text": [
      "\n",
      "Epoch 23:\n",
      "Average Train Loss: 3.9308\n",
      "Average Val Loss: 3.8925\n"
     ]
    },
    {
     "name": "stderr",
     "output_type": "stream",
     "text": [
      "Training Epoch 24: 100%|██████████| 811/811 [00:09<00:00, 88.64it/s, loss=3.0517]\n",
      "Validation Epoch 24: 100%|██████████| 203/203 [00:01<00:00, 199.13it/s, loss=4.4651]\n"
     ]
    },
    {
     "name": "stdout",
     "output_type": "stream",
     "text": [
      "\n",
      "Epoch 24:\n",
      "Average Train Loss: 3.9394\n",
      "Average Val Loss: 3.9933\n"
     ]
    },
    {
     "name": "stderr",
     "output_type": "stream",
     "text": [
      "Training Epoch 25: 100%|██████████| 811/811 [00:09<00:00, 86.29it/s, loss=3.7963]\n",
      "Validation Epoch 25: 100%|██████████| 203/203 [00:01<00:00, 191.52it/s, loss=4.4827]\n"
     ]
    },
    {
     "name": "stdout",
     "output_type": "stream",
     "text": [
      "\n",
      "Epoch 25:\n",
      "Average Train Loss: 3.9088\n",
      "Average Val Loss: 3.8955\n"
     ]
    },
    {
     "name": "stderr",
     "output_type": "stream",
     "text": [
      "Training Epoch 26: 100%|██████████| 811/811 [00:09<00:00, 87.95it/s, loss=2.9070]\n",
      "Validation Epoch 26: 100%|██████████| 203/203 [00:01<00:00, 190.01it/s, loss=4.0245]\n"
     ]
    },
    {
     "name": "stdout",
     "output_type": "stream",
     "text": [
      "\n",
      "Epoch 26:\n",
      "Average Train Loss: 3.9122\n",
      "Average Val Loss: 3.9501\n"
     ]
    },
    {
     "name": "stderr",
     "output_type": "stream",
     "text": [
      "Training Epoch 27: 100%|██████████| 811/811 [00:09<00:00, 85.93it/s, loss=2.8811]\n",
      "Validation Epoch 27: 100%|██████████| 203/203 [00:01<00:00, 191.54it/s, loss=4.3125]\n"
     ]
    },
    {
     "name": "stdout",
     "output_type": "stream",
     "text": [
      "\n",
      "Epoch 27:\n",
      "Average Train Loss: 3.9192\n",
      "Average Val Loss: 3.8919\n"
     ]
    },
    {
     "name": "stderr",
     "output_type": "stream",
     "text": [
      "Training Epoch 28: 100%|██████████| 811/811 [00:09<00:00, 88.30it/s, loss=3.5204]\n",
      "Validation Epoch 28: 100%|██████████| 203/203 [00:01<00:00, 200.00it/s, loss=2.9363]\n"
     ]
    },
    {
     "name": "stdout",
     "output_type": "stream",
     "text": [
      "\n",
      "Epoch 28:\n",
      "Average Train Loss: 3.9132\n",
      "Average Val Loss: 3.9255\n"
     ]
    },
    {
     "name": "stderr",
     "output_type": "stream",
     "text": [
      "Training Epoch 29: 100%|██████████| 811/811 [00:10<00:00, 74.97it/s, loss=4.2529]\n",
      "Validation Epoch 29: 100%|██████████| 203/203 [00:01<00:00, 189.15it/s, loss=3.0139]\n"
     ]
    },
    {
     "name": "stdout",
     "output_type": "stream",
     "text": [
      "\n",
      "Epoch 29:\n",
      "Average Train Loss: 3.9085\n",
      "Average Val Loss: 3.8278\n"
     ]
    }
   ],
   "source": [
    "# Training parameters\n",
    "# Initialize optimizer\n",
    "optimizer = torch.optim.AdamW(model.parameters(), lr=learning_rate)\n",
    "# Start training\n",
    "train_and_validate(model, train_loader, test_loader, optimizer, num_epochs, device)"
   ]
  },
  {
   "cell_type": "code",
   "execution_count": 20,
   "metadata": {},
   "outputs": [],
   "source": [
    "checkpoint = {\n",
    "    'model_state_dict': model.state_dict(),\n",
    "    'optimizer_state_dict': optimizer.state_dict(),\n",
    "    'model_args': {\n",
    "        'vocab_size': vocab_size,\n",
    "        'embed_dim': embed_dim,\n",
    "        'num_layers': num_layers,\n",
    "        'num_heads': num_heads,\n",
    "        'dim_feedforward': dim_feedforward,\n",
    "        'num_fourier_features': num_fourier_features\n",
    "    }\n",
    "}\n",
    "\n",
    "torch.save(checkpoint, 'model_checkpoint_3.82.pt')"
   ]
  },
  {
   "cell_type": "code",
   "execution_count": null,
   "metadata": {},
   "outputs": [],
   "source": [
    "from model_arch import CategoricalScoreDiffusion\n",
    "\n",
    "checkpoint = torch.load('model_checkpoint_2.65.pt')\n",
    "model = CategoricalScoreDiffusion(**checkpoint['model_args'])\n",
    "model.load_state_dict(checkpoint['model_state_dict'])\n",
    "optimizer.load_state_dict(checkpoint['optimizer_state_dict'])"
   ]
  },
  {
   "cell_type": "code",
   "execution_count": null,
   "metadata": {},
   "outputs": [
    {
     "name": "stdout",
     "output_type": "stream",
     "text": [
      "Learning rate: 0.001\n"
     ]
    }
   ],
   "source": [
    "# Access the learning rate\n",
    "# Get the optimizer state dict\n",
    "optimizer_state = checkpoint['optimizer_state_dict']\n",
    "learning_rate = optimizer_state['param_groups'][0]['lr']\n",
    "print(f\"Learning rate: {learning_rate}\")"
   ]
  },
  {
   "cell_type": "code",
   "execution_count": null,
   "metadata": {},
   "outputs": [],
   "source": [
    "import time\n",
    "from contextlib import contextmanager\n",
    "\n",
    "@contextmanager\n",
    "def timer(name):\n",
    "    start = time.perf_counter()\n",
    "    yield\n",
    "    end = time.perf_counter()\n",
    "    print(f\"{name}: {(end - start)*1000:.2f} ms\")"
   ]
  }
 ],
 "metadata": {
  "kernelspec": {
   "display_name": "neuralink",
   "language": "python",
   "name": "python3"
  },
  "language_info": {
   "codemirror_mode": {
    "name": "ipython",
    "version": 3
   },
   "file_extension": ".py",
   "mimetype": "text/x-python",
   "name": "python",
   "nbconvert_exporter": "python",
   "pygments_lexer": "ipython3",
   "version": "3.12.3"
  }
 },
 "nbformat": 4,
 "nbformat_minor": 2
}
