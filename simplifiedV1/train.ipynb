{
 "cells": [
  {
   "cell_type": "code",
   "execution_count": 1,
   "metadata": {},
   "outputs": [],
   "source": [
    "import pandas as pd\n",
    "from sklearn.model_selection import train_test_split\n",
    "import numpy as np\n",
    "from scipy.optimize import linear_sum_assignment\n",
    "import torch\n",
    "import torch.nn as nn\n",
    "import torch.nn.functional as F\n",
    "from tqdm import tqdm\n",
    "from collections import Counter\n",
    "\n",
    "from helper_funcs import generate_sequences\n"
   ]
  },
  {
   "cell_type": "code",
   "execution_count": 2,
   "metadata": {},
   "outputs": [
    {
     "name": "stderr",
     "output_type": "stream",
     "text": [
      "\u001b[34m\u001b[1mwandb\u001b[0m: Using wandb-core as the SDK backend.  Please refer to https://wandb.me/wandb-core for more information.\n",
      "\u001b[34m\u001b[1mwandb\u001b[0m: Currently logged in as: \u001b[33mmatteopeluso1922\u001b[0m. Use \u001b[1m`wandb login --relogin`\u001b[0m to force relogin\n"
     ]
    },
    {
     "data": {
      "text/html": [
       "Tracking run with wandb version 0.18.7"
      ],
      "text/plain": [
       "<IPython.core.display.HTML object>"
      ]
     },
     "metadata": {},
     "output_type": "display_data"
    },
    {
     "data": {
      "text/html": [
       "Run data is saved locally in <code>/mnt/mnemo9/mpelus/matlas/cdcd_multi_train/cdcd_hmp/wandb/run-20250203_084930-psjbe1cd</code>"
      ],
      "text/plain": [
       "<IPython.core.display.HTML object>"
      ]
     },
     "metadata": {},
     "output_type": "display_data"
    },
    {
     "data": {
      "text/html": [
       "Syncing run <strong><a href='https://wandb.ai/matteopeluso1922/cdcd_hmp/runs/psjbe1cd' target=\"_blank\">true-breeze-4</a></strong> to <a href='https://wandb.ai/matteopeluso1922/cdcd_hmp' target=\"_blank\">Weights & Biases</a> (<a href='https://wandb.me/developer-guide' target=\"_blank\">docs</a>)<br/>"
      ],
      "text/plain": [
       "<IPython.core.display.HTML object>"
      ]
     },
     "metadata": {},
     "output_type": "display_data"
    },
    {
     "data": {
      "text/html": [
       " View project at <a href='https://wandb.ai/matteopeluso1922/cdcd_hmp' target=\"_blank\">https://wandb.ai/matteopeluso1922/cdcd_hmp</a>"
      ],
      "text/plain": [
       "<IPython.core.display.HTML object>"
      ]
     },
     "metadata": {},
     "output_type": "display_data"
    },
    {
     "data": {
      "text/html": [
       " View run at <a href='https://wandb.ai/matteopeluso1922/cdcd_hmp/runs/psjbe1cd' target=\"_blank\">https://wandb.ai/matteopeluso1922/cdcd_hmp/runs/psjbe1cd</a>"
      ],
      "text/plain": [
       "<IPython.core.display.HTML object>"
      ]
     },
     "metadata": {},
     "output_type": "display_data"
    },
    {
     "name": "stderr",
     "output_type": "stream",
     "text": [
      "\u001b[34m\u001b[1mwandb\u001b[0m:   1 of 1 files downloaded.  \n"
     ]
    }
   ],
   "source": [
    "import wandb\n",
    "run = wandb.init()\n",
    "artifact = run.use_artifact('matteopeluso1922/cdcd-hmp-param-search-orion_truewarp/best_model_aiicxkad:v0', type='model')\n",
    "artifact_dir = artifact.download()"
   ]
  },
  {
   "cell_type": "code",
   "execution_count": 3,
   "metadata": {},
   "outputs": [
    {
     "name": "stdout",
     "output_type": "stream",
     "text": [
      "Train size: 6486\n",
      "Test size: 1622\n",
      "\n",
      "First few training samples:\n",
      "                                                            otu_arrays\n",
      "Unnamed: 0                                                            \n",
      "SRR044975.SRS011167  [30, 58, 82, 89, 93, 98, 99, 104, 117, 120, 12...\n",
      "SRR049604.SRS049164  [9, 10, 11, 14, 15, 16, 17, 20, 28, 30, 31, 32...\n",
      "SRR331714.SRS076947  [19, 30, 43, 58, 65, 70, 71, 74, 80, 90, 92, 9...\n",
      "SRR089999.SRS077685  [12, 14, 18, 20, 22, 38, 45, 67, 68, 76, 88, 1...\n",
      "SRR048091.SRS021563  [19, 30, 45, 52, 58, 60, 65, 70, 74, 80, 90, 9...\n",
      "\n",
      "Min array length: 3\n",
      "Max array length: 277\n",
      "Mean array length: 69.10\n"
     ]
    }
   ],
   "source": [
    "# Load data\n",
    "loaded_df = pd.read_hdf('./data/sample_otu_arrays.h5', key='df')\n",
    "\n",
    "# Set random seed\n",
    "np.random.seed(42)\n",
    "\n",
    "# Split indices into train/test\n",
    "train_idx, test_idx = train_test_split(loaded_df.index, test_size=0.2, random_state=42)\n",
    "\n",
    "# Create train and test dataframes\n",
    "train_df = loaded_df.loc[train_idx]\n",
    "test_df = loaded_df.loc[test_idx]\n",
    "\n",
    "print(f\"Train size: {len(train_df)}\")\n",
    "print(f\"Test size: {len(test_df)}\")\n",
    "print(\"\\nFirst few training samples:\")\n",
    "print(train_df.head())\n",
    "\n",
    "# Let's also look at array lengths\n",
    "array_lengths = [len(x) for x in loaded_df['otu_arrays']]\n",
    "print(f\"\\nMin array length: {min(array_lengths)}\")\n",
    "print(f\"Max array length: {max(array_lengths)}\")\n",
    "print(f\"Mean array length: {np.mean(array_lengths):.2f}\")"
   ]
  },
  {
   "cell_type": "code",
   "execution_count": 4,
   "metadata": {},
   "outputs": [
    {
     "name": "stdout",
     "output_type": "stream",
     "text": [
      "Batch tokens shape: torch.Size([8, 277])\n",
      "Batch mask shape: torch.Size([8, 277])\n",
      "\n",
      "Vocabulary size: 519\n"
     ]
    }
   ],
   "source": [
    "import torch\n",
    "from torch.utils.data import Dataset, DataLoader\n",
    "\n",
    "class OTUDataset(Dataset):\n",
    "   def __init__(self, df):\n",
    "       self.df = df\n",
    "       \n",
    "       # Find max sequence length for padding\n",
    "       self.max_len = max(len(x) for x in df['otu_arrays'])\n",
    "       \n",
    "   def __len__(self):\n",
    "       return len(self.df)\n",
    "   \n",
    "   def __getitem__(self, idx):\n",
    "       # Get array for this sample\n",
    "       array = self.df.iloc[idx]['otu_arrays']\n",
    "       \n",
    "       # Create padded tensor\n",
    "       padded = torch.zeros(self.max_len, dtype=torch.long)\n",
    "       padded[:len(array)] = torch.tensor(array)\n",
    "       \n",
    "       # Create mask (False where we have real tokens, True for padding)\n",
    "       mask = torch.zeros(self.max_len, dtype=torch.bool)\n",
    "       mask[len(array):] = True\n",
    "       \n",
    "       return padded, mask\n",
    "\n",
    "# Create datasets\n",
    "train_dataset = OTUDataset(train_df)\n",
    "test_dataset = OTUDataset(test_df)\n",
    "\n",
    "# Create dataloaders\n",
    "batch_size = 8\n",
    "train_loader = DataLoader(train_dataset, batch_size=batch_size, shuffle=True)\n",
    "test_loader = DataLoader(test_dataset, batch_size=batch_size, shuffle=False)\n",
    "\n",
    "# Verify shapes\n",
    "for tokens, mask in train_loader:\n",
    "   print(f\"Batch tokens shape: {tokens.shape}\")\n",
    "   print(f\"Batch mask shape: {mask.shape}\")\n",
    "\n",
    "   break\n",
    "\n",
    "# Get vocab size (maximum token ID + 1 for padding)\n",
    "vocab_size = max(max(x) for x in loaded_df['otu_arrays']) + 1\n",
    "print(f\"\\nVocabulary size: {vocab_size}\")"
   ]
  },
  {
   "cell_type": "code",
   "execution_count": 5,
   "metadata": {},
   "outputs": [
    {
     "data": {
      "text/plain": [
       "<module 'helper_funcs' from '/mnt/mnemo9/mpelus/matlas/cdcd_multi_train/cdcd_hmp/helper_funcs.py'>"
      ]
     },
     "execution_count": 5,
     "metadata": {},
     "output_type": "execute_result"
    }
   ],
   "source": [
    "import model_arch\n",
    "import helper_funcs\n",
    "import importlib\n",
    "from model_arch import CategoricalScoreDiffusion\n",
    "from helper_funcs import generate_sequences\n",
    "importlib.reload(model_arch)\n",
    "importlib.reload(helper_funcs)"
   ]
  },
  {
   "cell_type": "code",
   "execution_count": 6,
   "metadata": {},
   "outputs": [],
   "source": [
    "\n",
    "class TrainingMetrics:\n",
    "    def __init__(self):\n",
    "        self.best_val_loss = float('inf')\n",
    "\n",
    "        \n",
    "    def update_best_metrics(self, val_loss):\n",
    "        improved = False\n",
    "        if val_loss < self.best_val_loss:\n",
    "            self.best_val_loss = val_loss\n",
    "            improved = True\n",
    "        return improved\n",
    "\n",
    "def train_step(model, tokens, mask, optimizer, device):\n",
    "    optimizer.zero_grad()\n",
    "    \n",
    "    # Sample time using warping\n",
    "    t = model.sample_time(tokens.shape[0], tokens.device)\n",
    "\n",
    "    # Get clean embeddings\n",
    "    x0 = model.embedding(tokens)\n",
    "  \n",
    "    \n",
    "    # Add noise\n",
    "    noise = model.get_noise(x0, t)\n",
    "\n",
    "    xt = x0 + noise\n",
    "\n",
    "    \n",
    "    # Get model predictions\n",
    "    logits = model(xt, mask, t)\n",
    "\n",
    "    \n",
    "    # Compute loss\n",
    "    loss = F.cross_entropy(\n",
    "        logits.view(-1, logits.size(-1)),\n",
    "        tokens.view(-1),\n",
    "        ignore_index=0\n",
    "    )\n",
    "\n",
    "    if not torch.isnan(loss):\n",
    "        model.update_time_warping(t, loss.detach())\n",
    "        loss.backward()\n",
    "        optimizer.step()\n",
    "    \n",
    "    return loss.item()\n",
    "\n",
    "def validation_step(model, tokens, mask, device):\n",
    "    # Sample time using warping\n",
    "    t = model.sample_time(tokens.shape[0], tokens.device)\n",
    "    \n",
    "    # Get clean embeddings\n",
    "    x0 = model.embedding(tokens)\n",
    "    \n",
    "    # Add noise according to N(0, σt²)\n",
    "    noise = model.get_noise(x0, t)\n",
    "    xt = x0 + noise\n",
    "    \n",
    "    # Get model predictions\n",
    "    logits = model(xt, mask, t)\n",
    "    \n",
    "    # Compute cross-entropy loss with padding handling\n",
    "    loss = F.cross_entropy(\n",
    "        logits.view(-1, logits.size(-1)),\n",
    "        tokens.view(-1),\n",
    "        ignore_index=0  # Assuming 0 is padding token\n",
    "    )\n",
    "    \n",
    "    return loss.item()\n",
    "\n",
    "def save_checkpoint(model, optimizer, scheduler, epoch, train_loss, val_loss):\n",
    "    checkpoint = {\n",
    "        'epoch': epoch,\n",
    "        'model_state_dict': model.state_dict(),\n",
    "        'optimizer_state_dict': optimizer.state_dict(),\n",
    "        'scheduler_state_dict': scheduler.state_dict() if scheduler else None,\n",
    "        'train_loss': train_loss,\n",
    "        'val_loss': val_loss,\n",
    "        \n",
    "    }\n",
    "    torch.save(checkpoint, 'best_model.pt')\n",
    "\n",
    "def log_metrics(metrics_dict, step_type='batch'):\n",
    "    wandb.log(metrics_dict)\n",
    "\n",
    "def train_epoch(model, train_loader, optimizer, device, epoch):\n",
    "    model.train()\n",
    "    train_loss = 0\n",
    "    train_bar = tqdm(train_loader, desc=f'Training Epoch {epoch}')\n",
    "    \n",
    "    for batch_idx, (tokens, mask) in enumerate(train_bar):\n",
    "        tokens = tokens.to(device)\n",
    "        mask = mask.to(device)\n",
    "        \n",
    "        loss = train_step(model, tokens, mask, optimizer, device)\n",
    "        train_loss += loss\n",
    "        \n",
    "        train_bar.set_postfix({'loss': f'{loss:.4f}'})\n",
    "        log_metrics({\n",
    "            'train/batch_loss': loss,\n",
    "            'train/learning_rate': optimizer.param_groups[0]['lr'],\n",
    "            'epoch': epoch,\n",
    "            'batch': batch_idx\n",
    "        })\n",
    "    \n",
    "    return train_loss / len(train_loader)\n",
    "\n",
    "def validate_epoch(model, test_loader, device, epoch):\n",
    "    model.eval()\n",
    "    val_loss = 0\n",
    "    val_bar = tqdm(test_loader, desc=f'Validation Epoch {epoch}')\n",
    "    \n",
    "    # Collect real sequences\n",
    "    real_sequences = []\n",
    "    with torch.no_grad():\n",
    "        for tokens, mask in val_bar:\n",
    "            tokens = tokens.to(device)\n",
    "            mask = mask.to(device)\n",
    "            \n",
    "            loss = validation_step(model, tokens, mask, device)\n",
    "            val_loss += loss\n",
    "            val_bar.set_postfix({'loss': f'{loss:.4f}'})\n",
    "            \n",
    "            real_sequences.extend([seq[seq != 0].cpu().numpy() for seq in tokens])\n",
    "\n",
    "    \n",
    "    return val_loss / len(test_loader)\n",
    "\n",
    "\n",
    "\n",
    "def train_and_validate(model, train_loader, test_loader, optimizer, num_epochs, device, use_lr_scheduling=True):\n",
    "    metrics = TrainingMetrics()\n",
    "    \n",
    "    scheduler = None\n",
    "    if use_lr_scheduling:\n",
    "        scheduler = torch.optim.lr_scheduler.ReduceLROnPlateau(\n",
    "            optimizer, mode='min', patience=3, factor=0.5, verbose=True\n",
    "        )\n",
    "    \n",
    "    for epoch in range(num_epochs):\n",
    "        # Training phase\n",
    "        avg_train_loss = train_epoch(model, train_loader, optimizer, device, epoch)\n",
    "        log_metrics({'train/epoch_loss': avg_train_loss, 'epoch': epoch})\n",
    "         \n",
    "        # Validation phase (every 5 epochs)\n",
    "        if epoch % 1 == 0:\n",
    "            avg_val_loss = validate_epoch(model, test_loader, device, epoch)\n",
    "            \n",
    "            log_metrics({\n",
    "                'val/epoch_loss': avg_val_loss,\n",
    "                'epoch': epoch\n",
    "            })\n",
    "            \n",
    "            print(f'\\nEpoch {epoch}:')\n",
    "            print(f'Average Train Loss: {avg_train_loss:.4f}')\n",
    "            print(f'Average Val Loss: {avg_val_loss:.4f}')\n",
    "         \n",
    "            \n",
    "            if scheduler:\n",
    "                scheduler.step(avg_val_loss)\n",
    "            \n",
    "            if metrics.update_best_metrics(avg_val_loss):\n",
    "                save_checkpoint(model, optimizer, scheduler, epoch, avg_train_loss, avg_val_loss)\n",
    "                log_metrics({\n",
    "                    'best_model/val_loss': avg_val_loss,\n",
    "                    'best_model/train_loss': avg_train_loss,\n",
    "                    'best_model/epoch': epoch\n",
    "                })\n",
    "        else:\n",
    "            print(f'\\nEpoch {epoch}: Average Train Loss: {avg_train_loss:.4f}\\n')\n",
    "\n",
    "\n",
    "def train_step(model, tokens, mask, optimizer, device):\n",
    "    optimizer.zero_grad()\n",
    "    \n",
    "    t = model.sample_time(tokens.shape[0], tokens.device)\n",
    "    \n",
    "    # Get bin assignments and importance weights\n",
    "    bin_idx = model.time_warping.get_bin_assignment(t)\n",
    "    importance_weights = model.time_warping.get_importance_weights(bin_idx)\n",
    "    \n",
    "    x0 = model.embedding(tokens)\n",
    "    noise = model.get_noise(x0, t)\n",
    "    xt = x0 + noise\n",
    "    logits = model(xt, mask, t)\n",
    "    \n",
    "    loss = F.cross_entropy(\n",
    "        logits.view(-1, logits.size(-1)),\n",
    "        tokens.view(-1),\n",
    "        ignore_index=0\n",
    "    )\n",
    "\n",
    "    if not torch.isnan(loss):\n",
    "        # Collect statistics for time warping\n",
    "        model.time_warping.collect_statistics(t, loss.detach().expand(tokens.shape[0]))\n",
    "        \n",
    "        # Apply importance weights to loss\n",
    "        weighted_loss = loss * importance_weights.mean()\n",
    "        weighted_loss.backward()\n",
    "        optimizer.step()\n",
    "    \n",
    "    return loss.item()\n",
    "\n",
    "def train_epoch(model, train_loader, optimizer, device, epoch):\n",
    "    model.train()\n",
    "    train_loss = 0\n",
    "    train_bar = tqdm(train_loader, desc=f'Training Epoch {epoch}')\n",
    "    \n",
    "    for batch_idx, (tokens, mask) in enumerate(train_bar):\n",
    "        tokens = tokens.to(device)\n",
    "        mask = mask.to(device)\n",
    "        \n",
    "        loss = train_step(model, tokens, mask, optimizer, device)\n",
    "        train_loss += loss\n",
    "        train_bar.set_postfix({'loss': f'{loss:.4f}'})\n",
    "        \n",
    "        log_metrics({\n",
    "            'train/batch_loss': loss,\n",
    "            'train/learning_rate': optimizer.param_groups[0]['lr'],\n",
    "            'epoch': epoch,\n",
    "            'batch': batch_idx\n",
    "        })\n",
    "    \n",
    "    # Update time warping at end of epoch using accumulated statistics\n",
    "    model.time_warping.update_warping()\n",
    "    \n",
    "    return train_loss / len(train_loader)\n"
   ]
  },
  {
   "cell_type": "code",
   "execution_count": 7,
   "metadata": {},
   "outputs": [
    {
     "name": "stderr",
     "output_type": "stream",
     "text": [
      "/tmp/ipykernel_2708849/1484746324.py:1: FutureWarning: You are using `torch.load` with `weights_only=False` (the current default value), which uses the default pickle module implicitly. It is possible to construct malicious pickle data which will execute arbitrary code during unpickling (See https://github.com/pytorch/pytorch/blob/main/SECURITY.md#untrusted-models for more details). In a future release, the default value for `weights_only` will be flipped to `True`. This limits the functions that could be executed during unpickling. Arbitrary objects will no longer be allowed to be loaded via this mode unless they are explicitly allowlisted by the user via `torch.serialization.add_safe_globals`. We recommend you start setting `weights_only=True` for any use case where you don't have full control of the loaded file. Please open an issue on GitHub for any issues related to this experimental feature.\n",
      "  checkpoint = torch.load(f\"/mnt/mnemo9/mpelus/matlas/cdcd_multi_train/cdcd_hmp/artifacts/best_model_aiicxkad:v0/tmp21qdlph1.pt\")\n"
     ]
    },
    {
     "ename": "RuntimeError",
     "evalue": "Error(s) in loading state_dict for CategoricalScoreDiffusion:\n\tUnexpected key(s) in state_dict: \"transformer.layers.1.self_attn.in_proj_weight\", \"transformer.layers.1.self_attn.in_proj_bias\", \"transformer.layers.1.self_attn.out_proj.weight\", \"transformer.layers.1.self_attn.out_proj.bias\", \"transformer.layers.1.linear1.weight\", \"transformer.layers.1.linear1.bias\", \"transformer.layers.1.linear2.weight\", \"transformer.layers.1.linear2.bias\", \"transformer.layers.1.norm1.weight\", \"transformer.layers.1.norm1.bias\", \"transformer.layers.1.norm2.weight\", \"transformer.layers.1.norm2.bias\", \"transformer.layers.2.self_attn.in_proj_weight\", \"transformer.layers.2.self_attn.in_proj_bias\", \"transformer.layers.2.self_attn.out_proj.weight\", \"transformer.layers.2.self_attn.out_proj.bias\", \"transformer.layers.2.linear1.weight\", \"transformer.layers.2.linear1.bias\", \"transformer.layers.2.linear2.weight\", \"transformer.layers.2.linear2.bias\", \"transformer.layers.2.norm1.weight\", \"transformer.layers.2.norm1.bias\", \"transformer.layers.2.norm2.weight\", \"transformer.layers.2.norm2.bias\", \"transformer.layers.3.self_attn.in_proj_weight\", \"transformer.layers.3.self_attn.in_proj_bias\", \"transformer.layers.3.self_attn.out_proj.weight\", \"transformer.layers.3.self_attn.out_proj.bias\", \"transformer.layers.3.linear1.weight\", \"transformer.layers.3.linear1.bias\", \"transformer.layers.3.linear2.weight\", \"transformer.layers.3.linear2.bias\", \"transformer.layers.3.norm1.weight\", \"transformer.layers.3.norm1.bias\", \"transformer.layers.3.norm2.weight\", \"transformer.layers.3.norm2.bias\". \n\tsize mismatch for random_matrix: copying a param with shape torch.Size([1, 4]) from checkpoint, the shape in current model is torch.Size([1, 16]).\n\tsize mismatch for embedding.embedding.weight: copying a param with shape torch.Size([519, 96]) from checkpoint, the shape in current model is torch.Size([519, 160]).\n\tsize mismatch for transformer.layers.0.self_attn.in_proj_weight: copying a param with shape torch.Size([288, 96]) from checkpoint, the shape in current model is torch.Size([480, 160]).\n\tsize mismatch for transformer.layers.0.self_attn.in_proj_bias: copying a param with shape torch.Size([288]) from checkpoint, the shape in current model is torch.Size([480]).\n\tsize mismatch for transformer.layers.0.self_attn.out_proj.weight: copying a param with shape torch.Size([96, 96]) from checkpoint, the shape in current model is torch.Size([160, 160]).\n\tsize mismatch for transformer.layers.0.self_attn.out_proj.bias: copying a param with shape torch.Size([96]) from checkpoint, the shape in current model is torch.Size([160]).\n\tsize mismatch for transformer.layers.0.linear1.weight: copying a param with shape torch.Size([28, 96]) from checkpoint, the shape in current model is torch.Size([32, 160]).\n\tsize mismatch for transformer.layers.0.linear1.bias: copying a param with shape torch.Size([28]) from checkpoint, the shape in current model is torch.Size([32]).\n\tsize mismatch for transformer.layers.0.linear2.weight: copying a param with shape torch.Size([96, 28]) from checkpoint, the shape in current model is torch.Size([160, 32]).\n\tsize mismatch for transformer.layers.0.linear2.bias: copying a param with shape torch.Size([96]) from checkpoint, the shape in current model is torch.Size([160]).\n\tsize mismatch for transformer.layers.0.norm1.weight: copying a param with shape torch.Size([96]) from checkpoint, the shape in current model is torch.Size([160]).\n\tsize mismatch for transformer.layers.0.norm1.bias: copying a param with shape torch.Size([96]) from checkpoint, the shape in current model is torch.Size([160]).\n\tsize mismatch for transformer.layers.0.norm2.weight: copying a param with shape torch.Size([96]) from checkpoint, the shape in current model is torch.Size([160]).\n\tsize mismatch for transformer.layers.0.norm2.bias: copying a param with shape torch.Size([96]) from checkpoint, the shape in current model is torch.Size([160]).\n\tsize mismatch for to_logits.weight: copying a param with shape torch.Size([519, 96]) from checkpoint, the shape in current model is torch.Size([519, 160]).\n\tsize mismatch for time_mlp.0.weight: copying a param with shape torch.Size([96, 8]) from checkpoint, the shape in current model is torch.Size([160, 32]).\n\tsize mismatch for time_mlp.0.bias: copying a param with shape torch.Size([96]) from checkpoint, the shape in current model is torch.Size([160]).\n\tsize mismatch for time_mlp.2.weight: copying a param with shape torch.Size([96, 96]) from checkpoint, the shape in current model is torch.Size([160, 160]).\n\tsize mismatch for time_mlp.2.bias: copying a param with shape torch.Size([96]) from checkpoint, the shape in current model is torch.Size([160]).",
     "output_type": "error",
     "traceback": [
      "\u001b[0;31m---------------------------------------------------------------------------\u001b[0m",
      "\u001b[0;31mRuntimeError\u001b[0m                              Traceback (most recent call last)",
      "Cell \u001b[0;32mIn[7], line 19\u001b[0m\n\u001b[1;32m      7\u001b[0m num_fourier_features \u001b[38;5;241m=\u001b[39m \u001b[38;5;241m16\u001b[39m\n\u001b[1;32m      9\u001b[0m model \u001b[38;5;241m=\u001b[39m CategoricalScoreDiffusion(\n\u001b[1;32m     10\u001b[0m     vocab_size\u001b[38;5;241m=\u001b[39mvocab_size,\n\u001b[1;32m     11\u001b[0m     embed_dim\u001b[38;5;241m=\u001b[39membed_dim,\n\u001b[0;32m   (...)\u001b[0m\n\u001b[1;32m     15\u001b[0m     num_fourier_features\u001b[38;5;241m=\u001b[39mnum_fourier_features\n\u001b[1;32m     16\u001b[0m )\n\u001b[0;32m---> 19\u001b[0m \u001b[43mmodel\u001b[49m\u001b[38;5;241;43m.\u001b[39;49m\u001b[43mload_state_dict\u001b[49m\u001b[43m(\u001b[49m\u001b[43mcheckpoint\u001b[49m\u001b[43m)\u001b[49m\n\u001b[1;32m     21\u001b[0m device \u001b[38;5;241m=\u001b[39m \u001b[38;5;124m'\u001b[39m\u001b[38;5;124mcuda\u001b[39m\u001b[38;5;124m'\u001b[39m \u001b[38;5;28;01mif\u001b[39;00m torch\u001b[38;5;241m.\u001b[39mcuda\u001b[38;5;241m.\u001b[39mis_available() \u001b[38;5;28;01melse\u001b[39;00m \u001b[38;5;124m'\u001b[39m\u001b[38;5;124mcpu\u001b[39m\u001b[38;5;124m'\u001b[39m\n\u001b[1;32m     22\u001b[0m \u001b[38;5;66;03m# Move model to device\u001b[39;00m\n",
      "File \u001b[0;32m~/miniconda3/envs/matlas/lib/python3.12/site-packages/torch/nn/modules/module.py:2584\u001b[0m, in \u001b[0;36mModule.load_state_dict\u001b[0;34m(self, state_dict, strict, assign)\u001b[0m\n\u001b[1;32m   2576\u001b[0m         error_msgs\u001b[38;5;241m.\u001b[39minsert(\n\u001b[1;32m   2577\u001b[0m             \u001b[38;5;241m0\u001b[39m,\n\u001b[1;32m   2578\u001b[0m             \u001b[38;5;124m\"\u001b[39m\u001b[38;5;124mMissing key(s) in state_dict: \u001b[39m\u001b[38;5;132;01m{}\u001b[39;00m\u001b[38;5;124m. \u001b[39m\u001b[38;5;124m\"\u001b[39m\u001b[38;5;241m.\u001b[39mformat(\n\u001b[1;32m   2579\u001b[0m                 \u001b[38;5;124m\"\u001b[39m\u001b[38;5;124m, \u001b[39m\u001b[38;5;124m\"\u001b[39m\u001b[38;5;241m.\u001b[39mjoin(\u001b[38;5;124mf\u001b[39m\u001b[38;5;124m'\u001b[39m\u001b[38;5;124m\"\u001b[39m\u001b[38;5;132;01m{\u001b[39;00mk\u001b[38;5;132;01m}\u001b[39;00m\u001b[38;5;124m\"\u001b[39m\u001b[38;5;124m'\u001b[39m \u001b[38;5;28;01mfor\u001b[39;00m k \u001b[38;5;129;01min\u001b[39;00m missing_keys)\n\u001b[1;32m   2580\u001b[0m             ),\n\u001b[1;32m   2581\u001b[0m         )\n\u001b[1;32m   2583\u001b[0m \u001b[38;5;28;01mif\u001b[39;00m \u001b[38;5;28mlen\u001b[39m(error_msgs) \u001b[38;5;241m>\u001b[39m \u001b[38;5;241m0\u001b[39m:\n\u001b[0;32m-> 2584\u001b[0m     \u001b[38;5;28;01mraise\u001b[39;00m \u001b[38;5;167;01mRuntimeError\u001b[39;00m(\n\u001b[1;32m   2585\u001b[0m         \u001b[38;5;124m\"\u001b[39m\u001b[38;5;124mError(s) in loading state_dict for \u001b[39m\u001b[38;5;132;01m{}\u001b[39;00m\u001b[38;5;124m:\u001b[39m\u001b[38;5;130;01m\\n\u001b[39;00m\u001b[38;5;130;01m\\t\u001b[39;00m\u001b[38;5;132;01m{}\u001b[39;00m\u001b[38;5;124m\"\u001b[39m\u001b[38;5;241m.\u001b[39mformat(\n\u001b[1;32m   2586\u001b[0m             \u001b[38;5;28mself\u001b[39m\u001b[38;5;241m.\u001b[39m\u001b[38;5;18m__class__\u001b[39m\u001b[38;5;241m.\u001b[39m\u001b[38;5;18m__name__\u001b[39m, \u001b[38;5;124m\"\u001b[39m\u001b[38;5;130;01m\\n\u001b[39;00m\u001b[38;5;130;01m\\t\u001b[39;00m\u001b[38;5;124m\"\u001b[39m\u001b[38;5;241m.\u001b[39mjoin(error_msgs)\n\u001b[1;32m   2587\u001b[0m         )\n\u001b[1;32m   2588\u001b[0m     )\n\u001b[1;32m   2589\u001b[0m \u001b[38;5;28;01mreturn\u001b[39;00m _IncompatibleKeys(missing_keys, unexpected_keys)\n",
      "\u001b[0;31mRuntimeError\u001b[0m: Error(s) in loading state_dict for CategoricalScoreDiffusion:\n\tUnexpected key(s) in state_dict: \"transformer.layers.1.self_attn.in_proj_weight\", \"transformer.layers.1.self_attn.in_proj_bias\", \"transformer.layers.1.self_attn.out_proj.weight\", \"transformer.layers.1.self_attn.out_proj.bias\", \"transformer.layers.1.linear1.weight\", \"transformer.layers.1.linear1.bias\", \"transformer.layers.1.linear2.weight\", \"transformer.layers.1.linear2.bias\", \"transformer.layers.1.norm1.weight\", \"transformer.layers.1.norm1.bias\", \"transformer.layers.1.norm2.weight\", \"transformer.layers.1.norm2.bias\", \"transformer.layers.2.self_attn.in_proj_weight\", \"transformer.layers.2.self_attn.in_proj_bias\", \"transformer.layers.2.self_attn.out_proj.weight\", \"transformer.layers.2.self_attn.out_proj.bias\", \"transformer.layers.2.linear1.weight\", \"transformer.layers.2.linear1.bias\", \"transformer.layers.2.linear2.weight\", \"transformer.layers.2.linear2.bias\", \"transformer.layers.2.norm1.weight\", \"transformer.layers.2.norm1.bias\", \"transformer.layers.2.norm2.weight\", \"transformer.layers.2.norm2.bias\", \"transformer.layers.3.self_attn.in_proj_weight\", \"transformer.layers.3.self_attn.in_proj_bias\", \"transformer.layers.3.self_attn.out_proj.weight\", \"transformer.layers.3.self_attn.out_proj.bias\", \"transformer.layers.3.linear1.weight\", \"transformer.layers.3.linear1.bias\", \"transformer.layers.3.linear2.weight\", \"transformer.layers.3.linear2.bias\", \"transformer.layers.3.norm1.weight\", \"transformer.layers.3.norm1.bias\", \"transformer.layers.3.norm2.weight\", \"transformer.layers.3.norm2.bias\". \n\tsize mismatch for random_matrix: copying a param with shape torch.Size([1, 4]) from checkpoint, the shape in current model is torch.Size([1, 16]).\n\tsize mismatch for embedding.embedding.weight: copying a param with shape torch.Size([519, 96]) from checkpoint, the shape in current model is torch.Size([519, 160]).\n\tsize mismatch for transformer.layers.0.self_attn.in_proj_weight: copying a param with shape torch.Size([288, 96]) from checkpoint, the shape in current model is torch.Size([480, 160]).\n\tsize mismatch for transformer.layers.0.self_attn.in_proj_bias: copying a param with shape torch.Size([288]) from checkpoint, the shape in current model is torch.Size([480]).\n\tsize mismatch for transformer.layers.0.self_attn.out_proj.weight: copying a param with shape torch.Size([96, 96]) from checkpoint, the shape in current model is torch.Size([160, 160]).\n\tsize mismatch for transformer.layers.0.self_attn.out_proj.bias: copying a param with shape torch.Size([96]) from checkpoint, the shape in current model is torch.Size([160]).\n\tsize mismatch for transformer.layers.0.linear1.weight: copying a param with shape torch.Size([28, 96]) from checkpoint, the shape in current model is torch.Size([32, 160]).\n\tsize mismatch for transformer.layers.0.linear1.bias: copying a param with shape torch.Size([28]) from checkpoint, the shape in current model is torch.Size([32]).\n\tsize mismatch for transformer.layers.0.linear2.weight: copying a param with shape torch.Size([96, 28]) from checkpoint, the shape in current model is torch.Size([160, 32]).\n\tsize mismatch for transformer.layers.0.linear2.bias: copying a param with shape torch.Size([96]) from checkpoint, the shape in current model is torch.Size([160]).\n\tsize mismatch for transformer.layers.0.norm1.weight: copying a param with shape torch.Size([96]) from checkpoint, the shape in current model is torch.Size([160]).\n\tsize mismatch for transformer.layers.0.norm1.bias: copying a param with shape torch.Size([96]) from checkpoint, the shape in current model is torch.Size([160]).\n\tsize mismatch for transformer.layers.0.norm2.weight: copying a param with shape torch.Size([96]) from checkpoint, the shape in current model is torch.Size([160]).\n\tsize mismatch for transformer.layers.0.norm2.bias: copying a param with shape torch.Size([96]) from checkpoint, the shape in current model is torch.Size([160]).\n\tsize mismatch for to_logits.weight: copying a param with shape torch.Size([519, 96]) from checkpoint, the shape in current model is torch.Size([519, 160]).\n\tsize mismatch for time_mlp.0.weight: copying a param with shape torch.Size([96, 8]) from checkpoint, the shape in current model is torch.Size([160, 32]).\n\tsize mismatch for time_mlp.0.bias: copying a param with shape torch.Size([96]) from checkpoint, the shape in current model is torch.Size([160]).\n\tsize mismatch for time_mlp.2.weight: copying a param with shape torch.Size([96, 96]) from checkpoint, the shape in current model is torch.Size([160, 160]).\n\tsize mismatch for time_mlp.2.bias: copying a param with shape torch.Size([96]) from checkpoint, the shape in current model is torch.Size([160])."
     ]
    }
   ],
   "source": [
    "checkpoint = torch.load(f\"/mnt/mnemo9/mpelus/matlas/cdcd_multi_train/cdcd_hmp/artifacts/best_model_aiicxkad:v0/tmp21qdlph1.pt\")\n",
    "# Initialize model with the same parameters you showed\n",
    "embed_dim = 32\n",
    "num_layers = 3\n",
    "num_heads = 8\n",
    "dim_feedforward = 32\n",
    "num_fourier_features = 16\n",
    "\n",
    "model = CategoricalScoreDiffusion(\n",
    "    vocab_size=vocab_size,\n",
    "    embed_dim=embed_dim,\n",
    "    num_layers=num_layers,\n",
    "    num_heads=num_heads,\n",
    "    dim_feedforward=dim_feedforward,\n",
    "    num_fourier_features=num_fourier_features\n",
    ")\n",
    "\n",
    "\n",
    "model.load_state_dict(checkpoint)\n",
    "\n",
    "device = 'cuda' if torch.cuda.is_available() else 'cpu'\n",
    "# Move model to device\n",
    "model = model.to(device)"
   ]
  },
  {
   "cell_type": "code",
   "execution_count": 16,
   "metadata": {},
   "outputs": [],
   "source": [
    "# Initialize model\n",
    "embed_dim = 32\n",
    "num_layers = 3\n",
    "num_heads = 8\n",
    "dim_feedforward = 32\n",
    "num_fourier_features = 8# going from 4 to 8 destabilised the batch loss but seems o have resulted in a faster convergence and lower\n",
    "model = CategoricalScoreDiffusion(\n",
    "    vocab_size=vocab_size,\n",
    "    embed_dim=embed_dim,\n",
    "    num_layers=num_layers,\n",
    "    num_heads=num_heads,\n",
    "    dim_feedforward=dim_feedforward,\n",
    "    num_fourier_features=num_fourier_features\n",
    "    \n",
    ")\n",
    "\n",
    "device = 'cuda' if torch.cuda.is_available() else 'cpu'\n",
    "# Move model to device\n",
    "model = model.to(device)\n"
   ]
  },
  {
   "cell_type": "code",
   "execution_count": 17,
   "metadata": {},
   "outputs": [
    {
     "data": {
      "text/html": [
       "\n",
       "    <style>\n",
       "        .wandb-row {\n",
       "            display: flex;\n",
       "            flex-direction: row;\n",
       "            flex-wrap: wrap;\n",
       "            justify-content: flex-start;\n",
       "            width: 100%;\n",
       "        }\n",
       "        .wandb-col {\n",
       "            display: flex;\n",
       "            flex-direction: column;\n",
       "            flex-basis: 100%;\n",
       "            flex: 1;\n",
       "            padding: 10px;\n",
       "        }\n",
       "    </style>\n",
       "<div class=\"wandb-row\"><div class=\"wandb-col\"><h3>Run history:</h3><br/><table class=\"wandb\"><tr><td>batch</td><td>█▅▅▆▂▇▇▄▇▃█▅▆▂▃▄▅▃▅▇▂▅▇▅▄▃▅▆▁▅▆▂▇▅▄▄▃▆▁▄</td></tr><tr><td>best_model/epoch</td><td>▁▁▁▂▂▃██</td></tr><tr><td>best_model/train_loss</td><td>▇█▆▄▂▂▁▂</td></tr><tr><td>best_model/val_loss</td><td>█▅▄▄▃▂▂▁</td></tr><tr><td>epoch</td><td>▁▁▁▁▁▂▂▂▂▂▂▃▃▃▃▄▄▄▄▄▄▄▅▅▅▅▅▆▆▆▆▆▆▇▇▇▇▇▇█</td></tr><tr><td>train/batch_loss</td><td>▄▄▅▆▂▇▅▄▅▆▇▃▆▆▆▇▇▆▃▄▅█▆▇██▆▃▃▃▁▇▂▆▇▃▇▅▆▆</td></tr><tr><td>train/epoch_loss</td><td>█▆▆▅▅▅▄▂▄▅▃▄▃▂▄▃▄▄▃▃▂▃▂▃▃▂▂▄▃▂▃▂▃▃▁▄▃▁▂▂</td></tr><tr><td>train/learning_rate</td><td>████▄▃▃▃▃▃▂▂▂▂▂▁▁▁▁▁▁▁▁▁▁▁▁▁▁▁▁▁▁▁▁▁▁▁▁▁</td></tr><tr><td>val/epoch_loss</td><td>▇▅▆▅▇▇▆▅▆▆▄▆▅▆▃▇▅▃▆▇▂▃▃▄▄▄█▅▂█▄▄▄▄▃▂▅▇▁▄</td></tr></table><br/></div><div class=\"wandb-col\"><h3>Run summary:</h3><br/><table class=\"wandb\"><tr><td>batch</td><td>373</td></tr><tr><td>best_model/epoch</td><td>73</td></tr><tr><td>best_model/train_loss</td><td>3.86045</td></tr><tr><td>best_model/val_loss</td><td>3.75278</td></tr><tr><td>epoch</td><td>78</td></tr><tr><td>train/batch_loss</td><td>3.749</td></tr><tr><td>train/epoch_loss</td><td>3.85698</td></tr><tr><td>train/learning_rate</td><td>0.0</td></tr><tr><td>val/epoch_loss</td><td>3.82535</td></tr></table><br/></div></div>"
      ],
      "text/plain": [
       "<IPython.core.display.HTML object>"
      ]
     },
     "metadata": {},
     "output_type": "display_data"
    },
    {
     "data": {
      "text/html": [
       " View run <strong style=\"color:#cdcd00\">bumbling-sound-87</strong> at: <a href='https://wandb.ai/matteopeluso1922/diffusion-hmp/runs/vxbd9buq' target=\"_blank\">https://wandb.ai/matteopeluso1922/diffusion-hmp/runs/vxbd9buq</a><br/> View project at: <a href='https://wandb.ai/matteopeluso1922/diffusion-hmp' target=\"_blank\">https://wandb.ai/matteopeluso1922/diffusion-hmp</a><br/>Synced 5 W&B file(s), 0 media file(s), 0 artifact file(s) and 0 other file(s)"
      ],
      "text/plain": [
       "<IPython.core.display.HTML object>"
      ]
     },
     "metadata": {},
     "output_type": "display_data"
    },
    {
     "data": {
      "text/html": [
       "Find logs at: <code>./wandb/run-20250203_085816-vxbd9buq/logs</code>"
      ],
      "text/plain": [
       "<IPython.core.display.HTML object>"
      ]
     },
     "metadata": {},
     "output_type": "display_data"
    },
    {
     "data": {
      "text/html": [
       "Tracking run with wandb version 0.18.7"
      ],
      "text/plain": [
       "<IPython.core.display.HTML object>"
      ]
     },
     "metadata": {},
     "output_type": "display_data"
    },
    {
     "data": {
      "text/html": [
       "Run data is saved locally in <code>/mnt/mnemo9/mpelus/matlas/cdcd_multi_train/cdcd_hmp/wandb/run-20250203_112059-b7a06qpu</code>"
      ],
      "text/plain": [
       "<IPython.core.display.HTML object>"
      ]
     },
     "metadata": {},
     "output_type": "display_data"
    },
    {
     "data": {
      "text/html": [
       "Syncing run <strong><a href='https://wandb.ai/matteopeluso1922/diffusion-hmp/runs/b7a06qpu' target=\"_blank\">floral-pine-88</a></strong> to <a href='https://wandb.ai/matteopeluso1922/diffusion-hmp' target=\"_blank\">Weights & Biases</a> (<a href='https://wandb.me/developer-guide' target=\"_blank\">docs</a>)<br/>"
      ],
      "text/plain": [
       "<IPython.core.display.HTML object>"
      ]
     },
     "metadata": {},
     "output_type": "display_data"
    },
    {
     "data": {
      "text/html": [
       " View project at <a href='https://wandb.ai/matteopeluso1922/diffusion-hmp' target=\"_blank\">https://wandb.ai/matteopeluso1922/diffusion-hmp</a>"
      ],
      "text/plain": [
       "<IPython.core.display.HTML object>"
      ]
     },
     "metadata": {},
     "output_type": "display_data"
    },
    {
     "data": {
      "text/html": [
       " View run at <a href='https://wandb.ai/matteopeluso1922/diffusion-hmp/runs/b7a06qpu' target=\"_blank\">https://wandb.ai/matteopeluso1922/diffusion-hmp/runs/b7a06qpu</a>"
      ],
      "text/plain": [
       "<IPython.core.display.HTML object>"
      ]
     },
     "metadata": {},
     "output_type": "display_data"
    },
    {
     "data": {
      "text/html": [
       "<button onClick=\"this.nextSibling.style.display='block';this.style.display='none';\">Display W&B run</button><iframe src='https://wandb.ai/matteopeluso1922/diffusion-hmp/runs/b7a06qpu?jupyter=true' style='border:none;width:100%;height:420px;display:none;'></iframe>"
      ],
      "text/plain": [
       "<wandb.sdk.wandb_run.Run at 0x7f5739675640>"
      ]
     },
     "execution_count": 17,
     "metadata": {},
     "output_type": "execute_result"
    }
   ],
   "source": [
    "import wandb\n",
    "num_epochs = 200\n",
    "learning_rate = 1e-3\n",
    "\n",
    "wandb.finish()\n",
    "wandb.init(\n",
    "    project=\"diffusion-hmp\",\n",
    "    config={\n",
    "        \"learning_rate\": learning_rate,\n",
    "        \"architecture\": \"restart\",\n",
    "        \"dataset\": \"hmp\",\n",
    "        \"epochs\": num_epochs,\n",
    "        \"embed_dim\": embed_dim,\n",
    "        \"num_layers\": num_layers,\n",
    "        \"num_heads\": num_heads,\n",
    "        \"dim_feedforward\": dim_feedforward,\n",
    "        \"vocab_size\": vocab_size,\n",
    "        \"num_fourier_features\":num_fourier_features\n",
    "    }\n",
    ")"
   ]
  },
  {
   "cell_type": "code",
   "execution_count": 18,
   "metadata": {},
   "outputs": [
    {
     "name": "stderr",
     "output_type": "stream",
     "text": [
      "/mnt/mnemo7/mpelus/miniconda3/envs/matlas/lib/python3.12/site-packages/torch/optim/lr_scheduler.py:62: UserWarning: The verbose parameter is deprecated. Please use get_last_lr() to access the learning rate.\n",
      "  warnings.warn(\n",
      "Training Epoch 0: 100%|██████████| 811/811 [00:09<00:00, 85.16it/s, loss=4.0057]\n",
      "Validation Epoch 0: 100%|██████████| 203/203 [00:01<00:00, 185.44it/s, loss=4.1993]\n"
     ]
    },
    {
     "name": "stdout",
     "output_type": "stream",
     "text": [
      "\n",
      "Epoch 0:\n",
      "Average Train Loss: 4.6154\n",
      "Average Val Loss: 4.3147\n"
     ]
    },
    {
     "name": "stderr",
     "output_type": "stream",
     "text": [
      "Training Epoch 1: 100%|██████████| 811/811 [00:09<00:00, 88.69it/s, loss=4.1831]\n",
      "Validation Epoch 1: 100%|██████████| 203/203 [00:01<00:00, 172.69it/s, loss=4.5834]\n"
     ]
    },
    {
     "name": "stdout",
     "output_type": "stream",
     "text": [
      "\n",
      "Epoch 1:\n",
      "Average Train Loss: 4.2875\n",
      "Average Val Loss: 4.2305\n"
     ]
    },
    {
     "name": "stderr",
     "output_type": "stream",
     "text": [
      "Training Epoch 2: 100%|██████████| 811/811 [00:09<00:00, 86.42it/s, loss=4.9299]\n",
      "Validation Epoch 2: 100%|██████████| 203/203 [00:01<00:00, 173.44it/s, loss=3.2719]\n"
     ]
    },
    {
     "name": "stdout",
     "output_type": "stream",
     "text": [
      "\n",
      "Epoch 2:\n",
      "Average Train Loss: 4.1973\n",
      "Average Val Loss: 4.1679\n"
     ]
    },
    {
     "name": "stderr",
     "output_type": "stream",
     "text": [
      "Training Epoch 3: 100%|██████████| 811/811 [00:09<00:00, 85.77it/s, loss=3.8684]\n",
      "Validation Epoch 3: 100%|██████████| 203/203 [00:01<00:00, 173.96it/s, loss=4.0730]\n"
     ]
    },
    {
     "name": "stdout",
     "output_type": "stream",
     "text": [
      "\n",
      "Epoch 3:\n",
      "Average Train Loss: 4.1221\n",
      "Average Val Loss: 4.0807\n"
     ]
    },
    {
     "name": "stderr",
     "output_type": "stream",
     "text": [
      "Training Epoch 4: 100%|██████████| 811/811 [00:09<00:00, 88.25it/s, loss=3.8990]\n",
      "Validation Epoch 4: 100%|██████████| 203/203 [00:01<00:00, 183.06it/s, loss=4.0240]\n"
     ]
    },
    {
     "name": "stdout",
     "output_type": "stream",
     "text": [
      "\n",
      "Epoch 4:\n",
      "Average Train Loss: 4.1027\n",
      "Average Val Loss: 4.1247\n"
     ]
    },
    {
     "name": "stderr",
     "output_type": "stream",
     "text": [
      "Training Epoch 5: 100%|██████████| 811/811 [00:09<00:00, 89.21it/s, loss=4.2748]\n",
      "Validation Epoch 5: 100%|██████████| 203/203 [00:01<00:00, 181.84it/s, loss=3.2997]\n"
     ]
    },
    {
     "name": "stdout",
     "output_type": "stream",
     "text": [
      "\n",
      "Epoch 5:\n",
      "Average Train Loss: 4.0375\n",
      "Average Val Loss: 4.0326\n"
     ]
    },
    {
     "name": "stderr",
     "output_type": "stream",
     "text": [
      "Training Epoch 6: 100%|██████████| 811/811 [00:09<00:00, 88.46it/s, loss=4.2696]\n",
      "Validation Epoch 6: 100%|██████████| 203/203 [00:01<00:00, 192.03it/s, loss=3.6971]\n"
     ]
    },
    {
     "name": "stdout",
     "output_type": "stream",
     "text": [
      "\n",
      "Epoch 6:\n",
      "Average Train Loss: 4.0129\n",
      "Average Val Loss: 4.0138\n"
     ]
    },
    {
     "name": "stderr",
     "output_type": "stream",
     "text": [
      "Training Epoch 7: 100%|██████████| 811/811 [00:09<00:00, 86.08it/s, loss=3.7715]\n",
      "Validation Epoch 7: 100%|██████████| 203/203 [00:01<00:00, 179.89it/s, loss=4.2486]\n"
     ]
    },
    {
     "name": "stdout",
     "output_type": "stream",
     "text": [
      "\n",
      "Epoch 7:\n",
      "Average Train Loss: 3.9902\n",
      "Average Val Loss: 4.0222\n"
     ]
    },
    {
     "name": "stderr",
     "output_type": "stream",
     "text": [
      "Training Epoch 8: 100%|██████████| 811/811 [00:08<00:00, 90.21it/s, loss=4.8278]\n",
      "Validation Epoch 8: 100%|██████████| 203/203 [00:01<00:00, 191.82it/s, loss=4.0898]\n"
     ]
    },
    {
     "name": "stdout",
     "output_type": "stream",
     "text": [
      "\n",
      "Epoch 8:\n",
      "Average Train Loss: 3.9983\n",
      "Average Val Loss: 3.9843\n"
     ]
    },
    {
     "name": "stderr",
     "output_type": "stream",
     "text": [
      "Training Epoch 9: 100%|██████████| 811/811 [00:08<00:00, 90.61it/s, loss=3.7562]\n",
      "Validation Epoch 9: 100%|██████████| 203/203 [00:01<00:00, 190.02it/s, loss=3.4666]\n"
     ]
    },
    {
     "name": "stdout",
     "output_type": "stream",
     "text": [
      "\n",
      "Epoch 9:\n",
      "Average Train Loss: 3.9778\n",
      "Average Val Loss: 3.9579\n"
     ]
    },
    {
     "name": "stderr",
     "output_type": "stream",
     "text": [
      "Training Epoch 10: 100%|██████████| 811/811 [00:09<00:00, 88.92it/s, loss=3.9166]\n",
      "Validation Epoch 10: 100%|██████████| 203/203 [00:01<00:00, 177.69it/s, loss=3.1965]\n"
     ]
    },
    {
     "name": "stdout",
     "output_type": "stream",
     "text": [
      "\n",
      "Epoch 10:\n",
      "Average Train Loss: 3.9735\n",
      "Average Val Loss: 3.9895\n"
     ]
    },
    {
     "name": "stderr",
     "output_type": "stream",
     "text": [
      "Training Epoch 11: 100%|██████████| 811/811 [00:09<00:00, 85.90it/s, loss=4.3929]\n",
      "Validation Epoch 11: 100%|██████████| 203/203 [00:01<00:00, 181.00it/s, loss=4.1668]\n"
     ]
    },
    {
     "name": "stdout",
     "output_type": "stream",
     "text": [
      "\n",
      "Epoch 11:\n",
      "Average Train Loss: 3.9745\n",
      "Average Val Loss: 4.0064\n"
     ]
    },
    {
     "name": "stderr",
     "output_type": "stream",
     "text": [
      "Training Epoch 12: 100%|██████████| 811/811 [00:09<00:00, 87.94it/s, loss=3.3683]\n",
      "Validation Epoch 12: 100%|██████████| 203/203 [00:01<00:00, 123.82it/s, loss=4.1838]\n"
     ]
    },
    {
     "name": "stdout",
     "output_type": "stream",
     "text": [
      "\n",
      "Epoch 12:\n",
      "Average Train Loss: 3.9511\n",
      "Average Val Loss: 4.0305\n"
     ]
    },
    {
     "name": "stderr",
     "output_type": "stream",
     "text": [
      "Training Epoch 13: 100%|██████████| 811/811 [00:09<00:00, 85.97it/s, loss=4.4225]\n",
      "Validation Epoch 13: 100%|██████████| 203/203 [00:01<00:00, 122.29it/s, loss=4.6882]\n"
     ]
    },
    {
     "name": "stdout",
     "output_type": "stream",
     "text": [
      "\n",
      "Epoch 13:\n",
      "Average Train Loss: 3.9464\n",
      "Average Val Loss: 3.9523\n"
     ]
    },
    {
     "name": "stderr",
     "output_type": "stream",
     "text": [
      "Training Epoch 14: 100%|██████████| 811/811 [00:09<00:00, 81.88it/s, loss=3.9012]\n",
      "Validation Epoch 14: 100%|██████████| 203/203 [00:01<00:00, 119.31it/s, loss=3.0698]\n"
     ]
    },
    {
     "name": "stdout",
     "output_type": "stream",
     "text": [
      "\n",
      "Epoch 14:\n",
      "Average Train Loss: 3.9367\n",
      "Average Val Loss: 3.9260\n"
     ]
    },
    {
     "name": "stderr",
     "output_type": "stream",
     "text": [
      "Training Epoch 15: 100%|██████████| 811/811 [00:09<00:00, 84.40it/s, loss=3.5695]\n",
      "Validation Epoch 15: 100%|██████████| 203/203 [00:01<00:00, 179.00it/s, loss=4.1211]\n"
     ]
    },
    {
     "name": "stdout",
     "output_type": "stream",
     "text": [
      "\n",
      "Epoch 15:\n",
      "Average Train Loss: 3.9926\n",
      "Average Val Loss: 3.9048\n"
     ]
    },
    {
     "name": "stderr",
     "output_type": "stream",
     "text": [
      "Training Epoch 16: 100%|██████████| 811/811 [00:09<00:00, 84.87it/s, loss=3.0857]\n",
      "Validation Epoch 16: 100%|██████████| 203/203 [00:01<00:00, 186.46it/s, loss=3.9099]\n"
     ]
    },
    {
     "name": "stdout",
     "output_type": "stream",
     "text": [
      "\n",
      "Epoch 16:\n",
      "Average Train Loss: 3.9630\n",
      "Average Val Loss: 3.9437\n"
     ]
    },
    {
     "name": "stderr",
     "output_type": "stream",
     "text": [
      "Training Epoch 17: 100%|██████████| 811/811 [00:09<00:00, 83.09it/s, loss=4.4891]\n",
      "Validation Epoch 17: 100%|██████████| 203/203 [00:01<00:00, 189.63it/s, loss=3.7747]\n"
     ]
    },
    {
     "name": "stdout",
     "output_type": "stream",
     "text": [
      "\n",
      "Epoch 17:\n",
      "Average Train Loss: 3.9331\n",
      "Average Val Loss: 3.9731\n"
     ]
    },
    {
     "name": "stderr",
     "output_type": "stream",
     "text": [
      "Training Epoch 18: 100%|██████████| 811/811 [00:09<00:00, 82.06it/s, loss=3.7189]\n",
      "Validation Epoch 18: 100%|██████████| 203/203 [00:01<00:00, 176.33it/s, loss=4.2200]\n"
     ]
    },
    {
     "name": "stdout",
     "output_type": "stream",
     "text": [
      "\n",
      "Epoch 18:\n",
      "Average Train Loss: 3.9407\n",
      "Average Val Loss: 3.9628\n"
     ]
    },
    {
     "name": "stderr",
     "output_type": "stream",
     "text": [
      "Training Epoch 19: 100%|██████████| 811/811 [00:09<00:00, 87.16it/s, loss=4.2909]\n",
      "Validation Epoch 19: 100%|██████████| 203/203 [00:01<00:00, 181.88it/s, loss=4.5857]\n"
     ]
    },
    {
     "name": "stdout",
     "output_type": "stream",
     "text": [
      "\n",
      "Epoch 19:\n",
      "Average Train Loss: 3.9668\n",
      "Average Val Loss: 3.9602\n"
     ]
    },
    {
     "name": "stderr",
     "output_type": "stream",
     "text": [
      "Training Epoch 20: 100%|██████████| 811/811 [00:09<00:00, 86.81it/s, loss=3.1465]\n",
      "Validation Epoch 20: 100%|██████████| 203/203 [00:01<00:00, 191.79it/s, loss=3.8706]\n"
     ]
    },
    {
     "name": "stdout",
     "output_type": "stream",
     "text": [
      "\n",
      "Epoch 20:\n",
      "Average Train Loss: 3.9559\n",
      "Average Val Loss: 3.9827\n"
     ]
    },
    {
     "name": "stderr",
     "output_type": "stream",
     "text": [
      "Training Epoch 21: 100%|██████████| 811/811 [00:09<00:00, 89.50it/s, loss=4.7856]\n",
      "Validation Epoch 21: 100%|██████████| 203/203 [00:01<00:00, 180.31it/s, loss=3.1435]\n"
     ]
    },
    {
     "name": "stdout",
     "output_type": "stream",
     "text": [
      "\n",
      "Epoch 21:\n",
      "Average Train Loss: 3.9446\n",
      "Average Val Loss: 3.9350\n"
     ]
    },
    {
     "name": "stderr",
     "output_type": "stream",
     "text": [
      "Training Epoch 22: 100%|██████████| 811/811 [00:09<00:00, 86.78it/s, loss=3.0904]\n",
      "Validation Epoch 22: 100%|██████████| 203/203 [00:01<00:00, 183.71it/s, loss=3.7620]\n"
     ]
    },
    {
     "name": "stdout",
     "output_type": "stream",
     "text": [
      "\n",
      "Epoch 22:\n",
      "Average Train Loss: 3.9438\n",
      "Average Val Loss: 3.9112\n"
     ]
    },
    {
     "name": "stderr",
     "output_type": "stream",
     "text": [
      "Training Epoch 23: 100%|██████████| 811/811 [00:09<00:00, 89.80it/s, loss=4.5324]\n",
      "Validation Epoch 23: 100%|██████████| 203/203 [00:01<00:00, 160.55it/s, loss=3.6430]\n"
     ]
    },
    {
     "name": "stdout",
     "output_type": "stream",
     "text": [
      "\n",
      "Epoch 23:\n",
      "Average Train Loss: 3.9181\n",
      "Average Val Loss: 3.9085\n"
     ]
    },
    {
     "name": "stderr",
     "output_type": "stream",
     "text": [
      "Training Epoch 24: 100%|██████████| 811/811 [00:09<00:00, 85.92it/s, loss=4.2095]\n",
      "Validation Epoch 24: 100%|██████████| 203/203 [00:01<00:00, 185.23it/s, loss=3.0022]\n"
     ]
    },
    {
     "name": "stdout",
     "output_type": "stream",
     "text": [
      "\n",
      "Epoch 24:\n",
      "Average Train Loss: 3.9233\n",
      "Average Val Loss: 3.9114\n"
     ]
    },
    {
     "name": "stderr",
     "output_type": "stream",
     "text": [
      "Training Epoch 25: 100%|██████████| 811/811 [00:09<00:00, 85.08it/s, loss=3.8977]\n",
      "Validation Epoch 25: 100%|██████████| 203/203 [00:01<00:00, 186.99it/s, loss=3.8404]\n"
     ]
    },
    {
     "name": "stdout",
     "output_type": "stream",
     "text": [
      "\n",
      "Epoch 25:\n",
      "Average Train Loss: 3.9043\n",
      "Average Val Loss: 3.9404\n"
     ]
    },
    {
     "name": "stderr",
     "output_type": "stream",
     "text": [
      "Training Epoch 26: 100%|██████████| 811/811 [00:09<00:00, 84.70it/s, loss=4.4660]\n",
      "Validation Epoch 26: 100%|██████████| 203/203 [00:01<00:00, 167.74it/s, loss=4.1456]\n"
     ]
    },
    {
     "name": "stdout",
     "output_type": "stream",
     "text": [
      "\n",
      "Epoch 26:\n",
      "Average Train Loss: 3.9159\n",
      "Average Val Loss: 3.8403\n"
     ]
    },
    {
     "name": "stderr",
     "output_type": "stream",
     "text": [
      "Training Epoch 27: 100%|██████████| 811/811 [00:09<00:00, 86.34it/s, loss=3.6490]\n",
      "Validation Epoch 27: 100%|██████████| 203/203 [00:01<00:00, 188.03it/s, loss=3.7650]\n"
     ]
    },
    {
     "name": "stdout",
     "output_type": "stream",
     "text": [
      "\n",
      "Epoch 27:\n",
      "Average Train Loss: 3.8775\n",
      "Average Val Loss: 3.9122\n"
     ]
    },
    {
     "name": "stderr",
     "output_type": "stream",
     "text": [
      "Training Epoch 28: 100%|██████████| 811/811 [00:09<00:00, 89.10it/s, loss=4.1568]\n",
      "Validation Epoch 28: 100%|██████████| 203/203 [00:01<00:00, 172.26it/s, loss=4.7893]\n"
     ]
    },
    {
     "name": "stdout",
     "output_type": "stream",
     "text": [
      "\n",
      "Epoch 28:\n",
      "Average Train Loss: 3.9031\n",
      "Average Val Loss: 3.9474\n"
     ]
    },
    {
     "name": "stderr",
     "output_type": "stream",
     "text": [
      "Training Epoch 29: 100%|██████████| 811/811 [00:08<00:00, 91.20it/s, loss=4.3331]\n",
      "Validation Epoch 29: 100%|██████████| 203/203 [00:01<00:00, 171.44it/s, loss=3.0869]\n"
     ]
    },
    {
     "name": "stdout",
     "output_type": "stream",
     "text": [
      "\n",
      "Epoch 29:\n",
      "Average Train Loss: 3.9337\n",
      "Average Val Loss: 3.8983\n"
     ]
    },
    {
     "name": "stderr",
     "output_type": "stream",
     "text": [
      "Training Epoch 30: 100%|██████████| 811/811 [00:09<00:00, 83.74it/s, loss=5.2862]\n",
      "Validation Epoch 30: 100%|██████████| 203/203 [00:01<00:00, 179.86it/s, loss=3.4465]\n"
     ]
    },
    {
     "name": "stdout",
     "output_type": "stream",
     "text": [
      "\n",
      "Epoch 30:\n",
      "Average Train Loss: 3.9228\n",
      "Average Val Loss: 3.8222\n"
     ]
    },
    {
     "name": "stderr",
     "output_type": "stream",
     "text": [
      "Training Epoch 31: 100%|██████████| 811/811 [00:09<00:00, 83.64it/s, loss=2.5880]\n",
      "Validation Epoch 31: 100%|██████████| 203/203 [00:01<00:00, 170.94it/s, loss=4.1522]\n"
     ]
    },
    {
     "name": "stdout",
     "output_type": "stream",
     "text": [
      "\n",
      "Epoch 31:\n",
      "Average Train Loss: 3.9149\n",
      "Average Val Loss: 3.9060\n"
     ]
    },
    {
     "name": "stderr",
     "output_type": "stream",
     "text": [
      "Training Epoch 32: 100%|██████████| 811/811 [00:09<00:00, 88.79it/s, loss=2.2682]\n",
      "Validation Epoch 32: 100%|██████████| 203/203 [00:01<00:00, 181.57it/s, loss=3.1843]\n"
     ]
    },
    {
     "name": "stdout",
     "output_type": "stream",
     "text": [
      "\n",
      "Epoch 32:\n",
      "Average Train Loss: 3.9357\n",
      "Average Val Loss: 3.9633\n"
     ]
    },
    {
     "name": "stderr",
     "output_type": "stream",
     "text": [
      "Training Epoch 33: 100%|██████████| 811/811 [00:09<00:00, 88.33it/s, loss=4.9035]\n",
      "Validation Epoch 33: 100%|██████████| 203/203 [00:01<00:00, 169.68it/s, loss=3.3272]\n"
     ]
    },
    {
     "name": "stdout",
     "output_type": "stream",
     "text": [
      "\n",
      "Epoch 33:\n",
      "Average Train Loss: 3.9107\n",
      "Average Val Loss: 3.9466\n"
     ]
    },
    {
     "name": "stderr",
     "output_type": "stream",
     "text": [
      "Training Epoch 34: 100%|██████████| 811/811 [00:09<00:00, 85.38it/s, loss=3.7570]\n",
      "Validation Epoch 34: 100%|██████████| 203/203 [00:01<00:00, 133.09it/s, loss=3.1742]\n"
     ]
    },
    {
     "name": "stdout",
     "output_type": "stream",
     "text": [
      "\n",
      "Epoch 34:\n",
      "Average Train Loss: 3.8892\n",
      "Average Val Loss: 3.8703\n"
     ]
    },
    {
     "name": "stderr",
     "output_type": "stream",
     "text": [
      "Training Epoch 35: 100%|██████████| 811/811 [00:09<00:00, 89.77it/s, loss=4.9201]\n",
      "Validation Epoch 35: 100%|██████████| 203/203 [00:01<00:00, 182.61it/s, loss=4.1713]\n"
     ]
    },
    {
     "name": "stdout",
     "output_type": "stream",
     "text": [
      "\n",
      "Epoch 35:\n",
      "Average Train Loss: 3.9421\n",
      "Average Val Loss: 3.9370\n"
     ]
    },
    {
     "name": "stderr",
     "output_type": "stream",
     "text": [
      "Training Epoch 36: 100%|██████████| 811/811 [00:08<00:00, 90.65it/s, loss=4.2823]\n",
      "Validation Epoch 36: 100%|██████████| 203/203 [00:01<00:00, 177.96it/s, loss=4.4103]\n"
     ]
    },
    {
     "name": "stdout",
     "output_type": "stream",
     "text": [
      "\n",
      "Epoch 36:\n",
      "Average Train Loss: 3.9075\n",
      "Average Val Loss: 3.8556\n"
     ]
    },
    {
     "name": "stderr",
     "output_type": "stream",
     "text": [
      "Training Epoch 37: 100%|██████████| 811/811 [00:09<00:00, 88.02it/s, loss=2.3677]\n",
      "Validation Epoch 37: 100%|██████████| 203/203 [00:01<00:00, 191.56it/s, loss=4.4010]\n"
     ]
    },
    {
     "name": "stdout",
     "output_type": "stream",
     "text": [
      "\n",
      "Epoch 37:\n",
      "Average Train Loss: 3.8935\n",
      "Average Val Loss: 3.8991\n"
     ]
    },
    {
     "name": "stderr",
     "output_type": "stream",
     "text": [
      "Training Epoch 38: 100%|██████████| 811/811 [00:09<00:00, 82.99it/s, loss=3.9348]\n",
      "Validation Epoch 38: 100%|██████████| 203/203 [00:01<00:00, 173.74it/s, loss=3.1089]\n"
     ]
    },
    {
     "name": "stdout",
     "output_type": "stream",
     "text": [
      "\n",
      "Epoch 38:\n",
      "Average Train Loss: 3.9419\n",
      "Average Val Loss: 3.8774\n"
     ]
    },
    {
     "name": "stderr",
     "output_type": "stream",
     "text": [
      "Training Epoch 39: 100%|██████████| 811/811 [00:09<00:00, 88.63it/s, loss=3.0058]\n",
      "Validation Epoch 39: 100%|██████████| 203/203 [00:01<00:00, 183.10it/s, loss=3.3268]\n"
     ]
    },
    {
     "name": "stdout",
     "output_type": "stream",
     "text": [
      "\n",
      "Epoch 39:\n",
      "Average Train Loss: 3.8836\n",
      "Average Val Loss: 3.9366\n"
     ]
    },
    {
     "name": "stderr",
     "output_type": "stream",
     "text": [
      "Training Epoch 40: 100%|██████████| 811/811 [00:09<00:00, 86.83it/s, loss=4.3017]\n",
      "Validation Epoch 40: 100%|██████████| 203/203 [00:01<00:00, 191.00it/s, loss=4.7268]\n"
     ]
    },
    {
     "name": "stdout",
     "output_type": "stream",
     "text": [
      "\n",
      "Epoch 40:\n",
      "Average Train Loss: 3.9051\n",
      "Average Val Loss: 3.9255\n"
     ]
    },
    {
     "name": "stderr",
     "output_type": "stream",
     "text": [
      "Training Epoch 41: 100%|██████████| 811/811 [00:09<00:00, 87.79it/s, loss=4.7763]\n",
      "Validation Epoch 41: 100%|██████████| 203/203 [00:01<00:00, 192.15it/s, loss=4.6554]\n"
     ]
    },
    {
     "name": "stdout",
     "output_type": "stream",
     "text": [
      "\n",
      "Epoch 41:\n",
      "Average Train Loss: 3.8883\n",
      "Average Val Loss: 3.9384\n"
     ]
    },
    {
     "name": "stderr",
     "output_type": "stream",
     "text": [
      "Training Epoch 42: 100%|██████████| 811/811 [00:09<00:00, 89.16it/s, loss=4.2320]\n",
      "Validation Epoch 42: 100%|██████████| 203/203 [00:01<00:00, 185.66it/s, loss=4.5630]\n"
     ]
    },
    {
     "name": "stdout",
     "output_type": "stream",
     "text": [
      "\n",
      "Epoch 42:\n",
      "Average Train Loss: 3.9205\n",
      "Average Val Loss: 3.9259\n"
     ]
    },
    {
     "name": "stderr",
     "output_type": "stream",
     "text": [
      "Training Epoch 43: 100%|██████████| 811/811 [00:09<00:00, 87.55it/s, loss=3.6428]\n",
      "Validation Epoch 43: 100%|██████████| 203/203 [00:01<00:00, 180.60it/s, loss=3.8957]\n"
     ]
    },
    {
     "name": "stdout",
     "output_type": "stream",
     "text": [
      "\n",
      "Epoch 43:\n",
      "Average Train Loss: 3.9033\n",
      "Average Val Loss: 3.8899\n"
     ]
    },
    {
     "name": "stderr",
     "output_type": "stream",
     "text": [
      "Training Epoch 44: 100%|██████████| 811/811 [00:09<00:00, 86.42it/s, loss=4.3599]\n",
      "Validation Epoch 44: 100%|██████████| 203/203 [00:01<00:00, 171.94it/s, loss=4.7393]\n"
     ]
    },
    {
     "name": "stdout",
     "output_type": "stream",
     "text": [
      "\n",
      "Epoch 44:\n",
      "Average Train Loss: 3.9246\n",
      "Average Val Loss: 3.9260\n"
     ]
    },
    {
     "name": "stderr",
     "output_type": "stream",
     "text": [
      "Training Epoch 45: 100%|██████████| 811/811 [00:09<00:00, 87.06it/s, loss=2.6593]\n",
      "Validation Epoch 45: 100%|██████████| 203/203 [00:01<00:00, 174.33it/s, loss=4.5525]\n"
     ]
    },
    {
     "name": "stdout",
     "output_type": "stream",
     "text": [
      "\n",
      "Epoch 45:\n",
      "Average Train Loss: 3.8944\n",
      "Average Val Loss: 3.9356\n"
     ]
    },
    {
     "name": "stderr",
     "output_type": "stream",
     "text": [
      "Training Epoch 46: 100%|██████████| 811/811 [00:08<00:00, 92.22it/s, loss=3.8107]\n",
      "Validation Epoch 46: 100%|██████████| 203/203 [00:01<00:00, 179.42it/s, loss=4.5150]\n"
     ]
    },
    {
     "name": "stdout",
     "output_type": "stream",
     "text": [
      "\n",
      "Epoch 46:\n",
      "Average Train Loss: 3.8988\n",
      "Average Val Loss: 3.8337\n"
     ]
    },
    {
     "name": "stderr",
     "output_type": "stream",
     "text": [
      "Training Epoch 47: 100%|██████████| 811/811 [00:09<00:00, 84.96it/s, loss=4.2676]\n",
      "Validation Epoch 47: 100%|██████████| 203/203 [00:01<00:00, 183.82it/s, loss=3.9347]\n"
     ]
    },
    {
     "name": "stdout",
     "output_type": "stream",
     "text": [
      "\n",
      "Epoch 47:\n",
      "Average Train Loss: 3.9036\n",
      "Average Val Loss: 3.9345\n"
     ]
    },
    {
     "name": "stderr",
     "output_type": "stream",
     "text": [
      "Training Epoch 48: 100%|██████████| 811/811 [00:09<00:00, 86.50it/s, loss=3.1866]\n",
      "Validation Epoch 48: 100%|██████████| 203/203 [00:01<00:00, 182.17it/s, loss=4.3543]\n"
     ]
    },
    {
     "name": "stdout",
     "output_type": "stream",
     "text": [
      "\n",
      "Epoch 48:\n",
      "Average Train Loss: 3.9005\n",
      "Average Val Loss: 3.9186\n"
     ]
    },
    {
     "name": "stderr",
     "output_type": "stream",
     "text": [
      "Training Epoch 49: 100%|██████████| 811/811 [00:09<00:00, 84.04it/s, loss=3.5579]\n",
      "Validation Epoch 49: 100%|██████████| 203/203 [00:01<00:00, 175.76it/s, loss=3.9203]\n"
     ]
    },
    {
     "name": "stdout",
     "output_type": "stream",
     "text": [
      "\n",
      "Epoch 49:\n",
      "Average Train Loss: 3.9186\n",
      "Average Val Loss: 3.8922\n"
     ]
    },
    {
     "name": "stderr",
     "output_type": "stream",
     "text": [
      "Training Epoch 50: 100%|██████████| 811/811 [00:08<00:00, 91.07it/s, loss=2.5710] \n",
      "Validation Epoch 50: 100%|██████████| 203/203 [00:01<00:00, 167.53it/s, loss=4.0429]\n"
     ]
    },
    {
     "name": "stdout",
     "output_type": "stream",
     "text": [
      "\n",
      "Epoch 50:\n",
      "Average Train Loss: 3.8932\n",
      "Average Val Loss: 3.9163\n"
     ]
    },
    {
     "name": "stderr",
     "output_type": "stream",
     "text": [
      "Training Epoch 51: 100%|██████████| 811/811 [00:09<00:00, 85.46it/s, loss=4.0356]\n",
      "Validation Epoch 51: 100%|██████████| 203/203 [00:01<00:00, 182.16it/s, loss=2.5163]\n"
     ]
    },
    {
     "name": "stdout",
     "output_type": "stream",
     "text": [
      "\n",
      "Epoch 51:\n",
      "Average Train Loss: 3.9010\n",
      "Average Val Loss: 3.8964\n"
     ]
    },
    {
     "name": "stderr",
     "output_type": "stream",
     "text": [
      "Training Epoch 52: 100%|██████████| 811/811 [00:09<00:00, 89.19it/s, loss=3.9170]\n",
      "Validation Epoch 52: 100%|██████████| 203/203 [00:01<00:00, 192.74it/s, loss=3.5739]\n"
     ]
    },
    {
     "name": "stdout",
     "output_type": "stream",
     "text": [
      "\n",
      "Epoch 52:\n",
      "Average Train Loss: 3.8919\n",
      "Average Val Loss: 3.9239\n"
     ]
    },
    {
     "name": "stderr",
     "output_type": "stream",
     "text": [
      "Training Epoch 53: 100%|██████████| 811/811 [00:09<00:00, 84.43it/s, loss=2.9033]\n",
      "Validation Epoch 53: 100%|██████████| 203/203 [00:01<00:00, 182.80it/s, loss=4.0419]\n"
     ]
    },
    {
     "name": "stdout",
     "output_type": "stream",
     "text": [
      "\n",
      "Epoch 53:\n",
      "Average Train Loss: 3.9194\n",
      "Average Val Loss: 3.8161\n"
     ]
    },
    {
     "name": "stderr",
     "output_type": "stream",
     "text": [
      "Training Epoch 54: 100%|██████████| 811/811 [00:09<00:00, 88.10it/s, loss=4.0546]\n",
      "Validation Epoch 54: 100%|██████████| 203/203 [00:01<00:00, 176.14it/s, loss=4.3462]\n"
     ]
    },
    {
     "name": "stdout",
     "output_type": "stream",
     "text": [
      "\n",
      "Epoch 54:\n",
      "Average Train Loss: 3.8943\n",
      "Average Val Loss: 3.9306\n"
     ]
    },
    {
     "name": "stderr",
     "output_type": "stream",
     "text": [
      "Training Epoch 55: 100%|██████████| 811/811 [00:09<00:00, 86.73it/s, loss=4.2266]\n",
      "Validation Epoch 55: 100%|██████████| 203/203 [00:01<00:00, 178.92it/s, loss=4.2701]\n"
     ]
    },
    {
     "name": "stdout",
     "output_type": "stream",
     "text": [
      "\n",
      "Epoch 55:\n",
      "Average Train Loss: 3.8916\n",
      "Average Val Loss: 3.8540\n"
     ]
    },
    {
     "name": "stderr",
     "output_type": "stream",
     "text": [
      "Training Epoch 56: 100%|██████████| 811/811 [00:09<00:00, 84.46it/s, loss=3.2312]\n",
      "Validation Epoch 56: 100%|██████████| 203/203 [00:01<00:00, 186.46it/s, loss=4.5985]\n"
     ]
    },
    {
     "name": "stdout",
     "output_type": "stream",
     "text": [
      "\n",
      "Epoch 56:\n",
      "Average Train Loss: 3.9040\n",
      "Average Val Loss: 3.9047\n"
     ]
    },
    {
     "name": "stderr",
     "output_type": "stream",
     "text": [
      "Training Epoch 57: 100%|██████████| 811/811 [00:09<00:00, 85.32it/s, loss=3.6109]\n",
      "Validation Epoch 57: 100%|██████████| 203/203 [00:01<00:00, 179.47it/s, loss=3.8103]\n"
     ]
    },
    {
     "name": "stdout",
     "output_type": "stream",
     "text": [
      "\n",
      "Epoch 57:\n",
      "Average Train Loss: 3.8833\n",
      "Average Val Loss: 3.8601\n"
     ]
    },
    {
     "name": "stderr",
     "output_type": "stream",
     "text": [
      "Training Epoch 58: 100%|██████████| 811/811 [00:09<00:00, 88.69it/s, loss=3.5467]\n",
      "Validation Epoch 58: 100%|██████████| 203/203 [00:01<00:00, 178.15it/s, loss=3.3173]\n"
     ]
    },
    {
     "name": "stdout",
     "output_type": "stream",
     "text": [
      "\n",
      "Epoch 58:\n",
      "Average Train Loss: 3.8904\n",
      "Average Val Loss: 3.9098\n"
     ]
    },
    {
     "name": "stderr",
     "output_type": "stream",
     "text": [
      "Training Epoch 59: 100%|██████████| 811/811 [00:09<00:00, 86.12it/s, loss=4.2245]\n",
      "Validation Epoch 59: 100%|██████████| 203/203 [00:01<00:00, 191.63it/s, loss=4.5439]\n"
     ]
    },
    {
     "name": "stdout",
     "output_type": "stream",
     "text": [
      "\n",
      "Epoch 59:\n",
      "Average Train Loss: 3.8841\n",
      "Average Val Loss: 3.9047\n"
     ]
    },
    {
     "name": "stderr",
     "output_type": "stream",
     "text": [
      "Training Epoch 60: 100%|██████████| 811/811 [00:09<00:00, 84.12it/s, loss=4.6928]\n",
      "Validation Epoch 60: 100%|██████████| 203/203 [00:01<00:00, 177.57it/s, loss=3.4514]\n"
     ]
    },
    {
     "name": "stdout",
     "output_type": "stream",
     "text": [
      "\n",
      "Epoch 60:\n",
      "Average Train Loss: 3.9061\n",
      "Average Val Loss: 3.9477\n"
     ]
    },
    {
     "name": "stderr",
     "output_type": "stream",
     "text": [
      "Training Epoch 61: 100%|██████████| 811/811 [00:09<00:00, 89.82it/s, loss=4.4948]\n",
      "Validation Epoch 61: 100%|██████████| 203/203 [00:01<00:00, 188.80it/s, loss=4.2227]\n"
     ]
    },
    {
     "name": "stdout",
     "output_type": "stream",
     "text": [
      "\n",
      "Epoch 61:\n",
      "Average Train Loss: 3.8692\n",
      "Average Val Loss: 3.9354\n"
     ]
    },
    {
     "name": "stderr",
     "output_type": "stream",
     "text": [
      "Training Epoch 62: 100%|██████████| 811/811 [00:08<00:00, 90.63it/s, loss=3.6872]\n",
      "Validation Epoch 62: 100%|██████████| 203/203 [00:01<00:00, 190.52it/s, loss=4.3225]\n"
     ]
    },
    {
     "name": "stdout",
     "output_type": "stream",
     "text": [
      "\n",
      "Epoch 62:\n",
      "Average Train Loss: 3.8892\n",
      "Average Val Loss: 3.8517\n"
     ]
    },
    {
     "name": "stderr",
     "output_type": "stream",
     "text": [
      "Training Epoch 63: 100%|██████████| 811/811 [00:09<00:00, 88.81it/s, loss=2.8877]\n",
      "Validation Epoch 63: 100%|██████████| 203/203 [00:01<00:00, 189.00it/s, loss=2.5867]\n"
     ]
    },
    {
     "name": "stdout",
     "output_type": "stream",
     "text": [
      "\n",
      "Epoch 63:\n",
      "Average Train Loss: 3.9208\n",
      "Average Val Loss: 3.9241\n"
     ]
    },
    {
     "name": "stderr",
     "output_type": "stream",
     "text": [
      "Training Epoch 64: 100%|██████████| 811/811 [00:09<00:00, 88.44it/s, loss=3.6943]\n",
      "Validation Epoch 64: 100%|██████████| 203/203 [00:01<00:00, 185.03it/s, loss=4.1638]\n"
     ]
    },
    {
     "name": "stdout",
     "output_type": "stream",
     "text": [
      "\n",
      "Epoch 64:\n",
      "Average Train Loss: 3.8746\n",
      "Average Val Loss: 3.8866\n"
     ]
    },
    {
     "name": "stderr",
     "output_type": "stream",
     "text": [
      "Training Epoch 65: 100%|██████████| 811/811 [00:09<00:00, 89.28it/s, loss=3.4134]\n",
      "Validation Epoch 65: 100%|██████████| 203/203 [00:01<00:00, 181.47it/s, loss=4.4142]\n"
     ]
    },
    {
     "name": "stdout",
     "output_type": "stream",
     "text": [
      "\n",
      "Epoch 65:\n",
      "Average Train Loss: 3.8591\n",
      "Average Val Loss: 3.9171\n"
     ]
    },
    {
     "name": "stderr",
     "output_type": "stream",
     "text": [
      "Training Epoch 66: 100%|██████████| 811/811 [00:09<00:00, 86.58it/s, loss=3.9758]\n",
      "Validation Epoch 66: 100%|██████████| 203/203 [00:01<00:00, 181.63it/s, loss=3.8197]\n"
     ]
    },
    {
     "name": "stdout",
     "output_type": "stream",
     "text": [
      "\n",
      "Epoch 66:\n",
      "Average Train Loss: 3.8897\n",
      "Average Val Loss: 3.8798\n"
     ]
    },
    {
     "name": "stderr",
     "output_type": "stream",
     "text": [
      "Training Epoch 67: 100%|██████████| 811/811 [00:09<00:00, 85.19it/s, loss=3.9192]\n",
      "Validation Epoch 67: 100%|██████████| 203/203 [00:01<00:00, 171.75it/s, loss=3.4297]\n"
     ]
    },
    {
     "name": "stdout",
     "output_type": "stream",
     "text": [
      "\n",
      "Epoch 67:\n",
      "Average Train Loss: 3.9055\n",
      "Average Val Loss: 3.9401\n"
     ]
    },
    {
     "name": "stderr",
     "output_type": "stream",
     "text": [
      "Training Epoch 68: 100%|██████████| 811/811 [00:09<00:00, 84.79it/s, loss=4.5533]\n",
      "Validation Epoch 68: 100%|██████████| 203/203 [00:01<00:00, 185.21it/s, loss=4.8121]\n"
     ]
    },
    {
     "name": "stdout",
     "output_type": "stream",
     "text": [
      "\n",
      "Epoch 68:\n",
      "Average Train Loss: 3.8865\n",
      "Average Val Loss: 3.8965\n"
     ]
    },
    {
     "name": "stderr",
     "output_type": "stream",
     "text": [
      "Training Epoch 69: 100%|██████████| 811/811 [00:09<00:00, 86.28it/s, loss=4.5256]\n",
      "Validation Epoch 69: 100%|██████████| 203/203 [00:01<00:00, 162.00it/s, loss=3.5583]\n"
     ]
    },
    {
     "name": "stdout",
     "output_type": "stream",
     "text": [
      "\n",
      "Epoch 69:\n",
      "Average Train Loss: 3.8926\n",
      "Average Val Loss: 3.9233\n"
     ]
    },
    {
     "name": "stderr",
     "output_type": "stream",
     "text": [
      "Training Epoch 70: 100%|██████████| 811/811 [00:09<00:00, 86.25it/s, loss=3.4832]\n",
      "Validation Epoch 70: 100%|██████████| 203/203 [00:01<00:00, 179.36it/s, loss=4.0845]\n"
     ]
    },
    {
     "name": "stdout",
     "output_type": "stream",
     "text": [
      "\n",
      "Epoch 70:\n",
      "Average Train Loss: 3.8835\n",
      "Average Val Loss: 3.8879\n"
     ]
    },
    {
     "name": "stderr",
     "output_type": "stream",
     "text": [
      "Training Epoch 71: 100%|██████████| 811/811 [00:09<00:00, 84.83it/s, loss=3.3919]\n",
      "Validation Epoch 71: 100%|██████████| 203/203 [00:01<00:00, 177.41it/s, loss=4.0268]\n"
     ]
    },
    {
     "name": "stdout",
     "output_type": "stream",
     "text": [
      "\n",
      "Epoch 71:\n",
      "Average Train Loss: 3.9137\n",
      "Average Val Loss: 3.9097\n"
     ]
    },
    {
     "name": "stderr",
     "output_type": "stream",
     "text": [
      "Training Epoch 72: 100%|██████████| 811/811 [00:09<00:00, 84.44it/s, loss=4.1288]\n",
      "Validation Epoch 72: 100%|██████████| 203/203 [00:01<00:00, 181.80it/s, loss=3.6985]\n"
     ]
    },
    {
     "name": "stdout",
     "output_type": "stream",
     "text": [
      "\n",
      "Epoch 72:\n",
      "Average Train Loss: 3.8618\n",
      "Average Val Loss: 3.9493\n"
     ]
    },
    {
     "name": "stderr",
     "output_type": "stream",
     "text": [
      "Training Epoch 73: 100%|██████████| 811/811 [00:09<00:00, 84.70it/s, loss=4.4484]\n",
      "Validation Epoch 73: 100%|██████████| 203/203 [00:01<00:00, 166.65it/s, loss=2.9787]\n"
     ]
    },
    {
     "name": "stdout",
     "output_type": "stream",
     "text": [
      "\n",
      "Epoch 73:\n",
      "Average Train Loss: 3.8960\n",
      "Average Val Loss: 3.9289\n"
     ]
    },
    {
     "name": "stderr",
     "output_type": "stream",
     "text": [
      "Training Epoch 74: 100%|██████████| 811/811 [00:09<00:00, 83.20it/s, loss=4.3215]\n",
      "Validation Epoch 74: 100%|██████████| 203/203 [00:01<00:00, 170.99it/s, loss=4.0098]\n"
     ]
    },
    {
     "name": "stdout",
     "output_type": "stream",
     "text": [
      "\n",
      "Epoch 74:\n",
      "Average Train Loss: 3.9057\n",
      "Average Val Loss: 3.9012\n"
     ]
    },
    {
     "name": "stderr",
     "output_type": "stream",
     "text": [
      "Training Epoch 75: 100%|██████████| 811/811 [00:09<00:00, 86.40it/s, loss=3.0002]\n",
      "Validation Epoch 75: 100%|██████████| 203/203 [00:01<00:00, 178.86it/s, loss=3.2082]\n"
     ]
    },
    {
     "name": "stdout",
     "output_type": "stream",
     "text": [
      "\n",
      "Epoch 75:\n",
      "Average Train Loss: 3.8913\n",
      "Average Val Loss: 3.9021\n"
     ]
    },
    {
     "name": "stderr",
     "output_type": "stream",
     "text": [
      "Training Epoch 76: 100%|██████████| 811/811 [00:09<00:00, 85.73it/s, loss=2.2476]\n",
      "Validation Epoch 76: 100%|██████████| 203/203 [00:01<00:00, 191.51it/s, loss=3.2200]\n"
     ]
    },
    {
     "name": "stdout",
     "output_type": "stream",
     "text": [
      "\n",
      "Epoch 76:\n",
      "Average Train Loss: 3.8965\n",
      "Average Val Loss: 3.8520\n"
     ]
    },
    {
     "name": "stderr",
     "output_type": "stream",
     "text": [
      "Training Epoch 77: 100%|██████████| 811/811 [00:09<00:00, 83.41it/s, loss=4.1010]\n",
      "Validation Epoch 77: 100%|██████████| 203/203 [00:01<00:00, 164.11it/s, loss=3.3872]\n"
     ]
    },
    {
     "name": "stdout",
     "output_type": "stream",
     "text": [
      "\n",
      "Epoch 77:\n",
      "Average Train Loss: 3.8663\n",
      "Average Val Loss: 3.8604\n"
     ]
    },
    {
     "name": "stderr",
     "output_type": "stream",
     "text": [
      "Training Epoch 78: 100%|██████████| 811/811 [00:10<00:00, 79.89it/s, loss=3.7008]\n",
      "Validation Epoch 78: 100%|██████████| 203/203 [00:01<00:00, 165.31it/s, loss=4.1191]\n"
     ]
    },
    {
     "name": "stdout",
     "output_type": "stream",
     "text": [
      "\n",
      "Epoch 78:\n",
      "Average Train Loss: 3.9275\n",
      "Average Val Loss: 3.8644\n"
     ]
    },
    {
     "name": "stderr",
     "output_type": "stream",
     "text": [
      "Training Epoch 79: 100%|██████████| 811/811 [00:09<00:00, 86.24it/s, loss=3.7859]\n",
      "Validation Epoch 79: 100%|██████████| 203/203 [00:01<00:00, 181.52it/s, loss=3.5963]\n"
     ]
    },
    {
     "name": "stdout",
     "output_type": "stream",
     "text": [
      "\n",
      "Epoch 79:\n",
      "Average Train Loss: 3.8638\n",
      "Average Val Loss: 3.8679\n"
     ]
    },
    {
     "name": "stderr",
     "output_type": "stream",
     "text": [
      "Training Epoch 80: 100%|██████████| 811/811 [00:09<00:00, 83.40it/s, loss=4.1959]\n",
      "Validation Epoch 80: 100%|██████████| 203/203 [00:01<00:00, 171.58it/s, loss=4.7762]\n"
     ]
    },
    {
     "name": "stdout",
     "output_type": "stream",
     "text": [
      "\n",
      "Epoch 80:\n",
      "Average Train Loss: 3.8892\n",
      "Average Val Loss: 3.8572\n"
     ]
    },
    {
     "name": "stderr",
     "output_type": "stream",
     "text": [
      "Training Epoch 81: 100%|██████████| 811/811 [00:09<00:00, 88.64it/s, loss=3.8666]\n",
      "Validation Epoch 81: 100%|██████████| 203/203 [00:01<00:00, 181.45it/s, loss=3.7513]\n"
     ]
    },
    {
     "name": "stdout",
     "output_type": "stream",
     "text": [
      "\n",
      "Epoch 81:\n",
      "Average Train Loss: 3.8655\n",
      "Average Val Loss: 3.9115\n"
     ]
    },
    {
     "name": "stderr",
     "output_type": "stream",
     "text": [
      "Training Epoch 82: 100%|██████████| 811/811 [00:09<00:00, 83.53it/s, loss=4.2613]\n",
      "Validation Epoch 82: 100%|██████████| 203/203 [00:01<00:00, 165.11it/s, loss=4.1944]\n"
     ]
    },
    {
     "name": "stdout",
     "output_type": "stream",
     "text": [
      "\n",
      "Epoch 82:\n",
      "Average Train Loss: 3.8973\n",
      "Average Val Loss: 3.9062\n"
     ]
    },
    {
     "name": "stderr",
     "output_type": "stream",
     "text": [
      "Training Epoch 83: 100%|██████████| 811/811 [00:09<00:00, 82.59it/s, loss=4.5656]\n",
      "Validation Epoch 83: 100%|██████████| 203/203 [00:01<00:00, 173.86it/s, loss=3.4200]\n"
     ]
    },
    {
     "name": "stdout",
     "output_type": "stream",
     "text": [
      "\n",
      "Epoch 83:\n",
      "Average Train Loss: 3.8586\n",
      "Average Val Loss: 3.9370\n"
     ]
    },
    {
     "name": "stderr",
     "output_type": "stream",
     "text": [
      "Training Epoch 84: 100%|██████████| 811/811 [00:09<00:00, 89.17it/s, loss=4.4991]\n",
      "Validation Epoch 84: 100%|██████████| 203/203 [00:01<00:00, 177.22it/s, loss=4.5344]\n"
     ]
    },
    {
     "name": "stdout",
     "output_type": "stream",
     "text": [
      "\n",
      "Epoch 84:\n",
      "Average Train Loss: 3.9232\n",
      "Average Val Loss: 3.8638\n"
     ]
    },
    {
     "name": "stderr",
     "output_type": "stream",
     "text": [
      "Training Epoch 85: 100%|██████████| 811/811 [00:10<00:00, 80.86it/s, loss=3.4020]\n",
      "Validation Epoch 85: 100%|██████████| 203/203 [00:01<00:00, 160.58it/s, loss=3.8478]\n"
     ]
    },
    {
     "name": "stdout",
     "output_type": "stream",
     "text": [
      "\n",
      "Epoch 85:\n",
      "Average Train Loss: 3.9231\n",
      "Average Val Loss: 3.8508\n"
     ]
    },
    {
     "name": "stderr",
     "output_type": "stream",
     "text": [
      "Training Epoch 86: 100%|██████████| 811/811 [00:09<00:00, 82.17it/s, loss=3.1828]\n",
      "Validation Epoch 86: 100%|██████████| 203/203 [00:01<00:00, 167.91it/s, loss=3.9768]\n"
     ]
    },
    {
     "name": "stdout",
     "output_type": "stream",
     "text": [
      "\n",
      "Epoch 86:\n",
      "Average Train Loss: 3.9271\n",
      "Average Val Loss: 3.8546\n"
     ]
    },
    {
     "name": "stderr",
     "output_type": "stream",
     "text": [
      "Training Epoch 87: 100%|██████████| 811/811 [00:09<00:00, 84.32it/s, loss=4.6608]\n",
      "Validation Epoch 87: 100%|██████████| 203/203 [00:01<00:00, 170.74it/s, loss=4.5427]\n"
     ]
    },
    {
     "name": "stdout",
     "output_type": "stream",
     "text": [
      "\n",
      "Epoch 87:\n",
      "Average Train Loss: 3.8945\n",
      "Average Val Loss: 3.9002\n"
     ]
    },
    {
     "name": "stderr",
     "output_type": "stream",
     "text": [
      "Training Epoch 88: 100%|██████████| 811/811 [00:09<00:00, 87.50it/s, loss=3.6510]\n",
      "Validation Epoch 88: 100%|██████████| 203/203 [00:01<00:00, 182.96it/s, loss=3.9340]\n"
     ]
    },
    {
     "name": "stdout",
     "output_type": "stream",
     "text": [
      "\n",
      "Epoch 88:\n",
      "Average Train Loss: 3.9002\n",
      "Average Val Loss: 3.9090\n"
     ]
    },
    {
     "name": "stderr",
     "output_type": "stream",
     "text": [
      "Training Epoch 89: 100%|██████████| 811/811 [00:09<00:00, 85.73it/s, loss=2.5100]\n",
      "Validation Epoch 89: 100%|██████████| 203/203 [00:01<00:00, 173.15it/s, loss=4.3047]\n"
     ]
    },
    {
     "name": "stdout",
     "output_type": "stream",
     "text": [
      "\n",
      "Epoch 89:\n",
      "Average Train Loss: 3.8830\n",
      "Average Val Loss: 3.8768\n"
     ]
    },
    {
     "name": "stderr",
     "output_type": "stream",
     "text": [
      "Training Epoch 90: 100%|██████████| 811/811 [00:09<00:00, 89.25it/s, loss=4.2248]\n",
      "Validation Epoch 90: 100%|██████████| 203/203 [00:01<00:00, 185.13it/s, loss=4.5674]\n"
     ]
    },
    {
     "name": "stdout",
     "output_type": "stream",
     "text": [
      "\n",
      "Epoch 90:\n",
      "Average Train Loss: 3.9052\n",
      "Average Val Loss: 3.8936\n"
     ]
    },
    {
     "name": "stderr",
     "output_type": "stream",
     "text": [
      "Training Epoch 91: 100%|██████████| 811/811 [00:09<00:00, 83.26it/s, loss=3.7549]\n",
      "Validation Epoch 91: 100%|██████████| 203/203 [00:01<00:00, 182.79it/s, loss=4.5890]\n"
     ]
    },
    {
     "name": "stdout",
     "output_type": "stream",
     "text": [
      "\n",
      "Epoch 91:\n",
      "Average Train Loss: 3.8934\n",
      "Average Val Loss: 3.8326\n"
     ]
    },
    {
     "name": "stderr",
     "output_type": "stream",
     "text": [
      "Training Epoch 92: 100%|██████████| 811/811 [00:09<00:00, 85.27it/s, loss=3.7391]\n",
      "Validation Epoch 92: 100%|██████████| 203/203 [00:01<00:00, 166.60it/s, loss=4.4114]\n"
     ]
    },
    {
     "name": "stdout",
     "output_type": "stream",
     "text": [
      "\n",
      "Epoch 92:\n",
      "Average Train Loss: 3.8562\n",
      "Average Val Loss: 3.9349\n"
     ]
    },
    {
     "name": "stderr",
     "output_type": "stream",
     "text": [
      "Training Epoch 93: 100%|██████████| 811/811 [00:09<00:00, 84.85it/s, loss=2.9209]\n",
      "Validation Epoch 93: 100%|██████████| 203/203 [00:01<00:00, 172.11it/s, loss=3.9502]\n"
     ]
    },
    {
     "name": "stdout",
     "output_type": "stream",
     "text": [
      "\n",
      "Epoch 93:\n",
      "Average Train Loss: 3.8709\n",
      "Average Val Loss: 3.9140\n"
     ]
    },
    {
     "name": "stderr",
     "output_type": "stream",
     "text": [
      "Training Epoch 94: 100%|██████████| 811/811 [00:09<00:00, 82.58it/s, loss=3.0367]\n",
      "Validation Epoch 94: 100%|██████████| 203/203 [00:01<00:00, 173.35it/s, loss=4.2129]\n"
     ]
    },
    {
     "name": "stdout",
     "output_type": "stream",
     "text": [
      "\n",
      "Epoch 94:\n",
      "Average Train Loss: 3.8908\n",
      "Average Val Loss: 3.9323\n"
     ]
    },
    {
     "name": "stderr",
     "output_type": "stream",
     "text": [
      "Training Epoch 95: 100%|██████████| 811/811 [00:09<00:00, 83.32it/s, loss=4.1359]\n",
      "Validation Epoch 95: 100%|██████████| 203/203 [00:01<00:00, 166.14it/s, loss=4.6475]\n"
     ]
    },
    {
     "name": "stdout",
     "output_type": "stream",
     "text": [
      "\n",
      "Epoch 95:\n",
      "Average Train Loss: 3.8971\n",
      "Average Val Loss: 3.8847\n"
     ]
    },
    {
     "name": "stderr",
     "output_type": "stream",
     "text": [
      "Training Epoch 96: 100%|██████████| 811/811 [00:09<00:00, 84.50it/s, loss=3.7654]\n",
      "Validation Epoch 96: 100%|██████████| 203/203 [00:01<00:00, 170.74it/s, loss=3.8270]\n"
     ]
    },
    {
     "name": "stdout",
     "output_type": "stream",
     "text": [
      "\n",
      "Epoch 96:\n",
      "Average Train Loss: 3.8796\n",
      "Average Val Loss: 3.9292\n"
     ]
    },
    {
     "name": "stderr",
     "output_type": "stream",
     "text": [
      "Training Epoch 97: 100%|██████████| 811/811 [00:09<00:00, 84.89it/s, loss=3.3250]\n",
      "Validation Epoch 97: 100%|██████████| 203/203 [00:01<00:00, 176.67it/s, loss=4.3858]\n"
     ]
    },
    {
     "name": "stdout",
     "output_type": "stream",
     "text": [
      "\n",
      "Epoch 97:\n",
      "Average Train Loss: 3.9282\n",
      "Average Val Loss: 3.9076\n"
     ]
    },
    {
     "name": "stderr",
     "output_type": "stream",
     "text": [
      "Training Epoch 98: 100%|██████████| 811/811 [00:09<00:00, 88.35it/s, loss=3.7346]\n",
      "Validation Epoch 98: 100%|██████████| 203/203 [00:01<00:00, 179.36it/s, loss=3.0233]\n"
     ]
    },
    {
     "name": "stdout",
     "output_type": "stream",
     "text": [
      "\n",
      "Epoch 98:\n",
      "Average Train Loss: 3.8701\n",
      "Average Val Loss: 3.9153\n"
     ]
    },
    {
     "name": "stderr",
     "output_type": "stream",
     "text": [
      "Training Epoch 99: 100%|██████████| 811/811 [00:09<00:00, 86.97it/s, loss=4.3688]\n",
      "Validation Epoch 99: 100%|██████████| 203/203 [00:01<00:00, 165.42it/s, loss=4.4931]\n"
     ]
    },
    {
     "name": "stdout",
     "output_type": "stream",
     "text": [
      "\n",
      "Epoch 99:\n",
      "Average Train Loss: 3.8999\n",
      "Average Val Loss: 3.8173\n"
     ]
    },
    {
     "name": "stderr",
     "output_type": "stream",
     "text": [
      "Training Epoch 100: 100%|██████████| 811/811 [00:09<00:00, 86.96it/s, loss=4.0811]\n",
      "Validation Epoch 100: 100%|██████████| 203/203 [00:01<00:00, 159.23it/s, loss=3.7978]\n"
     ]
    },
    {
     "name": "stdout",
     "output_type": "stream",
     "text": [
      "\n",
      "Epoch 100:\n",
      "Average Train Loss: 3.9149\n",
      "Average Val Loss: 3.9207\n"
     ]
    },
    {
     "name": "stderr",
     "output_type": "stream",
     "text": [
      "Training Epoch 101: 100%|██████████| 811/811 [00:09<00:00, 85.95it/s, loss=4.2394]\n",
      "Validation Epoch 101: 100%|██████████| 203/203 [00:01<00:00, 175.39it/s, loss=4.8441]\n"
     ]
    },
    {
     "name": "stdout",
     "output_type": "stream",
     "text": [
      "\n",
      "Epoch 101:\n",
      "Average Train Loss: 3.8787\n",
      "Average Val Loss: 3.8660\n"
     ]
    },
    {
     "name": "stderr",
     "output_type": "stream",
     "text": [
      "Training Epoch 102: 100%|██████████| 811/811 [00:09<00:00, 86.05it/s, loss=3.7818]\n",
      "Validation Epoch 102: 100%|██████████| 203/203 [00:01<00:00, 184.79it/s, loss=2.5103]\n"
     ]
    },
    {
     "name": "stdout",
     "output_type": "stream",
     "text": [
      "\n",
      "Epoch 102:\n",
      "Average Train Loss: 3.9210\n",
      "Average Val Loss: 3.9023\n"
     ]
    },
    {
     "name": "stderr",
     "output_type": "stream",
     "text": [
      "Training Epoch 103: 100%|██████████| 811/811 [00:09<00:00, 85.79it/s, loss=4.1247]\n",
      "Validation Epoch 103: 100%|██████████| 203/203 [00:01<00:00, 177.17it/s, loss=4.4548]\n"
     ]
    },
    {
     "name": "stdout",
     "output_type": "stream",
     "text": [
      "\n",
      "Epoch 103:\n",
      "Average Train Loss: 3.9028\n",
      "Average Val Loss: 3.9149\n"
     ]
    },
    {
     "name": "stderr",
     "output_type": "stream",
     "text": [
      "Training Epoch 104: 100%|██████████| 811/811 [00:08<00:00, 90.64it/s, loss=4.2043]\n",
      "Validation Epoch 104: 100%|██████████| 203/203 [00:01<00:00, 174.46it/s, loss=3.5419]\n"
     ]
    },
    {
     "name": "stdout",
     "output_type": "stream",
     "text": [
      "\n",
      "Epoch 104:\n",
      "Average Train Loss: 3.8896\n",
      "Average Val Loss: 3.8218\n"
     ]
    },
    {
     "name": "stderr",
     "output_type": "stream",
     "text": [
      "Training Epoch 105: 100%|██████████| 811/811 [00:09<00:00, 85.03it/s, loss=3.9434]\n",
      "Validation Epoch 105: 100%|██████████| 203/203 [00:01<00:00, 171.61it/s, loss=4.5806]\n"
     ]
    },
    {
     "name": "stdout",
     "output_type": "stream",
     "text": [
      "\n",
      "Epoch 105:\n",
      "Average Train Loss: 3.8531\n",
      "Average Val Loss: 3.8456\n"
     ]
    },
    {
     "name": "stderr",
     "output_type": "stream",
     "text": [
      "Training Epoch 106: 100%|██████████| 811/811 [00:09<00:00, 87.38it/s, loss=3.6050]\n",
      "Validation Epoch 106: 100%|██████████| 203/203 [00:01<00:00, 182.33it/s, loss=4.4872]\n"
     ]
    },
    {
     "name": "stdout",
     "output_type": "stream",
     "text": [
      "\n",
      "Epoch 106:\n",
      "Average Train Loss: 3.8623\n",
      "Average Val Loss: 3.9041\n"
     ]
    },
    {
     "name": "stderr",
     "output_type": "stream",
     "text": [
      "Training Epoch 107: 100%|██████████| 811/811 [00:09<00:00, 82.42it/s, loss=4.5887]\n",
      "Validation Epoch 107: 100%|██████████| 203/203 [00:01<00:00, 177.87it/s, loss=4.5606]\n"
     ]
    },
    {
     "name": "stdout",
     "output_type": "stream",
     "text": [
      "\n",
      "Epoch 107:\n",
      "Average Train Loss: 3.8954\n",
      "Average Val Loss: 3.8216\n"
     ]
    },
    {
     "name": "stderr",
     "output_type": "stream",
     "text": [
      "Training Epoch 108: 100%|██████████| 811/811 [00:09<00:00, 82.31it/s, loss=3.8788]\n",
      "Validation Epoch 108: 100%|██████████| 203/203 [00:01<00:00, 165.54it/s, loss=3.7677]\n"
     ]
    },
    {
     "name": "stdout",
     "output_type": "stream",
     "text": [
      "\n",
      "Epoch 108:\n",
      "Average Train Loss: 3.8894\n",
      "Average Val Loss: 3.9366\n"
     ]
    },
    {
     "name": "stderr",
     "output_type": "stream",
     "text": [
      "Training Epoch 109: 100%|██████████| 811/811 [00:09<00:00, 81.34it/s, loss=4.7006]\n",
      "Validation Epoch 109: 100%|██████████| 203/203 [00:01<00:00, 173.85it/s, loss=3.2328]\n"
     ]
    },
    {
     "name": "stdout",
     "output_type": "stream",
     "text": [
      "\n",
      "Epoch 109:\n",
      "Average Train Loss: 3.8753\n",
      "Average Val Loss: 3.8517\n"
     ]
    },
    {
     "name": "stderr",
     "output_type": "stream",
     "text": [
      "Training Epoch 110: 100%|██████████| 811/811 [00:09<00:00, 86.09it/s, loss=3.0678]\n",
      "Validation Epoch 110: 100%|██████████| 203/203 [00:01<00:00, 194.47it/s, loss=3.9207]\n"
     ]
    },
    {
     "name": "stdout",
     "output_type": "stream",
     "text": [
      "\n",
      "Epoch 110:\n",
      "Average Train Loss: 3.9079\n",
      "Average Val Loss: 3.9327\n"
     ]
    },
    {
     "name": "stderr",
     "output_type": "stream",
     "text": [
      "Training Epoch 111: 100%|██████████| 811/811 [00:09<00:00, 83.62it/s, loss=4.8120]\n",
      "Validation Epoch 111: 100%|██████████| 203/203 [00:01<00:00, 175.01it/s, loss=4.4415]\n"
     ]
    },
    {
     "name": "stdout",
     "output_type": "stream",
     "text": [
      "\n",
      "Epoch 111:\n",
      "Average Train Loss: 3.8734\n",
      "Average Val Loss: 3.8844\n"
     ]
    },
    {
     "name": "stderr",
     "output_type": "stream",
     "text": [
      "Training Epoch 112: 100%|██████████| 811/811 [00:09<00:00, 82.76it/s, loss=4.2076]\n",
      "Validation Epoch 112: 100%|██████████| 203/203 [00:01<00:00, 166.26it/s, loss=3.7629]\n"
     ]
    },
    {
     "name": "stdout",
     "output_type": "stream",
     "text": [
      "\n",
      "Epoch 112:\n",
      "Average Train Loss: 3.9113\n",
      "Average Val Loss: 3.8725\n"
     ]
    },
    {
     "name": "stderr",
     "output_type": "stream",
     "text": [
      "Training Epoch 113: 100%|██████████| 811/811 [00:09<00:00, 82.51it/s, loss=3.5451]\n",
      "Validation Epoch 113: 100%|██████████| 203/203 [00:01<00:00, 168.89it/s, loss=4.1247]\n"
     ]
    },
    {
     "name": "stdout",
     "output_type": "stream",
     "text": [
      "\n",
      "Epoch 113:\n",
      "Average Train Loss: 3.8620\n",
      "Average Val Loss: 3.8733\n"
     ]
    },
    {
     "name": "stderr",
     "output_type": "stream",
     "text": [
      "Training Epoch 114: 100%|██████████| 811/811 [00:09<00:00, 83.58it/s, loss=3.0635]\n",
      "Validation Epoch 114: 100%|██████████| 203/203 [00:01<00:00, 179.87it/s, loss=4.0921]\n"
     ]
    },
    {
     "name": "stdout",
     "output_type": "stream",
     "text": [
      "\n",
      "Epoch 114:\n",
      "Average Train Loss: 3.8941\n",
      "Average Val Loss: 3.8470\n"
     ]
    },
    {
     "name": "stderr",
     "output_type": "stream",
     "text": [
      "Training Epoch 115: 100%|██████████| 811/811 [00:09<00:00, 85.27it/s, loss=4.2663]\n",
      "Validation Epoch 115: 100%|██████████| 203/203 [00:01<00:00, 171.29it/s, loss=4.2101]\n"
     ]
    },
    {
     "name": "stdout",
     "output_type": "stream",
     "text": [
      "\n",
      "Epoch 115:\n",
      "Average Train Loss: 3.8948\n",
      "Average Val Loss: 3.9038\n"
     ]
    },
    {
     "name": "stderr",
     "output_type": "stream",
     "text": [
      "Training Epoch 116: 100%|██████████| 811/811 [00:09<00:00, 85.21it/s, loss=3.8827]\n",
      "Validation Epoch 116: 100%|██████████| 203/203 [00:01<00:00, 168.37it/s, loss=4.6774]\n"
     ]
    },
    {
     "name": "stdout",
     "output_type": "stream",
     "text": [
      "\n",
      "Epoch 116:\n",
      "Average Train Loss: 3.9102\n",
      "Average Val Loss: 3.8893\n"
     ]
    },
    {
     "name": "stderr",
     "output_type": "stream",
     "text": [
      "Training Epoch 117: 100%|██████████| 811/811 [00:09<00:00, 87.66it/s, loss=3.5538]\n",
      "Validation Epoch 117: 100%|██████████| 203/203 [00:01<00:00, 156.91it/s, loss=3.9665]\n"
     ]
    },
    {
     "name": "stdout",
     "output_type": "stream",
     "text": [
      "\n",
      "Epoch 117:\n",
      "Average Train Loss: 3.9308\n",
      "Average Val Loss: 3.8886\n"
     ]
    },
    {
     "name": "stderr",
     "output_type": "stream",
     "text": [
      "Training Epoch 118: 100%|██████████| 811/811 [00:09<00:00, 84.72it/s, loss=2.9741]\n",
      "Validation Epoch 118: 100%|██████████| 203/203 [00:01<00:00, 174.76it/s, loss=4.0026]\n"
     ]
    },
    {
     "name": "stdout",
     "output_type": "stream",
     "text": [
      "\n",
      "Epoch 118:\n",
      "Average Train Loss: 3.8902\n",
      "Average Val Loss: 3.8454\n"
     ]
    },
    {
     "name": "stderr",
     "output_type": "stream",
     "text": [
      "Training Epoch 119: 100%|██████████| 811/811 [00:09<00:00, 86.12it/s, loss=3.4289]\n",
      "Validation Epoch 119: 100%|██████████| 203/203 [00:01<00:00, 163.11it/s, loss=4.3281]\n"
     ]
    },
    {
     "name": "stdout",
     "output_type": "stream",
     "text": [
      "\n",
      "Epoch 119:\n",
      "Average Train Loss: 3.9015\n",
      "Average Val Loss: 3.8753\n"
     ]
    },
    {
     "name": "stderr",
     "output_type": "stream",
     "text": [
      "Training Epoch 120: 100%|██████████| 811/811 [00:09<00:00, 84.24it/s, loss=4.2834]\n",
      "Validation Epoch 120: 100%|██████████| 203/203 [00:01<00:00, 186.28it/s, loss=2.9428]\n"
     ]
    },
    {
     "name": "stdout",
     "output_type": "stream",
     "text": [
      "\n",
      "Epoch 120:\n",
      "Average Train Loss: 3.8829\n",
      "Average Val Loss: 3.8512\n"
     ]
    },
    {
     "name": "stderr",
     "output_type": "stream",
     "text": [
      "Training Epoch 121: 100%|██████████| 811/811 [00:09<00:00, 85.15it/s, loss=4.1916]\n",
      "Validation Epoch 121: 100%|██████████| 203/203 [00:01<00:00, 170.10it/s, loss=4.3661]\n"
     ]
    },
    {
     "name": "stdout",
     "output_type": "stream",
     "text": [
      "\n",
      "Epoch 121:\n",
      "Average Train Loss: 3.8935\n",
      "Average Val Loss: 3.9162\n"
     ]
    },
    {
     "name": "stderr",
     "output_type": "stream",
     "text": [
      "Training Epoch 122: 100%|██████████| 811/811 [00:09<00:00, 82.85it/s, loss=3.3719]\n",
      "Validation Epoch 122: 100%|██████████| 203/203 [00:01<00:00, 185.78it/s, loss=3.6027]\n"
     ]
    },
    {
     "name": "stdout",
     "output_type": "stream",
     "text": [
      "\n",
      "Epoch 122:\n",
      "Average Train Loss: 3.9097\n",
      "Average Val Loss: 3.9419\n"
     ]
    },
    {
     "name": "stderr",
     "output_type": "stream",
     "text": [
      "Training Epoch 123: 100%|██████████| 811/811 [00:09<00:00, 88.47it/s, loss=4.4149]\n",
      "Validation Epoch 123: 100%|██████████| 203/203 [00:01<00:00, 182.69it/s, loss=3.7494]\n"
     ]
    },
    {
     "name": "stdout",
     "output_type": "stream",
     "text": [
      "\n",
      "Epoch 123:\n",
      "Average Train Loss: 3.8769\n",
      "Average Val Loss: 3.7832\n"
     ]
    },
    {
     "name": "stderr",
     "output_type": "stream",
     "text": [
      "Training Epoch 124: 100%|██████████| 811/811 [00:09<00:00, 85.52it/s, loss=3.4949]\n",
      "Validation Epoch 124: 100%|██████████| 203/203 [00:01<00:00, 177.27it/s, loss=3.2082]\n"
     ]
    },
    {
     "name": "stdout",
     "output_type": "stream",
     "text": [
      "\n",
      "Epoch 124:\n",
      "Average Train Loss: 3.9140\n",
      "Average Val Loss: 3.8122\n"
     ]
    },
    {
     "name": "stderr",
     "output_type": "stream",
     "text": [
      "Training Epoch 125: 100%|██████████| 811/811 [00:09<00:00, 88.10it/s, loss=4.1082]\n",
      "Validation Epoch 125: 100%|██████████| 203/203 [00:01<00:00, 191.14it/s, loss=3.2707]\n"
     ]
    },
    {
     "name": "stdout",
     "output_type": "stream",
     "text": [
      "\n",
      "Epoch 125:\n",
      "Average Train Loss: 3.9011\n",
      "Average Val Loss: 3.9148\n"
     ]
    },
    {
     "name": "stderr",
     "output_type": "stream",
     "text": [
      "Training Epoch 126: 100%|██████████| 811/811 [00:09<00:00, 87.45it/s, loss=4.4757]\n",
      "Validation Epoch 126: 100%|██████████| 203/203 [00:01<00:00, 189.51it/s, loss=4.0237]\n"
     ]
    },
    {
     "name": "stdout",
     "output_type": "stream",
     "text": [
      "\n",
      "Epoch 126:\n",
      "Average Train Loss: 3.8922\n",
      "Average Val Loss: 3.8769\n"
     ]
    },
    {
     "name": "stderr",
     "output_type": "stream",
     "text": [
      "Training Epoch 127: 100%|██████████| 811/811 [00:08<00:00, 91.88it/s, loss=3.6050]\n",
      "Validation Epoch 127: 100%|██████████| 203/203 [00:01<00:00, 193.48it/s, loss=4.5796]\n"
     ]
    },
    {
     "name": "stdout",
     "output_type": "stream",
     "text": [
      "\n",
      "Epoch 127:\n",
      "Average Train Loss: 3.8805\n",
      "Average Val Loss: 3.9332\n"
     ]
    },
    {
     "name": "stderr",
     "output_type": "stream",
     "text": [
      "Training Epoch 128: 100%|██████████| 811/811 [00:08<00:00, 91.27it/s, loss=4.3615]\n",
      "Validation Epoch 128: 100%|██████████| 203/203 [00:01<00:00, 185.97it/s, loss=3.7270]\n"
     ]
    },
    {
     "name": "stdout",
     "output_type": "stream",
     "text": [
      "\n",
      "Epoch 128:\n",
      "Average Train Loss: 3.8474\n",
      "Average Val Loss: 3.8941\n"
     ]
    },
    {
     "name": "stderr",
     "output_type": "stream",
     "text": [
      "Training Epoch 129: 100%|██████████| 811/811 [00:08<00:00, 94.48it/s, loss=4.0510]\n",
      "Validation Epoch 129: 100%|██████████| 203/203 [00:01<00:00, 191.04it/s, loss=4.2567]\n"
     ]
    },
    {
     "name": "stdout",
     "output_type": "stream",
     "text": [
      "\n",
      "Epoch 129:\n",
      "Average Train Loss: 3.8698\n",
      "Average Val Loss: 3.8920\n"
     ]
    },
    {
     "name": "stderr",
     "output_type": "stream",
     "text": [
      "Training Epoch 130: 100%|██████████| 811/811 [00:10<00:00, 75.57it/s, loss=3.6325]\n",
      "Validation Epoch 130: 100%|██████████| 203/203 [00:01<00:00, 196.07it/s, loss=3.9825]\n"
     ]
    },
    {
     "name": "stdout",
     "output_type": "stream",
     "text": [
      "\n",
      "Epoch 130:\n",
      "Average Train Loss: 3.8956\n",
      "Average Val Loss: 3.8497\n"
     ]
    },
    {
     "name": "stderr",
     "output_type": "stream",
     "text": [
      "Training Epoch 131: 100%|██████████| 811/811 [00:08<00:00, 92.98it/s, loss=4.2394]\n",
      "Validation Epoch 131: 100%|██████████| 203/203 [00:01<00:00, 198.54it/s, loss=3.5378]\n"
     ]
    },
    {
     "name": "stdout",
     "output_type": "stream",
     "text": [
      "\n",
      "Epoch 131:\n",
      "Average Train Loss: 3.8757\n",
      "Average Val Loss: 3.9284\n"
     ]
    },
    {
     "name": "stderr",
     "output_type": "stream",
     "text": [
      "Training Epoch 132: 100%|██████████| 811/811 [00:08<00:00, 96.24it/s, loss=3.6065]\n",
      "Validation Epoch 132: 100%|██████████| 203/203 [00:00<00:00, 203.80it/s, loss=3.8159]\n"
     ]
    },
    {
     "name": "stdout",
     "output_type": "stream",
     "text": [
      "\n",
      "Epoch 132:\n",
      "Average Train Loss: 3.8584\n",
      "Average Val Loss: 3.8562\n"
     ]
    },
    {
     "name": "stderr",
     "output_type": "stream",
     "text": [
      "Training Epoch 133: 100%|██████████| 811/811 [00:08<00:00, 92.99it/s, loss=4.3656] \n",
      "Validation Epoch 133: 100%|██████████| 203/203 [00:01<00:00, 172.42it/s, loss=4.2338]\n"
     ]
    },
    {
     "name": "stdout",
     "output_type": "stream",
     "text": [
      "\n",
      "Epoch 133:\n",
      "Average Train Loss: 3.9038\n",
      "Average Val Loss: 3.8918\n"
     ]
    },
    {
     "name": "stderr",
     "output_type": "stream",
     "text": [
      "Training Epoch 134: 100%|██████████| 811/811 [00:09<00:00, 87.29it/s, loss=4.5881]\n",
      "Validation Epoch 134: 100%|██████████| 203/203 [00:01<00:00, 185.31it/s, loss=4.0936]\n"
     ]
    },
    {
     "name": "stdout",
     "output_type": "stream",
     "text": [
      "\n",
      "Epoch 134:\n",
      "Average Train Loss: 3.9074\n",
      "Average Val Loss: 3.8973\n"
     ]
    },
    {
     "name": "stderr",
     "output_type": "stream",
     "text": [
      "Training Epoch 135: 100%|██████████| 811/811 [00:09<00:00, 86.02it/s, loss=4.5291]\n",
      "Validation Epoch 135: 100%|██████████| 203/203 [00:01<00:00, 190.90it/s, loss=3.1138]\n"
     ]
    },
    {
     "name": "stdout",
     "output_type": "stream",
     "text": [
      "\n",
      "Epoch 135:\n",
      "Average Train Loss: 3.9070\n",
      "Average Val Loss: 3.8533\n"
     ]
    },
    {
     "name": "stderr",
     "output_type": "stream",
     "text": [
      "Training Epoch 136: 100%|██████████| 811/811 [00:09<00:00, 89.71it/s, loss=4.8069]\n",
      "Validation Epoch 136: 100%|██████████| 203/203 [00:01<00:00, 181.56it/s, loss=3.4907]\n"
     ]
    },
    {
     "name": "stdout",
     "output_type": "stream",
     "text": [
      "\n",
      "Epoch 136:\n",
      "Average Train Loss: 3.8844\n",
      "Average Val Loss: 3.8822\n"
     ]
    },
    {
     "name": "stderr",
     "output_type": "stream",
     "text": [
      "Training Epoch 137: 100%|██████████| 811/811 [00:09<00:00, 86.05it/s, loss=4.0082]\n",
      "Validation Epoch 137: 100%|██████████| 203/203 [00:01<00:00, 182.05it/s, loss=3.9025]\n"
     ]
    },
    {
     "name": "stdout",
     "output_type": "stream",
     "text": [
      "\n",
      "Epoch 137:\n",
      "Average Train Loss: 3.8728\n",
      "Average Val Loss: 3.8519\n"
     ]
    },
    {
     "name": "stderr",
     "output_type": "stream",
     "text": [
      "Training Epoch 138: 100%|██████████| 811/811 [00:09<00:00, 84.47it/s, loss=4.5192]\n",
      "Validation Epoch 138: 100%|██████████| 203/203 [00:01<00:00, 179.10it/s, loss=3.3086]\n"
     ]
    },
    {
     "name": "stdout",
     "output_type": "stream",
     "text": [
      "\n",
      "Epoch 138:\n",
      "Average Train Loss: 3.9073\n",
      "Average Val Loss: 3.8166\n"
     ]
    },
    {
     "name": "stderr",
     "output_type": "stream",
     "text": [
      "Training Epoch 139: 100%|██████████| 811/811 [00:09<00:00, 83.50it/s, loss=4.5505]\n",
      "Validation Epoch 139: 100%|██████████| 203/203 [00:01<00:00, 176.27it/s, loss=4.1006]\n"
     ]
    },
    {
     "name": "stdout",
     "output_type": "stream",
     "text": [
      "\n",
      "Epoch 139:\n",
      "Average Train Loss: 3.9078\n",
      "Average Val Loss: 3.7933\n"
     ]
    },
    {
     "name": "stderr",
     "output_type": "stream",
     "text": [
      "Training Epoch 140: 100%|██████████| 811/811 [00:09<00:00, 86.52it/s, loss=4.2055]\n",
      "Validation Epoch 140: 100%|██████████| 203/203 [00:01<00:00, 187.11it/s, loss=3.3641]\n"
     ]
    },
    {
     "name": "stdout",
     "output_type": "stream",
     "text": [
      "\n",
      "Epoch 140:\n",
      "Average Train Loss: 3.8765\n",
      "Average Val Loss: 3.8564\n"
     ]
    },
    {
     "name": "stderr",
     "output_type": "stream",
     "text": [
      "Training Epoch 141: 100%|██████████| 811/811 [00:09<00:00, 90.00it/s, loss=3.3835]\n",
      "Validation Epoch 141: 100%|██████████| 203/203 [00:01<00:00, 189.46it/s, loss=3.0685]\n"
     ]
    },
    {
     "name": "stdout",
     "output_type": "stream",
     "text": [
      "\n",
      "Epoch 141:\n",
      "Average Train Loss: 3.8738\n",
      "Average Val Loss: 3.8633\n"
     ]
    },
    {
     "name": "stderr",
     "output_type": "stream",
     "text": [
      "Training Epoch 142: 100%|██████████| 811/811 [00:09<00:00, 89.26it/s, loss=2.9955]\n",
      "Validation Epoch 142: 100%|██████████| 203/203 [00:01<00:00, 189.84it/s, loss=4.6070]\n"
     ]
    },
    {
     "name": "stdout",
     "output_type": "stream",
     "text": [
      "\n",
      "Epoch 142:\n",
      "Average Train Loss: 3.8889\n",
      "Average Val Loss: 3.9402\n"
     ]
    },
    {
     "name": "stderr",
     "output_type": "stream",
     "text": [
      "Training Epoch 143: 100%|██████████| 811/811 [00:09<00:00, 86.69it/s, loss=3.5737]\n",
      "Validation Epoch 143: 100%|██████████| 203/203 [00:01<00:00, 190.38it/s, loss=4.5147]\n"
     ]
    },
    {
     "name": "stdout",
     "output_type": "stream",
     "text": [
      "\n",
      "Epoch 143:\n",
      "Average Train Loss: 3.8568\n",
      "Average Val Loss: 3.7923\n"
     ]
    },
    {
     "name": "stderr",
     "output_type": "stream",
     "text": [
      "Training Epoch 144: 100%|██████████| 811/811 [00:09<00:00, 87.16it/s, loss=3.8936]\n",
      "Validation Epoch 144: 100%|██████████| 203/203 [00:01<00:00, 185.86it/s, loss=4.2818]\n"
     ]
    },
    {
     "name": "stdout",
     "output_type": "stream",
     "text": [
      "\n",
      "Epoch 144:\n",
      "Average Train Loss: 3.8476\n",
      "Average Val Loss: 3.9008\n"
     ]
    },
    {
     "name": "stderr",
     "output_type": "stream",
     "text": [
      "Training Epoch 145: 100%|██████████| 811/811 [00:09<00:00, 86.79it/s, loss=3.1564]\n",
      "Validation Epoch 145: 100%|██████████| 203/203 [00:01<00:00, 178.88it/s, loss=3.5725]\n"
     ]
    },
    {
     "name": "stdout",
     "output_type": "stream",
     "text": [
      "\n",
      "Epoch 145:\n",
      "Average Train Loss: 3.8604\n",
      "Average Val Loss: 3.8816\n"
     ]
    },
    {
     "name": "stderr",
     "output_type": "stream",
     "text": [
      "Training Epoch 146: 100%|██████████| 811/811 [00:09<00:00, 88.31it/s, loss=3.7965]\n",
      "Validation Epoch 146: 100%|██████████| 203/203 [00:01<00:00, 176.03it/s, loss=4.1947]\n"
     ]
    },
    {
     "name": "stdout",
     "output_type": "stream",
     "text": [
      "\n",
      "Epoch 146:\n",
      "Average Train Loss: 3.9019\n",
      "Average Val Loss: 3.8887\n"
     ]
    },
    {
     "name": "stderr",
     "output_type": "stream",
     "text": [
      "Training Epoch 147: 100%|██████████| 811/811 [00:09<00:00, 87.47it/s, loss=4.3211]\n",
      "Validation Epoch 147: 100%|██████████| 203/203 [00:01<00:00, 185.90it/s, loss=3.8802]\n"
     ]
    },
    {
     "name": "stdout",
     "output_type": "stream",
     "text": [
      "\n",
      "Epoch 147:\n",
      "Average Train Loss: 3.8897\n",
      "Average Val Loss: 3.9232\n"
     ]
    },
    {
     "name": "stderr",
     "output_type": "stream",
     "text": [
      "Training Epoch 148: 100%|██████████| 811/811 [00:09<00:00, 89.42it/s, loss=3.7845]\n",
      "Validation Epoch 148: 100%|██████████| 203/203 [00:01<00:00, 181.68it/s, loss=3.7073]\n"
     ]
    },
    {
     "name": "stdout",
     "output_type": "stream",
     "text": [
      "\n",
      "Epoch 148:\n",
      "Average Train Loss: 3.8938\n",
      "Average Val Loss: 3.8731\n"
     ]
    },
    {
     "name": "stderr",
     "output_type": "stream",
     "text": [
      "Training Epoch 149: 100%|██████████| 811/811 [00:09<00:00, 86.69it/s, loss=4.6203]\n",
      "Validation Epoch 149: 100%|██████████| 203/203 [00:01<00:00, 170.81it/s, loss=4.3907]\n"
     ]
    },
    {
     "name": "stdout",
     "output_type": "stream",
     "text": [
      "\n",
      "Epoch 149:\n",
      "Average Train Loss: 3.8760\n",
      "Average Val Loss: 3.9547\n"
     ]
    },
    {
     "name": "stderr",
     "output_type": "stream",
     "text": [
      "Training Epoch 150: 100%|██████████| 811/811 [00:09<00:00, 85.45it/s, loss=3.2732]\n",
      "Validation Epoch 150: 100%|██████████| 203/203 [00:01<00:00, 177.41it/s, loss=3.9437]\n"
     ]
    },
    {
     "name": "stdout",
     "output_type": "stream",
     "text": [
      "\n",
      "Epoch 150:\n",
      "Average Train Loss: 3.8804\n",
      "Average Val Loss: 3.8954\n"
     ]
    },
    {
     "name": "stderr",
     "output_type": "stream",
     "text": [
      "Training Epoch 151: 100%|██████████| 811/811 [00:09<00:00, 86.40it/s, loss=4.5596]\n",
      "Validation Epoch 151: 100%|██████████| 203/203 [00:01<00:00, 179.27it/s, loss=3.7554]\n"
     ]
    },
    {
     "name": "stdout",
     "output_type": "stream",
     "text": [
      "\n",
      "Epoch 151:\n",
      "Average Train Loss: 3.8841\n",
      "Average Val Loss: 3.9189\n"
     ]
    },
    {
     "name": "stderr",
     "output_type": "stream",
     "text": [
      "Training Epoch 152: 100%|██████████| 811/811 [00:09<00:00, 86.62it/s, loss=4.6418]\n",
      "Validation Epoch 152: 100%|██████████| 203/203 [00:01<00:00, 170.01it/s, loss=4.6085]\n"
     ]
    },
    {
     "name": "stdout",
     "output_type": "stream",
     "text": [
      "\n",
      "Epoch 152:\n",
      "Average Train Loss: 3.8707\n",
      "Average Val Loss: 3.8344\n"
     ]
    },
    {
     "name": "stderr",
     "output_type": "stream",
     "text": [
      "Training Epoch 153: 100%|██████████| 811/811 [00:09<00:00, 84.66it/s, loss=2.5294]\n",
      "Validation Epoch 153: 100%|██████████| 203/203 [00:01<00:00, 174.55it/s, loss=3.8901]\n"
     ]
    },
    {
     "name": "stdout",
     "output_type": "stream",
     "text": [
      "\n",
      "Epoch 153:\n",
      "Average Train Loss: 3.8825\n",
      "Average Val Loss: 3.9140\n"
     ]
    },
    {
     "name": "stderr",
     "output_type": "stream",
     "text": [
      "Training Epoch 154: 100%|██████████| 811/811 [00:09<00:00, 85.89it/s, loss=4.3365]\n",
      "Validation Epoch 154: 100%|██████████| 203/203 [00:01<00:00, 181.73it/s, loss=4.7677]\n"
     ]
    },
    {
     "name": "stdout",
     "output_type": "stream",
     "text": [
      "\n",
      "Epoch 154:\n",
      "Average Train Loss: 3.8656\n",
      "Average Val Loss: 3.9245\n"
     ]
    },
    {
     "name": "stderr",
     "output_type": "stream",
     "text": [
      "Training Epoch 155: 100%|██████████| 811/811 [00:09<00:00, 86.01it/s, loss=3.8527]\n",
      "Validation Epoch 155: 100%|██████████| 203/203 [00:01<00:00, 178.93it/s, loss=3.9135]\n"
     ]
    },
    {
     "name": "stdout",
     "output_type": "stream",
     "text": [
      "\n",
      "Epoch 155:\n",
      "Average Train Loss: 3.8920\n",
      "Average Val Loss: 3.7916\n"
     ]
    },
    {
     "name": "stderr",
     "output_type": "stream",
     "text": [
      "Training Epoch 156: 100%|██████████| 811/811 [00:09<00:00, 88.04it/s, loss=4.2875]\n",
      "Validation Epoch 156: 100%|██████████| 203/203 [00:01<00:00, 177.12it/s, loss=4.2143]\n"
     ]
    },
    {
     "name": "stdout",
     "output_type": "stream",
     "text": [
      "\n",
      "Epoch 156:\n",
      "Average Train Loss: 3.8904\n",
      "Average Val Loss: 3.8540\n"
     ]
    },
    {
     "name": "stderr",
     "output_type": "stream",
     "text": [
      "Training Epoch 157: 100%|██████████| 811/811 [00:09<00:00, 87.99it/s, loss=4.6095]\n",
      "Validation Epoch 157: 100%|██████████| 203/203 [00:01<00:00, 187.81it/s, loss=2.7668]\n"
     ]
    },
    {
     "name": "stdout",
     "output_type": "stream",
     "text": [
      "\n",
      "Epoch 157:\n",
      "Average Train Loss: 3.8976\n",
      "Average Val Loss: 3.8835\n"
     ]
    },
    {
     "name": "stderr",
     "output_type": "stream",
     "text": [
      "Training Epoch 158: 100%|██████████| 811/811 [00:09<00:00, 86.91it/s, loss=3.4788]\n",
      "Validation Epoch 158: 100%|██████████| 203/203 [00:01<00:00, 184.35it/s, loss=4.6146]\n"
     ]
    },
    {
     "name": "stdout",
     "output_type": "stream",
     "text": [
      "\n",
      "Epoch 158:\n",
      "Average Train Loss: 3.8514\n",
      "Average Val Loss: 3.9245\n"
     ]
    },
    {
     "name": "stderr",
     "output_type": "stream",
     "text": [
      "Training Epoch 159: 100%|██████████| 811/811 [00:09<00:00, 85.54it/s, loss=4.2891]\n",
      "Validation Epoch 159: 100%|██████████| 203/203 [00:01<00:00, 187.16it/s, loss=4.7037]\n"
     ]
    },
    {
     "name": "stdout",
     "output_type": "stream",
     "text": [
      "\n",
      "Epoch 159:\n",
      "Average Train Loss: 3.8780\n",
      "Average Val Loss: 3.9059\n"
     ]
    },
    {
     "name": "stderr",
     "output_type": "stream",
     "text": [
      "Training Epoch 160: 100%|██████████| 811/811 [00:09<00:00, 85.39it/s, loss=4.3586]\n",
      "Validation Epoch 160: 100%|██████████| 203/203 [00:01<00:00, 171.54it/s, loss=4.3084]\n"
     ]
    },
    {
     "name": "stdout",
     "output_type": "stream",
     "text": [
      "\n",
      "Epoch 160:\n",
      "Average Train Loss: 3.8627\n",
      "Average Val Loss: 3.9072\n"
     ]
    },
    {
     "name": "stderr",
     "output_type": "stream",
     "text": [
      "Training Epoch 161: 100%|██████████| 811/811 [00:09<00:00, 87.95it/s, loss=4.3897]\n",
      "Validation Epoch 161: 100%|██████████| 203/203 [00:01<00:00, 178.61it/s, loss=3.1120]\n"
     ]
    },
    {
     "name": "stdout",
     "output_type": "stream",
     "text": [
      "\n",
      "Epoch 161:\n",
      "Average Train Loss: 3.8842\n",
      "Average Val Loss: 3.8626\n"
     ]
    },
    {
     "name": "stderr",
     "output_type": "stream",
     "text": [
      "Training Epoch 162: 100%|██████████| 811/811 [00:09<00:00, 83.30it/s, loss=4.2267]\n",
      "Validation Epoch 162: 100%|██████████| 203/203 [00:01<00:00, 176.67it/s, loss=3.9921]\n"
     ]
    },
    {
     "name": "stdout",
     "output_type": "stream",
     "text": [
      "\n",
      "Epoch 162:\n",
      "Average Train Loss: 3.8512\n",
      "Average Val Loss: 3.8644\n"
     ]
    },
    {
     "name": "stderr",
     "output_type": "stream",
     "text": [
      "Training Epoch 163: 100%|██████████| 811/811 [00:09<00:00, 81.83it/s, loss=4.1452]\n",
      "Validation Epoch 163: 100%|██████████| 203/203 [00:01<00:00, 172.74it/s, loss=4.4357]\n"
     ]
    },
    {
     "name": "stdout",
     "output_type": "stream",
     "text": [
      "\n",
      "Epoch 163:\n",
      "Average Train Loss: 3.8778\n",
      "Average Val Loss: 3.9077\n"
     ]
    },
    {
     "name": "stderr",
     "output_type": "stream",
     "text": [
      "Training Epoch 164: 100%|██████████| 811/811 [00:09<00:00, 84.11it/s, loss=4.7429]\n",
      "Validation Epoch 164: 100%|██████████| 203/203 [00:01<00:00, 185.55it/s, loss=4.7145]\n"
     ]
    },
    {
     "name": "stdout",
     "output_type": "stream",
     "text": [
      "\n",
      "Epoch 164:\n",
      "Average Train Loss: 3.8688\n",
      "Average Val Loss: 3.8833\n"
     ]
    },
    {
     "name": "stderr",
     "output_type": "stream",
     "text": [
      "Training Epoch 165: 100%|██████████| 811/811 [00:09<00:00, 85.73it/s, loss=4.2181]\n",
      "Validation Epoch 165: 100%|██████████| 203/203 [00:01<00:00, 194.83it/s, loss=3.4187]\n"
     ]
    },
    {
     "name": "stdout",
     "output_type": "stream",
     "text": [
      "\n",
      "Epoch 165:\n",
      "Average Train Loss: 3.9205\n",
      "Average Val Loss: 3.8289\n"
     ]
    },
    {
     "name": "stderr",
     "output_type": "stream",
     "text": [
      "Training Epoch 166: 100%|██████████| 811/811 [00:09<00:00, 87.73it/s, loss=3.4387]\n",
      "Validation Epoch 166: 100%|██████████| 203/203 [00:01<00:00, 181.43it/s, loss=3.3197]\n"
     ]
    },
    {
     "name": "stdout",
     "output_type": "stream",
     "text": [
      "\n",
      "Epoch 166:\n",
      "Average Train Loss: 3.9035\n",
      "Average Val Loss: 3.8908\n"
     ]
    },
    {
     "name": "stderr",
     "output_type": "stream",
     "text": [
      "Training Epoch 167: 100%|██████████| 811/811 [00:09<00:00, 85.55it/s, loss=4.0927]\n",
      "Validation Epoch 167: 100%|██████████| 203/203 [00:01<00:00, 177.31it/s, loss=4.0586]\n"
     ]
    },
    {
     "name": "stdout",
     "output_type": "stream",
     "text": [
      "\n",
      "Epoch 167:\n",
      "Average Train Loss: 3.8770\n",
      "Average Val Loss: 3.8587\n"
     ]
    },
    {
     "name": "stderr",
     "output_type": "stream",
     "text": [
      "Training Epoch 168: 100%|██████████| 811/811 [00:09<00:00, 86.64it/s, loss=3.8604]\n",
      "Validation Epoch 168: 100%|██████████| 203/203 [00:01<00:00, 191.69it/s, loss=4.1145]\n"
     ]
    },
    {
     "name": "stdout",
     "output_type": "stream",
     "text": [
      "\n",
      "Epoch 168:\n",
      "Average Train Loss: 3.8686\n",
      "Average Val Loss: 3.9085\n"
     ]
    },
    {
     "name": "stderr",
     "output_type": "stream",
     "text": [
      "Training Epoch 169: 100%|██████████| 811/811 [00:09<00:00, 86.79it/s, loss=2.9642]\n",
      "Validation Epoch 169: 100%|██████████| 203/203 [00:01<00:00, 185.26it/s, loss=3.7285]\n"
     ]
    },
    {
     "name": "stdout",
     "output_type": "stream",
     "text": [
      "\n",
      "Epoch 169:\n",
      "Average Train Loss: 3.8804\n",
      "Average Val Loss: 3.8954\n"
     ]
    },
    {
     "name": "stderr",
     "output_type": "stream",
     "text": [
      "Training Epoch 170: 100%|██████████| 811/811 [00:09<00:00, 86.22it/s, loss=3.3780]\n",
      "Validation Epoch 170: 100%|██████████| 203/203 [00:01<00:00, 180.20it/s, loss=3.0032]\n"
     ]
    },
    {
     "name": "stdout",
     "output_type": "stream",
     "text": [
      "\n",
      "Epoch 170:\n",
      "Average Train Loss: 3.8933\n",
      "Average Val Loss: 3.9051\n"
     ]
    },
    {
     "name": "stderr",
     "output_type": "stream",
     "text": [
      "Training Epoch 171: 100%|██████████| 811/811 [00:09<00:00, 85.80it/s, loss=4.5308]\n",
      "Validation Epoch 171: 100%|██████████| 203/203 [00:01<00:00, 183.47it/s, loss=4.1333]\n"
     ]
    },
    {
     "name": "stdout",
     "output_type": "stream",
     "text": [
      "\n",
      "Epoch 171:\n",
      "Average Train Loss: 3.8761\n",
      "Average Val Loss: 3.8818\n"
     ]
    },
    {
     "name": "stderr",
     "output_type": "stream",
     "text": [
      "Training Epoch 172: 100%|██████████| 811/811 [00:09<00:00, 84.58it/s, loss=4.7445]\n",
      "Validation Epoch 172: 100%|██████████| 203/203 [00:01<00:00, 179.47it/s, loss=4.5211]\n"
     ]
    },
    {
     "name": "stdout",
     "output_type": "stream",
     "text": [
      "\n",
      "Epoch 172:\n",
      "Average Train Loss: 3.8861\n",
      "Average Val Loss: 3.9168\n"
     ]
    },
    {
     "name": "stderr",
     "output_type": "stream",
     "text": [
      "Training Epoch 173: 100%|██████████| 811/811 [00:09<00:00, 89.66it/s, loss=3.6185]\n",
      "Validation Epoch 173: 100%|██████████| 203/203 [00:01<00:00, 181.12it/s, loss=3.3894]\n"
     ]
    },
    {
     "name": "stdout",
     "output_type": "stream",
     "text": [
      "\n",
      "Epoch 173:\n",
      "Average Train Loss: 3.8667\n",
      "Average Val Loss: 3.8246\n"
     ]
    },
    {
     "name": "stderr",
     "output_type": "stream",
     "text": [
      "Training Epoch 174: 100%|██████████| 811/811 [00:09<00:00, 89.04it/s, loss=4.6741]\n",
      "Validation Epoch 174: 100%|██████████| 203/203 [00:01<00:00, 191.56it/s, loss=3.6467]\n"
     ]
    },
    {
     "name": "stdout",
     "output_type": "stream",
     "text": [
      "\n",
      "Epoch 174:\n",
      "Average Train Loss: 3.9043\n",
      "Average Val Loss: 3.8836\n"
     ]
    },
    {
     "name": "stderr",
     "output_type": "stream",
     "text": [
      "Training Epoch 175: 100%|██████████| 811/811 [00:09<00:00, 85.54it/s, loss=3.6760]\n",
      "Validation Epoch 175: 100%|██████████| 203/203 [00:01<00:00, 174.33it/s, loss=3.6468]\n"
     ]
    },
    {
     "name": "stdout",
     "output_type": "stream",
     "text": [
      "\n",
      "Epoch 175:\n",
      "Average Train Loss: 3.8640\n",
      "Average Val Loss: 3.8464\n"
     ]
    },
    {
     "name": "stderr",
     "output_type": "stream",
     "text": [
      "Training Epoch 176: 100%|██████████| 811/811 [00:09<00:00, 86.57it/s, loss=4.2955]\n",
      "Validation Epoch 176: 100%|██████████| 203/203 [00:01<00:00, 183.44it/s, loss=2.6205]\n"
     ]
    },
    {
     "name": "stdout",
     "output_type": "stream",
     "text": [
      "\n",
      "Epoch 176:\n",
      "Average Train Loss: 3.8955\n",
      "Average Val Loss: 3.9064\n"
     ]
    },
    {
     "name": "stderr",
     "output_type": "stream",
     "text": [
      "Training Epoch 177: 100%|██████████| 811/811 [00:09<00:00, 83.80it/s, loss=3.4938]\n",
      "Validation Epoch 177: 100%|██████████| 203/203 [00:01<00:00, 176.71it/s, loss=4.2287]\n"
     ]
    },
    {
     "name": "stdout",
     "output_type": "stream",
     "text": [
      "\n",
      "Epoch 177:\n",
      "Average Train Loss: 3.8919\n",
      "Average Val Loss: 3.8247\n"
     ]
    },
    {
     "name": "stderr",
     "output_type": "stream",
     "text": [
      "Training Epoch 178: 100%|██████████| 811/811 [00:09<00:00, 85.37it/s, loss=4.1985]\n",
      "Validation Epoch 178: 100%|██████████| 203/203 [00:01<00:00, 177.91it/s, loss=4.0960]\n"
     ]
    },
    {
     "name": "stdout",
     "output_type": "stream",
     "text": [
      "\n",
      "Epoch 178:\n",
      "Average Train Loss: 3.8562\n",
      "Average Val Loss: 3.8580\n"
     ]
    },
    {
     "name": "stderr",
     "output_type": "stream",
     "text": [
      "Training Epoch 179: 100%|██████████| 811/811 [00:09<00:00, 84.48it/s, loss=3.4936]\n",
      "Validation Epoch 179: 100%|██████████| 203/203 [00:01<00:00, 176.71it/s, loss=2.8378]\n"
     ]
    },
    {
     "name": "stdout",
     "output_type": "stream",
     "text": [
      "\n",
      "Epoch 179:\n",
      "Average Train Loss: 3.8700\n",
      "Average Val Loss: 3.8707\n"
     ]
    },
    {
     "name": "stderr",
     "output_type": "stream",
     "text": [
      "Training Epoch 180: 100%|██████████| 811/811 [00:09<00:00, 84.14it/s, loss=3.5454]\n",
      "Validation Epoch 180: 100%|██████████| 203/203 [00:01<00:00, 178.32it/s, loss=3.4626]\n"
     ]
    },
    {
     "name": "stdout",
     "output_type": "stream",
     "text": [
      "\n",
      "Epoch 180:\n",
      "Average Train Loss: 3.8831\n",
      "Average Val Loss: 3.8483\n"
     ]
    },
    {
     "name": "stderr",
     "output_type": "stream",
     "text": [
      "Training Epoch 181: 100%|██████████| 811/811 [00:09<00:00, 83.72it/s, loss=4.3785]\n",
      "Validation Epoch 181: 100%|██████████| 203/203 [00:01<00:00, 178.66it/s, loss=4.5858]\n"
     ]
    },
    {
     "name": "stdout",
     "output_type": "stream",
     "text": [
      "\n",
      "Epoch 181:\n",
      "Average Train Loss: 3.8163\n",
      "Average Val Loss: 3.9877\n"
     ]
    },
    {
     "name": "stderr",
     "output_type": "stream",
     "text": [
      "Training Epoch 182: 100%|██████████| 811/811 [00:09<00:00, 85.14it/s, loss=3.1930]\n",
      "Validation Epoch 182: 100%|██████████| 203/203 [00:01<00:00, 177.56it/s, loss=3.6537]\n"
     ]
    },
    {
     "name": "stdout",
     "output_type": "stream",
     "text": [
      "\n",
      "Epoch 182:\n",
      "Average Train Loss: 3.8873\n",
      "Average Val Loss: 3.8995\n"
     ]
    },
    {
     "name": "stderr",
     "output_type": "stream",
     "text": [
      "Training Epoch 183: 100%|██████████| 811/811 [00:09<00:00, 85.32it/s, loss=2.2859]\n",
      "Validation Epoch 183: 100%|██████████| 203/203 [00:01<00:00, 175.82it/s, loss=4.2269]\n"
     ]
    },
    {
     "name": "stdout",
     "output_type": "stream",
     "text": [
      "\n",
      "Epoch 183:\n",
      "Average Train Loss: 3.8982\n",
      "Average Val Loss: 3.8573\n"
     ]
    },
    {
     "name": "stderr",
     "output_type": "stream",
     "text": [
      "Training Epoch 184: 100%|██████████| 811/811 [00:09<00:00, 84.07it/s, loss=4.4881]\n",
      "Validation Epoch 184: 100%|██████████| 203/203 [00:01<00:00, 182.91it/s, loss=4.5055]\n"
     ]
    },
    {
     "name": "stdout",
     "output_type": "stream",
     "text": [
      "\n",
      "Epoch 184:\n",
      "Average Train Loss: 3.8623\n",
      "Average Val Loss: 3.8336\n"
     ]
    },
    {
     "name": "stderr",
     "output_type": "stream",
     "text": [
      "Training Epoch 185: 100%|██████████| 811/811 [00:09<00:00, 85.74it/s, loss=4.6790]\n",
      "Validation Epoch 185: 100%|██████████| 203/203 [00:01<00:00, 187.54it/s, loss=3.6728]\n"
     ]
    },
    {
     "name": "stdout",
     "output_type": "stream",
     "text": [
      "\n",
      "Epoch 185:\n",
      "Average Train Loss: 3.9050\n",
      "Average Val Loss: 3.8890\n"
     ]
    },
    {
     "name": "stderr",
     "output_type": "stream",
     "text": [
      "Training Epoch 186: 100%|██████████| 811/811 [00:09<00:00, 87.93it/s, loss=4.7525]\n",
      "Validation Epoch 186: 100%|██████████| 203/203 [00:01<00:00, 174.93it/s, loss=4.4507]\n"
     ]
    },
    {
     "name": "stdout",
     "output_type": "stream",
     "text": [
      "\n",
      "Epoch 186:\n",
      "Average Train Loss: 3.8711\n",
      "Average Val Loss: 3.8862\n"
     ]
    },
    {
     "name": "stderr",
     "output_type": "stream",
     "text": [
      "Training Epoch 187: 100%|██████████| 811/811 [00:09<00:00, 88.84it/s, loss=4.2235]\n",
      "Validation Epoch 187: 100%|██████████| 203/203 [00:01<00:00, 182.16it/s, loss=3.8993]\n"
     ]
    },
    {
     "name": "stdout",
     "output_type": "stream",
     "text": [
      "\n",
      "Epoch 187:\n",
      "Average Train Loss: 3.8661\n",
      "Average Val Loss: 3.9075\n"
     ]
    },
    {
     "name": "stderr",
     "output_type": "stream",
     "text": [
      "Training Epoch 188: 100%|██████████| 811/811 [00:09<00:00, 87.05it/s, loss=3.7993]\n",
      "Validation Epoch 188: 100%|██████████| 203/203 [00:01<00:00, 180.81it/s, loss=2.5310]\n"
     ]
    },
    {
     "name": "stdout",
     "output_type": "stream",
     "text": [
      "\n",
      "Epoch 188:\n",
      "Average Train Loss: 3.8956\n",
      "Average Val Loss: 3.9386\n"
     ]
    },
    {
     "name": "stderr",
     "output_type": "stream",
     "text": [
      "Training Epoch 189: 100%|██████████| 811/811 [00:09<00:00, 86.67it/s, loss=4.6243]\n",
      "Validation Epoch 189: 100%|██████████| 203/203 [00:01<00:00, 183.08it/s, loss=4.3165]\n"
     ]
    },
    {
     "name": "stdout",
     "output_type": "stream",
     "text": [
      "\n",
      "Epoch 189:\n",
      "Average Train Loss: 3.8651\n",
      "Average Val Loss: 3.7987\n"
     ]
    },
    {
     "name": "stderr",
     "output_type": "stream",
     "text": [
      "Training Epoch 190: 100%|██████████| 811/811 [00:09<00:00, 89.00it/s, loss=4.1118]\n",
      "Validation Epoch 190: 100%|██████████| 203/203 [00:01<00:00, 182.94it/s, loss=3.3500]\n"
     ]
    },
    {
     "name": "stdout",
     "output_type": "stream",
     "text": [
      "\n",
      "Epoch 190:\n",
      "Average Train Loss: 3.8750\n",
      "Average Val Loss: 3.8976\n"
     ]
    },
    {
     "name": "stderr",
     "output_type": "stream",
     "text": [
      "Training Epoch 191: 100%|██████████| 811/811 [00:09<00:00, 87.71it/s, loss=4.3467]\n",
      "Validation Epoch 191: 100%|██████████| 203/203 [00:01<00:00, 179.93it/s, loss=2.5556]\n"
     ]
    },
    {
     "name": "stdout",
     "output_type": "stream",
     "text": [
      "\n",
      "Epoch 191:\n",
      "Average Train Loss: 3.8557\n",
      "Average Val Loss: 3.8850\n"
     ]
    },
    {
     "name": "stderr",
     "output_type": "stream",
     "text": [
      "Training Epoch 192: 100%|██████████| 811/811 [00:09<00:00, 87.63it/s, loss=4.2664]\n",
      "Validation Epoch 192: 100%|██████████| 203/203 [00:01<00:00, 181.99it/s, loss=3.2308]\n"
     ]
    },
    {
     "name": "stdout",
     "output_type": "stream",
     "text": [
      "\n",
      "Epoch 192:\n",
      "Average Train Loss: 3.8603\n",
      "Average Val Loss: 3.8588\n"
     ]
    },
    {
     "name": "stderr",
     "output_type": "stream",
     "text": [
      "Training Epoch 193: 100%|██████████| 811/811 [00:09<00:00, 89.11it/s, loss=4.5237]\n",
      "Validation Epoch 193: 100%|██████████| 203/203 [00:01<00:00, 180.11it/s, loss=3.7034]\n"
     ]
    },
    {
     "name": "stdout",
     "output_type": "stream",
     "text": [
      "\n",
      "Epoch 193:\n",
      "Average Train Loss: 3.8745\n",
      "Average Val Loss: 3.9182\n"
     ]
    },
    {
     "name": "stderr",
     "output_type": "stream",
     "text": [
      "Training Epoch 194: 100%|██████████| 811/811 [00:09<00:00, 90.05it/s, loss=3.7802]\n",
      "Validation Epoch 194: 100%|██████████| 203/203 [00:01<00:00, 191.62it/s, loss=3.7989]\n"
     ]
    },
    {
     "name": "stdout",
     "output_type": "stream",
     "text": [
      "\n",
      "Epoch 194:\n",
      "Average Train Loss: 3.8587\n",
      "Average Val Loss: 3.8663\n"
     ]
    },
    {
     "name": "stderr",
     "output_type": "stream",
     "text": [
      "Training Epoch 195: 100%|██████████| 811/811 [00:09<00:00, 90.07it/s, loss=4.1035]\n",
      "Validation Epoch 195: 100%|██████████| 203/203 [00:01<00:00, 189.17it/s, loss=4.4527]\n"
     ]
    },
    {
     "name": "stdout",
     "output_type": "stream",
     "text": [
      "\n",
      "Epoch 195:\n",
      "Average Train Loss: 3.8769\n",
      "Average Val Loss: 3.9413\n"
     ]
    },
    {
     "name": "stderr",
     "output_type": "stream",
     "text": [
      "Training Epoch 196: 100%|██████████| 811/811 [00:08<00:00, 90.85it/s, loss=3.7245]\n",
      "Validation Epoch 196: 100%|██████████| 203/203 [00:01<00:00, 194.13it/s, loss=4.1145]\n"
     ]
    },
    {
     "name": "stdout",
     "output_type": "stream",
     "text": [
      "\n",
      "Epoch 196:\n",
      "Average Train Loss: 3.8859\n",
      "Average Val Loss: 3.8887\n"
     ]
    },
    {
     "name": "stderr",
     "output_type": "stream",
     "text": [
      "Training Epoch 197: 100%|██████████| 811/811 [00:09<00:00, 88.85it/s, loss=4.7416]\n",
      "Validation Epoch 197: 100%|██████████| 203/203 [00:01<00:00, 180.34it/s, loss=4.4881]\n"
     ]
    },
    {
     "name": "stdout",
     "output_type": "stream",
     "text": [
      "\n",
      "Epoch 197:\n",
      "Average Train Loss: 3.8926\n",
      "Average Val Loss: 3.9528\n"
     ]
    },
    {
     "name": "stderr",
     "output_type": "stream",
     "text": [
      "Training Epoch 198: 100%|██████████| 811/811 [00:09<00:00, 87.45it/s, loss=3.8179]\n",
      "Validation Epoch 198: 100%|██████████| 203/203 [00:01<00:00, 193.10it/s, loss=3.2115]\n"
     ]
    },
    {
     "name": "stdout",
     "output_type": "stream",
     "text": [
      "\n",
      "Epoch 198:\n",
      "Average Train Loss: 3.8997\n",
      "Average Val Loss: 3.9000\n"
     ]
    },
    {
     "name": "stderr",
     "output_type": "stream",
     "text": [
      "Training Epoch 199: 100%|██████████| 811/811 [00:08<00:00, 90.30it/s, loss=2.6743]\n",
      "Validation Epoch 199: 100%|██████████| 203/203 [00:01<00:00, 194.05it/s, loss=4.3213]"
     ]
    },
    {
     "name": "stdout",
     "output_type": "stream",
     "text": [
      "\n",
      "Epoch 199:\n",
      "Average Train Loss: 3.8827\n",
      "Average Val Loss: 3.9108\n"
     ]
    },
    {
     "name": "stderr",
     "output_type": "stream",
     "text": [
      "\n"
     ]
    }
   ],
   "source": [
    "# Training parameters\n",
    "# Initialize optimizer\n",
    "optimizer = torch.optim.AdamW(model.parameters(), lr=learning_rate)\n",
    "# Start training\n",
    "train_and_validate(model, train_loader, test_loader, optimizer, num_epochs, device)"
   ]
  },
  {
   "cell_type": "code",
   "execution_count": 11,
   "metadata": {},
   "outputs": [],
   "source": [
    "checkpoint = {\n",
    "    'model_state_dict': model.state_dict(),\n",
    "    'optimizer_state_dict': optimizer.state_dict(),\n",
    "    'model_args': {\n",
    "        'vocab_size': vocab_size,\n",
    "        'embed_dim': embed_dim,\n",
    "        'num_layers': num_layers,\n",
    "        'num_heads': num_heads,\n",
    "        'dim_feedforward': dim_feedforward,\n",
    "        'num_fourier_features': num_fourier_features\n",
    "    }\n",
    "}\n",
    "\n",
    "torch.save(checkpoint, 'model_checkpoint_3.96.pt')"
   ]
  },
  {
   "cell_type": "code",
   "execution_count": null,
   "metadata": {},
   "outputs": [],
   "source": [
    "from model_arch import CategoricalScoreDiffusion\n",
    "\n",
    "checkpoint = torch.load('model_checkpoint_2.65.pt')\n",
    "model = CategoricalScoreDiffusion(**checkpoint['model_args'])\n",
    "model.load_state_dict(checkpoint['model_state_dict'])\n",
    "optimizer.load_state_dict(checkpoint['optimizer_state_dict'])"
   ]
  },
  {
   "cell_type": "code",
   "execution_count": null,
   "metadata": {},
   "outputs": [
    {
     "name": "stdout",
     "output_type": "stream",
     "text": [
      "Learning rate: 0.001\n"
     ]
    }
   ],
   "source": [
    "# Access the learning rate\n",
    "# Get the optimizer state dict\n",
    "optimizer_state = checkpoint['optimizer_state_dict']\n",
    "learning_rate = optimizer_state['param_groups'][0]['lr']\n",
    "print(f\"Learning rate: {learning_rate}\")"
   ]
  },
  {
   "cell_type": "code",
   "execution_count": null,
   "metadata": {},
   "outputs": [],
   "source": [
    "import time\n",
    "from contextlib import contextmanager\n",
    "\n",
    "@contextmanager\n",
    "def timer(name):\n",
    "    start = time.perf_counter()\n",
    "    yield\n",
    "    end = time.perf_counter()\n",
    "    print(f\"{name}: {(end - start)*1000:.2f} ms\")"
   ]
  }
 ],
 "metadata": {
  "kernelspec": {
   "display_name": "neuralink",
   "language": "python",
   "name": "python3"
  },
  "language_info": {
   "codemirror_mode": {
    "name": "ipython",
    "version": 3
   },
   "file_extension": ".py",
   "mimetype": "text/x-python",
   "name": "python",
   "nbconvert_exporter": "python",
   "pygments_lexer": "ipython3",
   "version": "3.12.3"
  }
 },
 "nbformat": 4,
 "nbformat_minor": 2
}
