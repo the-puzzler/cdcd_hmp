{
 "cells": [
  {
   "cell_type": "markdown",
   "metadata": {},
   "source": [
    "# Imports"
   ]
  },
  {
   "cell_type": "code",
   "execution_count": 1,
   "metadata": {},
   "outputs": [
    {
     "data": {
      "text/plain": [
       "<module 'helper_funcs' from '/mnt/mnemo9/mpelus/matlas/cdcd_multi_train/cdcd_hmp/helper_funcs.py'>"
      ]
     },
     "execution_count": 1,
     "metadata": {},
     "output_type": "execute_result"
    }
   ],
   "source": [
    "import pandas as pd\n",
    "from sklearn.model_selection import train_test_split\n",
    "import numpy as np\n",
    "from scipy.optimize import linear_sum_assignment\n",
    "import torch\n",
    "import torch.nn as nn\n",
    "import torch.nn.functional as F\n",
    "from tqdm import tqdm\n",
    "from collections import Counter\n",
    "\n",
    "import model_arch\n",
    "import helper_funcs\n",
    "import importlib\n",
    "from model_arch import CategoricalScoreDiffusion\n",
    "from helper_funcs import generate_sequences\n",
    "importlib.reload(model_arch)\n",
    "importlib.reload(helper_funcs)\n"
   ]
  },
  {
   "cell_type": "markdown",
   "metadata": {},
   "source": [
    "# Load Data"
   ]
  },
  {
   "cell_type": "code",
   "execution_count": 2,
   "metadata": {},
   "outputs": [
    {
     "name": "stdout",
     "output_type": "stream",
     "text": [
      "Batch tokens shape: torch.Size([8, 277])\n",
      "Batch mask shape: torch.Size([8, 277])\n",
      "\n",
      "Vocabulary size: 519\n"
     ]
    }
   ],
   "source": [
    "# Load data\n",
    "loaded_df = pd.read_hdf('./data/sample_otu_arrays.h5', key='df')\n",
    "# Set random seed\n",
    "np.random.seed(42)\n",
    "# Split indices into train/test\n",
    "train_idx, test_idx = train_test_split(loaded_df.index, test_size=0.2, random_state=42)\n",
    "# Create train and test dataframes\n",
    "train_df = loaded_df.loc[train_idx]\n",
    "test_df = loaded_df.loc[test_idx]\n",
    "\n",
    "# Let's also look at array lengths\n",
    "array_lengths = [len(x) for x in loaded_df['otu_arrays']]\n",
    "import torch\n",
    "from torch.utils.data import Dataset, DataLoader\n",
    "\n",
    "class OTUDataset(Dataset):\n",
    "   def __init__(self, df):\n",
    "       self.df = df\n",
    "       \n",
    "       # Find max sequence length for padding\n",
    "       self.max_len = max(len(x) for x in df['otu_arrays'])\n",
    "       \n",
    "   def __len__(self):\n",
    "       return len(self.df)\n",
    "   \n",
    "   def __getitem__(self, idx):\n",
    "       # Get array for this sample\n",
    "       array = self.df.iloc[idx]['otu_arrays']\n",
    "       \n",
    "       # Create padded tensor\n",
    "       padded = torch.zeros(self.max_len, dtype=torch.long)\n",
    "       padded[:len(array)] = torch.tensor(array)\n",
    "       \n",
    "       # Create mask (False where we have real tokens, True for padding)\n",
    "       mask = torch.zeros(self.max_len, dtype=torch.bool)\n",
    "       mask[len(array):] = True\n",
    "       \n",
    "       return padded, mask\n",
    "\n",
    "# Create datasets\n",
    "train_dataset = OTUDataset(train_df)\n",
    "test_dataset = OTUDataset(test_df)\n",
    "\n",
    "# Create dataloaders\n",
    "batch_size = 8\n",
    "train_loader = DataLoader(train_dataset, batch_size=batch_size, shuffle=True)\n",
    "test_loader = DataLoader(test_dataset, batch_size=batch_size, shuffle=False)\n",
    "\n",
    "# Verify shapes\n",
    "for tokens, mask in train_loader:\n",
    "   print(f\"Batch tokens shape: {tokens.shape}\")\n",
    "   print(f\"Batch mask shape: {mask.shape}\")\n",
    "\n",
    "   break\n",
    "\n",
    "# Get vocab size (maximum token ID + 1 for padding)\n",
    "vocab_size = max(max(x) for x in loaded_df['otu_arrays']) + 1\n",
    "print(f\"\\nVocabulary size: {vocab_size}\")"
   ]
  },
  {
   "cell_type": "markdown",
   "metadata": {},
   "source": [
    "# Load Model"
   ]
  },
  {
   "cell_type": "code",
   "execution_count": 3,
   "metadata": {},
   "outputs": [
    {
     "name": "stderr",
     "output_type": "stream",
     "text": [
      "/tmp/ipykernel_688993/1919691523.py:19: FutureWarning: You are using `torch.load` with `weights_only=False` (the current default value), which uses the default pickle module implicitly. It is possible to construct malicious pickle data which will execute arbitrary code during unpickling (See https://github.com/pytorch/pytorch/blob/main/SECURITY.md#untrusted-models for more details). In a future release, the default value for `weights_only` will be flipped to `True`. This limits the functions that could be executed during unpickling. Arbitrary objects will no longer be allowed to be loaded via this mode unless they are explicitly allowlisted by the user via `torch.serialization.add_safe_globals`. We recommend you start setting `weights_only=True` for any use case where you don't have full control of the loaded file. Please open an issue on GitHub for any issues related to this experimental feature.\n",
      "  checkpoint = torch.load(\"best_model_3.78.pt\")\n"
     ]
    }
   ],
   "source": [
    "# Initialize model with the same parameters you showed\n",
    "embed_dim = 96\n",
    "num_layers = 4\n",
    "num_heads = 12\n",
    "dim_feedforward = 28\n",
    "num_fourier_features = 4\n",
    "\n",
    "model = CategoricalScoreDiffusion(\n",
    "    vocab_size=vocab_size,\n",
    "    embed_dim=embed_dim,\n",
    "    num_layers=num_layers,\n",
    "    num_heads=num_heads,\n",
    "    dim_feedforward=dim_feedforward,\n",
    "    num_fourier_features=num_fourier_features\n",
    ")\n",
    "\n",
    "\n",
    "\n",
    "checkpoint = torch.load(\"best_model_3.78.pt\")\n",
    "\n",
    "model.load_state_dict(checkpoint['model_state_dict']) #['model_state_dict']\n",
    "device = 'cuda' if torch.cuda.is_available() else 'cpu'\n",
    "# Move model to device\n",
    "model = model.to(device)"
   ]
  },
  {
   "cell_type": "markdown",
   "metadata": {},
   "source": [
    "# Function"
   ]
  },
  {
   "cell_type": "code",
   "execution_count": 195,
   "metadata": {},
   "outputs": [],
   "source": [
    "def generate_sequences_with_fixed(model, input_sequences, device='cuda', num_steps=100, temperature=0, seed=42):\n",
    "    #torch.manual_seed(seed)\n",
    "    model.eval()\n",
    "    model = model.to(device)\n",
    "    \n",
    "    if isinstance(input_sequences, (list, np.ndarray)):\n",
    "        input_sequences = torch.tensor(input_sequences, device=device, dtype=torch.long)\n",
    "    if input_sequences.dim() == 1:\n",
    "        input_sequences = input_sequences.unsqueeze(0)\n",
    "        \n",
    "    num_sequences = input_sequences.shape[0]\n",
    "    max_sampled_length = input_sequences.shape[1]\n",
    "    sampled_lengths = torch.full((num_sequences,), max_sampled_length, device=device)\n",
    "    \n",
    "    with torch.no_grad():\n",
    "        uniform_steps = torch.linspace(1, 0, num_steps).to(device)\n",
    "        timesteps = model.time_warping.warp_time(uniform_steps)\n",
    "        \n",
    "        # Initialize exactly as in original\n",
    "        sigma_T = torch.sqrt(timesteps[0])\n",
    "        xt = sigma_T * torch.randn(num_sequences, max_sampled_length, model.embed_dim).to(device)\n",
    "        \n",
    "        mask = torch.zeros(num_sequences, max_sampled_length, dtype=torch.bool, device=device)\n",
    "        for i, length in enumerate(sampled_lengths):\n",
    "            mask[i, length:] = True\n",
    "            \n",
    "        diffusion_mask = (input_sequences == 999)\n",
    "        normalized_weight = model.embedding.get_normalized_weight()\n",
    "        \n",
    "        # Store original embeddings for fixed positions\n",
    "        fixed_embeddings = torch.zeros_like(xt)\n",
    "        for i in range(num_sequences):\n",
    "            for j in range(max_sampled_length):\n",
    "                if not diffusion_mask[i, j]:\n",
    "                    token_idx = input_sequences[i, j]\n",
    "                    fixed_embeddings[i, j] = normalized_weight[token_idx]\n",
    "        \n",
    "        print(\"\\nRunning diffusion...\")\n",
    "        prev_entropy = None\n",
    "        for step_idx in tqdm(range(len(timesteps) - 1)):\n",
    "            t = timesteps[step_idx]\n",
    "            t_next = timesteps[step_idx + 1]\n",
    "            \n",
    "            # Restore fixed positions\n",
    "            xt = torch.where(diffusion_mask.unsqueeze(-1), xt, fixed_embeddings)\n",
    "            \n",
    "            t_batch = t.expand(num_sequences)\n",
    "            logits = model(xt, mask, t_batch)\n",
    "            expected_x0 = model.get_expected_embedding(logits)\n",
    "            \n",
    "            # Monitor probabilities for 999 position\n",
    "            probs = F.softmax(logits[diffusion_mask], dim=-1)\n",
    "            entropy = -torch.sum(probs * torch.log(probs + 1e-10), dim=-1)\n",
    "            top_probs, top_indices = torch.topk(probs, k=3)\n",
    "            \n",
    "            print(f\"\\nStep {step_idx}, t={t:.4f}\")\n",
    "            print(f\"Entropy: {entropy[0].item():.4f}\")\n",
    "            print(\"Top 3 tokens and probabilities:\")\n",
    "            for p, idx in zip(top_probs[0], top_indices[0]):\n",
    "                print(f\"Token {idx.item()}: {p.item():.4f}\")\n",
    "            \n",
    "            if prev_entropy is not None and entropy > prev_entropy:\n",
    "                print(\"WARNING: Entropy increased!\")\n",
    "            prev_entropy = entropy\n",
    "            \n",
    "            if t > t_next:\n",
    "                score = model.calculate_score(xt, expected_x0, t_batch)\n",
    "                dt = t_next - t\n",
    "                \n",
    "                # Print score magnitude for monitoring\n",
    "                print(f\"Score magnitude: {torch.norm(score[diffusion_mask]).item():.4f}\")\n",
    "                \n",
    "                xt = xt - t * score * dt\n",
    "                \n",
    "                sigma = torch.sqrt(t_next)\n",
    "                noise = torch.randn_like(xt, device=device)\n",
    "                noise_magnitude = torch.norm(noise[diffusion_mask]).item()\n",
    "                print(f\"Noise magnitude: {noise_magnitude:.4f}\")\n",
    "                \n",
    "                xt = xt + sigma * noise\n",
    "        \n",
    "        final_logits = model(xt, mask, torch.zeros(num_sequences, device=device))\n",
    "        final_tokens = input_sequences.clone()\n",
    "        \n",
    "        if temperature == 0:\n",
    "            final_tokens[diffusion_mask] = torch.argmax(final_logits[diffusion_mask], dim=-1)\n",
    "        else:\n",
    "            probs = F.softmax(final_logits[diffusion_mask] / temperature, dim=-1)\n",
    "            top_probs, top_indices = torch.topk(probs, k=5)\n",
    "            print(\"\\nFinal top 5 token probabilities:\")\n",
    "            probs_list = top_probs[0].cpu().numpy()\n",
    "            indices_list = top_indices[0].cpu().numpy()\n",
    "            for prob, idx in zip(probs_list, indices_list):\n",
    "                print(f\"Token {idx}: {prob:.4f}\")\n",
    "            final_tokens[diffusion_mask] = torch.multinomial(probs, 1).squeeze(-1)\n",
    "        \n",
    "        return final_tokens.cpu().numpy()"
   ]
  },
  {
   "cell_type": "code",
   "execution_count": 284,
   "metadata": {},
   "outputs": [
    {
     "name": "stdout",
     "output_type": "stream",
     "text": [
      "\n",
      "Running diffusion...\n"
     ]
    },
    {
     "name": "stderr",
     "output_type": "stream",
     "text": [
      "100%|██████████| 1/1 [00:00<00:00, 254.63it/s]"
     ]
    },
    {
     "name": "stdout",
     "output_type": "stream",
     "text": [
      "\n",
      "Step 0, t=1.0000\n",
      "Entropy: 3.7540\n",
      "Top 3 tokens and probabilities:\n",
      "Token 111: 0.0824\n",
      "Token 18: 0.0641\n",
      "Token 176: 0.0570\n",
      "Score magnitude: 9.6369\n",
      "Noise magnitude: 10.2481\n",
      "\n",
      "Final top 5 token probabilities:\n",
      "Token 184: 0.1759\n",
      "Token 111: 0.1498\n",
      "Token 221: 0.0637\n",
      "Token 173: 0.0599\n",
      "Token 277: 0.0594\n"
     ]
    },
    {
     "name": "stderr",
     "output_type": "stream",
     "text": [
      "\n"
     ]
    },
    {
     "data": {
      "text/plain": [
       "array([111,  68, 104, 111, 176, 180, 184, 201, 215, 219, 221, 223, 225,\n",
       "       228, 257, 266, 277])"
      ]
     },
     "execution_count": 284,
     "metadata": {},
     "output_type": "execute_result"
    }
   ],
   "source": [
    "# For inpainting existing sequence\n",
    "sequence = [999,     68, 104, 111, 176, 180, 184, 201, 215, 219, 221,\n",
    "         223, 225, 228, 257, 266, 277] #12, 14, 18, 45\n",
    "\n",
    "\n",
    "result_tokens,= generate_sequences_with_fixed(model, input_sequences=sequence, num_steps=2, temperature = 1)\n",
    "\n",
    "result_tokens"
   ]
  },
  {
   "cell_type": "code",
   "execution_count": 427,
   "metadata": {},
   "outputs": [
    {
     "name": "stdout",
     "output_type": "stream",
     "text": [
      "\n",
      "Running diffusion...\n"
     ]
    },
    {
     "name": "stderr",
     "output_type": "stream",
     "text": [
      "100%|██████████| 9/9 [00:00<00:00, 320.49it/s]\n"
     ]
    },
    {
     "data": {
      "image/png": "[encoded data removed]",
      "text/plain": [
       "<Figure size 1000x600 with 1 Axes>"
      ]
     },
     "metadata": {},
     "output_type": "display_data"
    }
   ],
   "source": [
    "import matplotlib.pyplot as plt\n",
    "def generate_sequences_with_fixed(model, input_sequences, device='cuda', num_steps=100, temperature=0):\n",
    "    model.eval()\n",
    "    model = model.to(device)\n",
    "    \n",
    "    if isinstance(input_sequences, (list, np.ndarray)):\n",
    "        input_sequences = torch.tensor(input_sequences, device=device, dtype=torch.long)\n",
    "    if input_sequences.dim() == 1:\n",
    "        input_sequences = input_sequences.unsqueeze(0)\n",
    "        \n",
    "    num_sequences = input_sequences.shape[0]\n",
    "    max_sampled_length = input_sequences.shape[1]\n",
    "    sampled_lengths = torch.full((num_sequences,), max_sampled_length, device=device)\n",
    "    \n",
    "    # List to store entropy values\n",
    "    entropy_values = []\n",
    "    t_values = []\n",
    "    \n",
    "    with torch.no_grad():\n",
    "        uniform_steps = torch.linspace(1, 0, num_steps).to(device)\n",
    "        timesteps = model.time_warping.warp_time(uniform_steps)\n",
    "        \n",
    "        sigma_T = torch.sqrt(timesteps[0])\n",
    "        xt = sigma_T * torch.randn(num_sequences, max_sampled_length, model.embed_dim).to(device)\n",
    "        \n",
    "        mask = torch.zeros(num_sequences, max_sampled_length, dtype=torch.bool, device=device)\n",
    "        for i, length in enumerate(sampled_lengths):\n",
    "            mask[i, length:] = True\n",
    "            \n",
    "        diffusion_mask = (input_sequences == 999)\n",
    "        normalized_weight = model.embedding.get_normalized_weight()\n",
    "        \n",
    "        fixed_embeddings = torch.zeros_like(xt)\n",
    "        for i in range(num_sequences):\n",
    "            for j in range(max_sampled_length):\n",
    "                if not diffusion_mask[i, j]:\n",
    "                    token_idx = input_sequences[i, j]\n",
    "                    fixed_embeddings[i, j] = normalized_weight[token_idx]\n",
    "        \n",
    "        print(\"\\nRunning diffusion...\")\n",
    "        for step_idx in tqdm(range(len(timesteps) - 1)):\n",
    "            t = timesteps[step_idx]\n",
    "            t_next = timesteps[step_idx + 1]\n",
    "            \n",
    "            xt = torch.where(diffusion_mask.unsqueeze(-1), xt, fixed_embeddings)\n",
    "            \n",
    "            t_batch = t.expand(num_sequences)\n",
    "            logits = model(xt, mask, t_batch)\n",
    "            expected_x0 = model.get_expected_embedding(logits)\n",
    "            \n",
    "            probs = F.softmax(logits[diffusion_mask], dim=-1)\n",
    "            entropy = -torch.sum(probs * torch.log(probs + 1e-10), dim=-1)\n",
    "            \n",
    "            # Store values\n",
    "            entropy_values.append(entropy[0].item())\n",
    "            t_values.append(t.item())\n",
    "            \n",
    "            if t > t_next:\n",
    "                score = model.calculate_score(xt, expected_x0, t_batch)\n",
    "                dt = t_next - t\n",
    "                xt = xt -  score * dt # debate if there should be a time term here.\n",
    "                sigma = torch.sqrt(t_next) * 0 #regular ode does not have this noise term\n",
    "                noise = torch.randn_like(xt, device=device)\n",
    "                xt = xt +  t_next * sigma * noise\n",
    "        \n",
    "        # Store final values\n",
    "        final_logits = model(xt, mask, torch.zeros(num_sequences, device=device))\n",
    "        final_probs = F.softmax(final_logits[diffusion_mask], dim=-1)\n",
    "        final_entropy = -torch.sum(final_probs * torch.log(final_probs + 1e-10), dim=-1)\n",
    "        entropy_values.append(final_entropy[0].item())\n",
    "        t_values.append(0.0)\n",
    "        \n",
    "        final_tokens = input_sequences.clone()\n",
    "        \n",
    "        if temperature == 0:\n",
    "            final_tokens[diffusion_mask] = torch.argmax(final_logits[diffusion_mask], dim=-1)\n",
    "        else:\n",
    "            probs = F.softmax(final_logits[diffusion_mask] / temperature, dim=-1)\n",
    "            final_tokens[diffusion_mask] = torch.multinomial(probs, 1).squeeze(-1)\n",
    "        \n",
    "        return final_tokens.cpu().numpy(), entropy_values, t_values\n",
    "\n",
    "# Plot the results\n",
    "def plot_entropy_evolution(entropy_values, t_values):\n",
    "    plt.figure(figsize=(10, 6))\n",
    "    plt.plot(t_values, entropy_values, '-o')\n",
    "    plt.xlabel('Time (t)')\n",
    "    plt.ylabel('Entropy')\n",
    "    plt.title('Entropy Evolution During Diffusion Process')\n",
    "    plt.grid(True)\n",
    "    return plt\n",
    "\n",
    "# Usage example:\n",
    "sequence = [12, 14, 18, 45, 68, 104, 111, 176, 180, 184, 201, 215, 219, 221, 223, 225, 228, 257, 266, 277, 999]\n",
    "result_tokens, entropy_values, t_values = generate_sequences_with_fixed(model, sequence, num_steps=10)\n",
    "plot_entropy_evolution(entropy_values, t_values)\n",
    "plt.show()"
   ]
  }
 ],
 "metadata": {
  "kernelspec": {
   "display_name": "matlas",
   "language": "python",
   "name": "python3"
  },
  "language_info": {
   "codemirror_mode": {
    "name": "ipython",
    "version": 3
   },
   "file_extension": ".py",
   "mimetype": "text/x-python",
   "name": "python",
   "nbconvert_exporter": "python",
   "pygments_lexer": "ipython3",
   "version": "3.12.3"
  }
 },
 "nbformat": 4,
 "nbformat_minor": 2
}
