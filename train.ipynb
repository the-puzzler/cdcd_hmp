{
 "cells": [
  {
   "cell_type": "code",
   "execution_count": 1,
   "metadata": {},
   "outputs": [],
   "source": [
    "import pandas as pd\n",
    "from sklearn.model_selection import train_test_split\n",
    "import numpy as np\n",
    "from scipy.optimize import linear_sum_assignment\n",
    "import torch\n",
    "import torch.nn as nn\n",
    "import torch.nn.functional as F\n",
    "from tqdm import tqdm\n",
    "from collections import Counter\n",
    "\n",
    "from helper_funcs import generate_sequences\n"
   ]
  },
  {
   "cell_type": "code",
   "execution_count": 2,
   "metadata": {},
   "outputs": [
    {
     "name": "stdout",
     "output_type": "stream",
     "text": [
      "Train size: 6486\n",
      "Test size: 1622\n",
      "\n",
      "First few training samples:\n",
      "                                                            otu_arrays\n",
      "Unnamed: 0                                                            \n",
      "SRR044975.SRS011167  [30, 58, 82, 89, 93, 98, 99, 104, 117, 120, 12...\n",
      "SRR049604.SRS049164  [9, 10, 11, 14, 15, 16, 17, 20, 28, 30, 31, 32...\n",
      "SRR331714.SRS076947  [19, 30, 43, 58, 65, 70, 71, 74, 80, 90, 92, 9...\n",
      "SRR089999.SRS077685  [12, 14, 18, 20, 22, 38, 45, 67, 68, 76, 88, 1...\n",
      "SRR048091.SRS021563  [19, 30, 45, 52, 58, 60, 65, 70, 74, 80, 90, 9...\n",
      "\n",
      "Min array length: 3\n",
      "Max array length: 277\n",
      "Mean array length: 69.10\n"
     ]
    }
   ],
   "source": [
    "# Load data\n",
    "loaded_df = pd.read_hdf('./data/sample_otu_arrays.h5', key='df')\n",
    "\n",
    "# Set random seed\n",
    "np.random.seed(42)\n",
    "\n",
    "# Split indices into train/test\n",
    "train_idx, test_idx = train_test_split(loaded_df.index, test_size=0.2, random_state=42)\n",
    "\n",
    "# Create train and test dataframes\n",
    "train_df = loaded_df.loc[train_idx]\n",
    "test_df = loaded_df.loc[test_idx]\n",
    "\n",
    "print(f\"Train size: {len(train_df)}\")\n",
    "print(f\"Test size: {len(test_df)}\")\n",
    "print(\"\\nFirst few training samples:\")\n",
    "print(train_df.head())\n",
    "\n",
    "# Let's also look at array lengths\n",
    "array_lengths = [len(x) for x in loaded_df['otu_arrays']]\n",
    "print(f\"\\nMin array length: {min(array_lengths)}\")\n",
    "print(f\"Max array length: {max(array_lengths)}\")\n",
    "print(f\"Mean array length: {np.mean(array_lengths):.2f}\")"
   ]
  },
  {
   "cell_type": "code",
   "execution_count": 3,
   "metadata": {},
   "outputs": [
    {
     "name": "stdout",
     "output_type": "stream",
     "text": [
      "Batch tokens shape: torch.Size([68, 277])\n",
      "Batch mask shape: torch.Size([68, 277])\n",
      "\n",
      "Vocabulary size: 519\n"
     ]
    }
   ],
   "source": [
    "import torch\n",
    "from torch.utils.data import Dataset, DataLoader\n",
    "\n",
    "class OTUDataset(Dataset):\n",
    "   def __init__(self, df):\n",
    "       self.df = df\n",
    "       \n",
    "       # Find max sequence length for padding\n",
    "       self.max_len = max(len(x) for x in df['otu_arrays'])\n",
    "       \n",
    "   def __len__(self):\n",
    "       return len(self.df)\n",
    "   \n",
    "   def __getitem__(self, idx):\n",
    "       # Get array for this sample\n",
    "       array = self.df.iloc[idx]['otu_arrays']\n",
    "       \n",
    "       # Create padded tensor\n",
    "       padded = torch.zeros(self.max_len, dtype=torch.long)\n",
    "       padded[:len(array)] = torch.tensor(array)\n",
    "       \n",
    "       # Create mask (False where we have real tokens, True for padding)\n",
    "       mask = torch.zeros(self.max_len, dtype=torch.bool)\n",
    "       mask[len(array):] = True\n",
    "       \n",
    "       return padded, mask\n",
    "\n",
    "# Create datasets\n",
    "train_dataset = OTUDataset(train_df)\n",
    "test_dataset = OTUDataset(test_df)\n",
    "\n",
    "# Create dataloaders\n",
    "batch_size = 68\n",
    "train_loader = DataLoader(train_dataset, batch_size=batch_size, shuffle=True)\n",
    "test_loader = DataLoader(test_dataset, batch_size=batch_size, shuffle=False)\n",
    "\n",
    "# Verify shapes\n",
    "for tokens, mask in train_loader:\n",
    "   print(f\"Batch tokens shape: {tokens.shape}\")\n",
    "   print(f\"Batch mask shape: {mask.shape}\")\n",
    "\n",
    "   break\n",
    "\n",
    "# Get vocab size (maximum token ID + 1 for padding)\n",
    "vocab_size = max(max(x) for x in loaded_df['otu_arrays']) + 1\n",
    "print(f\"\\nVocabulary size: {vocab_size}\")"
   ]
  },
  {
   "cell_type": "code",
   "execution_count": 4,
   "metadata": {},
   "outputs": [
    {
     "data": {
      "text/plain": [
       "<module 'helper_funcs' from '/mnt/mnemo9/mpelus/matlas/cdcd_multi_train/cdcd_hmp/helper_funcs.py'>"
      ]
     },
     "execution_count": 4,
     "metadata": {},
     "output_type": "execute_result"
    }
   ],
   "source": [
    "import model_arch\n",
    "import helper_funcs\n",
    "import importlib\n",
    "from model_arch import CategoricalScoreDiffusion\n",
    "from helper_funcs import generate_sequences\n",
    "importlib.reload(model_arch)\n",
    "importlib.reload(helper_funcs)"
   ]
  },
  {
   "cell_type": "code",
   "execution_count": 9,
   "metadata": {},
   "outputs": [],
   "source": [
    "\n",
    "class TrainingMetrics:\n",
    "    def __init__(self):\n",
    "        self.best_val_loss = float('inf')\n",
    "\n",
    "        \n",
    "    def update_best_metrics(self, val_loss):\n",
    "        improved = False\n",
    "        if val_loss < self.best_val_loss:\n",
    "            self.best_val_loss = val_loss\n",
    "            improved = True\n",
    "        return improved\n",
    "\n",
    "def train_step(model, tokens, mask, optimizer, device):\n",
    "    optimizer.zero_grad()\n",
    "    \n",
    "    # Sample time using warping\n",
    "    t = model.sample_time(tokens.shape[0], tokens.device)\n",
    "\n",
    "    # Get clean embeddings\n",
    "    x0 = model.embedding(tokens)\n",
    "  \n",
    "    \n",
    "    # Add noise\n",
    "    noise = model.get_noise(x0, t)\n",
    "\n",
    "    xt = x0 + noise\n",
    "\n",
    "    \n",
    "    # Get model predictions\n",
    "    logits = model(xt, mask, t)\n",
    "\n",
    "    \n",
    "    # Compute loss\n",
    "    loss = F.cross_entropy(\n",
    "        logits.view(-1, logits.size(-1)),\n",
    "        tokens.view(-1),\n",
    "        ignore_index=0\n",
    "    )\n",
    "\n",
    "    if not torch.isnan(loss):\n",
    "        model.update_time_warping(t, loss.detach())\n",
    "        loss.backward()\n",
    "        optimizer.step()\n",
    "    \n",
    "    return loss.item()\n",
    "\n",
    "def validation_step(model, tokens, mask, device):\n",
    "    # Sample time using warping\n",
    "    t = model.sample_time(tokens.shape[0], tokens.device)\n",
    "    \n",
    "    # Get clean embeddings\n",
    "    x0 = model.embedding(tokens)\n",
    "    \n",
    "    # Add noise according to N(0, σt²)\n",
    "    noise = model.get_noise(x0, t)\n",
    "    xt = x0 + noise\n",
    "    \n",
    "    # Get model predictions\n",
    "    logits = model(xt, mask, t)\n",
    "    \n",
    "    # Compute cross-entropy loss with padding handling\n",
    "    loss = F.cross_entropy(\n",
    "        logits.view(-1, logits.size(-1)),\n",
    "        tokens.view(-1),\n",
    "        ignore_index=0  # Assuming 0 is padding token\n",
    "    )\n",
    "    \n",
    "    return loss.item()\n",
    "\n",
    "def save_checkpoint(model, optimizer, scheduler, epoch, train_loss, val_loss):\n",
    "    checkpoint = {\n",
    "        'epoch': epoch,\n",
    "        'model_state_dict': model.state_dict(),\n",
    "        'optimizer_state_dict': optimizer.state_dict(),\n",
    "        'scheduler_state_dict': scheduler.state_dict() if scheduler else None,\n",
    "        'train_loss': train_loss,\n",
    "        'val_loss': val_loss,\n",
    "        \n",
    "    }\n",
    "    torch.save(checkpoint, 'best_model.pt')\n",
    "\n",
    "def log_metrics(metrics_dict, step_type='batch'):\n",
    "    wandb.log(metrics_dict)\n",
    "\n",
    "def train_epoch(model, train_loader, optimizer, device, epoch):\n",
    "    model.train()\n",
    "    train_loss = 0\n",
    "    train_bar = tqdm(train_loader, desc=f'Training Epoch {epoch}')\n",
    "    \n",
    "    for batch_idx, (tokens, mask) in enumerate(train_bar):\n",
    "        tokens = tokens.to(device)\n",
    "        mask = mask.to(device)\n",
    "        \n",
    "        loss = train_step(model, tokens, mask, optimizer, device)\n",
    "        train_loss += loss\n",
    "        \n",
    "        train_bar.set_postfix({'loss': f'{loss:.4f}'})\n",
    "        log_metrics({\n",
    "            'train/batch_loss': loss,\n",
    "            'train/learning_rate': optimizer.param_groups[0]['lr'],\n",
    "            'epoch': epoch,\n",
    "            'batch': batch_idx\n",
    "        })\n",
    "    \n",
    "    return train_loss / len(train_loader)\n",
    "\n",
    "def validate_epoch(model, test_loader, device, epoch):\n",
    "    model.eval()\n",
    "    val_loss = 0\n",
    "    val_bar = tqdm(test_loader, desc=f'Validation Epoch {epoch}')\n",
    "    \n",
    "    # Collect real sequences\n",
    "    real_sequences = []\n",
    "    with torch.no_grad():\n",
    "        for tokens, mask in val_bar:\n",
    "            tokens = tokens.to(device)\n",
    "            mask = mask.to(device)\n",
    "            \n",
    "            loss = validation_step(model, tokens, mask, device)\n",
    "            val_loss += loss\n",
    "            val_bar.set_postfix({'loss': f'{loss:.4f}'})\n",
    "            \n",
    "            real_sequences.extend([seq[seq != 0].cpu().numpy() for seq in tokens])\n",
    "\n",
    "    \n",
    "    return val_loss / len(test_loader)\n",
    "\n",
    "\n",
    "\n",
    "def train_and_validate(model, train_loader, test_loader, optimizer, num_epochs, device, use_lr_scheduling=True):\n",
    "    metrics = TrainingMetrics()\n",
    "    \n",
    "    scheduler = None\n",
    "    if use_lr_scheduling:\n",
    "        scheduler = torch.optim.lr_scheduler.ReduceLROnPlateau(\n",
    "            optimizer, mode='min', patience=3, factor=0.5, verbose=True\n",
    "        )\n",
    "    \n",
    "    for epoch in range(num_epochs):\n",
    "        # Training phase\n",
    "        avg_train_loss = train_epoch(model, train_loader, optimizer, device, epoch)\n",
    "        log_metrics({'train/epoch_loss': avg_train_loss, 'epoch': epoch})\n",
    "         \n",
    "        # Validation phase (every 5 epochs)\n",
    "        if epoch % 1 == 0:\n",
    "            avg_val_loss = validate_epoch(model, test_loader, device, epoch)\n",
    "            \n",
    "            log_metrics({\n",
    "                'val/epoch_loss': avg_val_loss,\n",
    "                'epoch': epoch\n",
    "            })\n",
    "            \n",
    "            print(f'\\nEpoch {epoch}:')\n",
    "            print(f'Average Train Loss: {avg_train_loss:.4f}')\n",
    "            print(f'Average Val Loss: {avg_val_loss:.4f}')\n",
    "         \n",
    "            \n",
    "            if scheduler:\n",
    "                scheduler.step(avg_val_loss)\n",
    "            \n",
    "            if metrics.update_best_metrics(avg_val_loss):\n",
    "                save_checkpoint(model, optimizer, scheduler, epoch, avg_train_loss, avg_val_loss)\n",
    "                log_metrics({\n",
    "                    'best_model/val_loss': avg_val_loss,\n",
    "                    'best_model/train_loss': avg_train_loss,\n",
    "                    'best_model/epoch': epoch\n",
    "                })\n",
    "        else:\n",
    "            print(f'\\nEpoch {epoch}: Average Train Loss: {avg_train_loss:.4f}\\n')\n",
    "\n",
    "\n",
    "def train_step(model, tokens, mask, optimizer, device):\n",
    "    optimizer.zero_grad()\n",
    "    \n",
    "    t = model.sample_time(tokens.shape[0], tokens.device)\n",
    "    \n",
    "    # Get bin assignments and importance weights\n",
    "    bin_idx = model.time_warping.get_bin_assignment(t)\n",
    "    importance_weights = model.time_warping.get_importance_weights(bin_idx)\n",
    "    \n",
    "    x0 = model.embedding(tokens)\n",
    "    noise = model.get_noise(x0, t)\n",
    "    xt = x0 + noise\n",
    "    logits = model(xt, mask, t)\n",
    "    \n",
    "    loss = F.cross_entropy(\n",
    "        logits.view(-1, logits.size(-1)),\n",
    "        tokens.view(-1),\n",
    "        ignore_index=0\n",
    "    )\n",
    "\n",
    "    if not torch.isnan(loss):\n",
    "        # Collect statistics for time warping\n",
    "        model.time_warping.collect_statistics(t, loss.detach().expand(tokens.shape[0]))\n",
    "        \n",
    "        # Apply importance weights to loss\n",
    "        weighted_loss = loss * importance_weights.mean()\n",
    "        weighted_loss.backward()\n",
    "        optimizer.step()\n",
    "    \n",
    "    return loss.item()\n",
    "\n",
    "def train_epoch(model, train_loader, optimizer, device, epoch):\n",
    "    model.train()\n",
    "    train_loss = 0\n",
    "    train_bar = tqdm(train_loader, desc=f'Training Epoch {epoch}')\n",
    "    \n",
    "    for batch_idx, (tokens, mask) in enumerate(train_bar):\n",
    "        tokens = tokens.to(device)\n",
    "        mask = mask.to(device)\n",
    "        \n",
    "        loss = train_step(model, tokens, mask, optimizer, device)\n",
    "        train_loss += loss\n",
    "        train_bar.set_postfix({'loss': f'{loss:.4f}'})\n",
    "        \n",
    "        log_metrics({\n",
    "            'train/batch_loss': loss,\n",
    "            'train/learning_rate': optimizer.param_groups[0]['lr'],\n",
    "            'epoch': epoch,\n",
    "            'batch': batch_idx\n",
    "        })\n",
    "    \n",
    "    # Update time warping at end of epoch using accumulated statistics\n",
    "    model.time_warping.update_warping()\n",
    "    \n",
    "    return train_loss / len(train_loader)\n"
   ]
  },
  {
   "cell_type": "code",
   "execution_count": 24,
   "metadata": {},
   "outputs": [],
   "source": [
    "# Initialize model\n",
    "embed_dim =200 #8 \n",
    "num_layers = 1 #5\n",
    "num_heads = 20\n",
    "dim_feedforward = 50 #32\n",
    "num_fourier_features = 16# going from 4 to 8 destabilised the batch loss but seems o have resulted in a faster convergence and lower\n",
    "model = CategoricalScoreDiffusion(\n",
    "    vocab_size=vocab_size,\n",
    "    embed_dim=embed_dim,\n",
    "    num_layers=num_layers,\n",
    "    num_heads=num_heads,\n",
    "    dim_feedforward=dim_feedforward,\n",
    "    num_fourier_features=num_fourier_features\n",
    "    \n",
    ")\n",
    "\n",
    "device = 'cuda' if torch.cuda.is_available() else 'cpu'\n",
    "# Move model to device\n",
    "model = model.to(device)\n"
   ]
  },
  {
   "cell_type": "code",
   "execution_count": 25,
   "metadata": {},
   "outputs": [
    {
     "data": {
      "text/html": [
       "\n",
       "    <style>\n",
       "        .wandb-row {\n",
       "            display: flex;\n",
       "            flex-direction: row;\n",
       "            flex-wrap: wrap;\n",
       "            justify-content: flex-start;\n",
       "            width: 100%;\n",
       "        }\n",
       "        .wandb-col {\n",
       "            display: flex;\n",
       "            flex-direction: column;\n",
       "            flex-basis: 100%;\n",
       "            flex: 1;\n",
       "            padding: 10px;\n",
       "        }\n",
       "    </style>\n",
       "<div class=\"wandb-row\"><div class=\"wandb-col\"><h3>Run history:</h3><br/><table class=\"wandb\"><tr><td>batch</td><td>▆▁▇▅▆▅▇▅▃▃▇▂▂▃▄▆█▂▅▆▆▂▂▃▇▅▆▃▇▂▃▁▄▅▅█▃▅▇█</td></tr><tr><td>best_model/epoch</td><td>▁▁▂▂▂▃▄▅▅▅▆▇█</td></tr><tr><td>best_model/train_loss</td><td>█▄▃▃▂▂▁▁▁▁▁▁▁</td></tr><tr><td>best_model/val_loss</td><td>█▅▅▄▃▂▂▂▂▂▂▁▁</td></tr><tr><td>epoch</td><td>▁▁▁▁▁▁▁▂▂▂▂▂▂▂▃▃▃▃▄▄▄▅▅▅▅▅▅▅▆▆▇▇▇▇▇▇▇███</td></tr><tr><td>train/batch_loss</td><td>█▆▅▆▅▅▄▆▄▄▄▄▅▁▄▂▅▂▅▄▄▂▂▂▁▃▄▅▃▃▂▆▁▃▂▃▃▂▁▂</td></tr><tr><td>train/epoch_loss</td><td>█▅▄▃▃▃▃▃▂▂▂▂▂▂▂▂▁▁▂▂▁▂▂▁▂▂▂▁▁▁▁</td></tr><tr><td>train/learning_rate</td><td>██████████▄▄▄▄▄▄▄▄▄▄▄▄▄▄▂▂▂▂▂▂▂▂▂▂▂▁▁▁▁▁</td></tr><tr><td>val/epoch_loss</td><td>█▅▅▄▄▃▂▂▃▂▃▂▂▂▂▂▂▂▂▂▂▁▂▂▁▂▂▂▂▂▂</td></tr></table><br/></div><div class=\"wandb-col\"><h3>Run summary:</h3><br/><table class=\"wandb\"><tr><td>batch</td><td>22</td></tr><tr><td>best_model/epoch</td><td>24</td></tr><tr><td>best_model/train_loss</td><td>3.92641</td></tr><tr><td>best_model/val_loss</td><td>3.83339</td></tr><tr><td>epoch</td><td>31</td></tr><tr><td>train/batch_loss</td><td>3.74963</td></tr><tr><td>train/epoch_loss</td><td>3.89931</td></tr><tr><td>train/learning_rate</td><td>0.00013</td></tr><tr><td>val/epoch_loss</td><td>3.9088</td></tr></table><br/></div></div>"
      ],
      "text/plain": [
       "<IPython.core.display.HTML object>"
      ]
     },
     "metadata": {},
     "output_type": "display_data"
    },
    {
     "data": {
      "text/html": [
       " View run <strong style=\"color:#cdcd00\">misunderstood-vortex-79</strong> at: <a href='https://wandb.ai/matteopeluso1922/diffusion-hmp/runs/muhjrylz' target=\"_blank\">https://wandb.ai/matteopeluso1922/diffusion-hmp/runs/muhjrylz</a><br/> View project at: <a href='https://wandb.ai/matteopeluso1922/diffusion-hmp' target=\"_blank\">https://wandb.ai/matteopeluso1922/diffusion-hmp</a><br/>Synced 5 W&B file(s), 0 media file(s), 0 artifact file(s) and 0 other file(s)"
      ],
      "text/plain": [
       "<IPython.core.display.HTML object>"
      ]
     },
     "metadata": {},
     "output_type": "display_data"
    },
    {
     "data": {
      "text/html": [
       "Find logs at: <code>./wandb/run-20250120_125851-muhjrylz/logs</code>"
      ],
      "text/plain": [
       "<IPython.core.display.HTML object>"
      ]
     },
     "metadata": {},
     "output_type": "display_data"
    },
    {
     "data": {
      "text/html": [
       "Tracking run with wandb version 0.18.7"
      ],
      "text/plain": [
       "<IPython.core.display.HTML object>"
      ]
     },
     "metadata": {},
     "output_type": "display_data"
    },
    {
     "data": {
      "text/html": [
       "Run data is saved locally in <code>/mnt/mnemo9/mpelus/matlas/cdcd_multi_train/cdcd_hmp/wandb/run-20250120_130200-ngb3xsje</code>"
      ],
      "text/plain": [
       "<IPython.core.display.HTML object>"
      ]
     },
     "metadata": {},
     "output_type": "display_data"
    },
    {
     "data": {
      "text/html": [
       "Syncing run <strong><a href='https://wandb.ai/matteopeluso1922/diffusion-hmp/runs/ngb3xsje' target=\"_blank\">apricot-vortex-80</a></strong> to <a href='https://wandb.ai/matteopeluso1922/diffusion-hmp' target=\"_blank\">Weights & Biases</a> (<a href='https://wandb.me/developer-guide' target=\"_blank\">docs</a>)<br/>"
      ],
      "text/plain": [
       "<IPython.core.display.HTML object>"
      ]
     },
     "metadata": {},
     "output_type": "display_data"
    },
    {
     "data": {
      "text/html": [
       " View project at <a href='https://wandb.ai/matteopeluso1922/diffusion-hmp' target=\"_blank\">https://wandb.ai/matteopeluso1922/diffusion-hmp</a>"
      ],
      "text/plain": [
       "<IPython.core.display.HTML object>"
      ]
     },
     "metadata": {},
     "output_type": "display_data"
    },
    {
     "data": {
      "text/html": [
       " View run at <a href='https://wandb.ai/matteopeluso1922/diffusion-hmp/runs/ngb3xsje' target=\"_blank\">https://wandb.ai/matteopeluso1922/diffusion-hmp/runs/ngb3xsje</a>"
      ],
      "text/plain": [
       "<IPython.core.display.HTML object>"
      ]
     },
     "metadata": {},
     "output_type": "display_data"
    },
    {
     "data": {
      "text/html": [
       "<button onClick=\"this.nextSibling.style.display='block';this.style.display='none';\">Display W&B run</button><iframe src='https://wandb.ai/matteopeluso1922/diffusion-hmp/runs/ngb3xsje?jupyter=true' style='border:none;width:100%;height:420px;display:none;'></iframe>"
      ],
      "text/plain": [
       "<wandb.sdk.wandb_run.Run at 0x7f19d0ca0290>"
      ]
     },
     "execution_count": 25,
     "metadata": {},
     "output_type": "execute_result"
    }
   ],
   "source": [
    "import wandb\n",
    "num_epochs = 200\n",
    "learning_rate = 1e-3\n",
    "\n",
    "wandb.finish()\n",
    "wandb.init(\n",
    "    project=\"diffusion-hmp\",\n",
    "    config={\n",
    "        \"learning_rate\": learning_rate,\n",
    "        \"architecture\": \"restart\",\n",
    "        \"dataset\": \"hmp\",\n",
    "        \"epochs\": num_epochs,\n",
    "        \"embed_dim\": embed_dim,\n",
    "        \"num_layers\": num_layers,\n",
    "        \"num_heads\": num_heads,\n",
    "        \"dim_feedforward\": dim_feedforward,\n",
    "        \"vocab_size\": vocab_size,\n",
    "        \"num_fourier_features\":num_fourier_features\n",
    "    }\n",
    ")"
   ]
  },
  {
   "cell_type": "code",
   "execution_count": 26,
   "metadata": {},
   "outputs": [
    {
     "name": "stderr",
     "output_type": "stream",
     "text": [
      "/mnt/mnemo7/mpelus/miniconda3/envs/matlas/lib/python3.12/site-packages/torch/optim/lr_scheduler.py:62: UserWarning: The verbose parameter is deprecated. Please use get_last_lr() to access the learning rate.\n",
      "  warnings.warn(\n",
      "Training Epoch 0: 100%|██████████| 96/96 [00:02<00:00, 37.89it/s, loss=4.6341]\n",
      "Validation Epoch 0: 100%|██████████| 24/24 [00:00<00:00, 69.32it/s, loss=4.4193]\n"
     ]
    },
    {
     "name": "stdout",
     "output_type": "stream",
     "text": [
      "\n",
      "Epoch 0:\n",
      "Average Train Loss: 4.7910\n",
      "Average Val Loss: 4.4727\n"
     ]
    },
    {
     "name": "stderr",
     "output_type": "stream",
     "text": [
      "Training Epoch 1: 100%|██████████| 96/96 [00:02<00:00, 38.36it/s, loss=4.4846]\n",
      "Validation Epoch 1: 100%|██████████| 24/24 [00:00<00:00, 69.33it/s, loss=4.0166]\n"
     ]
    },
    {
     "name": "stdout",
     "output_type": "stream",
     "text": [
      "\n",
      "Epoch 1:\n",
      "Average Train Loss: 4.3131\n",
      "Average Val Loss: 4.1607\n"
     ]
    },
    {
     "name": "stderr",
     "output_type": "stream",
     "text": [
      "Training Epoch 2: 100%|██████████| 96/96 [00:02<00:00, 38.62it/s, loss=3.8314]\n",
      "Validation Epoch 2: 100%|██████████| 24/24 [00:00<00:00, 69.36it/s, loss=3.9818]\n"
     ]
    },
    {
     "name": "stdout",
     "output_type": "stream",
     "text": [
      "\n",
      "Epoch 2:\n",
      "Average Train Loss: 4.2129\n",
      "Average Val Loss: 4.1449\n"
     ]
    },
    {
     "name": "stderr",
     "output_type": "stream",
     "text": [
      "Training Epoch 3: 100%|██████████| 96/96 [00:02<00:00, 38.68it/s, loss=4.4418]\n",
      "Validation Epoch 3: 100%|██████████| 24/24 [00:00<00:00, 69.53it/s, loss=4.1112]\n"
     ]
    },
    {
     "name": "stdout",
     "output_type": "stream",
     "text": [
      "\n",
      "Epoch 3:\n",
      "Average Train Loss: 4.1245\n",
      "Average Val Loss: 4.0688\n"
     ]
    },
    {
     "name": "stderr",
     "output_type": "stream",
     "text": [
      "Training Epoch 4: 100%|██████████| 96/96 [00:02<00:00, 38.70it/s, loss=4.1868]\n",
      "Validation Epoch 4: 100%|██████████| 24/24 [00:00<00:00, 69.24it/s, loss=4.0970]\n"
     ]
    },
    {
     "name": "stdout",
     "output_type": "stream",
     "text": [
      "\n",
      "Epoch 4:\n",
      "Average Train Loss: 4.0871\n",
      "Average Val Loss: 4.0585\n"
     ]
    },
    {
     "name": "stderr",
     "output_type": "stream",
     "text": [
      "Training Epoch 5: 100%|██████████| 96/96 [00:02<00:00, 38.62it/s, loss=4.2395]\n",
      "Validation Epoch 5: 100%|██████████| 24/24 [00:00<00:00, 69.36it/s, loss=4.1804]\n"
     ]
    },
    {
     "name": "stdout",
     "output_type": "stream",
     "text": [
      "\n",
      "Epoch 5:\n",
      "Average Train Loss: 4.0670\n",
      "Average Val Loss: 4.0073\n"
     ]
    },
    {
     "name": "stderr",
     "output_type": "stream",
     "text": [
      "Training Epoch 6: 100%|██████████| 96/96 [00:02<00:00, 38.60it/s, loss=4.2781]\n",
      "Validation Epoch 6: 100%|██████████| 24/24 [00:00<00:00, 69.19it/s, loss=4.0674]\n"
     ]
    },
    {
     "name": "stdout",
     "output_type": "stream",
     "text": [
      "\n",
      "Epoch 6:\n",
      "Average Train Loss: 4.0342\n",
      "Average Val Loss: 3.9935\n"
     ]
    },
    {
     "name": "stderr",
     "output_type": "stream",
     "text": [
      "Training Epoch 7: 100%|██████████| 96/96 [00:02<00:00, 38.64it/s, loss=4.0411]\n",
      "Validation Epoch 7: 100%|██████████| 24/24 [00:00<00:00, 68.92it/s, loss=3.7807]\n"
     ]
    },
    {
     "name": "stdout",
     "output_type": "stream",
     "text": [
      "\n",
      "Epoch 7:\n",
      "Average Train Loss: 4.0175\n",
      "Average Val Loss: 4.0010\n"
     ]
    },
    {
     "name": "stderr",
     "output_type": "stream",
     "text": [
      "Training Epoch 8: 100%|██████████| 96/96 [00:02<00:00, 38.56it/s, loss=4.1820]\n",
      "Validation Epoch 8: 100%|██████████| 24/24 [00:00<00:00, 69.59it/s, loss=4.1641]\n"
     ]
    },
    {
     "name": "stdout",
     "output_type": "stream",
     "text": [
      "\n",
      "Epoch 8:\n",
      "Average Train Loss: 4.0104\n",
      "Average Val Loss: 4.0032\n"
     ]
    },
    {
     "name": "stderr",
     "output_type": "stream",
     "text": [
      "Training Epoch 9: 100%|██████████| 96/96 [00:02<00:00, 38.51it/s, loss=3.9887]\n",
      "Validation Epoch 9: 100%|██████████| 24/24 [00:00<00:00, 69.38it/s, loss=3.7766]\n"
     ]
    },
    {
     "name": "stdout",
     "output_type": "stream",
     "text": [
      "\n",
      "Epoch 9:\n",
      "Average Train Loss: 4.0098\n",
      "Average Val Loss: 3.9592\n"
     ]
    },
    {
     "name": "stderr",
     "output_type": "stream",
     "text": [
      "Training Epoch 10: 100%|██████████| 96/96 [00:02<00:00, 38.61it/s, loss=3.6705]\n",
      "Validation Epoch 10: 100%|██████████| 24/24 [00:00<00:00, 69.14it/s, loss=4.0762]\n"
     ]
    },
    {
     "name": "stdout",
     "output_type": "stream",
     "text": [
      "\n",
      "Epoch 10:\n",
      "Average Train Loss: 3.9664\n",
      "Average Val Loss: 3.9142\n"
     ]
    },
    {
     "name": "stderr",
     "output_type": "stream",
     "text": [
      "Training Epoch 11: 100%|██████████| 96/96 [00:02<00:00, 38.47it/s, loss=3.5495]\n",
      "Validation Epoch 11: 100%|██████████| 24/24 [00:00<00:00, 69.12it/s, loss=3.6354]\n"
     ]
    },
    {
     "name": "stdout",
     "output_type": "stream",
     "text": [
      "\n",
      "Epoch 11:\n",
      "Average Train Loss: 3.9468\n",
      "Average Val Loss: 3.9813\n"
     ]
    },
    {
     "name": "stderr",
     "output_type": "stream",
     "text": [
      "Training Epoch 12: 100%|██████████| 96/96 [00:02<00:00, 38.48it/s, loss=3.3882]\n",
      "Validation Epoch 12: 100%|██████████| 24/24 [00:00<00:00, 69.10it/s, loss=3.9118]\n"
     ]
    },
    {
     "name": "stdout",
     "output_type": "stream",
     "text": [
      "\n",
      "Epoch 12:\n",
      "Average Train Loss: 3.8951\n",
      "Average Val Loss: 3.9619\n"
     ]
    },
    {
     "name": "stderr",
     "output_type": "stream",
     "text": [
      "Training Epoch 13: 100%|██████████| 96/96 [00:02<00:00, 38.52it/s, loss=3.6425]\n",
      "Validation Epoch 13: 100%|██████████| 24/24 [00:00<00:00, 69.22it/s, loss=4.0791]\n"
     ]
    },
    {
     "name": "stdout",
     "output_type": "stream",
     "text": [
      "\n",
      "Epoch 13:\n",
      "Average Train Loss: 3.9453\n",
      "Average Val Loss: 3.9276\n"
     ]
    },
    {
     "name": "stderr",
     "output_type": "stream",
     "text": [
      "Training Epoch 14: 100%|██████████| 96/96 [00:02<00:00, 38.59it/s, loss=4.2395]\n",
      "Validation Epoch 14: 100%|██████████| 24/24 [00:00<00:00, 69.59it/s, loss=3.9972]\n"
     ]
    },
    {
     "name": "stdout",
     "output_type": "stream",
     "text": [
      "\n",
      "Epoch 14:\n",
      "Average Train Loss: 3.9710\n",
      "Average Val Loss: 3.9303\n"
     ]
    },
    {
     "name": "stderr",
     "output_type": "stream",
     "text": [
      "Training Epoch 15: 100%|██████████| 96/96 [00:02<00:00, 38.51it/s, loss=2.8135]\n",
      "Validation Epoch 15: 100%|██████████| 24/24 [00:00<00:00, 69.07it/s, loss=3.7307]\n"
     ]
    },
    {
     "name": "stdout",
     "output_type": "stream",
     "text": [
      "\n",
      "Epoch 15:\n",
      "Average Train Loss: 3.8932\n",
      "Average Val Loss: 3.8763\n"
     ]
    },
    {
     "name": "stderr",
     "output_type": "stream",
     "text": [
      "Training Epoch 16: 100%|██████████| 96/96 [00:02<00:00, 38.49it/s, loss=3.5829]\n",
      "Validation Epoch 16: 100%|██████████| 24/24 [00:00<00:00, 69.11it/s, loss=3.9951]\n"
     ]
    },
    {
     "name": "stdout",
     "output_type": "stream",
     "text": [
      "\n",
      "Epoch 16:\n",
      "Average Train Loss: 3.9079\n",
      "Average Val Loss: 3.8555\n"
     ]
    },
    {
     "name": "stderr",
     "output_type": "stream",
     "text": [
      "Training Epoch 17: 100%|██████████| 96/96 [00:02<00:00, 38.49it/s, loss=3.9067]\n",
      "Validation Epoch 17: 100%|██████████| 24/24 [00:00<00:00, 69.36it/s, loss=3.9267]\n"
     ]
    },
    {
     "name": "stdout",
     "output_type": "stream",
     "text": [
      "\n",
      "Epoch 17:\n",
      "Average Train Loss: 3.8907\n",
      "Average Val Loss: 3.9781\n"
     ]
    },
    {
     "name": "stderr",
     "output_type": "stream",
     "text": [
      "Training Epoch 18:  85%|████████▌ | 82/96 [00:02<00:00, 37.93it/s, loss=3.9168]\n"
     ]
    },
    {
     "ename": "KeyboardInterrupt",
     "evalue": "",
     "output_type": "error",
     "traceback": [
      "\u001b[0;31m---------------------------------------------------------------------------\u001b[0m",
      "\u001b[0;31mKeyboardInterrupt\u001b[0m                         Traceback (most recent call last)",
      "Cell \u001b[0;32mIn[26], line 5\u001b[0m\n\u001b[1;32m      3\u001b[0m optimizer \u001b[38;5;241m=\u001b[39m torch\u001b[38;5;241m.\u001b[39moptim\u001b[38;5;241m.\u001b[39mAdamW(model\u001b[38;5;241m.\u001b[39mparameters(), lr\u001b[38;5;241m=\u001b[39mlearning_rate)\n\u001b[1;32m      4\u001b[0m \u001b[38;5;66;03m# Start training\u001b[39;00m\n\u001b[0;32m----> 5\u001b[0m \u001b[43mtrain_and_validate\u001b[49m\u001b[43m(\u001b[49m\u001b[43mmodel\u001b[49m\u001b[43m,\u001b[49m\u001b[43m \u001b[49m\u001b[43mtrain_loader\u001b[49m\u001b[43m,\u001b[49m\u001b[43m \u001b[49m\u001b[43mtest_loader\u001b[49m\u001b[43m,\u001b[49m\u001b[43m \u001b[49m\u001b[43moptimizer\u001b[49m\u001b[43m,\u001b[49m\u001b[43m \u001b[49m\u001b[43mnum_epochs\u001b[49m\u001b[43m,\u001b[49m\u001b[43m \u001b[49m\u001b[43mdevice\u001b[49m\u001b[43m)\u001b[49m\n",
      "Cell \u001b[0;32mIn[9], line 141\u001b[0m, in \u001b[0;36mtrain_and_validate\u001b[0;34m(model, train_loader, test_loader, optimizer, num_epochs, device, use_lr_scheduling)\u001b[0m\n\u001b[1;32m    135\u001b[0m     scheduler \u001b[38;5;241m=\u001b[39m torch\u001b[38;5;241m.\u001b[39moptim\u001b[38;5;241m.\u001b[39mlr_scheduler\u001b[38;5;241m.\u001b[39mReduceLROnPlateau(\n\u001b[1;32m    136\u001b[0m         optimizer, mode\u001b[38;5;241m=\u001b[39m\u001b[38;5;124m'\u001b[39m\u001b[38;5;124mmin\u001b[39m\u001b[38;5;124m'\u001b[39m, patience\u001b[38;5;241m=\u001b[39m\u001b[38;5;241m3\u001b[39m, factor\u001b[38;5;241m=\u001b[39m\u001b[38;5;241m0.5\u001b[39m, verbose\u001b[38;5;241m=\u001b[39m\u001b[38;5;28;01mTrue\u001b[39;00m\n\u001b[1;32m    137\u001b[0m     )\n\u001b[1;32m    139\u001b[0m \u001b[38;5;28;01mfor\u001b[39;00m epoch \u001b[38;5;129;01min\u001b[39;00m \u001b[38;5;28mrange\u001b[39m(num_epochs):\n\u001b[1;32m    140\u001b[0m     \u001b[38;5;66;03m# Training phase\u001b[39;00m\n\u001b[0;32m--> 141\u001b[0m     avg_train_loss \u001b[38;5;241m=\u001b[39m \u001b[43mtrain_epoch\u001b[49m\u001b[43m(\u001b[49m\u001b[43mmodel\u001b[49m\u001b[43m,\u001b[49m\u001b[43m \u001b[49m\u001b[43mtrain_loader\u001b[49m\u001b[43m,\u001b[49m\u001b[43m \u001b[49m\u001b[43moptimizer\u001b[49m\u001b[43m,\u001b[49m\u001b[43m \u001b[49m\u001b[43mdevice\u001b[49m\u001b[43m,\u001b[49m\u001b[43m \u001b[49m\u001b[43mepoch\u001b[49m\u001b[43m)\u001b[49m\n\u001b[1;32m    142\u001b[0m     log_metrics({\u001b[38;5;124m'\u001b[39m\u001b[38;5;124mtrain/epoch_loss\u001b[39m\u001b[38;5;124m'\u001b[39m: avg_train_loss, \u001b[38;5;124m'\u001b[39m\u001b[38;5;124mepoch\u001b[39m\u001b[38;5;124m'\u001b[39m: epoch})\n\u001b[1;32m    144\u001b[0m     \u001b[38;5;66;03m# Validation phase (every 5 epochs)\u001b[39;00m\n",
      "Cell \u001b[0;32mIn[9], line 212\u001b[0m, in \u001b[0;36mtrain_epoch\u001b[0;34m(model, train_loader, optimizer, device, epoch)\u001b[0m\n\u001b[1;32m    209\u001b[0m tokens \u001b[38;5;241m=\u001b[39m tokens\u001b[38;5;241m.\u001b[39mto(device)\n\u001b[1;32m    210\u001b[0m mask \u001b[38;5;241m=\u001b[39m mask\u001b[38;5;241m.\u001b[39mto(device)\n\u001b[0;32m--> 212\u001b[0m loss \u001b[38;5;241m=\u001b[39m \u001b[43mtrain_step\u001b[49m\u001b[43m(\u001b[49m\u001b[43mmodel\u001b[49m\u001b[43m,\u001b[49m\u001b[43m \u001b[49m\u001b[43mtokens\u001b[49m\u001b[43m,\u001b[49m\u001b[43m \u001b[49m\u001b[43mmask\u001b[49m\u001b[43m,\u001b[49m\u001b[43m \u001b[49m\u001b[43moptimizer\u001b[49m\u001b[43m,\u001b[49m\u001b[43m \u001b[49m\u001b[43mdevice\u001b[49m\u001b[43m)\u001b[49m\n\u001b[1;32m    213\u001b[0m train_loss \u001b[38;5;241m+\u001b[39m\u001b[38;5;241m=\u001b[39m loss\n\u001b[1;32m    214\u001b[0m train_bar\u001b[38;5;241m.\u001b[39mset_postfix({\u001b[38;5;124m'\u001b[39m\u001b[38;5;124mloss\u001b[39m\u001b[38;5;124m'\u001b[39m: \u001b[38;5;124mf\u001b[39m\u001b[38;5;124m'\u001b[39m\u001b[38;5;132;01m{\u001b[39;00mloss\u001b[38;5;132;01m:\u001b[39;00m\u001b[38;5;124m.4f\u001b[39m\u001b[38;5;132;01m}\u001b[39;00m\u001b[38;5;124m'\u001b[39m})\n",
      "Cell \u001b[0;32mIn[9], line 201\u001b[0m, in \u001b[0;36mtrain_step\u001b[0;34m(model, tokens, mask, optimizer, device)\u001b[0m\n\u001b[1;32m    198\u001b[0m     weighted_loss\u001b[38;5;241m.\u001b[39mbackward()\n\u001b[1;32m    199\u001b[0m     optimizer\u001b[38;5;241m.\u001b[39mstep()\n\u001b[0;32m--> 201\u001b[0m \u001b[38;5;28;01mreturn\u001b[39;00m \u001b[43mloss\u001b[49m\u001b[38;5;241;43m.\u001b[39;49m\u001b[43mitem\u001b[49m\u001b[43m(\u001b[49m\u001b[43m)\u001b[49m\n",
      "\u001b[0;31mKeyboardInterrupt\u001b[0m: "
     ]
    }
   ],
   "source": [
    "# Training parameters\n",
    "# Initialize optimizer\n",
    "optimizer = torch.optim.AdamW(model.parameters(), lr=learning_rate)\n",
    "# Start training\n",
    "train_and_validate(model, train_loader, test_loader, optimizer, num_epochs, device)"
   ]
  },
  {
   "cell_type": "code",
   "execution_count": null,
   "metadata": {},
   "outputs": [],
   "source": [
    "checkpoint = {\n",
    "    'model_state_dict': model.state_dict(),\n",
    "    'optimizer_state_dict': optimizer.state_dict(),\n",
    "    'model_args': {\n",
    "        'vocab_size': vocab_size,\n",
    "        'embed_dim': embed_dim,\n",
    "        'num_layers': num_layers,\n",
    "        'num_heads': num_heads,\n",
    "        'dim_feedforward': dim_feedforward,\n",
    "        'num_fourier_features': num_fourier_features\n",
    "    }\n",
    "}\n",
    "\n",
    "torch.save(checkpoint, 'model_checkpoint_3.58pt')"
   ]
  },
  {
   "cell_type": "code",
   "execution_count": null,
   "metadata": {},
   "outputs": [],
   "source": [
    "from model_arch import CategoricalScoreDiffusion\n",
    "\n",
    "checkpoint = torch.load('model_checkpoint_2.65.pt')\n",
    "model = CategoricalScoreDiffusion(**checkpoint['model_args'])\n",
    "model.load_state_dict(checkpoint['model_state_dict'])\n",
    "optimizer.load_state_dict(checkpoint['optimizer_state_dict'])"
   ]
  },
  {
   "cell_type": "code",
   "execution_count": null,
   "metadata": {},
   "outputs": [
    {
     "name": "stdout",
     "output_type": "stream",
     "text": [
      "Learning rate: 0.001\n"
     ]
    }
   ],
   "source": [
    "# Access the learning rate\n",
    "# Get the optimizer state dict\n",
    "optimizer_state = checkpoint['optimizer_state_dict']\n",
    "learning_rate = optimizer_state['param_groups'][0]['lr']\n",
    "print(f\"Learning rate: {learning_rate}\")"
   ]
  },
  {
   "cell_type": "code",
   "execution_count": null,
   "metadata": {},
   "outputs": [],
   "source": [
    "import time\n",
    "from contextlib import contextmanager\n",
    "\n",
    "@contextmanager\n",
    "def timer(name):\n",
    "    start = time.perf_counter()\n",
    "    yield\n",
    "    end = time.perf_counter()\n",
    "    print(f\"{name}: {(end - start)*1000:.2f} ms\")"
   ]
  }
 ],
 "metadata": {
  "kernelspec": {
   "display_name": "neuralink",
   "language": "python",
   "name": "python3"
  },
  "language_info": {
   "codemirror_mode": {
    "name": "ipython",
    "version": 3
   },
   "file_extension": ".py",
   "mimetype": "text/x-python",
   "name": "python",
   "nbconvert_exporter": "python",
   "pygments_lexer": "ipython3",
   "version": "3.12.3"
  }
 },
 "nbformat": 4,
 "nbformat_minor": 2
}
