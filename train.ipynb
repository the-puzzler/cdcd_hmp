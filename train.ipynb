{
 "cells": [
  {
   "cell_type": "code",
   "execution_count": 1,
   "metadata": {},
   "outputs": [],
   "source": [
    "import pandas as pd\n",
    "from sklearn.model_selection import train_test_split\n",
    "import numpy as np\n",
    "from scipy.optimize import linear_sum_assignment\n",
    "import torch\n",
    "import torch.nn as nn\n",
    "import torch.nn.functional as F\n",
    "from tqdm import tqdm\n",
    "from collections import Counter\n",
    "\n",
    "from helper_funcs import generate_sequences\n"
   ]
  },
  {
   "cell_type": "code",
   "execution_count": 2,
   "metadata": {},
   "outputs": [
    {
     "name": "stderr",
     "output_type": "stream",
     "text": [
      "\u001b[34m\u001b[1mwandb\u001b[0m: Using wandb-core as the SDK backend.  Please refer to https://wandb.me/wandb-core for more information.\n",
      "\u001b[34m\u001b[1mwandb\u001b[0m: Currently logged in as: \u001b[33mmatteopeluso1922\u001b[0m. Use \u001b[1m`wandb login --relogin`\u001b[0m to force relogin\n"
     ]
    },
    {
     "data": {
      "text/html": [
       "Tracking run with wandb version 0.18.7"
      ],
      "text/plain": [
       "<IPython.core.display.HTML object>"
      ]
     },
     "metadata": {},
     "output_type": "display_data"
    },
    {
     "data": {
      "text/html": [
       "Run data is saved locally in <code>/mnt/mnemo9/mpelus/matlas/cdcd_multi_train/cdcd_hmp/wandb/run-20250121_084514-pjutgpmq</code>"
      ],
      "text/plain": [
       "<IPython.core.display.HTML object>"
      ]
     },
     "metadata": {},
     "output_type": "display_data"
    },
    {
     "data": {
      "text/html": [
       "Syncing run <strong><a href='https://wandb.ai/matteopeluso1922/cdcd_hmp/runs/pjutgpmq' target=\"_blank\">daily-sea-3</a></strong> to <a href='https://wandb.ai/matteopeluso1922/cdcd_hmp' target=\"_blank\">Weights & Biases</a> (<a href='https://wandb.me/developer-guide' target=\"_blank\">docs</a>)<br/>"
      ],
      "text/plain": [
       "<IPython.core.display.HTML object>"
      ]
     },
     "metadata": {},
     "output_type": "display_data"
    },
    {
     "data": {
      "text/html": [
       " View project at <a href='https://wandb.ai/matteopeluso1922/cdcd_hmp' target=\"_blank\">https://wandb.ai/matteopeluso1922/cdcd_hmp</a>"
      ],
      "text/plain": [
       "<IPython.core.display.HTML object>"
      ]
     },
     "metadata": {},
     "output_type": "display_data"
    },
    {
     "data": {
      "text/html": [
       " View run at <a href='https://wandb.ai/matteopeluso1922/cdcd_hmp/runs/pjutgpmq' target=\"_blank\">https://wandb.ai/matteopeluso1922/cdcd_hmp/runs/pjutgpmq</a>"
      ],
      "text/plain": [
       "<IPython.core.display.HTML object>"
      ]
     },
     "metadata": {},
     "output_type": "display_data"
    },
    {
     "name": "stderr",
     "output_type": "stream",
     "text": [
      "\u001b[34m\u001b[1mwandb\u001b[0m:   1 of 1 files downloaded.  \n"
     ]
    }
   ],
   "source": [
    "import wandb\n",
    "run = wandb.init()\n",
    "artifact = run.use_artifact('matteopeluso1922/cdcd-hmp-param-search-orion_truewarp/best_model_aiicxkad:v0', type='model')\n",
    "artifact_dir = artifact.download()"
   ]
  },
  {
   "cell_type": "code",
   "execution_count": 3,
   "metadata": {},
   "outputs": [
    {
     "name": "stdout",
     "output_type": "stream",
     "text": [
      "Train size: 6486\n",
      "Test size: 1622\n",
      "\n",
      "First few training samples:\n",
      "                                                            otu_arrays\n",
      "Unnamed: 0                                                            \n",
      "SRR044975.SRS011167  [30, 58, 82, 89, 93, 98, 99, 104, 117, 120, 12...\n",
      "SRR049604.SRS049164  [9, 10, 11, 14, 15, 16, 17, 20, 28, 30, 31, 32...\n",
      "SRR331714.SRS076947  [19, 30, 43, 58, 65, 70, 71, 74, 80, 90, 92, 9...\n",
      "SRR089999.SRS077685  [12, 14, 18, 20, 22, 38, 45, 67, 68, 76, 88, 1...\n",
      "SRR048091.SRS021563  [19, 30, 45, 52, 58, 60, 65, 70, 74, 80, 90, 9...\n",
      "\n",
      "Min array length: 3\n",
      "Max array length: 277\n",
      "Mean array length: 69.10\n"
     ]
    }
   ],
   "source": [
    "# Load data\n",
    "loaded_df = pd.read_hdf('./data/sample_otu_arrays.h5', key='df')\n",
    "\n",
    "# Set random seed\n",
    "np.random.seed(42)\n",
    "\n",
    "# Split indices into train/test\n",
    "train_idx, test_idx = train_test_split(loaded_df.index, test_size=0.2, random_state=42)\n",
    "\n",
    "# Create train and test dataframes\n",
    "train_df = loaded_df.loc[train_idx]\n",
    "test_df = loaded_df.loc[test_idx]\n",
    "\n",
    "print(f\"Train size: {len(train_df)}\")\n",
    "print(f\"Test size: {len(test_df)}\")\n",
    "print(\"\\nFirst few training samples:\")\n",
    "print(train_df.head())\n",
    "\n",
    "# Let's also look at array lengths\n",
    "array_lengths = [len(x) for x in loaded_df['otu_arrays']]\n",
    "print(f\"\\nMin array length: {min(array_lengths)}\")\n",
    "print(f\"Max array length: {max(array_lengths)}\")\n",
    "print(f\"Mean array length: {np.mean(array_lengths):.2f}\")"
   ]
  },
  {
   "cell_type": "code",
   "execution_count": 4,
   "metadata": {},
   "outputs": [
    {
     "name": "stdout",
     "output_type": "stream",
     "text": [
      "Batch tokens shape: torch.Size([8, 277])\n",
      "Batch mask shape: torch.Size([8, 277])\n",
      "\n",
      "Vocabulary size: 519\n"
     ]
    }
   ],
   "source": [
    "import torch\n",
    "from torch.utils.data import Dataset, DataLoader\n",
    "\n",
    "class OTUDataset(Dataset):\n",
    "   def __init__(self, df):\n",
    "       self.df = df\n",
    "       \n",
    "       # Find max sequence length for padding\n",
    "       self.max_len = max(len(x) for x in df['otu_arrays'])\n",
    "       \n",
    "   def __len__(self):\n",
    "       return len(self.df)\n",
    "   \n",
    "   def __getitem__(self, idx):\n",
    "       # Get array for this sample\n",
    "       array = self.df.iloc[idx]['otu_arrays']\n",
    "       \n",
    "       # Create padded tensor\n",
    "       padded = torch.zeros(self.max_len, dtype=torch.long)\n",
    "       padded[:len(array)] = torch.tensor(array)\n",
    "       \n",
    "       # Create mask (False where we have real tokens, True for padding)\n",
    "       mask = torch.zeros(self.max_len, dtype=torch.bool)\n",
    "       mask[len(array):] = True\n",
    "       \n",
    "       return padded, mask\n",
    "\n",
    "# Create datasets\n",
    "train_dataset = OTUDataset(train_df)\n",
    "test_dataset = OTUDataset(test_df)\n",
    "\n",
    "# Create dataloaders\n",
    "batch_size = 8\n",
    "train_loader = DataLoader(train_dataset, batch_size=batch_size, shuffle=True)\n",
    "test_loader = DataLoader(test_dataset, batch_size=batch_size, shuffle=False)\n",
    "\n",
    "# Verify shapes\n",
    "for tokens, mask in train_loader:\n",
    "   print(f\"Batch tokens shape: {tokens.shape}\")\n",
    "   print(f\"Batch mask shape: {mask.shape}\")\n",
    "\n",
    "   break\n",
    "\n",
    "# Get vocab size (maximum token ID + 1 for padding)\n",
    "vocab_size = max(max(x) for x in loaded_df['otu_arrays']) + 1\n",
    "print(f\"\\nVocabulary size: {vocab_size}\")"
   ]
  },
  {
   "cell_type": "code",
   "execution_count": 5,
   "metadata": {},
   "outputs": [
    {
     "data": {
      "text/plain": [
       "<module 'helper_funcs' from '/mnt/mnemo9/mpelus/matlas/cdcd_multi_train/cdcd_hmp/helper_funcs.py'>"
      ]
     },
     "execution_count": 5,
     "metadata": {},
     "output_type": "execute_result"
    }
   ],
   "source": [
    "import model_arch\n",
    "import helper_funcs\n",
    "import importlib\n",
    "from model_arch import CategoricalScoreDiffusion\n",
    "from helper_funcs import generate_sequences\n",
    "importlib.reload(model_arch)\n",
    "importlib.reload(helper_funcs)"
   ]
  },
  {
   "cell_type": "code",
   "execution_count": 6,
   "metadata": {},
   "outputs": [],
   "source": [
    "\n",
    "class TrainingMetrics:\n",
    "    def __init__(self):\n",
    "        self.best_val_loss = float('inf')\n",
    "\n",
    "        \n",
    "    def update_best_metrics(self, val_loss):\n",
    "        improved = False\n",
    "        if val_loss < self.best_val_loss:\n",
    "            self.best_val_loss = val_loss\n",
    "            improved = True\n",
    "        return improved\n",
    "\n",
    "def train_step(model, tokens, mask, optimizer, device):\n",
    "    optimizer.zero_grad()\n",
    "    \n",
    "    # Sample time using warping\n",
    "    t = model.sample_time(tokens.shape[0], tokens.device)\n",
    "\n",
    "    # Get clean embeddings\n",
    "    x0 = model.embedding(tokens)\n",
    "  \n",
    "    \n",
    "    # Add noise\n",
    "    noise = model.get_noise(x0, t)\n",
    "\n",
    "    xt = x0 + noise\n",
    "\n",
    "    \n",
    "    # Get model predictions\n",
    "    logits = model(xt, mask, t)\n",
    "\n",
    "    \n",
    "    # Compute loss\n",
    "    loss = F.cross_entropy(\n",
    "        logits.view(-1, logits.size(-1)),\n",
    "        tokens.view(-1),\n",
    "        ignore_index=0\n",
    "    )\n",
    "\n",
    "    if not torch.isnan(loss):\n",
    "        model.update_time_warping(t, loss.detach())\n",
    "        loss.backward()\n",
    "        optimizer.step()\n",
    "    \n",
    "    return loss.item()\n",
    "\n",
    "def validation_step(model, tokens, mask, device):\n",
    "    # Sample time using warping\n",
    "    t = model.sample_time(tokens.shape[0], tokens.device)\n",
    "    \n",
    "    # Get clean embeddings\n",
    "    x0 = model.embedding(tokens)\n",
    "    \n",
    "    # Add noise according to N(0, σt²)\n",
    "    noise = model.get_noise(x0, t)\n",
    "    xt = x0 + noise\n",
    "    \n",
    "    # Get model predictions\n",
    "    logits = model(xt, mask, t)\n",
    "    \n",
    "    # Compute cross-entropy loss with padding handling\n",
    "    loss = F.cross_entropy(\n",
    "        logits.view(-1, logits.size(-1)),\n",
    "        tokens.view(-1),\n",
    "        ignore_index=0  # Assuming 0 is padding token\n",
    "    )\n",
    "    \n",
    "    return loss.item()\n",
    "\n",
    "def save_checkpoint(model, optimizer, scheduler, epoch, train_loss, val_loss):\n",
    "    checkpoint = {\n",
    "        'epoch': epoch,\n",
    "        'model_state_dict': model.state_dict(),\n",
    "        'optimizer_state_dict': optimizer.state_dict(),\n",
    "        'scheduler_state_dict': scheduler.state_dict() if scheduler else None,\n",
    "        'train_loss': train_loss,\n",
    "        'val_loss': val_loss,\n",
    "        \n",
    "    }\n",
    "    torch.save(checkpoint, 'best_model.pt')\n",
    "\n",
    "def log_metrics(metrics_dict, step_type='batch'):\n",
    "    wandb.log(metrics_dict)\n",
    "\n",
    "def train_epoch(model, train_loader, optimizer, device, epoch):\n",
    "    model.train()\n",
    "    train_loss = 0\n",
    "    train_bar = tqdm(train_loader, desc=f'Training Epoch {epoch}')\n",
    "    \n",
    "    for batch_idx, (tokens, mask) in enumerate(train_bar):\n",
    "        tokens = tokens.to(device)\n",
    "        mask = mask.to(device)\n",
    "        \n",
    "        loss = train_step(model, tokens, mask, optimizer, device)\n",
    "        train_loss += loss\n",
    "        \n",
    "        train_bar.set_postfix({'loss': f'{loss:.4f}'})\n",
    "        log_metrics({\n",
    "            'train/batch_loss': loss,\n",
    "            'train/learning_rate': optimizer.param_groups[0]['lr'],\n",
    "            'epoch': epoch,\n",
    "            'batch': batch_idx\n",
    "        })\n",
    "    \n",
    "    return train_loss / len(train_loader)\n",
    "\n",
    "def validate_epoch(model, test_loader, device, epoch):\n",
    "    model.eval()\n",
    "    val_loss = 0\n",
    "    val_bar = tqdm(test_loader, desc=f'Validation Epoch {epoch}')\n",
    "    \n",
    "    # Collect real sequences\n",
    "    real_sequences = []\n",
    "    with torch.no_grad():\n",
    "        for tokens, mask in val_bar:\n",
    "            tokens = tokens.to(device)\n",
    "            mask = mask.to(device)\n",
    "            \n",
    "            loss = validation_step(model, tokens, mask, device)\n",
    "            val_loss += loss\n",
    "            val_bar.set_postfix({'loss': f'{loss:.4f}'})\n",
    "            \n",
    "            real_sequences.extend([seq[seq != 0].cpu().numpy() for seq in tokens])\n",
    "\n",
    "    \n",
    "    return val_loss / len(test_loader)\n",
    "\n",
    "\n",
    "\n",
    "def train_and_validate(model, train_loader, test_loader, optimizer, num_epochs, device, use_lr_scheduling=True):\n",
    "    metrics = TrainingMetrics()\n",
    "    \n",
    "    scheduler = None\n",
    "    if use_lr_scheduling:\n",
    "        scheduler = torch.optim.lr_scheduler.ReduceLROnPlateau(\n",
    "            optimizer, mode='min', patience=3, factor=0.5, verbose=True\n",
    "        )\n",
    "    \n",
    "    for epoch in range(num_epochs):\n",
    "        # Training phase\n",
    "        avg_train_loss = train_epoch(model, train_loader, optimizer, device, epoch)\n",
    "        log_metrics({'train/epoch_loss': avg_train_loss, 'epoch': epoch})\n",
    "         \n",
    "        # Validation phase (every 5 epochs)\n",
    "        if epoch % 1 == 0:\n",
    "            avg_val_loss = validate_epoch(model, test_loader, device, epoch)\n",
    "            \n",
    "            log_metrics({\n",
    "                'val/epoch_loss': avg_val_loss,\n",
    "                'epoch': epoch\n",
    "            })\n",
    "            \n",
    "            print(f'\\nEpoch {epoch}:')\n",
    "            print(f'Average Train Loss: {avg_train_loss:.4f}')\n",
    "            print(f'Average Val Loss: {avg_val_loss:.4f}')\n",
    "         \n",
    "            \n",
    "            if scheduler:\n",
    "                scheduler.step(avg_val_loss)\n",
    "            \n",
    "            if metrics.update_best_metrics(avg_val_loss):\n",
    "                save_checkpoint(model, optimizer, scheduler, epoch, avg_train_loss, avg_val_loss)\n",
    "                log_metrics({\n",
    "                    'best_model/val_loss': avg_val_loss,\n",
    "                    'best_model/train_loss': avg_train_loss,\n",
    "                    'best_model/epoch': epoch\n",
    "                })\n",
    "        else:\n",
    "            print(f'\\nEpoch {epoch}: Average Train Loss: {avg_train_loss:.4f}\\n')\n",
    "\n",
    "\n",
    "def train_step(model, tokens, mask, optimizer, device):\n",
    "    optimizer.zero_grad()\n",
    "    \n",
    "    t = model.sample_time(tokens.shape[0], tokens.device)\n",
    "    \n",
    "    # Get bin assignments and importance weights\n",
    "    bin_idx = model.time_warping.get_bin_assignment(t)\n",
    "    importance_weights = model.time_warping.get_importance_weights(bin_idx)\n",
    "    \n",
    "    x0 = model.embedding(tokens)\n",
    "    noise = model.get_noise(x0, t)\n",
    "    xt = x0 + noise\n",
    "    logits = model(xt, mask, t)\n",
    "    \n",
    "    loss = F.cross_entropy(\n",
    "        logits.view(-1, logits.size(-1)),\n",
    "        tokens.view(-1),\n",
    "        ignore_index=0\n",
    "    )\n",
    "\n",
    "    if not torch.isnan(loss):\n",
    "        # Collect statistics for time warping\n",
    "        model.time_warping.collect_statistics(t, loss.detach().expand(tokens.shape[0]))\n",
    "        \n",
    "        # Apply importance weights to loss\n",
    "        weighted_loss = loss * importance_weights.mean()\n",
    "        weighted_loss.backward()\n",
    "        optimizer.step()\n",
    "    \n",
    "    return loss.item()\n",
    "\n",
    "def train_epoch(model, train_loader, optimizer, device, epoch):\n",
    "    model.train()\n",
    "    train_loss = 0\n",
    "    train_bar = tqdm(train_loader, desc=f'Training Epoch {epoch}')\n",
    "    \n",
    "    for batch_idx, (tokens, mask) in enumerate(train_bar):\n",
    "        tokens = tokens.to(device)\n",
    "        mask = mask.to(device)\n",
    "        \n",
    "        loss = train_step(model, tokens, mask, optimizer, device)\n",
    "        train_loss += loss\n",
    "        train_bar.set_postfix({'loss': f'{loss:.4f}'})\n",
    "        \n",
    "        log_metrics({\n",
    "            'train/batch_loss': loss,\n",
    "            'train/learning_rate': optimizer.param_groups[0]['lr'],\n",
    "            'epoch': epoch,\n",
    "            'batch': batch_idx\n",
    "        })\n",
    "    \n",
    "    # Update time warping at end of epoch using accumulated statistics\n",
    "    model.time_warping.update_warping()\n",
    "    \n",
    "    return train_loss / len(train_loader)\n"
   ]
  },
  {
   "cell_type": "code",
   "execution_count": 14,
   "metadata": {},
   "outputs": [
    {
     "name": "stderr",
     "output_type": "stream",
     "text": [
      "/tmp/ipykernel_660631/4034579134.py:1: FutureWarning: You are using `torch.load` with `weights_only=False` (the current default value), which uses the default pickle module implicitly. It is possible to construct malicious pickle data which will execute arbitrary code during unpickling (See https://github.com/pytorch/pytorch/blob/main/SECURITY.md#untrusted-models for more details). In a future release, the default value for `weights_only` will be flipped to `True`. This limits the functions that could be executed during unpickling. Arbitrary objects will no longer be allowed to be loaded via this mode unless they are explicitly allowlisted by the user via `torch.serialization.add_safe_globals`. We recommend you start setting `weights_only=True` for any use case where you don't have full control of the loaded file. Please open an issue on GitHub for any issues related to this experimental feature.\n",
      "  checkpoint = torch.load(f\"/mnt/mnemo9/mpelus/matlas/cdcd_multi_train/cdcd_hmp/artifacts/best_model_aiicxkad:v0/tmp21qdlph1.pt\")\n"
     ]
    }
   ],
   "source": [
    "checkpoint = torch.load(f\"/mnt/mnemo9/mpelus/matlas/cdcd_multi_train/cdcd_hmp/artifacts/best_model_aiicxkad:v0/tmp21qdlph1.pt\")\n",
    "# Initialize model with the same parameters you showed\n",
    "embed_dim = 96\n",
    "num_layers = 4\n",
    "num_heads = 12\n",
    "dim_feedforward = 28\n",
    "num_fourier_features = 4\n",
    "\n",
    "model = CategoricalScoreDiffusion(\n",
    "    vocab_size=vocab_size,\n",
    "    embed_dim=embed_dim,\n",
    "    num_layers=num_layers,\n",
    "    num_heads=num_heads,\n",
    "    dim_feedforward=dim_feedforward,\n",
    "    num_fourier_features=num_fourier_features\n",
    ")\n",
    "\n",
    "\n",
    "model.load_state_dict(checkpoint)\n",
    "\n",
    "device = 'cuda' if torch.cuda.is_available() else 'cpu'\n",
    "# Move model to device\n",
    "model = model.to(device)"
   ]
  },
  {
   "cell_type": "code",
   "execution_count": 12,
   "metadata": {},
   "outputs": [],
   "source": [
    "# Initialize model\n",
    "embed_dim =200 #8 \n",
    "num_layers = 1 #5\n",
    "num_heads = 20\n",
    "dim_feedforward = 50 #32\n",
    "num_fourier_features = 16# going from 4 to 8 destabilised the batch loss but seems o have resulted in a faster convergence and lower\n",
    "model = CategoricalScoreDiffusion(\n",
    "    vocab_size=vocab_size,\n",
    "    embed_dim=embed_dim,\n",
    "    num_layers=num_layers,\n",
    "    num_heads=num_heads,\n",
    "    dim_feedforward=dim_feedforward,\n",
    "    num_fourier_features=num_fourier_features\n",
    "    \n",
    ")\n",
    "\n",
    "device = 'cuda' if torch.cuda.is_available() else 'cpu'\n",
    "# Move model to device\n",
    "model = model.to(device)\n"
   ]
  },
  {
   "cell_type": "code",
   "execution_count": 11,
   "metadata": {},
   "outputs": [
    {
     "data": {
      "text/html": [
       " View run <strong style=\"color:#cdcd00\">daily-sea-3</strong> at: <a href='https://wandb.ai/matteopeluso1922/cdcd_hmp/runs/pjutgpmq' target=\"_blank\">https://wandb.ai/matteopeluso1922/cdcd_hmp/runs/pjutgpmq</a><br/> View project at: <a href='https://wandb.ai/matteopeluso1922/cdcd_hmp' target=\"_blank\">https://wandb.ai/matteopeluso1922/cdcd_hmp</a><br/>Synced 4 W&B file(s), 0 media file(s), 3 artifact file(s) and 0 other file(s)"
      ],
      "text/plain": [
       "<IPython.core.display.HTML object>"
      ]
     },
     "metadata": {},
     "output_type": "display_data"
    },
    {
     "data": {
      "text/html": [
       "Find logs at: <code>./wandb/run-20250121_084514-pjutgpmq/logs</code>"
      ],
      "text/plain": [
       "<IPython.core.display.HTML object>"
      ]
     },
     "metadata": {},
     "output_type": "display_data"
    },
    {
     "data": {
      "text/html": [
       "Tracking run with wandb version 0.18.7"
      ],
      "text/plain": [
       "<IPython.core.display.HTML object>"
      ]
     },
     "metadata": {},
     "output_type": "display_data"
    },
    {
     "data": {
      "text/html": [
       "Run data is saved locally in <code>/mnt/mnemo9/mpelus/matlas/cdcd_multi_train/cdcd_hmp/wandb/run-20250121_085256-cwfen5dw</code>"
      ],
      "text/plain": [
       "<IPython.core.display.HTML object>"
      ]
     },
     "metadata": {},
     "output_type": "display_data"
    },
    {
     "data": {
      "text/html": [
       "Syncing run <strong><a href='https://wandb.ai/matteopeluso1922/diffusion-hmp/runs/cwfen5dw' target=\"_blank\">faithful-snow-82</a></strong> to <a href='https://wandb.ai/matteopeluso1922/diffusion-hmp' target=\"_blank\">Weights & Biases</a> (<a href='https://wandb.me/developer-guide' target=\"_blank\">docs</a>)<br/>"
      ],
      "text/plain": [
       "<IPython.core.display.HTML object>"
      ]
     },
     "metadata": {},
     "output_type": "display_data"
    },
    {
     "data": {
      "text/html": [
       " View project at <a href='https://wandb.ai/matteopeluso1922/diffusion-hmp' target=\"_blank\">https://wandb.ai/matteopeluso1922/diffusion-hmp</a>"
      ],
      "text/plain": [
       "<IPython.core.display.HTML object>"
      ]
     },
     "metadata": {},
     "output_type": "display_data"
    },
    {
     "data": {
      "text/html": [
       " View run at <a href='https://wandb.ai/matteopeluso1922/diffusion-hmp/runs/cwfen5dw' target=\"_blank\">https://wandb.ai/matteopeluso1922/diffusion-hmp/runs/cwfen5dw</a>"
      ],
      "text/plain": [
       "<IPython.core.display.HTML object>"
      ]
     },
     "metadata": {},
     "output_type": "display_data"
    },
    {
     "data": {
      "text/html": [
       "<button onClick=\"this.nextSibling.style.display='block';this.style.display='none';\">Display W&B run</button><iframe src='https://wandb.ai/matteopeluso1922/diffusion-hmp/runs/cwfen5dw?jupyter=true' style='border:none;width:100%;height:420px;display:none;'></iframe>"
      ],
      "text/plain": [
       "<wandb.sdk.wandb_run.Run at 0x7f8d8e6b2630>"
      ]
     },
     "execution_count": 11,
     "metadata": {},
     "output_type": "execute_result"
    }
   ],
   "source": [
    "import wandb\n",
    "num_epochs = 200\n",
    "learning_rate = 0.001137283411547948\n",
    "\n",
    "wandb.finish()\n",
    "wandb.init(\n",
    "    project=\"diffusion-hmp\",\n",
    "    config={\n",
    "        \"learning_rate\": learning_rate,\n",
    "        \"architecture\": \"restart\",\n",
    "        \"dataset\": \"hmp\",\n",
    "        \"epochs\": num_epochs,\n",
    "        \"embed_dim\": embed_dim,\n",
    "        \"num_layers\": num_layers,\n",
    "        \"num_heads\": num_heads,\n",
    "        \"dim_feedforward\": dim_feedforward,\n",
    "        \"vocab_size\": vocab_size,\n",
    "        \"num_fourier_features\":num_fourier_features\n",
    "    }\n",
    ")"
   ]
  },
  {
   "cell_type": "code",
   "execution_count": 15,
   "metadata": {},
   "outputs": [
    {
     "name": "stderr",
     "output_type": "stream",
     "text": [
      "/mnt/mnemo7/mpelus/miniconda3/envs/matlas/lib/python3.12/site-packages/torch/optim/lr_scheduler.py:62: UserWarning: The verbose parameter is deprecated. Please use get_last_lr() to access the learning rate.\n",
      "  warnings.warn(\n",
      "Training Epoch 0: 100%|██████████| 811/811 [00:11<00:00, 73.53it/s, loss=4.5485]\n",
      "Validation Epoch 0:   0%|          | 0/203 [00:00<?, ?it/s]/mnt/mnemo7/mpelus/miniconda3/envs/matlas/lib/python3.12/site-packages/torch/nn/modules/transformer.py:502: UserWarning: The PyTorch API of nested tensors is in prototype stage and will change in the near future. (Triggered internally at /opt/conda/conda-bld/pytorch_1729647378361/work/aten/src/ATen/NestedTensorImpl.cpp:178.)\n",
      "  output = torch._nested_tensor_from_mask(\n",
      "Validation Epoch 0: 100%|██████████| 203/203 [00:01<00:00, 174.13it/s, loss=3.1994]\n"
     ]
    },
    {
     "name": "stdout",
     "output_type": "stream",
     "text": [
      "\n",
      "Epoch 0:\n",
      "Average Train Loss: 3.9258\n",
      "Average Val Loss: 3.8820\n"
     ]
    },
    {
     "name": "stderr",
     "output_type": "stream",
     "text": [
      "Training Epoch 1: 100%|██████████| 811/811 [00:10<00:00, 74.95it/s, loss=4.5895]\n",
      "Validation Epoch 1: 100%|██████████| 203/203 [00:01<00:00, 184.26it/s, loss=3.8889]\n"
     ]
    },
    {
     "name": "stdout",
     "output_type": "stream",
     "text": [
      "\n",
      "Epoch 1:\n",
      "Average Train Loss: 3.8759\n",
      "Average Val Loss: 3.8146\n"
     ]
    },
    {
     "name": "stderr",
     "output_type": "stream",
     "text": [
      "Training Epoch 2: 100%|██████████| 811/811 [00:12<00:00, 63.38it/s, loss=4.3547]\n",
      "Validation Epoch 2: 100%|██████████| 203/203 [00:01<00:00, 184.48it/s, loss=4.7084]\n"
     ]
    },
    {
     "name": "stdout",
     "output_type": "stream",
     "text": [
      "\n",
      "Epoch 2:\n",
      "Average Train Loss: 3.9026\n",
      "Average Val Loss: 3.8213\n"
     ]
    },
    {
     "name": "stderr",
     "output_type": "stream",
     "text": [
      "Training Epoch 3: 100%|██████████| 811/811 [00:11<00:00, 70.99it/s, loss=3.9107]\n",
      "Validation Epoch 3: 100%|██████████| 203/203 [00:01<00:00, 180.68it/s, loss=4.3766]\n"
     ]
    },
    {
     "name": "stdout",
     "output_type": "stream",
     "text": [
      "\n",
      "Epoch 3:\n",
      "Average Train Loss: 3.8847\n",
      "Average Val Loss: 3.8348\n"
     ]
    },
    {
     "name": "stderr",
     "output_type": "stream",
     "text": [
      "Training Epoch 4: 100%|██████████| 811/811 [00:11<00:00, 70.72it/s, loss=3.5541]\n",
      "Validation Epoch 4: 100%|██████████| 203/203 [00:01<00:00, 181.39it/s, loss=2.9296]\n"
     ]
    },
    {
     "name": "stdout",
     "output_type": "stream",
     "text": [
      "\n",
      "Epoch 4:\n",
      "Average Train Loss: 3.8647\n",
      "Average Val Loss: 3.8698\n"
     ]
    },
    {
     "name": "stderr",
     "output_type": "stream",
     "text": [
      "Training Epoch 5: 100%|██████████| 811/811 [00:12<00:00, 65.62it/s, loss=2.5681]\n",
      "Validation Epoch 5: 100%|██████████| 203/203 [00:01<00:00, 183.01it/s, loss=4.7860]\n"
     ]
    },
    {
     "name": "stdout",
     "output_type": "stream",
     "text": [
      "\n",
      "Epoch 5:\n",
      "Average Train Loss: 3.9051\n",
      "Average Val Loss: 3.8930\n"
     ]
    },
    {
     "name": "stderr",
     "output_type": "stream",
     "text": [
      "Training Epoch 6: 100%|██████████| 811/811 [00:13<00:00, 60.99it/s, loss=4.2725]\n",
      "Validation Epoch 6: 100%|██████████| 203/203 [00:01<00:00, 183.73it/s, loss=3.9994]\n"
     ]
    },
    {
     "name": "stdout",
     "output_type": "stream",
     "text": [
      "\n",
      "Epoch 6:\n",
      "Average Train Loss: 3.8666\n",
      "Average Val Loss: 3.9342\n"
     ]
    },
    {
     "name": "stderr",
     "output_type": "stream",
     "text": [
      "Training Epoch 7: 100%|██████████| 811/811 [00:13<00:00, 60.52it/s, loss=4.6578]\n",
      "Validation Epoch 7: 100%|██████████| 203/203 [00:01<00:00, 185.40it/s, loss=4.1456]\n"
     ]
    },
    {
     "name": "stdout",
     "output_type": "stream",
     "text": [
      "\n",
      "Epoch 7:\n",
      "Average Train Loss: 3.8734\n",
      "Average Val Loss: 3.8784\n"
     ]
    },
    {
     "name": "stderr",
     "output_type": "stream",
     "text": [
      "Training Epoch 8: 100%|██████████| 811/811 [00:12<00:00, 63.72it/s, loss=4.5266]\n",
      "Validation Epoch 8: 100%|██████████| 203/203 [00:01<00:00, 184.07it/s, loss=4.6800]\n"
     ]
    },
    {
     "name": "stdout",
     "output_type": "stream",
     "text": [
      "\n",
      "Epoch 8:\n",
      "Average Train Loss: 3.8634\n",
      "Average Val Loss: 3.8250\n"
     ]
    },
    {
     "name": "stderr",
     "output_type": "stream",
     "text": [
      "Training Epoch 9: 100%|██████████| 811/811 [00:13<00:00, 60.76it/s, loss=3.8787]\n",
      "Validation Epoch 9: 100%|██████████| 203/203 [00:01<00:00, 184.24it/s, loss=3.4765]\n"
     ]
    },
    {
     "name": "stdout",
     "output_type": "stream",
     "text": [
      "\n",
      "Epoch 9:\n",
      "Average Train Loss: 3.8674\n",
      "Average Val Loss: 3.8179\n"
     ]
    },
    {
     "name": "stderr",
     "output_type": "stream",
     "text": [
      "Training Epoch 10: 100%|██████████| 811/811 [00:13<00:00, 61.97it/s, loss=4.0235]\n",
      "Validation Epoch 10: 100%|██████████| 203/203 [00:01<00:00, 183.49it/s, loss=2.8154]\n"
     ]
    },
    {
     "name": "stdout",
     "output_type": "stream",
     "text": [
      "\n",
      "Epoch 10:\n",
      "Average Train Loss: 3.8461\n",
      "Average Val Loss: 3.7798\n"
     ]
    },
    {
     "name": "stderr",
     "output_type": "stream",
     "text": [
      "Training Epoch 11: 100%|██████████| 811/811 [00:11<00:00, 69.67it/s, loss=4.6426]\n",
      "Validation Epoch 11: 100%|██████████| 203/203 [00:01<00:00, 183.55it/s, loss=3.2636]\n"
     ]
    },
    {
     "name": "stdout",
     "output_type": "stream",
     "text": [
      "\n",
      "Epoch 11:\n",
      "Average Train Loss: 3.8787\n",
      "Average Val Loss: 3.7985\n"
     ]
    },
    {
     "name": "stderr",
     "output_type": "stream",
     "text": [
      "Training Epoch 12: 100%|██████████| 811/811 [00:13<00:00, 60.66it/s, loss=4.2473]\n",
      "Validation Epoch 12: 100%|██████████| 203/203 [00:01<00:00, 182.65it/s, loss=3.5135]\n"
     ]
    },
    {
     "name": "stdout",
     "output_type": "stream",
     "text": [
      "\n",
      "Epoch 12:\n",
      "Average Train Loss: 3.8375\n",
      "Average Val Loss: 3.7483\n"
     ]
    },
    {
     "name": "stderr",
     "output_type": "stream",
     "text": [
      "Training Epoch 13: 100%|██████████| 811/811 [00:12<00:00, 62.81it/s, loss=2.5409]\n",
      "Validation Epoch 13: 100%|██████████| 203/203 [00:01<00:00, 183.99it/s, loss=4.5002]\n"
     ]
    },
    {
     "name": "stdout",
     "output_type": "stream",
     "text": [
      "\n",
      "Epoch 13:\n",
      "Average Train Loss: 3.8453\n",
      "Average Val Loss: 3.8353\n"
     ]
    },
    {
     "name": "stderr",
     "output_type": "stream",
     "text": [
      "Training Epoch 14: 100%|██████████| 811/811 [00:09<00:00, 81.37it/s, loss=3.8765]\n",
      "Validation Epoch 14: 100%|██████████| 203/203 [00:01<00:00, 185.66it/s, loss=3.8212]\n"
     ]
    },
    {
     "name": "stdout",
     "output_type": "stream",
     "text": [
      "\n",
      "Epoch 14:\n",
      "Average Train Loss: 3.8364\n",
      "Average Val Loss: 3.8200\n"
     ]
    },
    {
     "name": "stderr",
     "output_type": "stream",
     "text": [
      "Training Epoch 15: 100%|██████████| 811/811 [00:12<00:00, 67.18it/s, loss=2.7300]\n",
      "Validation Epoch 15: 100%|██████████| 203/203 [00:01<00:00, 183.21it/s, loss=3.3378]\n"
     ]
    },
    {
     "name": "stdout",
     "output_type": "stream",
     "text": [
      "\n",
      "Epoch 15:\n",
      "Average Train Loss: 3.8849\n",
      "Average Val Loss: 3.8676\n"
     ]
    },
    {
     "name": "stderr",
     "output_type": "stream",
     "text": [
      "Training Epoch 16: 100%|██████████| 811/811 [00:10<00:00, 77.13it/s, loss=3.5352]\n",
      "Validation Epoch 16: 100%|██████████| 203/203 [00:01<00:00, 183.27it/s, loss=3.8891]\n"
     ]
    },
    {
     "name": "stdout",
     "output_type": "stream",
     "text": [
      "\n",
      "Epoch 16:\n",
      "Average Train Loss: 3.8363\n",
      "Average Val Loss: 3.8753\n"
     ]
    },
    {
     "name": "stderr",
     "output_type": "stream",
     "text": [
      "Training Epoch 17: 100%|██████████| 811/811 [00:11<00:00, 71.42it/s, loss=3.1731]\n",
      "Validation Epoch 17: 100%|██████████| 203/203 [00:01<00:00, 185.62it/s, loss=3.1386]\n"
     ]
    },
    {
     "name": "stdout",
     "output_type": "stream",
     "text": [
      "\n",
      "Epoch 17:\n",
      "Average Train Loss: 3.8283\n",
      "Average Val Loss: 3.8791\n"
     ]
    },
    {
     "name": "stderr",
     "output_type": "stream",
     "text": [
      "Training Epoch 18: 100%|██████████| 811/811 [00:10<00:00, 77.72it/s, loss=3.3496]\n",
      "Validation Epoch 18: 100%|██████████| 203/203 [00:01<00:00, 186.12it/s, loss=4.2048]\n"
     ]
    },
    {
     "name": "stdout",
     "output_type": "stream",
     "text": [
      "\n",
      "Epoch 18:\n",
      "Average Train Loss: 3.8511\n",
      "Average Val Loss: 3.8312\n"
     ]
    },
    {
     "name": "stderr",
     "output_type": "stream",
     "text": [
      "Training Epoch 19: 100%|██████████| 811/811 [00:11<00:00, 70.92it/s, loss=4.0455]\n",
      "Validation Epoch 19: 100%|██████████| 203/203 [00:01<00:00, 170.46it/s, loss=3.6602]\n"
     ]
    },
    {
     "name": "stdout",
     "output_type": "stream",
     "text": [
      "\n",
      "Epoch 19:\n",
      "Average Train Loss: 3.8583\n",
      "Average Val Loss: 3.8642\n"
     ]
    },
    {
     "name": "stderr",
     "output_type": "stream",
     "text": [
      "Training Epoch 20: 100%|██████████| 811/811 [00:10<00:00, 78.74it/s, loss=4.0460]\n",
      "Validation Epoch 20: 100%|██████████| 203/203 [00:01<00:00, 146.47it/s, loss=4.7962]\n"
     ]
    },
    {
     "name": "stdout",
     "output_type": "stream",
     "text": [
      "\n",
      "Epoch 20:\n",
      "Average Train Loss: 3.8193\n",
      "Average Val Loss: 3.8676\n"
     ]
    },
    {
     "name": "stderr",
     "output_type": "stream",
     "text": [
      "Training Epoch 21: 100%|██████████| 811/811 [00:10<00:00, 78.81it/s, loss=4.4692]\n",
      "Validation Epoch 21: 100%|██████████| 203/203 [00:01<00:00, 173.07it/s, loss=4.4298]\n"
     ]
    },
    {
     "name": "stdout",
     "output_type": "stream",
     "text": [
      "\n",
      "Epoch 21:\n",
      "Average Train Loss: 3.8332\n",
      "Average Val Loss: 3.7898\n"
     ]
    },
    {
     "name": "stderr",
     "output_type": "stream",
     "text": [
      "Training Epoch 22: 100%|██████████| 811/811 [00:10<00:00, 78.92it/s, loss=2.7967]\n",
      "Validation Epoch 22: 100%|██████████| 203/203 [00:01<00:00, 172.61it/s, loss=4.2797]\n"
     ]
    },
    {
     "name": "stdout",
     "output_type": "stream",
     "text": [
      "\n",
      "Epoch 22:\n",
      "Average Train Loss: 3.8437\n",
      "Average Val Loss: 3.8735\n"
     ]
    },
    {
     "name": "stderr",
     "output_type": "stream",
     "text": [
      "Training Epoch 23: 100%|██████████| 811/811 [00:10<00:00, 78.81it/s, loss=4.5054]\n",
      "Validation Epoch 23: 100%|██████████| 203/203 [00:01<00:00, 174.89it/s, loss=4.3104]\n"
     ]
    },
    {
     "name": "stdout",
     "output_type": "stream",
     "text": [
      "\n",
      "Epoch 23:\n",
      "Average Train Loss: 3.8524\n",
      "Average Val Loss: 3.8280\n"
     ]
    },
    {
     "name": "stderr",
     "output_type": "stream",
     "text": [
      "Training Epoch 24: 100%|██████████| 811/811 [00:10<00:00, 77.91it/s, loss=4.1421]\n",
      "Validation Epoch 24: 100%|██████████| 203/203 [00:01<00:00, 183.52it/s, loss=4.3667]\n"
     ]
    },
    {
     "name": "stdout",
     "output_type": "stream",
     "text": [
      "\n",
      "Epoch 24:\n",
      "Average Train Loss: 3.8523\n",
      "Average Val Loss: 3.8188\n"
     ]
    },
    {
     "name": "stderr",
     "output_type": "stream",
     "text": [
      "Training Epoch 25: 100%|██████████| 811/811 [00:09<00:00, 85.15it/s, loss=4.4832]\n",
      "Validation Epoch 25: 100%|██████████| 203/203 [00:01<00:00, 184.17it/s, loss=4.0989]\n"
     ]
    },
    {
     "name": "stdout",
     "output_type": "stream",
     "text": [
      "\n",
      "Epoch 25:\n",
      "Average Train Loss: 3.8366\n",
      "Average Val Loss: 3.8239\n"
     ]
    },
    {
     "name": "stderr",
     "output_type": "stream",
     "text": [
      "Training Epoch 26: 100%|██████████| 811/811 [00:10<00:00, 79.87it/s, loss=4.1337]\n",
      "Validation Epoch 26: 100%|██████████| 203/203 [00:01<00:00, 184.85it/s, loss=2.9651]\n"
     ]
    },
    {
     "name": "stdout",
     "output_type": "stream",
     "text": [
      "\n",
      "Epoch 26:\n",
      "Average Train Loss: 3.8408\n",
      "Average Val Loss: 3.8458\n"
     ]
    },
    {
     "name": "stderr",
     "output_type": "stream",
     "text": [
      "Training Epoch 27: 100%|██████████| 811/811 [00:10<00:00, 73.90it/s, loss=3.5406]\n",
      "Validation Epoch 27: 100%|██████████| 203/203 [00:01<00:00, 170.17it/s, loss=3.9701]\n"
     ]
    },
    {
     "name": "stdout",
     "output_type": "stream",
     "text": [
      "\n",
      "Epoch 27:\n",
      "Average Train Loss: 3.8285\n",
      "Average Val Loss: 3.8564\n"
     ]
    },
    {
     "name": "stderr",
     "output_type": "stream",
     "text": [
      "Training Epoch 28: 100%|██████████| 811/811 [00:13<00:00, 59.64it/s, loss=4.3205]\n",
      "Validation Epoch 28: 100%|██████████| 203/203 [00:01<00:00, 170.84it/s, loss=4.1135]\n"
     ]
    },
    {
     "name": "stdout",
     "output_type": "stream",
     "text": [
      "\n",
      "Epoch 28:\n",
      "Average Train Loss: 3.8072\n",
      "Average Val Loss: 3.7506\n"
     ]
    },
    {
     "name": "stderr",
     "output_type": "stream",
     "text": [
      "Training Epoch 29: 100%|██████████| 811/811 [00:13<00:00, 60.09it/s, loss=2.8311]\n",
      "Validation Epoch 29: 100%|██████████| 203/203 [00:01<00:00, 172.63it/s, loss=3.8531]\n"
     ]
    },
    {
     "name": "stdout",
     "output_type": "stream",
     "text": [
      "\n",
      "Epoch 29:\n",
      "Average Train Loss: 3.8246\n",
      "Average Val Loss: 3.7915\n"
     ]
    },
    {
     "name": "stderr",
     "output_type": "stream",
     "text": [
      "Training Epoch 30: 100%|██████████| 811/811 [00:13<00:00, 59.48it/s, loss=3.8341]\n",
      "Validation Epoch 30: 100%|██████████| 203/203 [00:01<00:00, 172.20it/s, loss=3.7551]\n"
     ]
    },
    {
     "name": "stdout",
     "output_type": "stream",
     "text": [
      "\n",
      "Epoch 30:\n",
      "Average Train Loss: 3.8340\n",
      "Average Val Loss: 3.8422\n"
     ]
    },
    {
     "name": "stderr",
     "output_type": "stream",
     "text": [
      "Training Epoch 31: 100%|██████████| 811/811 [00:13<00:00, 60.42it/s, loss=3.0803]\n",
      "Validation Epoch 31: 100%|██████████| 203/203 [00:01<00:00, 183.71it/s, loss=4.0813]\n"
     ]
    },
    {
     "name": "stdout",
     "output_type": "stream",
     "text": [
      "\n",
      "Epoch 31:\n",
      "Average Train Loss: 3.8159\n",
      "Average Val Loss: 3.8656\n"
     ]
    },
    {
     "name": "stderr",
     "output_type": "stream",
     "text": [
      "Training Epoch 32: 100%|██████████| 811/811 [00:13<00:00, 61.86it/s, loss=3.7958]\n",
      "Validation Epoch 32: 100%|██████████| 203/203 [00:01<00:00, 184.25it/s, loss=2.8175]\n"
     ]
    },
    {
     "name": "stdout",
     "output_type": "stream",
     "text": [
      "\n",
      "Epoch 32:\n",
      "Average Train Loss: 3.8335\n",
      "Average Val Loss: 3.8272\n"
     ]
    },
    {
     "name": "stderr",
     "output_type": "stream",
     "text": [
      "Training Epoch 33: 100%|██████████| 811/811 [00:12<00:00, 65.30it/s, loss=3.8740]\n",
      "Validation Epoch 33: 100%|██████████| 203/203 [00:01<00:00, 183.93it/s, loss=4.4043]\n"
     ]
    },
    {
     "name": "stdout",
     "output_type": "stream",
     "text": [
      "\n",
      "Epoch 33:\n",
      "Average Train Loss: 3.8058\n",
      "Average Val Loss: 3.8467\n"
     ]
    },
    {
     "name": "stderr",
     "output_type": "stream",
     "text": [
      "Training Epoch 34: 100%|██████████| 811/811 [00:12<00:00, 62.39it/s, loss=2.6885]\n",
      "Validation Epoch 34: 100%|██████████| 203/203 [00:01<00:00, 175.90it/s, loss=4.3223]\n"
     ]
    },
    {
     "name": "stdout",
     "output_type": "stream",
     "text": [
      "\n",
      "Epoch 34:\n",
      "Average Train Loss: 3.8196\n",
      "Average Val Loss: 3.8575\n"
     ]
    },
    {
     "name": "stderr",
     "output_type": "stream",
     "text": [
      "Training Epoch 35: 100%|██████████| 811/811 [00:13<00:00, 60.27it/s, loss=4.6486]\n",
      "Validation Epoch 35: 100%|██████████| 203/203 [00:01<00:00, 183.59it/s, loss=4.2404]\n"
     ]
    },
    {
     "name": "stdout",
     "output_type": "stream",
     "text": [
      "\n",
      "Epoch 35:\n",
      "Average Train Loss: 3.8013\n",
      "Average Val Loss: 3.7576\n"
     ]
    },
    {
     "name": "stderr",
     "output_type": "stream",
     "text": [
      "Training Epoch 36: 100%|██████████| 811/811 [00:13<00:00, 59.36it/s, loss=3.8867]\n",
      "Validation Epoch 36: 100%|██████████| 203/203 [00:01<00:00, 183.80it/s, loss=4.7291]\n"
     ]
    },
    {
     "name": "stdout",
     "output_type": "stream",
     "text": [
      "\n",
      "Epoch 36:\n",
      "Average Train Loss: 3.8317\n",
      "Average Val Loss: 3.8223\n"
     ]
    },
    {
     "name": "stderr",
     "output_type": "stream",
     "text": [
      "Training Epoch 37: 100%|██████████| 811/811 [00:13<00:00, 61.66it/s, loss=4.3855]\n",
      "Validation Epoch 37: 100%|██████████| 203/203 [00:01<00:00, 182.53it/s, loss=4.3296]\n"
     ]
    },
    {
     "name": "stdout",
     "output_type": "stream",
     "text": [
      "\n",
      "Epoch 37:\n",
      "Average Train Loss: 3.8111\n",
      "Average Val Loss: 3.7989\n"
     ]
    },
    {
     "name": "stderr",
     "output_type": "stream",
     "text": [
      "Training Epoch 38: 100%|██████████| 811/811 [00:10<00:00, 79.22it/s, loss=3.7916]\n",
      "Validation Epoch 38: 100%|██████████| 203/203 [00:01<00:00, 184.06it/s, loss=4.2277]\n"
     ]
    },
    {
     "name": "stdout",
     "output_type": "stream",
     "text": [
      "\n",
      "Epoch 38:\n",
      "Average Train Loss: 3.7965\n",
      "Average Val Loss: 3.8665\n"
     ]
    },
    {
     "name": "stderr",
     "output_type": "stream",
     "text": [
      "Training Epoch 39: 100%|██████████| 811/811 [00:13<00:00, 59.12it/s, loss=4.7544]\n",
      "Validation Epoch 39: 100%|██████████| 203/203 [00:01<00:00, 182.38it/s, loss=3.8190]\n"
     ]
    },
    {
     "name": "stdout",
     "output_type": "stream",
     "text": [
      "\n",
      "Epoch 39:\n",
      "Average Train Loss: 3.8222\n",
      "Average Val Loss: 3.8779\n"
     ]
    },
    {
     "name": "stderr",
     "output_type": "stream",
     "text": [
      "Training Epoch 40: 100%|██████████| 811/811 [00:13<00:00, 60.28it/s, loss=3.3100]\n",
      "Validation Epoch 40: 100%|██████████| 203/203 [00:01<00:00, 183.70it/s, loss=4.9840]\n"
     ]
    },
    {
     "name": "stdout",
     "output_type": "stream",
     "text": [
      "\n",
      "Epoch 40:\n",
      "Average Train Loss: 3.8229\n",
      "Average Val Loss: 3.8417\n"
     ]
    },
    {
     "name": "stderr",
     "output_type": "stream",
     "text": [
      "Training Epoch 41: 100%|██████████| 811/811 [00:13<00:00, 59.76it/s, loss=4.0468]\n",
      "Validation Epoch 41: 100%|██████████| 203/203 [00:01<00:00, 183.31it/s, loss=3.5079]\n"
     ]
    },
    {
     "name": "stdout",
     "output_type": "stream",
     "text": [
      "\n",
      "Epoch 41:\n",
      "Average Train Loss: 3.8439\n",
      "Average Val Loss: 3.8012\n"
     ]
    },
    {
     "name": "stderr",
     "output_type": "stream",
     "text": [
      "Training Epoch 42: 100%|██████████| 811/811 [00:13<00:00, 59.50it/s, loss=3.6734]\n",
      "Validation Epoch 42: 100%|██████████| 203/203 [00:01<00:00, 183.46it/s, loss=4.3380]\n"
     ]
    },
    {
     "name": "stdout",
     "output_type": "stream",
     "text": [
      "\n",
      "Epoch 42:\n",
      "Average Train Loss: 3.8345\n",
      "Average Val Loss: 3.8293\n"
     ]
    },
    {
     "name": "stderr",
     "output_type": "stream",
     "text": [
      "Training Epoch 43: 100%|██████████| 811/811 [00:13<00:00, 59.57it/s, loss=4.7395]\n",
      "Validation Epoch 43: 100%|██████████| 203/203 [00:01<00:00, 183.10it/s, loss=4.5943]\n"
     ]
    },
    {
     "name": "stdout",
     "output_type": "stream",
     "text": [
      "\n",
      "Epoch 43:\n",
      "Average Train Loss: 3.8059\n",
      "Average Val Loss: 3.8315\n"
     ]
    },
    {
     "name": "stderr",
     "output_type": "stream",
     "text": [
      "Training Epoch 44: 100%|██████████| 811/811 [00:13<00:00, 59.64it/s, loss=4.1542]\n",
      "Validation Epoch 44: 100%|██████████| 203/203 [00:01<00:00, 184.07it/s, loss=3.6555]\n"
     ]
    },
    {
     "name": "stdout",
     "output_type": "stream",
     "text": [
      "\n",
      "Epoch 44:\n",
      "Average Train Loss: 3.8409\n",
      "Average Val Loss: 3.8780\n"
     ]
    },
    {
     "name": "stderr",
     "output_type": "stream",
     "text": [
      "Training Epoch 45: 100%|██████████| 811/811 [00:13<00:00, 59.69it/s, loss=4.5796]\n",
      "Validation Epoch 45: 100%|██████████| 203/203 [00:01<00:00, 184.79it/s, loss=3.2710]\n"
     ]
    },
    {
     "name": "stdout",
     "output_type": "stream",
     "text": [
      "\n",
      "Epoch 45:\n",
      "Average Train Loss: 3.8257\n",
      "Average Val Loss: 3.7621\n"
     ]
    },
    {
     "name": "stderr",
     "output_type": "stream",
     "text": [
      "Training Epoch 46: 100%|██████████| 811/811 [00:13<00:00, 59.76it/s, loss=4.6970]\n",
      "Validation Epoch 46: 100%|██████████| 203/203 [00:01<00:00, 184.74it/s, loss=3.0766]\n"
     ]
    },
    {
     "name": "stdout",
     "output_type": "stream",
     "text": [
      "\n",
      "Epoch 46:\n",
      "Average Train Loss: 3.8189\n",
      "Average Val Loss: 3.7975\n"
     ]
    },
    {
     "name": "stderr",
     "output_type": "stream",
     "text": [
      "Training Epoch 47: 100%|██████████| 811/811 [00:12<00:00, 66.67it/s, loss=3.5238]\n",
      "Validation Epoch 47: 100%|██████████| 203/203 [00:01<00:00, 183.73it/s, loss=1.5809]\n"
     ]
    },
    {
     "name": "stdout",
     "output_type": "stream",
     "text": [
      "\n",
      "Epoch 47:\n",
      "Average Train Loss: 3.8148\n",
      "Average Val Loss: 3.8022\n"
     ]
    },
    {
     "name": "stderr",
     "output_type": "stream",
     "text": [
      "Training Epoch 48: 100%|██████████| 811/811 [00:10<00:00, 79.92it/s, loss=3.8476]\n",
      "Validation Epoch 48: 100%|██████████| 203/203 [00:01<00:00, 181.49it/s, loss=3.5666]\n"
     ]
    },
    {
     "name": "stdout",
     "output_type": "stream",
     "text": [
      "\n",
      "Epoch 48:\n",
      "Average Train Loss: 3.8312\n",
      "Average Val Loss: 3.7326\n"
     ]
    },
    {
     "name": "stderr",
     "output_type": "stream",
     "text": [
      "Training Epoch 49: 100%|██████████| 811/811 [00:10<00:00, 78.97it/s, loss=4.3779]\n",
      "Validation Epoch 49: 100%|██████████| 203/203 [00:01<00:00, 184.12it/s, loss=2.3097]\n"
     ]
    },
    {
     "name": "stdout",
     "output_type": "stream",
     "text": [
      "\n",
      "Epoch 49:\n",
      "Average Train Loss: 3.8267\n",
      "Average Val Loss: 3.8094\n"
     ]
    },
    {
     "name": "stderr",
     "output_type": "stream",
     "text": [
      "Training Epoch 50: 100%|██████████| 811/811 [00:11<00:00, 73.14it/s, loss=4.4810]\n",
      "Validation Epoch 50: 100%|██████████| 203/203 [00:01<00:00, 175.59it/s, loss=2.9420]\n"
     ]
    },
    {
     "name": "stdout",
     "output_type": "stream",
     "text": [
      "\n",
      "Epoch 50:\n",
      "Average Train Loss: 3.8160\n",
      "Average Val Loss: 3.8159\n"
     ]
    },
    {
     "name": "stderr",
     "output_type": "stream",
     "text": [
      "Training Epoch 51: 100%|██████████| 811/811 [00:10<00:00, 74.56it/s, loss=4.3479]\n",
      "Validation Epoch 51: 100%|██████████| 203/203 [00:01<00:00, 178.24it/s, loss=4.1459]\n"
     ]
    },
    {
     "name": "stdout",
     "output_type": "stream",
     "text": [
      "\n",
      "Epoch 51:\n",
      "Average Train Loss: 3.8178\n",
      "Average Val Loss: 3.8025\n"
     ]
    },
    {
     "name": "stderr",
     "output_type": "stream",
     "text": [
      "Training Epoch 52: 100%|██████████| 811/811 [00:11<00:00, 72.56it/s, loss=4.6027]\n",
      "Validation Epoch 52: 100%|██████████| 203/203 [00:01<00:00, 180.25it/s, loss=4.1712]\n"
     ]
    },
    {
     "name": "stdout",
     "output_type": "stream",
     "text": [
      "\n",
      "Epoch 52:\n",
      "Average Train Loss: 3.8190\n",
      "Average Val Loss: 3.8334\n"
     ]
    },
    {
     "name": "stderr",
     "output_type": "stream",
     "text": [
      "Training Epoch 53: 100%|██████████| 811/811 [00:09<00:00, 83.40it/s, loss=4.0094]\n",
      "Validation Epoch 53: 100%|██████████| 203/203 [00:01<00:00, 184.16it/s, loss=3.3631]\n"
     ]
    },
    {
     "name": "stdout",
     "output_type": "stream",
     "text": [
      "\n",
      "Epoch 53:\n",
      "Average Train Loss: 3.8152\n",
      "Average Val Loss: 3.8364\n"
     ]
    },
    {
     "name": "stderr",
     "output_type": "stream",
     "text": [
      "Training Epoch 54: 100%|██████████| 811/811 [00:09<00:00, 86.79it/s, loss=3.2085]\n",
      "Validation Epoch 54: 100%|██████████| 203/203 [00:01<00:00, 184.58it/s, loss=4.6210]\n"
     ]
    },
    {
     "name": "stdout",
     "output_type": "stream",
     "text": [
      "\n",
      "Epoch 54:\n",
      "Average Train Loss: 3.8184\n",
      "Average Val Loss: 3.8635\n"
     ]
    },
    {
     "name": "stderr",
     "output_type": "stream",
     "text": [
      "Training Epoch 55: 100%|██████████| 811/811 [00:09<00:00, 86.65it/s, loss=3.9353]\n",
      "Validation Epoch 55: 100%|██████████| 203/203 [00:01<00:00, 183.70it/s, loss=4.0045]\n"
     ]
    },
    {
     "name": "stdout",
     "output_type": "stream",
     "text": [
      "\n",
      "Epoch 55:\n",
      "Average Train Loss: 3.8392\n",
      "Average Val Loss: 3.8204\n"
     ]
    },
    {
     "name": "stderr",
     "output_type": "stream",
     "text": [
      "Training Epoch 56: 100%|██████████| 811/811 [00:09<00:00, 86.49it/s, loss=3.8663]\n",
      "Validation Epoch 56: 100%|██████████| 203/203 [00:01<00:00, 184.19it/s, loss=4.0725]\n"
     ]
    },
    {
     "name": "stdout",
     "output_type": "stream",
     "text": [
      "\n",
      "Epoch 56:\n",
      "Average Train Loss: 3.8094\n",
      "Average Val Loss: 3.8344\n"
     ]
    },
    {
     "name": "stderr",
     "output_type": "stream",
     "text": [
      "Training Epoch 57: 100%|██████████| 811/811 [00:09<00:00, 86.64it/s, loss=3.3196]\n",
      "Validation Epoch 57: 100%|██████████| 203/203 [00:01<00:00, 184.20it/s, loss=3.7066]\n"
     ]
    },
    {
     "name": "stdout",
     "output_type": "stream",
     "text": [
      "\n",
      "Epoch 57:\n",
      "Average Train Loss: 3.8591\n",
      "Average Val Loss: 3.8027\n"
     ]
    },
    {
     "name": "stderr",
     "output_type": "stream",
     "text": [
      "Training Epoch 58: 100%|██████████| 811/811 [00:09<00:00, 81.55it/s, loss=4.0729]\n",
      "Validation Epoch 58: 100%|██████████| 203/203 [00:01<00:00, 185.47it/s, loss=4.1107]\n"
     ]
    },
    {
     "name": "stdout",
     "output_type": "stream",
     "text": [
      "\n",
      "Epoch 58:\n",
      "Average Train Loss: 3.8138\n",
      "Average Val Loss: 3.7852\n"
     ]
    },
    {
     "name": "stderr",
     "output_type": "stream",
     "text": [
      "Training Epoch 59: 100%|██████████| 811/811 [00:12<00:00, 65.88it/s, loss=4.5224]\n",
      "Validation Epoch 59: 100%|██████████| 203/203 [00:01<00:00, 184.04it/s, loss=3.3537]\n"
     ]
    },
    {
     "name": "stdout",
     "output_type": "stream",
     "text": [
      "\n",
      "Epoch 59:\n",
      "Average Train Loss: 3.8307\n",
      "Average Val Loss: 3.7288\n"
     ]
    },
    {
     "name": "stderr",
     "output_type": "stream",
     "text": [
      "Training Epoch 60: 100%|██████████| 811/811 [00:10<00:00, 74.56it/s, loss=3.9715]\n",
      "Validation Epoch 60: 100%|██████████| 203/203 [00:01<00:00, 184.03it/s, loss=4.7760]\n"
     ]
    },
    {
     "name": "stdout",
     "output_type": "stream",
     "text": [
      "\n",
      "Epoch 60:\n",
      "Average Train Loss: 3.7936\n",
      "Average Val Loss: 3.8475\n"
     ]
    },
    {
     "name": "stderr",
     "output_type": "stream",
     "text": [
      "Training Epoch 61: 100%|██████████| 811/811 [00:12<00:00, 64.09it/s, loss=2.2104]\n",
      "Validation Epoch 61: 100%|██████████| 203/203 [00:01<00:00, 183.28it/s, loss=4.7133]\n"
     ]
    },
    {
     "name": "stdout",
     "output_type": "stream",
     "text": [
      "\n",
      "Epoch 61:\n",
      "Average Train Loss: 3.8205\n",
      "Average Val Loss: 3.8533\n"
     ]
    },
    {
     "name": "stderr",
     "output_type": "stream",
     "text": [
      "Training Epoch 62: 100%|██████████| 811/811 [00:10<00:00, 78.36it/s, loss=3.3156]\n",
      "Validation Epoch 62: 100%|██████████| 203/203 [00:01<00:00, 174.60it/s, loss=2.1663]\n"
     ]
    },
    {
     "name": "stdout",
     "output_type": "stream",
     "text": [
      "\n",
      "Epoch 62:\n",
      "Average Train Loss: 3.7852\n",
      "Average Val Loss: 3.8877\n"
     ]
    },
    {
     "name": "stderr",
     "output_type": "stream",
     "text": [
      "Training Epoch 63: 100%|██████████| 811/811 [00:10<00:00, 79.35it/s, loss=4.2275]\n",
      "Validation Epoch 63: 100%|██████████| 203/203 [00:01<00:00, 170.42it/s, loss=4.6750]\n"
     ]
    },
    {
     "name": "stdout",
     "output_type": "stream",
     "text": [
      "\n",
      "Epoch 63:\n",
      "Average Train Loss: 3.8040\n",
      "Average Val Loss: 3.8427\n"
     ]
    },
    {
     "name": "stderr",
     "output_type": "stream",
     "text": [
      "Training Epoch 64: 100%|██████████| 811/811 [00:09<00:00, 82.13it/s, loss=4.6314]\n",
      "Validation Epoch 64: 100%|██████████| 203/203 [00:01<00:00, 183.57it/s, loss=4.2544]\n"
     ]
    },
    {
     "name": "stdout",
     "output_type": "stream",
     "text": [
      "\n",
      "Epoch 64:\n",
      "Average Train Loss: 3.8152\n",
      "Average Val Loss: 3.8080\n"
     ]
    },
    {
     "name": "stderr",
     "output_type": "stream",
     "text": [
      "Training Epoch 65: 100%|██████████| 811/811 [00:09<00:00, 84.19it/s, loss=4.6194]\n",
      "Validation Epoch 65: 100%|██████████| 203/203 [00:01<00:00, 183.91it/s, loss=2.7091]\n"
     ]
    },
    {
     "name": "stdout",
     "output_type": "stream",
     "text": [
      "\n",
      "Epoch 65:\n",
      "Average Train Loss: 3.7998\n",
      "Average Val Loss: 3.8127\n"
     ]
    },
    {
     "name": "stderr",
     "output_type": "stream",
     "text": [
      "Training Epoch 66: 100%|██████████| 811/811 [00:09<00:00, 83.89it/s, loss=4.1717]\n",
      "Validation Epoch 66: 100%|██████████| 203/203 [00:01<00:00, 184.30it/s, loss=3.0995]\n"
     ]
    },
    {
     "name": "stdout",
     "output_type": "stream",
     "text": [
      "\n",
      "Epoch 66:\n",
      "Average Train Loss: 3.8316\n",
      "Average Val Loss: 3.7847\n"
     ]
    },
    {
     "name": "stderr",
     "output_type": "stream",
     "text": [
      "Training Epoch 67: 100%|██████████| 811/811 [00:11<00:00, 73.06it/s, loss=2.1479]\n",
      "Validation Epoch 67: 100%|██████████| 203/203 [00:01<00:00, 185.66it/s, loss=3.9360]\n"
     ]
    },
    {
     "name": "stdout",
     "output_type": "stream",
     "text": [
      "\n",
      "Epoch 67:\n",
      "Average Train Loss: 3.8078\n",
      "Average Val Loss: 3.8275\n"
     ]
    },
    {
     "name": "stderr",
     "output_type": "stream",
     "text": [
      "Training Epoch 68: 100%|██████████| 811/811 [00:10<00:00, 80.48it/s, loss=4.5022]\n",
      "Validation Epoch 68: 100%|██████████| 203/203 [00:01<00:00, 188.70it/s, loss=3.7494]\n"
     ]
    },
    {
     "name": "stdout",
     "output_type": "stream",
     "text": [
      "\n",
      "Epoch 68:\n",
      "Average Train Loss: 3.7901\n",
      "Average Val Loss: 3.7782\n"
     ]
    },
    {
     "name": "stderr",
     "output_type": "stream",
     "text": [
      "Training Epoch 69: 100%|██████████| 811/811 [00:10<00:00, 80.57it/s, loss=3.8221]\n",
      "Validation Epoch 69: 100%|██████████| 203/203 [00:01<00:00, 186.00it/s, loss=4.4994]\n"
     ]
    },
    {
     "name": "stdout",
     "output_type": "stream",
     "text": [
      "\n",
      "Epoch 69:\n",
      "Average Train Loss: 3.8358\n",
      "Average Val Loss: 3.8344\n"
     ]
    },
    {
     "name": "stderr",
     "output_type": "stream",
     "text": [
      "Training Epoch 70: 100%|██████████| 811/811 [00:10<00:00, 79.75it/s, loss=3.8810]\n",
      "Validation Epoch 70: 100%|██████████| 203/203 [00:01<00:00, 183.67it/s, loss=4.6826]\n"
     ]
    },
    {
     "name": "stdout",
     "output_type": "stream",
     "text": [
      "\n",
      "Epoch 70:\n",
      "Average Train Loss: 3.8055\n",
      "Average Val Loss: 3.7633\n"
     ]
    },
    {
     "name": "stderr",
     "output_type": "stream",
     "text": [
      "Training Epoch 71: 100%|██████████| 811/811 [00:12<00:00, 62.47it/s, loss=4.4901]\n",
      "Validation Epoch 71: 100%|██████████| 203/203 [00:01<00:00, 186.08it/s, loss=3.8657]\n"
     ]
    },
    {
     "name": "stdout",
     "output_type": "stream",
     "text": [
      "\n",
      "Epoch 71:\n",
      "Average Train Loss: 3.7920\n",
      "Average Val Loss: 3.7842\n"
     ]
    },
    {
     "name": "stderr",
     "output_type": "stream",
     "text": [
      "Training Epoch 72: 100%|██████████| 811/811 [00:11<00:00, 71.96it/s, loss=4.0670]\n",
      "Validation Epoch 72: 100%|██████████| 203/203 [00:01<00:00, 184.65it/s, loss=3.8551]\n"
     ]
    },
    {
     "name": "stdout",
     "output_type": "stream",
     "text": [
      "\n",
      "Epoch 72:\n",
      "Average Train Loss: 3.8054\n",
      "Average Val Loss: 3.8128\n"
     ]
    },
    {
     "name": "stderr",
     "output_type": "stream",
     "text": [
      "Training Epoch 73: 100%|██████████| 811/811 [00:13<00:00, 60.18it/s, loss=2.8683]\n",
      "Validation Epoch 73: 100%|██████████| 203/203 [00:01<00:00, 184.06it/s, loss=2.9559]\n"
     ]
    },
    {
     "name": "stdout",
     "output_type": "stream",
     "text": [
      "\n",
      "Epoch 73:\n",
      "Average Train Loss: 3.7791\n",
      "Average Val Loss: 3.7830\n"
     ]
    },
    {
     "name": "stderr",
     "output_type": "stream",
     "text": [
      "Training Epoch 74: 100%|██████████| 811/811 [00:13<00:00, 60.01it/s, loss=3.9125]\n",
      "Validation Epoch 74: 100%|██████████| 203/203 [00:01<00:00, 184.54it/s, loss=4.2090]\n"
     ]
    },
    {
     "name": "stdout",
     "output_type": "stream",
     "text": [
      "\n",
      "Epoch 74:\n",
      "Average Train Loss: 3.8186\n",
      "Average Val Loss: 3.8426\n"
     ]
    },
    {
     "name": "stderr",
     "output_type": "stream",
     "text": [
      "Training Epoch 75: 100%|██████████| 811/811 [00:13<00:00, 59.68it/s, loss=4.2179]\n",
      "Validation Epoch 75: 100%|██████████| 203/203 [00:01<00:00, 184.11it/s, loss=4.4520]\n"
     ]
    },
    {
     "name": "stdout",
     "output_type": "stream",
     "text": [
      "\n",
      "Epoch 75:\n",
      "Average Train Loss: 3.8248\n",
      "Average Val Loss: 3.7920\n"
     ]
    },
    {
     "name": "stderr",
     "output_type": "stream",
     "text": [
      "Training Epoch 76: 100%|██████████| 811/811 [00:13<00:00, 59.43it/s, loss=4.1500]\n",
      "Validation Epoch 76: 100%|██████████| 203/203 [00:01<00:00, 184.25it/s, loss=3.9955]\n"
     ]
    },
    {
     "name": "stdout",
     "output_type": "stream",
     "text": [
      "\n",
      "Epoch 76:\n",
      "Average Train Loss: 3.8389\n",
      "Average Val Loss: 3.7449\n"
     ]
    },
    {
     "name": "stderr",
     "output_type": "stream",
     "text": [
      "Training Epoch 77: 100%|██████████| 811/811 [00:13<00:00, 59.07it/s, loss=3.9936]\n",
      "Validation Epoch 77: 100%|██████████| 203/203 [00:01<00:00, 183.61it/s, loss=3.9515]\n"
     ]
    },
    {
     "name": "stdout",
     "output_type": "stream",
     "text": [
      "\n",
      "Epoch 77:\n",
      "Average Train Loss: 3.7829\n",
      "Average Val Loss: 3.8943\n"
     ]
    },
    {
     "name": "stderr",
     "output_type": "stream",
     "text": [
      "Training Epoch 78: 100%|██████████| 811/811 [00:13<00:00, 59.70it/s, loss=3.3538]\n",
      "Validation Epoch 78: 100%|██████████| 203/203 [00:01<00:00, 146.99it/s, loss=4.5166]\n"
     ]
    },
    {
     "name": "stdout",
     "output_type": "stream",
     "text": [
      "\n",
      "Epoch 78:\n",
      "Average Train Loss: 3.8284\n",
      "Average Val Loss: 3.9069\n"
     ]
    },
    {
     "name": "stderr",
     "output_type": "stream",
     "text": [
      "Training Epoch 79: 100%|██████████| 811/811 [00:09<00:00, 83.03it/s, loss=4.3421]\n",
      "Validation Epoch 79: 100%|██████████| 203/203 [00:01<00:00, 183.41it/s, loss=3.7032]\n"
     ]
    },
    {
     "name": "stdout",
     "output_type": "stream",
     "text": [
      "\n",
      "Epoch 79:\n",
      "Average Train Loss: 3.8381\n",
      "Average Val Loss: 3.7188\n"
     ]
    },
    {
     "name": "stderr",
     "output_type": "stream",
     "text": [
      "Training Epoch 80: 100%|██████████| 811/811 [00:10<00:00, 77.11it/s, loss=3.4598]\n",
      "Validation Epoch 80: 100%|██████████| 203/203 [00:01<00:00, 183.12it/s, loss=4.8076]\n"
     ]
    },
    {
     "name": "stdout",
     "output_type": "stream",
     "text": [
      "\n",
      "Epoch 80:\n",
      "Average Train Loss: 3.8209\n",
      "Average Val Loss: 3.8548\n"
     ]
    },
    {
     "name": "stderr",
     "output_type": "stream",
     "text": [
      "Training Epoch 81: 100%|██████████| 811/811 [00:10<00:00, 75.15it/s, loss=4.1671]\n",
      "Validation Epoch 81: 100%|██████████| 203/203 [00:01<00:00, 178.24it/s, loss=4.0078]\n"
     ]
    },
    {
     "name": "stdout",
     "output_type": "stream",
     "text": [
      "\n",
      "Epoch 81:\n",
      "Average Train Loss: 3.7951\n",
      "Average Val Loss: 3.8080\n"
     ]
    },
    {
     "name": "stderr",
     "output_type": "stream",
     "text": [
      "Training Epoch 82: 100%|██████████| 811/811 [00:10<00:00, 76.27it/s, loss=2.8541]\n",
      "Validation Epoch 82: 100%|██████████| 203/203 [00:01<00:00, 180.42it/s, loss=4.1202]\n"
     ]
    },
    {
     "name": "stdout",
     "output_type": "stream",
     "text": [
      "\n",
      "Epoch 82:\n",
      "Average Train Loss: 3.8118\n",
      "Average Val Loss: 3.7458\n"
     ]
    },
    {
     "name": "stderr",
     "output_type": "stream",
     "text": [
      "Training Epoch 83: 100%|██████████| 811/811 [00:11<00:00, 70.43it/s, loss=3.8416]\n",
      "Validation Epoch 83: 100%|██████████| 203/203 [00:01<00:00, 183.86it/s, loss=3.5838]\n"
     ]
    },
    {
     "name": "stdout",
     "output_type": "stream",
     "text": [
      "\n",
      "Epoch 83:\n",
      "Average Train Loss: 3.8147\n",
      "Average Val Loss: 3.8060\n"
     ]
    },
    {
     "name": "stderr",
     "output_type": "stream",
     "text": [
      "Training Epoch 84: 100%|██████████| 811/811 [00:12<00:00, 62.40it/s, loss=3.7147]\n",
      "Validation Epoch 84: 100%|██████████| 203/203 [00:01<00:00, 183.89it/s, loss=4.3890]\n"
     ]
    },
    {
     "name": "stdout",
     "output_type": "stream",
     "text": [
      "\n",
      "Epoch 84:\n",
      "Average Train Loss: 3.8460\n",
      "Average Val Loss: 3.7543\n"
     ]
    },
    {
     "name": "stderr",
     "output_type": "stream",
     "text": [
      "Training Epoch 85: 100%|██████████| 811/811 [00:10<00:00, 79.43it/s, loss=3.9785]\n",
      "Validation Epoch 85: 100%|██████████| 203/203 [00:01<00:00, 185.20it/s, loss=3.3874]\n"
     ]
    },
    {
     "name": "stdout",
     "output_type": "stream",
     "text": [
      "\n",
      "Epoch 85:\n",
      "Average Train Loss: 3.8403\n",
      "Average Val Loss: 3.8760\n"
     ]
    },
    {
     "name": "stderr",
     "output_type": "stream",
     "text": [
      "Training Epoch 86: 100%|██████████| 811/811 [00:10<00:00, 77.46it/s, loss=3.3758]\n",
      "Validation Epoch 86: 100%|██████████| 203/203 [00:01<00:00, 184.54it/s, loss=3.9986]\n"
     ]
    },
    {
     "name": "stdout",
     "output_type": "stream",
     "text": [
      "\n",
      "Epoch 86:\n",
      "Average Train Loss: 3.7916\n",
      "Average Val Loss: 3.8043\n"
     ]
    },
    {
     "name": "stderr",
     "output_type": "stream",
     "text": [
      "Training Epoch 87: 100%|██████████| 811/811 [00:12<00:00, 66.59it/s, loss=4.4933]\n",
      "Validation Epoch 87: 100%|██████████| 203/203 [00:01<00:00, 183.31it/s, loss=3.9991]\n"
     ]
    },
    {
     "name": "stdout",
     "output_type": "stream",
     "text": [
      "\n",
      "Epoch 87:\n",
      "Average Train Loss: 3.8224\n",
      "Average Val Loss: 3.8660\n"
     ]
    },
    {
     "name": "stderr",
     "output_type": "stream",
     "text": [
      "Training Epoch 88: 100%|██████████| 811/811 [00:10<00:00, 73.94it/s, loss=4.5177]\n",
      "Validation Epoch 88: 100%|██████████| 203/203 [00:01<00:00, 184.30it/s, loss=2.6245]\n"
     ]
    },
    {
     "name": "stdout",
     "output_type": "stream",
     "text": [
      "\n",
      "Epoch 88:\n",
      "Average Train Loss: 3.8116\n",
      "Average Val Loss: 3.7936\n"
     ]
    },
    {
     "name": "stderr",
     "output_type": "stream",
     "text": [
      "Training Epoch 89: 100%|██████████| 811/811 [00:10<00:00, 78.58it/s, loss=3.1767]\n",
      "Validation Epoch 89: 100%|██████████| 203/203 [00:01<00:00, 184.48it/s, loss=1.1378]\n"
     ]
    },
    {
     "name": "stdout",
     "output_type": "stream",
     "text": [
      "\n",
      "Epoch 89:\n",
      "Average Train Loss: 3.8261\n",
      "Average Val Loss: 3.8444\n"
     ]
    },
    {
     "name": "stderr",
     "output_type": "stream",
     "text": [
      "Training Epoch 90: 100%|██████████| 811/811 [00:10<00:00, 79.29it/s, loss=3.8515]\n",
      "Validation Epoch 90: 100%|██████████| 203/203 [00:01<00:00, 185.37it/s, loss=4.6555]\n"
     ]
    },
    {
     "name": "stdout",
     "output_type": "stream",
     "text": [
      "\n",
      "Epoch 90:\n",
      "Average Train Loss: 3.8222\n",
      "Average Val Loss: 3.8310\n"
     ]
    },
    {
     "name": "stderr",
     "output_type": "stream",
     "text": [
      "Training Epoch 91: 100%|██████████| 811/811 [00:10<00:00, 79.21it/s, loss=4.3877]\n",
      "Validation Epoch 91: 100%|██████████| 203/203 [00:01<00:00, 185.15it/s, loss=4.5745]\n"
     ]
    },
    {
     "name": "stdout",
     "output_type": "stream",
     "text": [
      "\n",
      "Epoch 91:\n",
      "Average Train Loss: 3.8369\n",
      "Average Val Loss: 3.8244\n"
     ]
    },
    {
     "name": "stderr",
     "output_type": "stream",
     "text": [
      "Training Epoch 92: 100%|██████████| 811/811 [00:10<00:00, 79.25it/s, loss=4.1510]\n",
      "Validation Epoch 92: 100%|██████████| 203/203 [00:01<00:00, 185.43it/s, loss=3.6982]\n"
     ]
    },
    {
     "name": "stdout",
     "output_type": "stream",
     "text": [
      "\n",
      "Epoch 92:\n",
      "Average Train Loss: 3.8162\n",
      "Average Val Loss: 3.7685\n"
     ]
    },
    {
     "name": "stderr",
     "output_type": "stream",
     "text": [
      "Training Epoch 93: 100%|██████████| 811/811 [00:10<00:00, 79.25it/s, loss=3.6431]\n",
      "Validation Epoch 93: 100%|██████████| 203/203 [00:01<00:00, 184.44it/s, loss=3.9784]\n"
     ]
    },
    {
     "name": "stdout",
     "output_type": "stream",
     "text": [
      "\n",
      "Epoch 93:\n",
      "Average Train Loss: 3.8046\n",
      "Average Val Loss: 3.7906\n"
     ]
    },
    {
     "name": "stderr",
     "output_type": "stream",
     "text": [
      "Training Epoch 94: 100%|██████████| 811/811 [00:10<00:00, 79.41it/s, loss=4.4101]\n",
      "Validation Epoch 94: 100%|██████████| 203/203 [00:01<00:00, 185.37it/s, loss=2.6100]\n"
     ]
    },
    {
     "name": "stdout",
     "output_type": "stream",
     "text": [
      "\n",
      "Epoch 94:\n",
      "Average Train Loss: 3.8238\n",
      "Average Val Loss: 3.7407\n"
     ]
    },
    {
     "name": "stderr",
     "output_type": "stream",
     "text": [
      "Training Epoch 95: 100%|██████████| 811/811 [00:11<00:00, 71.11it/s, loss=4.3363]\n",
      "Validation Epoch 95: 100%|██████████| 203/203 [00:01<00:00, 186.19it/s, loss=3.9497]\n"
     ]
    },
    {
     "name": "stdout",
     "output_type": "stream",
     "text": [
      "\n",
      "Epoch 95:\n",
      "Average Train Loss: 3.8106\n",
      "Average Val Loss: 3.8096\n"
     ]
    },
    {
     "name": "stderr",
     "output_type": "stream",
     "text": [
      "Training Epoch 96: 100%|██████████| 811/811 [00:12<00:00, 66.07it/s, loss=2.9767]\n",
      "Validation Epoch 96: 100%|██████████| 203/203 [00:01<00:00, 186.38it/s, loss=4.2336]\n"
     ]
    },
    {
     "name": "stdout",
     "output_type": "stream",
     "text": [
      "\n",
      "Epoch 96:\n",
      "Average Train Loss: 3.8018\n",
      "Average Val Loss: 3.8548\n"
     ]
    },
    {
     "name": "stderr",
     "output_type": "stream",
     "text": [
      "Training Epoch 97: 100%|██████████| 811/811 [00:09<00:00, 88.75it/s, loss=4.6327]\n",
      "Validation Epoch 97: 100%|██████████| 203/203 [00:01<00:00, 186.15it/s, loss=3.6756]\n"
     ]
    },
    {
     "name": "stdout",
     "output_type": "stream",
     "text": [
      "\n",
      "Epoch 97:\n",
      "Average Train Loss: 3.8303\n",
      "Average Val Loss: 3.8128\n"
     ]
    },
    {
     "name": "stderr",
     "output_type": "stream",
     "text": [
      "Training Epoch 98: 100%|██████████| 811/811 [00:09<00:00, 85.43it/s, loss=3.0321]\n",
      "Validation Epoch 98: 100%|██████████| 203/203 [00:01<00:00, 185.95it/s, loss=4.4025]\n"
     ]
    },
    {
     "name": "stdout",
     "output_type": "stream",
     "text": [
      "\n",
      "Epoch 98:\n",
      "Average Train Loss: 3.8279\n",
      "Average Val Loss: 3.7892\n"
     ]
    },
    {
     "name": "stderr",
     "output_type": "stream",
     "text": [
      "Training Epoch 99: 100%|██████████| 811/811 [00:09<00:00, 85.56it/s, loss=4.7989]\n",
      "Validation Epoch 99: 100%|██████████| 203/203 [00:01<00:00, 186.70it/s, loss=3.6232]\n"
     ]
    },
    {
     "name": "stdout",
     "output_type": "stream",
     "text": [
      "\n",
      "Epoch 99:\n",
      "Average Train Loss: 3.8323\n",
      "Average Val Loss: 3.7761\n"
     ]
    },
    {
     "name": "stderr",
     "output_type": "stream",
     "text": [
      "Training Epoch 100: 100%|██████████| 811/811 [00:10<00:00, 80.01it/s, loss=3.0753]\n",
      "Validation Epoch 100: 100%|██████████| 203/203 [00:01<00:00, 187.43it/s, loss=2.7837]\n"
     ]
    },
    {
     "name": "stdout",
     "output_type": "stream",
     "text": [
      "\n",
      "Epoch 100:\n",
      "Average Train Loss: 3.8397\n",
      "Average Val Loss: 3.8329\n"
     ]
    },
    {
     "name": "stderr",
     "output_type": "stream",
     "text": [
      "Training Epoch 101: 100%|██████████| 811/811 [00:10<00:00, 80.85it/s, loss=4.1900]\n",
      "Validation Epoch 101: 100%|██████████| 203/203 [00:01<00:00, 187.60it/s, loss=3.5186]\n"
     ]
    },
    {
     "name": "stdout",
     "output_type": "stream",
     "text": [
      "\n",
      "Epoch 101:\n",
      "Average Train Loss: 3.7920\n",
      "Average Val Loss: 3.8472\n"
     ]
    },
    {
     "name": "stderr",
     "output_type": "stream",
     "text": [
      "Training Epoch 102: 100%|██████████| 811/811 [00:10<00:00, 77.41it/s, loss=4.3436]\n",
      "Validation Epoch 102: 100%|██████████| 203/203 [00:01<00:00, 186.40it/s, loss=3.1359]\n"
     ]
    },
    {
     "name": "stdout",
     "output_type": "stream",
     "text": [
      "\n",
      "Epoch 102:\n",
      "Average Train Loss: 3.7944\n",
      "Average Val Loss: 3.8097\n"
     ]
    },
    {
     "name": "stderr",
     "output_type": "stream",
     "text": [
      "Training Epoch 103: 100%|██████████| 811/811 [00:10<00:00, 77.51it/s, loss=3.8558]\n",
      "Validation Epoch 103: 100%|██████████| 203/203 [00:01<00:00, 162.92it/s, loss=4.3330]\n"
     ]
    },
    {
     "name": "stdout",
     "output_type": "stream",
     "text": [
      "\n",
      "Epoch 103:\n",
      "Average Train Loss: 3.8276\n",
      "Average Val Loss: 3.7183\n"
     ]
    },
    {
     "name": "stderr",
     "output_type": "stream",
     "text": [
      "Training Epoch 104: 100%|██████████| 811/811 [00:10<00:00, 76.91it/s, loss=2.9934]\n",
      "Validation Epoch 104: 100%|██████████| 203/203 [00:01<00:00, 170.24it/s, loss=4.4924]\n"
     ]
    },
    {
     "name": "stdout",
     "output_type": "stream",
     "text": [
      "\n",
      "Epoch 104:\n",
      "Average Train Loss: 3.8400\n",
      "Average Val Loss: 3.8774\n"
     ]
    },
    {
     "name": "stderr",
     "output_type": "stream",
     "text": [
      "Training Epoch 105: 100%|██████████| 811/811 [00:10<00:00, 78.24it/s, loss=4.3723]\n",
      "Validation Epoch 105: 100%|██████████| 203/203 [00:01<00:00, 183.88it/s, loss=2.6393]\n"
     ]
    },
    {
     "name": "stdout",
     "output_type": "stream",
     "text": [
      "\n",
      "Epoch 105:\n",
      "Average Train Loss: 3.7792\n",
      "Average Val Loss: 3.8089\n"
     ]
    },
    {
     "name": "stderr",
     "output_type": "stream",
     "text": [
      "Training Epoch 106: 100%|██████████| 811/811 [00:11<00:00, 69.22it/s, loss=4.0141]\n",
      "Validation Epoch 106: 100%|██████████| 203/203 [00:01<00:00, 179.29it/s, loss=4.3852]\n"
     ]
    },
    {
     "name": "stdout",
     "output_type": "stream",
     "text": [
      "\n",
      "Epoch 106:\n",
      "Average Train Loss: 3.7959\n",
      "Average Val Loss: 3.8025\n"
     ]
    },
    {
     "name": "stderr",
     "output_type": "stream",
     "text": [
      "Training Epoch 107: 100%|██████████| 811/811 [00:10<00:00, 77.28it/s, loss=4.5345]\n",
      "Validation Epoch 107: 100%|██████████| 203/203 [00:01<00:00, 184.79it/s, loss=3.9163]\n"
     ]
    },
    {
     "name": "stdout",
     "output_type": "stream",
     "text": [
      "\n",
      "Epoch 107:\n",
      "Average Train Loss: 3.8066\n",
      "Average Val Loss: 3.7874\n"
     ]
    },
    {
     "name": "stderr",
     "output_type": "stream",
     "text": [
      "Training Epoch 108: 100%|██████████| 811/811 [00:10<00:00, 80.45it/s, loss=4.7936]\n",
      "Validation Epoch 108: 100%|██████████| 203/203 [00:01<00:00, 174.93it/s, loss=4.5158]\n"
     ]
    },
    {
     "name": "stdout",
     "output_type": "stream",
     "text": [
      "\n",
      "Epoch 108:\n",
      "Average Train Loss: 3.7974\n",
      "Average Val Loss: 3.8075\n"
     ]
    },
    {
     "name": "stderr",
     "output_type": "stream",
     "text": [
      "Training Epoch 109: 100%|██████████| 811/811 [00:10<00:00, 75.76it/s, loss=4.2079]\n",
      "Validation Epoch 109: 100%|██████████| 203/203 [00:01<00:00, 184.08it/s, loss=4.0224]\n"
     ]
    },
    {
     "name": "stdout",
     "output_type": "stream",
     "text": [
      "\n",
      "Epoch 109:\n",
      "Average Train Loss: 3.8232\n",
      "Average Val Loss: 3.7789\n"
     ]
    },
    {
     "name": "stderr",
     "output_type": "stream",
     "text": [
      "Training Epoch 110: 100%|██████████| 811/811 [00:09<00:00, 87.79it/s, loss=2.5335]\n",
      "Validation Epoch 110: 100%|██████████| 203/203 [00:01<00:00, 184.00it/s, loss=3.4868]\n"
     ]
    },
    {
     "name": "stdout",
     "output_type": "stream",
     "text": [
      "\n",
      "Epoch 110:\n",
      "Average Train Loss: 3.8040\n",
      "Average Val Loss: 3.7778\n"
     ]
    },
    {
     "name": "stderr",
     "output_type": "stream",
     "text": [
      "Training Epoch 111: 100%|██████████| 811/811 [00:09<00:00, 84.46it/s, loss=4.4742]\n",
      "Validation Epoch 111: 100%|██████████| 203/203 [00:01<00:00, 184.78it/s, loss=3.8033]\n"
     ]
    },
    {
     "name": "stdout",
     "output_type": "stream",
     "text": [
      "\n",
      "Epoch 111:\n",
      "Average Train Loss: 3.7811\n",
      "Average Val Loss: 3.8130\n"
     ]
    },
    {
     "name": "stderr",
     "output_type": "stream",
     "text": [
      "Training Epoch 112: 100%|██████████| 811/811 [00:09<00:00, 85.12it/s, loss=3.9265]\n",
      "Validation Epoch 112: 100%|██████████| 203/203 [00:01<00:00, 183.89it/s, loss=3.2950]\n"
     ]
    },
    {
     "name": "stdout",
     "output_type": "stream",
     "text": [
      "\n",
      "Epoch 112:\n",
      "Average Train Loss: 3.8182\n",
      "Average Val Loss: 3.7910\n"
     ]
    },
    {
     "name": "stderr",
     "output_type": "stream",
     "text": [
      "Training Epoch 113: 100%|██████████| 811/811 [00:10<00:00, 77.17it/s, loss=3.6088]\n",
      "Validation Epoch 113: 100%|██████████| 203/203 [00:01<00:00, 185.02it/s, loss=4.1014]\n"
     ]
    },
    {
     "name": "stdout",
     "output_type": "stream",
     "text": [
      "\n",
      "Epoch 113:\n",
      "Average Train Loss: 3.7940\n",
      "Average Val Loss: 3.7876\n"
     ]
    },
    {
     "name": "stderr",
     "output_type": "stream",
     "text": [
      "Training Epoch 114: 100%|██████████| 811/811 [00:09<00:00, 82.94it/s, loss=4.2888]\n",
      "Validation Epoch 114: 100%|██████████| 203/203 [00:01<00:00, 185.39it/s, loss=3.1487]\n"
     ]
    },
    {
     "name": "stdout",
     "output_type": "stream",
     "text": [
      "\n",
      "Epoch 114:\n",
      "Average Train Loss: 3.8204\n",
      "Average Val Loss: 3.7777\n"
     ]
    },
    {
     "name": "stderr",
     "output_type": "stream",
     "text": [
      "Training Epoch 115: 100%|██████████| 811/811 [00:10<00:00, 78.73it/s, loss=4.5726]\n",
      "Validation Epoch 115: 100%|██████████| 203/203 [00:01<00:00, 179.46it/s, loss=2.6948]\n"
     ]
    },
    {
     "name": "stdout",
     "output_type": "stream",
     "text": [
      "\n",
      "Epoch 115:\n",
      "Average Train Loss: 3.7788\n",
      "Average Val Loss: 3.7536\n"
     ]
    },
    {
     "name": "stderr",
     "output_type": "stream",
     "text": [
      "Training Epoch 116: 100%|██████████| 811/811 [00:10<00:00, 77.86it/s, loss=4.2071]\n",
      "Validation Epoch 116: 100%|██████████| 203/203 [00:01<00:00, 166.87it/s, loss=4.4738]\n"
     ]
    },
    {
     "name": "stdout",
     "output_type": "stream",
     "text": [
      "\n",
      "Epoch 116:\n",
      "Average Train Loss: 3.8270\n",
      "Average Val Loss: 3.7924\n"
     ]
    },
    {
     "name": "stderr",
     "output_type": "stream",
     "text": [
      "Training Epoch 117: 100%|██████████| 811/811 [00:10<00:00, 75.23it/s, loss=4.5520]\n",
      "Validation Epoch 117: 100%|██████████| 203/203 [00:01<00:00, 173.09it/s, loss=3.9070]\n"
     ]
    },
    {
     "name": "stdout",
     "output_type": "stream",
     "text": [
      "\n",
      "Epoch 117:\n",
      "Average Train Loss: 3.7660\n",
      "Average Val Loss: 3.7742\n"
     ]
    },
    {
     "name": "stderr",
     "output_type": "stream",
     "text": [
      "Training Epoch 118: 100%|██████████| 811/811 [00:10<00:00, 75.66it/s, loss=2.8284]\n",
      "Validation Epoch 118: 100%|██████████| 203/203 [00:01<00:00, 179.19it/s, loss=4.7273]\n"
     ]
    },
    {
     "name": "stdout",
     "output_type": "stream",
     "text": [
      "\n",
      "Epoch 118:\n",
      "Average Train Loss: 3.7784\n",
      "Average Val Loss: 3.8376\n"
     ]
    },
    {
     "name": "stderr",
     "output_type": "stream",
     "text": [
      "Training Epoch 119: 100%|██████████| 811/811 [00:10<00:00, 77.84it/s, loss=4.6207]\n",
      "Validation Epoch 119: 100%|██████████| 203/203 [00:01<00:00, 183.63it/s, loss=3.8553]\n"
     ]
    },
    {
     "name": "stdout",
     "output_type": "stream",
     "text": [
      "\n",
      "Epoch 119:\n",
      "Average Train Loss: 3.7892\n",
      "Average Val Loss: 3.7145\n"
     ]
    },
    {
     "name": "stderr",
     "output_type": "stream",
     "text": [
      "Training Epoch 120: 100%|██████████| 811/811 [00:10<00:00, 74.87it/s, loss=2.7299]\n",
      "Validation Epoch 120: 100%|██████████| 203/203 [00:01<00:00, 181.57it/s, loss=3.8499]\n"
     ]
    },
    {
     "name": "stdout",
     "output_type": "stream",
     "text": [
      "\n",
      "Epoch 120:\n",
      "Average Train Loss: 3.8002\n",
      "Average Val Loss: 3.7811\n"
     ]
    },
    {
     "name": "stderr",
     "output_type": "stream",
     "text": [
      "Training Epoch 121: 100%|██████████| 811/811 [00:10<00:00, 78.52it/s, loss=4.6206]\n",
      "Validation Epoch 121: 100%|██████████| 203/203 [00:01<00:00, 177.52it/s, loss=4.2502]\n"
     ]
    },
    {
     "name": "stdout",
     "output_type": "stream",
     "text": [
      "\n",
      "Epoch 121:\n",
      "Average Train Loss: 3.7900\n",
      "Average Val Loss: 3.8143\n"
     ]
    },
    {
     "name": "stderr",
     "output_type": "stream",
     "text": [
      "Training Epoch 122: 100%|██████████| 811/811 [00:10<00:00, 76.96it/s, loss=4.0669]\n",
      "Validation Epoch 122: 100%|██████████| 203/203 [00:01<00:00, 185.09it/s, loss=3.2501]\n"
     ]
    },
    {
     "name": "stdout",
     "output_type": "stream",
     "text": [
      "\n",
      "Epoch 122:\n",
      "Average Train Loss: 3.7673\n",
      "Average Val Loss: 3.8048\n"
     ]
    },
    {
     "name": "stderr",
     "output_type": "stream",
     "text": [
      "Training Epoch 123: 100%|██████████| 811/811 [00:10<00:00, 75.79it/s, loss=4.2069]\n",
      "Validation Epoch 123: 100%|██████████| 203/203 [00:01<00:00, 170.26it/s, loss=3.7686]\n"
     ]
    },
    {
     "name": "stdout",
     "output_type": "stream",
     "text": [
      "\n",
      "Epoch 123:\n",
      "Average Train Loss: 3.8249\n",
      "Average Val Loss: 3.7912\n"
     ]
    },
    {
     "name": "stderr",
     "output_type": "stream",
     "text": [
      "Training Epoch 124: 100%|██████████| 811/811 [00:10<00:00, 75.75it/s, loss=4.2824]\n",
      "Validation Epoch 124: 100%|██████████| 203/203 [00:01<00:00, 178.29it/s, loss=4.6770]\n"
     ]
    },
    {
     "name": "stdout",
     "output_type": "stream",
     "text": [
      "\n",
      "Epoch 124:\n",
      "Average Train Loss: 3.8076\n",
      "Average Val Loss: 3.8135\n"
     ]
    },
    {
     "name": "stderr",
     "output_type": "stream",
     "text": [
      "Training Epoch 125: 100%|██████████| 811/811 [00:10<00:00, 77.39it/s, loss=3.4267]\n",
      "Validation Epoch 125: 100%|██████████| 203/203 [00:01<00:00, 180.33it/s, loss=3.8028]\n"
     ]
    },
    {
     "name": "stdout",
     "output_type": "stream",
     "text": [
      "\n",
      "Epoch 125:\n",
      "Average Train Loss: 3.7848\n",
      "Average Val Loss: 3.8207\n"
     ]
    },
    {
     "name": "stderr",
     "output_type": "stream",
     "text": [
      "Training Epoch 126: 100%|██████████| 811/811 [00:10<00:00, 76.04it/s, loss=4.3856]\n",
      "Validation Epoch 126: 100%|██████████| 203/203 [00:01<00:00, 180.14it/s, loss=4.1220]\n"
     ]
    },
    {
     "name": "stdout",
     "output_type": "stream",
     "text": [
      "\n",
      "Epoch 126:\n",
      "Average Train Loss: 3.7977\n",
      "Average Val Loss: 3.7580\n"
     ]
    },
    {
     "name": "stderr",
     "output_type": "stream",
     "text": [
      "Training Epoch 127: 100%|██████████| 811/811 [00:10<00:00, 75.33it/s, loss=4.4496]\n",
      "Validation Epoch 127: 100%|██████████| 203/203 [00:01<00:00, 181.51it/s, loss=2.9040]\n"
     ]
    },
    {
     "name": "stdout",
     "output_type": "stream",
     "text": [
      "\n",
      "Epoch 127:\n",
      "Average Train Loss: 3.8103\n",
      "Average Val Loss: 3.8504\n"
     ]
    },
    {
     "name": "stderr",
     "output_type": "stream",
     "text": [
      "Training Epoch 128: 100%|██████████| 811/811 [00:10<00:00, 78.60it/s, loss=3.0079]\n",
      "Validation Epoch 128: 100%|██████████| 203/203 [00:01<00:00, 175.26it/s, loss=4.4385]\n"
     ]
    },
    {
     "name": "stdout",
     "output_type": "stream",
     "text": [
      "\n",
      "Epoch 128:\n",
      "Average Train Loss: 3.8033\n",
      "Average Val Loss: 3.7517\n"
     ]
    },
    {
     "name": "stderr",
     "output_type": "stream",
     "text": [
      "Training Epoch 129: 100%|██████████| 811/811 [00:10<00:00, 77.45it/s, loss=4.6004]\n",
      "Validation Epoch 129: 100%|██████████| 203/203 [00:01<00:00, 184.31it/s, loss=4.3449]\n"
     ]
    },
    {
     "name": "stdout",
     "output_type": "stream",
     "text": [
      "\n",
      "Epoch 129:\n",
      "Average Train Loss: 3.8058\n",
      "Average Val Loss: 3.8573\n"
     ]
    },
    {
     "name": "stderr",
     "output_type": "stream",
     "text": [
      "Training Epoch 130: 100%|██████████| 811/811 [00:10<00:00, 79.19it/s, loss=2.6986]\n",
      "Validation Epoch 130: 100%|██████████| 203/203 [00:01<00:00, 183.44it/s, loss=3.8173]\n"
     ]
    },
    {
     "name": "stdout",
     "output_type": "stream",
     "text": [
      "\n",
      "Epoch 130:\n",
      "Average Train Loss: 3.8296\n",
      "Average Val Loss: 3.7059\n"
     ]
    },
    {
     "name": "stderr",
     "output_type": "stream",
     "text": [
      "Training Epoch 131: 100%|██████████| 811/811 [00:11<00:00, 73.53it/s, loss=4.1298]\n",
      "Validation Epoch 131: 100%|██████████| 203/203 [00:01<00:00, 170.66it/s, loss=2.8691]\n"
     ]
    },
    {
     "name": "stdout",
     "output_type": "stream",
     "text": [
      "\n",
      "Epoch 131:\n",
      "Average Train Loss: 3.7959\n",
      "Average Val Loss: 3.7724\n"
     ]
    },
    {
     "name": "stderr",
     "output_type": "stream",
     "text": [
      "Training Epoch 132: 100%|██████████| 811/811 [00:10<00:00, 76.62it/s, loss=3.7094]\n",
      "Validation Epoch 132: 100%|██████████| 203/203 [00:01<00:00, 184.39it/s, loss=3.6788]\n"
     ]
    },
    {
     "name": "stdout",
     "output_type": "stream",
     "text": [
      "\n",
      "Epoch 132:\n",
      "Average Train Loss: 3.8160\n",
      "Average Val Loss: 3.7617\n"
     ]
    },
    {
     "name": "stderr",
     "output_type": "stream",
     "text": [
      "Training Epoch 133: 100%|██████████| 811/811 [00:09<00:00, 81.52it/s, loss=3.5213]\n",
      "Validation Epoch 133: 100%|██████████| 203/203 [00:01<00:00, 179.34it/s, loss=3.1949]\n"
     ]
    },
    {
     "name": "stdout",
     "output_type": "stream",
     "text": [
      "\n",
      "Epoch 133:\n",
      "Average Train Loss: 3.7813\n",
      "Average Val Loss: 3.7682\n"
     ]
    },
    {
     "name": "stderr",
     "output_type": "stream",
     "text": [
      "Training Epoch 134: 100%|██████████| 811/811 [00:10<00:00, 75.41it/s, loss=4.5814]\n",
      "Validation Epoch 134: 100%|██████████| 203/203 [00:01<00:00, 182.89it/s, loss=3.0554]\n"
     ]
    },
    {
     "name": "stdout",
     "output_type": "stream",
     "text": [
      "\n",
      "Epoch 134:\n",
      "Average Train Loss: 3.8240\n",
      "Average Val Loss: 3.8037\n"
     ]
    },
    {
     "name": "stderr",
     "output_type": "stream",
     "text": [
      "Training Epoch 135: 100%|██████████| 811/811 [00:10<00:00, 75.31it/s, loss=4.0065]\n",
      "Validation Epoch 135: 100%|██████████| 203/203 [00:01<00:00, 144.24it/s, loss=3.6790]\n"
     ]
    },
    {
     "name": "stdout",
     "output_type": "stream",
     "text": [
      "\n",
      "Epoch 135:\n",
      "Average Train Loss: 3.7607\n",
      "Average Val Loss: 3.8299\n"
     ]
    },
    {
     "name": "stderr",
     "output_type": "stream",
     "text": [
      "Training Epoch 136: 100%|██████████| 811/811 [00:09<00:00, 87.17it/s, loss=4.0294]\n",
      "Validation Epoch 136: 100%|██████████| 203/203 [00:01<00:00, 183.21it/s, loss=3.0217]\n"
     ]
    },
    {
     "name": "stdout",
     "output_type": "stream",
     "text": [
      "\n",
      "Epoch 136:\n",
      "Average Train Loss: 3.8238\n",
      "Average Val Loss: 3.8313\n"
     ]
    },
    {
     "name": "stderr",
     "output_type": "stream",
     "text": [
      "Training Epoch 137: 100%|██████████| 811/811 [00:09<00:00, 88.22it/s, loss=4.6623]\n",
      "Validation Epoch 137: 100%|██████████| 203/203 [00:01<00:00, 183.05it/s, loss=3.9968]\n"
     ]
    },
    {
     "name": "stdout",
     "output_type": "stream",
     "text": [
      "\n",
      "Epoch 137:\n",
      "Average Train Loss: 3.8314\n",
      "Average Val Loss: 3.7643\n"
     ]
    },
    {
     "name": "stderr",
     "output_type": "stream",
     "text": [
      "Training Epoch 138: 100%|██████████| 811/811 [00:09<00:00, 85.99it/s, loss=3.5142]\n",
      "Validation Epoch 138: 100%|██████████| 203/203 [00:01<00:00, 170.34it/s, loss=3.7573]\n"
     ]
    },
    {
     "name": "stdout",
     "output_type": "stream",
     "text": [
      "\n",
      "Epoch 138:\n",
      "Average Train Loss: 3.8088\n",
      "Average Val Loss: 3.8848\n"
     ]
    },
    {
     "name": "stderr",
     "output_type": "stream",
     "text": [
      "Training Epoch 139: 100%|██████████| 811/811 [00:10<00:00, 79.67it/s, loss=4.3693]\n",
      "Validation Epoch 139: 100%|██████████| 203/203 [00:01<00:00, 185.34it/s, loss=4.8890]\n"
     ]
    },
    {
     "name": "stdout",
     "output_type": "stream",
     "text": [
      "\n",
      "Epoch 139:\n",
      "Average Train Loss: 3.8099\n",
      "Average Val Loss: 3.8699\n"
     ]
    },
    {
     "name": "stderr",
     "output_type": "stream",
     "text": [
      "Training Epoch 140: 100%|██████████| 811/811 [00:11<00:00, 71.95it/s, loss=4.5263]\n",
      "Validation Epoch 140: 100%|██████████| 203/203 [00:01<00:00, 174.90it/s, loss=4.4628]\n"
     ]
    },
    {
     "name": "stdout",
     "output_type": "stream",
     "text": [
      "\n",
      "Epoch 140:\n",
      "Average Train Loss: 3.8064\n",
      "Average Val Loss: 3.7307\n"
     ]
    },
    {
     "name": "stderr",
     "output_type": "stream",
     "text": [
      "Training Epoch 141: 100%|██████████| 811/811 [00:10<00:00, 78.64it/s, loss=3.2951]\n",
      "Validation Epoch 141: 100%|██████████| 203/203 [00:01<00:00, 175.80it/s, loss=4.1376]\n"
     ]
    },
    {
     "name": "stdout",
     "output_type": "stream",
     "text": [
      "\n",
      "Epoch 141:\n",
      "Average Train Loss: 3.8172\n",
      "Average Val Loss: 3.8134\n"
     ]
    },
    {
     "name": "stderr",
     "output_type": "stream",
     "text": [
      "Training Epoch 142: 100%|██████████| 811/811 [00:12<00:00, 63.35it/s, loss=4.0084]\n",
      "Validation Epoch 142: 100%|██████████| 203/203 [00:01<00:00, 182.69it/s, loss=3.3316]\n"
     ]
    },
    {
     "name": "stdout",
     "output_type": "stream",
     "text": [
      "\n",
      "Epoch 142:\n",
      "Average Train Loss: 3.7988\n",
      "Average Val Loss: 3.7472\n"
     ]
    },
    {
     "name": "stderr",
     "output_type": "stream",
     "text": [
      "Training Epoch 143: 100%|██████████| 811/811 [00:13<00:00, 59.29it/s, loss=4.5775]\n",
      "Validation Epoch 143: 100%|██████████| 203/203 [00:01<00:00, 183.06it/s, loss=4.4009]\n"
     ]
    },
    {
     "name": "stdout",
     "output_type": "stream",
     "text": [
      "\n",
      "Epoch 143:\n",
      "Average Train Loss: 3.8006\n",
      "Average Val Loss: 3.8714\n"
     ]
    },
    {
     "name": "stderr",
     "output_type": "stream",
     "text": [
      "Training Epoch 144: 100%|██████████| 811/811 [00:13<00:00, 59.10it/s, loss=3.3244]\n",
      "Validation Epoch 144: 100%|██████████| 203/203 [00:01<00:00, 183.34it/s, loss=4.6805]\n"
     ]
    },
    {
     "name": "stdout",
     "output_type": "stream",
     "text": [
      "\n",
      "Epoch 144:\n",
      "Average Train Loss: 3.8101\n",
      "Average Val Loss: 3.8325\n"
     ]
    },
    {
     "name": "stderr",
     "output_type": "stream",
     "text": [
      "Training Epoch 145: 100%|██████████| 811/811 [00:13<00:00, 59.21it/s, loss=4.1227]\n",
      "Validation Epoch 145: 100%|██████████| 203/203 [00:01<00:00, 183.19it/s, loss=4.2961]\n"
     ]
    },
    {
     "name": "stdout",
     "output_type": "stream",
     "text": [
      "\n",
      "Epoch 145:\n",
      "Average Train Loss: 3.8010\n",
      "Average Val Loss: 3.7654\n"
     ]
    },
    {
     "name": "stderr",
     "output_type": "stream",
     "text": [
      "Training Epoch 146: 100%|██████████| 811/811 [00:13<00:00, 59.55it/s, loss=4.1537]\n",
      "Validation Epoch 146: 100%|██████████| 203/203 [00:01<00:00, 183.70it/s, loss=3.7998]\n"
     ]
    },
    {
     "name": "stdout",
     "output_type": "stream",
     "text": [
      "\n",
      "Epoch 146:\n",
      "Average Train Loss: 3.7915\n",
      "Average Val Loss: 3.8329\n"
     ]
    },
    {
     "name": "stderr",
     "output_type": "stream",
     "text": [
      "Training Epoch 147: 100%|██████████| 811/811 [00:13<00:00, 59.31it/s, loss=4.5814]\n",
      "Validation Epoch 147: 100%|██████████| 203/203 [00:01<00:00, 183.40it/s, loss=2.9278]\n"
     ]
    },
    {
     "name": "stdout",
     "output_type": "stream",
     "text": [
      "\n",
      "Epoch 147:\n",
      "Average Train Loss: 3.8174\n",
      "Average Val Loss: 3.8011\n"
     ]
    },
    {
     "name": "stderr",
     "output_type": "stream",
     "text": [
      "Training Epoch 148: 100%|██████████| 811/811 [00:13<00:00, 61.05it/s, loss=3.7134]\n",
      "Validation Epoch 148: 100%|██████████| 203/203 [00:01<00:00, 183.85it/s, loss=3.4896]\n"
     ]
    },
    {
     "name": "stdout",
     "output_type": "stream",
     "text": [
      "\n",
      "Epoch 148:\n",
      "Average Train Loss: 3.8197\n",
      "Average Val Loss: 3.8121\n"
     ]
    },
    {
     "name": "stderr",
     "output_type": "stream",
     "text": [
      "Training Epoch 149: 100%|██████████| 811/811 [00:11<00:00, 67.74it/s, loss=4.8987]\n",
      "Validation Epoch 149: 100%|██████████| 203/203 [00:01<00:00, 183.74it/s, loss=4.0084]\n"
     ]
    },
    {
     "name": "stdout",
     "output_type": "stream",
     "text": [
      "\n",
      "Epoch 149:\n",
      "Average Train Loss: 3.7619\n",
      "Average Val Loss: 3.8279\n"
     ]
    },
    {
     "name": "stderr",
     "output_type": "stream",
     "text": [
      "Training Epoch 150: 100%|██████████| 811/811 [00:12<00:00, 66.16it/s, loss=4.0269]\n",
      "Validation Epoch 150: 100%|██████████| 203/203 [00:01<00:00, 185.36it/s, loss=3.7022]\n"
     ]
    },
    {
     "name": "stdout",
     "output_type": "stream",
     "text": [
      "\n",
      "Epoch 150:\n",
      "Average Train Loss: 3.7905\n",
      "Average Val Loss: 3.7827\n"
     ]
    },
    {
     "name": "stderr",
     "output_type": "stream",
     "text": [
      "Training Epoch 151: 100%|██████████| 811/811 [00:10<00:00, 76.54it/s, loss=3.2854]\n",
      "Validation Epoch 151: 100%|██████████| 203/203 [00:01<00:00, 184.86it/s, loss=4.3973]\n"
     ]
    },
    {
     "name": "stdout",
     "output_type": "stream",
     "text": [
      "\n",
      "Epoch 151:\n",
      "Average Train Loss: 3.7827\n",
      "Average Val Loss: 3.7782\n"
     ]
    },
    {
     "name": "stderr",
     "output_type": "stream",
     "text": [
      "Training Epoch 152: 100%|██████████| 811/811 [00:10<00:00, 77.58it/s, loss=4.7031]\n",
      "Validation Epoch 152: 100%|██████████| 203/203 [00:01<00:00, 185.30it/s, loss=3.5440]\n"
     ]
    },
    {
     "name": "stdout",
     "output_type": "stream",
     "text": [
      "\n",
      "Epoch 152:\n",
      "Average Train Loss: 3.7990\n",
      "Average Val Loss: 3.8189\n"
     ]
    },
    {
     "name": "stderr",
     "output_type": "stream",
     "text": [
      "Training Epoch 153: 100%|██████████| 811/811 [00:12<00:00, 63.15it/s, loss=3.8069]\n",
      "Validation Epoch 153: 100%|██████████| 203/203 [00:01<00:00, 184.47it/s, loss=2.1993]\n"
     ]
    },
    {
     "name": "stdout",
     "output_type": "stream",
     "text": [
      "\n",
      "Epoch 153:\n",
      "Average Train Loss: 3.7845\n",
      "Average Val Loss: 3.7888\n"
     ]
    },
    {
     "name": "stderr",
     "output_type": "stream",
     "text": [
      "Training Epoch 154: 100%|██████████| 811/811 [00:12<00:00, 63.67it/s, loss=4.1728]\n",
      "Validation Epoch 154: 100%|██████████| 203/203 [00:01<00:00, 184.01it/s, loss=4.2310]\n"
     ]
    },
    {
     "name": "stdout",
     "output_type": "stream",
     "text": [
      "\n",
      "Epoch 154:\n",
      "Average Train Loss: 3.7854\n",
      "Average Val Loss: 3.8430\n"
     ]
    },
    {
     "name": "stderr",
     "output_type": "stream",
     "text": [
      "Training Epoch 155: 100%|██████████| 811/811 [00:13<00:00, 59.50it/s, loss=4.3059]\n",
      "Validation Epoch 155: 100%|██████████| 203/203 [00:01<00:00, 183.64it/s, loss=3.6069]\n"
     ]
    },
    {
     "name": "stdout",
     "output_type": "stream",
     "text": [
      "\n",
      "Epoch 155:\n",
      "Average Train Loss: 3.8048\n",
      "Average Val Loss: 3.7968\n"
     ]
    },
    {
     "name": "stderr",
     "output_type": "stream",
     "text": [
      "Training Epoch 156: 100%|██████████| 811/811 [00:13<00:00, 59.57it/s, loss=4.3479]\n",
      "Validation Epoch 156: 100%|██████████| 203/203 [00:01<00:00, 183.21it/s, loss=4.7801]\n"
     ]
    },
    {
     "name": "stdout",
     "output_type": "stream",
     "text": [
      "\n",
      "Epoch 156:\n",
      "Average Train Loss: 3.7791\n",
      "Average Val Loss: 3.8173\n"
     ]
    },
    {
     "name": "stderr",
     "output_type": "stream",
     "text": [
      "Training Epoch 157: 100%|██████████| 811/811 [00:13<00:00, 59.69it/s, loss=4.3173]\n",
      "Validation Epoch 157: 100%|██████████| 203/203 [00:01<00:00, 183.88it/s, loss=4.2996]\n"
     ]
    },
    {
     "name": "stdout",
     "output_type": "stream",
     "text": [
      "\n",
      "Epoch 157:\n",
      "Average Train Loss: 3.7956\n",
      "Average Val Loss: 3.8167\n"
     ]
    },
    {
     "name": "stderr",
     "output_type": "stream",
     "text": [
      "Training Epoch 158: 100%|██████████| 811/811 [00:13<00:00, 61.38it/s, loss=3.6618]\n",
      "Validation Epoch 158: 100%|██████████| 203/203 [00:01<00:00, 183.47it/s, loss=4.3030]\n"
     ]
    },
    {
     "name": "stdout",
     "output_type": "stream",
     "text": [
      "\n",
      "Epoch 158:\n",
      "Average Train Loss: 3.8101\n",
      "Average Val Loss: 3.7672\n"
     ]
    },
    {
     "name": "stderr",
     "output_type": "stream",
     "text": [
      "Training Epoch 159: 100%|██████████| 811/811 [00:11<00:00, 71.32it/s, loss=3.1156]\n",
      "Validation Epoch 159: 100%|██████████| 203/203 [00:01<00:00, 184.16it/s, loss=4.0918]\n"
     ]
    },
    {
     "name": "stdout",
     "output_type": "stream",
     "text": [
      "\n",
      "Epoch 159:\n",
      "Average Train Loss: 3.8115\n",
      "Average Val Loss: 3.7376\n"
     ]
    },
    {
     "name": "stderr",
     "output_type": "stream",
     "text": [
      "Training Epoch 160: 100%|██████████| 811/811 [00:13<00:00, 62.19it/s, loss=2.5219]\n",
      "Validation Epoch 160: 100%|██████████| 203/203 [00:01<00:00, 184.37it/s, loss=4.1204]\n"
     ]
    },
    {
     "name": "stdout",
     "output_type": "stream",
     "text": [
      "\n",
      "Epoch 160:\n",
      "Average Train Loss: 3.7868\n",
      "Average Val Loss: 3.7879\n"
     ]
    },
    {
     "name": "stderr",
     "output_type": "stream",
     "text": [
      "Training Epoch 161: 100%|██████████| 811/811 [00:10<00:00, 79.25it/s, loss=4.5751]\n",
      "Validation Epoch 161: 100%|██████████| 203/203 [00:01<00:00, 184.32it/s, loss=4.2299]\n"
     ]
    },
    {
     "name": "stdout",
     "output_type": "stream",
     "text": [
      "\n",
      "Epoch 161:\n",
      "Average Train Loss: 3.7828\n",
      "Average Val Loss: 3.7716\n"
     ]
    },
    {
     "name": "stderr",
     "output_type": "stream",
     "text": [
      "Training Epoch 162: 100%|██████████| 811/811 [00:10<00:00, 79.37it/s, loss=2.8194]\n",
      "Validation Epoch 162: 100%|██████████| 203/203 [00:01<00:00, 185.15it/s, loss=4.0718]\n"
     ]
    },
    {
     "name": "stdout",
     "output_type": "stream",
     "text": [
      "\n",
      "Epoch 162:\n",
      "Average Train Loss: 3.8061\n",
      "Average Val Loss: 3.8080\n"
     ]
    },
    {
     "name": "stderr",
     "output_type": "stream",
     "text": [
      "Training Epoch 163: 100%|██████████| 811/811 [00:10<00:00, 79.47it/s, loss=3.8020]\n",
      "Validation Epoch 163: 100%|██████████| 203/203 [00:01<00:00, 184.70it/s, loss=3.7624]\n"
     ]
    },
    {
     "name": "stdout",
     "output_type": "stream",
     "text": [
      "\n",
      "Epoch 163:\n",
      "Average Train Loss: 3.8023\n",
      "Average Val Loss: 3.7961\n"
     ]
    },
    {
     "name": "stderr",
     "output_type": "stream",
     "text": [
      "Training Epoch 164: 100%|██████████| 811/811 [00:10<00:00, 79.42it/s, loss=4.5760]\n",
      "Validation Epoch 164: 100%|██████████| 203/203 [00:01<00:00, 184.30it/s, loss=3.2337]\n"
     ]
    },
    {
     "name": "stdout",
     "output_type": "stream",
     "text": [
      "\n",
      "Epoch 164:\n",
      "Average Train Loss: 3.7936\n",
      "Average Val Loss: 3.7570\n"
     ]
    },
    {
     "name": "stderr",
     "output_type": "stream",
     "text": [
      "Training Epoch 165: 100%|██████████| 811/811 [00:10<00:00, 79.54it/s, loss=3.5267]\n",
      "Validation Epoch 165: 100%|██████████| 203/203 [00:01<00:00, 184.67it/s, loss=4.7165]\n"
     ]
    },
    {
     "name": "stdout",
     "output_type": "stream",
     "text": [
      "\n",
      "Epoch 165:\n",
      "Average Train Loss: 3.7968\n",
      "Average Val Loss: 3.7594\n"
     ]
    },
    {
     "name": "stderr",
     "output_type": "stream",
     "text": [
      "Training Epoch 166: 100%|██████████| 811/811 [00:10<00:00, 79.79it/s, loss=4.1847]\n",
      "Validation Epoch 166: 100%|██████████| 203/203 [00:01<00:00, 185.57it/s, loss=4.7911]\n"
     ]
    },
    {
     "name": "stdout",
     "output_type": "stream",
     "text": [
      "\n",
      "Epoch 166:\n",
      "Average Train Loss: 3.8278\n",
      "Average Val Loss: 3.8170\n"
     ]
    },
    {
     "name": "stderr",
     "output_type": "stream",
     "text": [
      "Training Epoch 167: 100%|██████████| 811/811 [00:10<00:00, 79.74it/s, loss=3.6830]\n",
      "Validation Epoch 167: 100%|██████████| 203/203 [00:01<00:00, 185.45it/s, loss=4.0737]\n"
     ]
    },
    {
     "name": "stdout",
     "output_type": "stream",
     "text": [
      "\n",
      "Epoch 167:\n",
      "Average Train Loss: 3.7413\n",
      "Average Val Loss: 3.7569\n"
     ]
    },
    {
     "name": "stderr",
     "output_type": "stream",
     "text": [
      "Training Epoch 168: 100%|██████████| 811/811 [00:10<00:00, 79.72it/s, loss=3.1145]\n",
      "Validation Epoch 168: 100%|██████████| 203/203 [00:01<00:00, 185.26it/s, loss=4.3498]\n"
     ]
    },
    {
     "name": "stdout",
     "output_type": "stream",
     "text": [
      "\n",
      "Epoch 168:\n",
      "Average Train Loss: 3.8046\n",
      "Average Val Loss: 3.7964\n"
     ]
    },
    {
     "name": "stderr",
     "output_type": "stream",
     "text": [
      "Training Epoch 169: 100%|██████████| 811/811 [00:10<00:00, 79.64it/s, loss=4.8081]\n",
      "Validation Epoch 169: 100%|██████████| 203/203 [00:01<00:00, 184.86it/s, loss=4.7782]\n"
     ]
    },
    {
     "name": "stdout",
     "output_type": "stream",
     "text": [
      "\n",
      "Epoch 169:\n",
      "Average Train Loss: 3.8156\n",
      "Average Val Loss: 3.7715\n"
     ]
    },
    {
     "name": "stderr",
     "output_type": "stream",
     "text": [
      "Training Epoch 170: 100%|██████████| 811/811 [00:10<00:00, 79.72it/s, loss=2.9865]\n",
      "Validation Epoch 170: 100%|██████████| 203/203 [00:01<00:00, 185.44it/s, loss=2.4942]\n"
     ]
    },
    {
     "name": "stdout",
     "output_type": "stream",
     "text": [
      "\n",
      "Epoch 170:\n",
      "Average Train Loss: 3.7925\n",
      "Average Val Loss: 3.7119\n"
     ]
    },
    {
     "name": "stderr",
     "output_type": "stream",
     "text": [
      "Training Epoch 171: 100%|██████████| 811/811 [00:10<00:00, 79.53it/s, loss=3.1022]\n",
      "Validation Epoch 171: 100%|██████████| 203/203 [00:01<00:00, 180.94it/s, loss=2.9235]\n"
     ]
    },
    {
     "name": "stdout",
     "output_type": "stream",
     "text": [
      "\n",
      "Epoch 171:\n",
      "Average Train Loss: 3.7698\n",
      "Average Val Loss: 3.8213\n"
     ]
    },
    {
     "name": "stderr",
     "output_type": "stream",
     "text": [
      "Training Epoch 172: 100%|██████████| 811/811 [00:10<00:00, 79.50it/s, loss=4.0688]\n",
      "Validation Epoch 172: 100%|██████████| 203/203 [00:01<00:00, 178.77it/s, loss=3.7596]\n"
     ]
    },
    {
     "name": "stdout",
     "output_type": "stream",
     "text": [
      "\n",
      "Epoch 172:\n",
      "Average Train Loss: 3.7982\n",
      "Average Val Loss: 3.8087\n"
     ]
    },
    {
     "name": "stderr",
     "output_type": "stream",
     "text": [
      "Training Epoch 173: 100%|██████████| 811/811 [00:10<00:00, 79.61it/s, loss=4.4421]\n",
      "Validation Epoch 173: 100%|██████████| 203/203 [00:01<00:00, 176.03it/s, loss=4.5150]\n"
     ]
    },
    {
     "name": "stdout",
     "output_type": "stream",
     "text": [
      "\n",
      "Epoch 173:\n",
      "Average Train Loss: 3.8548\n",
      "Average Val Loss: 3.7896\n"
     ]
    },
    {
     "name": "stderr",
     "output_type": "stream",
     "text": [
      "Training Epoch 174: 100%|██████████| 811/811 [00:10<00:00, 79.34it/s, loss=4.0653]\n",
      "Validation Epoch 174: 100%|██████████| 203/203 [00:01<00:00, 185.24it/s, loss=3.6637]\n"
     ]
    },
    {
     "name": "stdout",
     "output_type": "stream",
     "text": [
      "\n",
      "Epoch 174:\n",
      "Average Train Loss: 3.8021\n",
      "Average Val Loss: 3.7990\n"
     ]
    },
    {
     "name": "stderr",
     "output_type": "stream",
     "text": [
      "Training Epoch 175: 100%|██████████| 811/811 [00:10<00:00, 79.74it/s, loss=3.2619]\n",
      "Validation Epoch 175: 100%|██████████| 203/203 [00:01<00:00, 183.22it/s, loss=3.2838]\n"
     ]
    },
    {
     "name": "stdout",
     "output_type": "stream",
     "text": [
      "\n",
      "Epoch 175:\n",
      "Average Train Loss: 3.7777\n",
      "Average Val Loss: 3.8547\n"
     ]
    },
    {
     "name": "stderr",
     "output_type": "stream",
     "text": [
      "Training Epoch 176: 100%|██████████| 811/811 [00:10<00:00, 79.41it/s, loss=3.7435]\n",
      "Validation Epoch 176: 100%|██████████| 203/203 [00:01<00:00, 185.55it/s, loss=3.5548]\n"
     ]
    },
    {
     "name": "stdout",
     "output_type": "stream",
     "text": [
      "\n",
      "Epoch 176:\n",
      "Average Train Loss: 3.7894\n",
      "Average Val Loss: 3.8238\n"
     ]
    },
    {
     "name": "stderr",
     "output_type": "stream",
     "text": [
      "Training Epoch 177: 100%|██████████| 811/811 [00:10<00:00, 79.41it/s, loss=3.1990]\n",
      "Validation Epoch 177: 100%|██████████| 203/203 [00:01<00:00, 185.40it/s, loss=1.7140]\n"
     ]
    },
    {
     "name": "stdout",
     "output_type": "stream",
     "text": [
      "\n",
      "Epoch 177:\n",
      "Average Train Loss: 3.7924\n",
      "Average Val Loss: 3.7931\n"
     ]
    },
    {
     "name": "stderr",
     "output_type": "stream",
     "text": [
      "Training Epoch 178: 100%|██████████| 811/811 [00:10<00:00, 78.80it/s, loss=4.0312]\n",
      "Validation Epoch 178: 100%|██████████| 203/203 [00:01<00:00, 177.39it/s, loss=3.9131]\n"
     ]
    },
    {
     "name": "stdout",
     "output_type": "stream",
     "text": [
      "\n",
      "Epoch 178:\n",
      "Average Train Loss: 3.7937\n",
      "Average Val Loss: 3.7350\n"
     ]
    },
    {
     "name": "stderr",
     "output_type": "stream",
     "text": [
      "Training Epoch 179: 100%|██████████| 811/811 [00:10<00:00, 77.15it/s, loss=3.8467]\n",
      "Validation Epoch 179: 100%|██████████| 203/203 [00:01<00:00, 185.40it/s, loss=2.9972]\n"
     ]
    },
    {
     "name": "stdout",
     "output_type": "stream",
     "text": [
      "\n",
      "Epoch 179:\n",
      "Average Train Loss: 3.7754\n",
      "Average Val Loss: 3.7315\n"
     ]
    },
    {
     "name": "stderr",
     "output_type": "stream",
     "text": [
      "Training Epoch 180: 100%|██████████| 811/811 [00:10<00:00, 79.15it/s, loss=3.5801]\n",
      "Validation Epoch 180: 100%|██████████| 203/203 [00:01<00:00, 185.31it/s, loss=2.1515]\n"
     ]
    },
    {
     "name": "stdout",
     "output_type": "stream",
     "text": [
      "\n",
      "Epoch 180:\n",
      "Average Train Loss: 3.7874\n",
      "Average Val Loss: 3.7671\n"
     ]
    },
    {
     "name": "stderr",
     "output_type": "stream",
     "text": [
      "Training Epoch 181: 100%|██████████| 811/811 [00:10<00:00, 78.37it/s, loss=4.7894]\n",
      "Validation Epoch 181: 100%|██████████| 203/203 [00:01<00:00, 185.04it/s, loss=1.5886]\n"
     ]
    },
    {
     "name": "stdout",
     "output_type": "stream",
     "text": [
      "\n",
      "Epoch 181:\n",
      "Average Train Loss: 3.7908\n",
      "Average Val Loss: 3.7941\n"
     ]
    },
    {
     "name": "stderr",
     "output_type": "stream",
     "text": [
      "Training Epoch 182: 100%|██████████| 811/811 [00:11<00:00, 70.31it/s, loss=4.2762]\n",
      "Validation Epoch 182: 100%|██████████| 203/203 [00:01<00:00, 184.42it/s, loss=4.5703]\n"
     ]
    },
    {
     "name": "stdout",
     "output_type": "stream",
     "text": [
      "\n",
      "Epoch 182:\n",
      "Average Train Loss: 3.7688\n",
      "Average Val Loss: 3.7723\n"
     ]
    },
    {
     "name": "stderr",
     "output_type": "stream",
     "text": [
      "Training Epoch 183: 100%|██████████| 811/811 [00:13<00:00, 60.71it/s, loss=4.5488]\n",
      "Validation Epoch 183: 100%|██████████| 203/203 [00:01<00:00, 170.51it/s, loss=4.0942]\n"
     ]
    },
    {
     "name": "stdout",
     "output_type": "stream",
     "text": [
      "\n",
      "Epoch 183:\n",
      "Average Train Loss: 3.7720\n",
      "Average Val Loss: 3.7538\n"
     ]
    },
    {
     "name": "stderr",
     "output_type": "stream",
     "text": [
      "Training Epoch 184: 100%|██████████| 811/811 [00:10<00:00, 78.92it/s, loss=4.3912]\n",
      "Validation Epoch 184: 100%|██████████| 203/203 [00:01<00:00, 171.10it/s, loss=3.6683]\n"
     ]
    },
    {
     "name": "stdout",
     "output_type": "stream",
     "text": [
      "\n",
      "Epoch 184:\n",
      "Average Train Loss: 3.7999\n",
      "Average Val Loss: 3.8433\n"
     ]
    },
    {
     "name": "stderr",
     "output_type": "stream",
     "text": [
      "Training Epoch 185: 100%|██████████| 811/811 [00:10<00:00, 75.01it/s, loss=4.0552]\n",
      "Validation Epoch 185: 100%|██████████| 203/203 [00:01<00:00, 170.57it/s, loss=4.0686]\n"
     ]
    },
    {
     "name": "stdout",
     "output_type": "stream",
     "text": [
      "\n",
      "Epoch 185:\n",
      "Average Train Loss: 3.7802\n",
      "Average Val Loss: 3.7775\n"
     ]
    },
    {
     "name": "stderr",
     "output_type": "stream",
     "text": [
      "Training Epoch 186: 100%|██████████| 811/811 [00:13<00:00, 60.71it/s, loss=4.2463]\n",
      "Validation Epoch 186: 100%|██████████| 203/203 [00:01<00:00, 170.37it/s, loss=2.7249]\n"
     ]
    },
    {
     "name": "stdout",
     "output_type": "stream",
     "text": [
      "\n",
      "Epoch 186:\n",
      "Average Train Loss: 3.7953\n",
      "Average Val Loss: 3.7271\n"
     ]
    },
    {
     "name": "stderr",
     "output_type": "stream",
     "text": [
      "Training Epoch 187: 100%|██████████| 811/811 [00:13<00:00, 61.27it/s, loss=4.1831]\n",
      "Validation Epoch 187: 100%|██████████| 203/203 [00:01<00:00, 171.18it/s, loss=4.3870]\n"
     ]
    },
    {
     "name": "stdout",
     "output_type": "stream",
     "text": [
      "\n",
      "Epoch 187:\n",
      "Average Train Loss: 3.7878\n",
      "Average Val Loss: 3.7549\n"
     ]
    },
    {
     "name": "stderr",
     "output_type": "stream",
     "text": [
      "Training Epoch 188: 100%|██████████| 811/811 [00:12<00:00, 62.91it/s, loss=4.3020]\n",
      "Validation Epoch 188: 100%|██████████| 203/203 [00:01<00:00, 171.25it/s, loss=3.5003]\n"
     ]
    },
    {
     "name": "stdout",
     "output_type": "stream",
     "text": [
      "\n",
      "Epoch 188:\n",
      "Average Train Loss: 3.7923\n",
      "Average Val Loss: 3.7224\n"
     ]
    },
    {
     "name": "stderr",
     "output_type": "stream",
     "text": [
      "Training Epoch 189: 100%|██████████| 811/811 [00:11<00:00, 69.29it/s, loss=3.4930]\n",
      "Validation Epoch 189: 100%|██████████| 203/203 [00:01<00:00, 184.03it/s, loss=4.4491]\n"
     ]
    },
    {
     "name": "stdout",
     "output_type": "stream",
     "text": [
      "\n",
      "Epoch 189:\n",
      "Average Train Loss: 3.7813\n",
      "Average Val Loss: 3.7684\n"
     ]
    },
    {
     "name": "stderr",
     "output_type": "stream",
     "text": [
      "Training Epoch 190: 100%|██████████| 811/811 [00:13<00:00, 59.43it/s, loss=4.2160]\n",
      "Validation Epoch 190: 100%|██████████| 203/203 [00:01<00:00, 183.72it/s, loss=2.6269]\n"
     ]
    },
    {
     "name": "stdout",
     "output_type": "stream",
     "text": [
      "\n",
      "Epoch 190:\n",
      "Average Train Loss: 3.7777\n",
      "Average Val Loss: 3.7960\n"
     ]
    },
    {
     "name": "stderr",
     "output_type": "stream",
     "text": [
      "Training Epoch 191: 100%|██████████| 811/811 [00:12<00:00, 65.44it/s, loss=3.4588]\n",
      "Validation Epoch 191: 100%|██████████| 203/203 [00:01<00:00, 184.37it/s, loss=2.8288]\n"
     ]
    },
    {
     "name": "stdout",
     "output_type": "stream",
     "text": [
      "\n",
      "Epoch 191:\n",
      "Average Train Loss: 3.8090\n",
      "Average Val Loss: 3.7703\n"
     ]
    },
    {
     "name": "stderr",
     "output_type": "stream",
     "text": [
      "Training Epoch 192: 100%|██████████| 811/811 [00:10<00:00, 79.15it/s, loss=3.8383]\n",
      "Validation Epoch 192: 100%|██████████| 203/203 [00:01<00:00, 185.57it/s, loss=4.4245]\n"
     ]
    },
    {
     "name": "stdout",
     "output_type": "stream",
     "text": [
      "\n",
      "Epoch 192:\n",
      "Average Train Loss: 3.7561\n",
      "Average Val Loss: 3.7296\n"
     ]
    },
    {
     "name": "stderr",
     "output_type": "stream",
     "text": [
      "Training Epoch 193: 100%|██████████| 811/811 [00:10<00:00, 79.15it/s, loss=3.9384]\n",
      "Validation Epoch 193: 100%|██████████| 203/203 [00:01<00:00, 123.73it/s, loss=1.8064]\n"
     ]
    },
    {
     "name": "stdout",
     "output_type": "stream",
     "text": [
      "\n",
      "Epoch 193:\n",
      "Average Train Loss: 3.8022\n",
      "Average Val Loss: 3.7589\n"
     ]
    },
    {
     "name": "stderr",
     "output_type": "stream",
     "text": [
      "Training Epoch 194: 100%|██████████| 811/811 [00:10<00:00, 79.96it/s, loss=3.5980]\n",
      "Validation Epoch 194: 100%|██████████| 203/203 [00:01<00:00, 185.29it/s, loss=2.4617]\n"
     ]
    },
    {
     "name": "stdout",
     "output_type": "stream",
     "text": [
      "\n",
      "Epoch 194:\n",
      "Average Train Loss: 3.8053\n",
      "Average Val Loss: 3.7843\n"
     ]
    },
    {
     "name": "stderr",
     "output_type": "stream",
     "text": [
      "Training Epoch 195: 100%|██████████| 811/811 [00:10<00:00, 78.75it/s, loss=3.8102]\n",
      "Validation Epoch 195: 100%|██████████| 203/203 [00:01<00:00, 184.81it/s, loss=4.8530]\n"
     ]
    },
    {
     "name": "stdout",
     "output_type": "stream",
     "text": [
      "\n",
      "Epoch 195:\n",
      "Average Train Loss: 3.7580\n",
      "Average Val Loss: 3.8383\n"
     ]
    },
    {
     "name": "stderr",
     "output_type": "stream",
     "text": [
      "Training Epoch 196: 100%|██████████| 811/811 [00:10<00:00, 75.49it/s, loss=4.8805]\n",
      "Validation Epoch 196: 100%|██████████| 203/203 [00:01<00:00, 185.30it/s, loss=4.1212]\n"
     ]
    },
    {
     "name": "stdout",
     "output_type": "stream",
     "text": [
      "\n",
      "Epoch 196:\n",
      "Average Train Loss: 3.8000\n",
      "Average Val Loss: 3.7912\n"
     ]
    },
    {
     "name": "stderr",
     "output_type": "stream",
     "text": [
      "Training Epoch 197: 100%|██████████| 811/811 [00:12<00:00, 67.10it/s, loss=2.4235]\n",
      "Validation Epoch 197: 100%|██████████| 203/203 [00:01<00:00, 185.03it/s, loss=4.0022]\n"
     ]
    },
    {
     "name": "stdout",
     "output_type": "stream",
     "text": [
      "\n",
      "Epoch 197:\n",
      "Average Train Loss: 3.7892\n",
      "Average Val Loss: 3.7886\n"
     ]
    },
    {
     "name": "stderr",
     "output_type": "stream",
     "text": [
      "Training Epoch 198: 100%|██████████| 811/811 [00:10<00:00, 79.51it/s, loss=3.5039]\n",
      "Validation Epoch 198: 100%|██████████| 203/203 [00:01<00:00, 185.40it/s, loss=4.4716]\n"
     ]
    },
    {
     "name": "stdout",
     "output_type": "stream",
     "text": [
      "\n",
      "Epoch 198:\n",
      "Average Train Loss: 3.7887\n",
      "Average Val Loss: 3.7113\n"
     ]
    },
    {
     "name": "stderr",
     "output_type": "stream",
     "text": [
      "Training Epoch 199: 100%|██████████| 811/811 [00:10<00:00, 79.40it/s, loss=4.4457]\n",
      "Validation Epoch 199: 100%|██████████| 203/203 [00:01<00:00, 185.05it/s, loss=3.3322]"
     ]
    },
    {
     "name": "stdout",
     "output_type": "stream",
     "text": [
      "\n",
      "Epoch 199:\n",
      "Average Train Loss: 3.7729\n",
      "Average Val Loss: 3.7972\n"
     ]
    },
    {
     "name": "stderr",
     "output_type": "stream",
     "text": [
      "\n"
     ]
    }
   ],
   "source": [
    "# Training parameters\n",
    "# Initialize optimizer\n",
    "optimizer = torch.optim.AdamW(model.parameters(), lr=learning_rate)\n",
    "# Start training\n",
    "train_and_validate(model, train_loader, test_loader, optimizer, num_epochs, device)"
   ]
  },
  {
   "cell_type": "code",
   "execution_count": null,
   "metadata": {},
   "outputs": [],
   "source": [
    "checkpoint = {\n",
    "    'model_state_dict': model.state_dict(),\n",
    "    'optimizer_state_dict': optimizer.state_dict(),\n",
    "    'model_args': {\n",
    "        'vocab_size': vocab_size,\n",
    "        'embed_dim': embed_dim,\n",
    "        'num_layers': num_layers,\n",
    "        'num_heads': num_heads,\n",
    "        'dim_feedforward': dim_feedforward,\n",
    "        'num_fourier_features': num_fourier_features\n",
    "    }\n",
    "}\n",
    "\n",
    "torch.save(checkpoint, 'model_checkpoint_3.58pt')"
   ]
  },
  {
   "cell_type": "code",
   "execution_count": null,
   "metadata": {},
   "outputs": [],
   "source": [
    "from model_arch import CategoricalScoreDiffusion\n",
    "\n",
    "checkpoint = torch.load('model_checkpoint_2.65.pt')\n",
    "model = CategoricalScoreDiffusion(**checkpoint['model_args'])\n",
    "model.load_state_dict(checkpoint['model_state_dict'])\n",
    "optimizer.load_state_dict(checkpoint['optimizer_state_dict'])"
   ]
  },
  {
   "cell_type": "code",
   "execution_count": null,
   "metadata": {},
   "outputs": [
    {
     "name": "stdout",
     "output_type": "stream",
     "text": [
      "Learning rate: 0.001\n"
     ]
    }
   ],
   "source": [
    "# Access the learning rate\n",
    "# Get the optimizer state dict\n",
    "optimizer_state = checkpoint['optimizer_state_dict']\n",
    "learning_rate = optimizer_state['param_groups'][0]['lr']\n",
    "print(f\"Learning rate: {learning_rate}\")"
   ]
  },
  {
   "cell_type": "code",
   "execution_count": null,
   "metadata": {},
   "outputs": [],
   "source": [
    "import time\n",
    "from contextlib import contextmanager\n",
    "\n",
    "@contextmanager\n",
    "def timer(name):\n",
    "    start = time.perf_counter()\n",
    "    yield\n",
    "    end = time.perf_counter()\n",
    "    print(f\"{name}: {(end - start)*1000:.2f} ms\")"
   ]
  }
 ],
 "metadata": {
  "kernelspec": {
   "display_name": "neuralink",
   "language": "python",
   "name": "python3"
  },
  "language_info": {
   "codemirror_mode": {
    "name": "ipython",
    "version": 3
   },
   "file_extension": ".py",
   "mimetype": "text/x-python",
   "name": "python",
   "nbconvert_exporter": "python",
   "pygments_lexer": "ipython3",
   "version": "3.12.3"
  }
 },
 "nbformat": 4,
 "nbformat_minor": 2
}
