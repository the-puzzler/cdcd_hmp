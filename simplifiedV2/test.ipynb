{
 "cells": [
  {
   "cell_type": "code",
   "execution_count": 2,
   "metadata": {},
   "outputs": [
    {
     "name": "stdout",
     "output_type": "stream",
     "text": [
      "Input shape: torch.Size([2, 10])\n",
      "Output shape: torch.Size([2, 10, 1000])\n",
      "\n",
      "Sample input tokens:\n",
      "tensor([725, 839, 772, 184, 760, 463, 911,  20, 932, 581], device='cuda:0')\n",
      "\n",
      "Sample output logits (first 5 values):\n",
      "tensor([ 0.1450, -0.8028, -0.0697,  0.7078, -0.0741], device='cuda:0')\n",
      "\n",
      "Model test completed successfully!\n"
     ]
    },
    {
     "name": "stderr",
     "output_type": "stream",
     "text": [
      "/mnt/mnemo7/mpelus/miniconda3/envs/matlas/lib/python3.12/site-packages/torch/nn/modules/transformer.py:502: UserWarning: The PyTorch API of nested tensors is in prototype stage and will change in the near future. (Triggered internally at /opt/conda/conda-bld/pytorch_1729647378361/work/aten/src/ATen/NestedTensorImpl.cpp:178.)\n",
      "  output = torch._nested_tensor_from_mask(\n"
     ]
    }
   ],
   "source": [
    "import torch\n",
    "from model_arch import simplifiedV2\n",
    "\n",
    "def test_model():\n",
    "    # Set random seed for reproducibility\n",
    "    torch.manual_seed(42)\n",
    "    \n",
    "    # Model parameters\n",
    "    vocab_size = 1000\n",
    "    embedding_dim = 256\n",
    "    transformer_dim = 256\n",
    "    num_layers = 4\n",
    "    num_heads = 8\n",
    "    batch_size = 2\n",
    "    seq_length = 10\n",
    "    \n",
    "    # Initialize model\n",
    "    model = simplifiedV2(\n",
    "        vocab_size=vocab_size,\n",
    "        embedding_dim=embedding_dim,\n",
    "        transformer_dim=transformer_dim,\n",
    "        num_layers=num_layers,\n",
    "        num_heads=num_heads\n",
    "    )\n",
    "    \n",
    "    # Create dummy input data\n",
    "    input_tokens = torch.randint(0, vocab_size, (batch_size, seq_length))\n",
    "    timesteps = torch.rand(batch_size)  # Random timesteps between 0 and 1\n",
    "    \n",
    "    # Create padding mask (example: last 2 tokens are padding)\n",
    "    padding_mask = torch.ones_like(input_tokens, dtype=torch.bool)\n",
    "    padding_mask[:, -2:] = False\n",
    "    \n",
    "    # Move everything to GPU if available\n",
    "    device = torch.device('cuda' if torch.cuda.is_available() else 'cpu')\n",
    "    model = model.to(device)\n",
    "    input_tokens = input_tokens.to(device)\n",
    "    timesteps = timesteps.to(device)\n",
    "    padding_mask = padding_mask.to(device)\n",
    "    \n",
    "    # Set model to evaluation mode\n",
    "    model.eval()\n",
    "    \n",
    "    # Forward pass\n",
    "    with torch.no_grad():\n",
    "        output = model(input_tokens, timesteps, padding_mask)\n",
    "    \n",
    "    # Print shapes and sample outputs\n",
    "    print(f\"Input shape: {input_tokens.shape}\")\n",
    "    print(f\"Output shape: {output.shape}\")\n",
    "    print(f\"\\nSample input tokens:\\n{input_tokens[0]}\")\n",
    "    print(f\"\\nSample output logits (first 5 values):\\n{output[0, 0, :5]}\")\n",
    "    \n",
    "    # Test that output dimensions are correct\n",
    "    assert output.shape == (batch_size, seq_length, vocab_size), \"Output shape mismatch\"\n",
    "    \n",
    "    return output\n",
    "\n",
    "if __name__ == \"__main__\":\n",
    "    try:\n",
    "        output = test_model()\n",
    "        print(\"\\nModel test completed successfully!\")\n",
    "    except Exception as e:\n",
    "        print(f\"Test failed with error: {str(e)}\")"
   ]
  }
 ],
 "metadata": {
  "kernelspec": {
   "display_name": "matlas",
   "language": "python",
   "name": "python3"
  },
  "language_info": {
   "codemirror_mode": {
    "name": "ipython",
    "version": 3
   },
   "file_extension": ".py",
   "mimetype": "text/x-python",
   "name": "python",
   "nbconvert_exporter": "python",
   "pygments_lexer": "ipython3",
   "version": "3.12.3"
  }
 },
 "nbformat": 4,
 "nbformat_minor": 2
}
